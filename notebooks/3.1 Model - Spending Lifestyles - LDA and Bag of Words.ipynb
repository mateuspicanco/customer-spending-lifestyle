{
 "cells": [
  {
   "cell_type": "markdown",
   "metadata": {},
   "source": [
    "# Model - Spending \"Lifestyles\" - LDA and Bag of Words\n",
    "Coming back to the topic of sequences of credit card transactions and still using the [Sequences of purchases in credit card data reveal\n",
    "life styles in urban populations](https://www.nature.com/articles/s41467-018-05690-8) paper as a reference, we will explore the patterns in the credit card transactions at a user level.\n",
    "\n",
    "We aim at developing a \"summary\" of relevant spending behaviors (lifestyles) in the data. Different from standard approaches, which often take into account monetary value or frequency of purchases on the different categories as features, we will tackle this by finding latent representions of the data in a way similar to that of performing `topic modeling` on text data.\n",
    "\n",
    "In this notebook, we will utilize `bag-of-words` representations of the data, alongiside a `latent dirchlett allocation (lda)` model to perform `topic modeling` on the user sequences, which, for our purposes, is analogous to a clustering procedure.\n"
   ]
  },
  {
   "cell_type": "code",
   "execution_count": 5,
   "metadata": {
    "tags": []
   },
   "outputs": [],
   "source": [
    "# installing dependencies:\n",
    "!pip install -r ../configs/dependencies/modeling_requirements.txt --upgrade >> ../configs/dependencies/package_installation.txt"
   ]
  },
  {
   "cell_type": "code",
   "execution_count": 1,
   "metadata": {},
   "outputs": [
    {
     "data": {
      "application/javascript": [
       "\n",
       "            setTimeout(function() {\n",
       "                var nbb_cell_id = 1;\n",
       "                var nbb_unformatted_code = \"# running magic commands:\\n%load_ext nb_black\\n%load_ext autoreload\\n%autoreload 2\";\n",
       "                var nbb_formatted_code = \"# running magic commands:\\n%load_ext nb_black\\n%load_ext autoreload\\n%autoreload 2\";\n",
       "                var nbb_cells = Jupyter.notebook.get_cells();\n",
       "                for (var i = 0; i < nbb_cells.length; ++i) {\n",
       "                    if (nbb_cells[i].input_prompt_number == nbb_cell_id) {\n",
       "                        if (nbb_cells[i].get_text() == nbb_unformatted_code) {\n",
       "                             nbb_cells[i].set_text(nbb_formatted_code);\n",
       "                        }\n",
       "                        break;\n",
       "                    }\n",
       "                }\n",
       "            }, 500);\n",
       "            "
      ],
      "text/plain": [
       "<IPython.core.display.Javascript object>"
      ]
     },
     "metadata": {},
     "output_type": "display_data"
    }
   ],
   "source": [
    "# running magic commands:\n",
    "%load_ext nb_black\n",
    "%load_ext autoreload\n",
    "%autoreload 2"
   ]
  },
  {
   "cell_type": "code",
   "execution_count": 4,
   "metadata": {},
   "outputs": [
    {
     "data": {
      "application/javascript": [
       "\n",
       "            setTimeout(function() {\n",
       "                var nbb_cell_id = 4;\n",
       "                var nbb_unformatted_code = \"###### Loading the necessary libraries #########\\n\\n# data wrangling\\nimport pandas as pd\\nimport numpy as np\\nfrom tqdm import tqdm\\n\\n# statistical libraries:\\nfrom scipy import stats\\n\\n# plotting and visualization:\\nimport matplotlib.pyplot as plt\\nimport seaborn as sns\\nfrom IPython.display import HTML, Image\\n\\n# machine learning and topic modelling utilities\\nimport umap\\nimport gensim\\nimport gensim.corpora as corpora\\nfrom gensim.utils import simple_preprocess\\nfrom gensim.models import CoherenceModel\\nimport pyLDAvis\\nimport pyLDAvis.gensim\\n\\n# other libraries:\\nimport warnings\\nfrom pprint import pprint\\n\\n# setting global parameters for visualizations:\\nwarnings.filterwarnings(\\\"ignore\\\")\\npd.set_option(\\\"display.precision\\\", 4)\\npd.set_option(\\\"display.float_format\\\", lambda x: \\\"%.2f\\\" % x)\";\n",
       "                var nbb_formatted_code = \"###### Loading the necessary libraries #########\\n\\n# data wrangling\\nimport pandas as pd\\nimport numpy as np\\nfrom tqdm import tqdm\\n\\n# statistical libraries:\\nfrom scipy import stats\\n\\n# plotting and visualization:\\nimport matplotlib.pyplot as plt\\nimport seaborn as sns\\nfrom IPython.display import HTML, Image\\n\\n# machine learning and topic modelling utilities\\nimport umap\\nimport gensim\\nimport gensim.corpora as corpora\\nfrom gensim.utils import simple_preprocess\\nfrom gensim.models import CoherenceModel\\nimport pyLDAvis\\nimport pyLDAvis.gensim\\n\\n# other libraries:\\nimport warnings\\nfrom pprint import pprint\\n\\n# setting global parameters for visualizations:\\nwarnings.filterwarnings(\\\"ignore\\\")\\npd.set_option(\\\"display.precision\\\", 4)\\npd.set_option(\\\"display.float_format\\\", lambda x: \\\"%.2f\\\" % x)\";\n",
       "                var nbb_cells = Jupyter.notebook.get_cells();\n",
       "                for (var i = 0; i < nbb_cells.length; ++i) {\n",
       "                    if (nbb_cells[i].input_prompt_number == nbb_cell_id) {\n",
       "                        if (nbb_cells[i].get_text() == nbb_unformatted_code) {\n",
       "                             nbb_cells[i].set_text(nbb_formatted_code);\n",
       "                        }\n",
       "                        break;\n",
       "                    }\n",
       "                }\n",
       "            }, 500);\n",
       "            "
      ],
      "text/plain": [
       "<IPython.core.display.Javascript object>"
      ]
     },
     "metadata": {},
     "output_type": "display_data"
    }
   ],
   "source": [
    "###### Loading the necessary libraries #########\n",
    "\n",
    "# data wrangling\n",
    "import pandas as pd\n",
    "import numpy as np\n",
    "from tqdm import tqdm\n",
    "\n",
    "# statistical libraries:\n",
    "from scipy import stats\n",
    "\n",
    "# plotting and visualization:\n",
    "import matplotlib.pyplot as plt\n",
    "import seaborn as sns\n",
    "from IPython.display import HTML, Image\n",
    "\n",
    "# machine learning and topic modelling utilities\n",
    "import umap\n",
    "import gensim\n",
    "import gensim.corpora as corpora\n",
    "from gensim.utils import simple_preprocess\n",
    "from gensim.models import CoherenceModel\n",
    "import pyLDAvis\n",
    "import pyLDAvis.gensim\n",
    "\n",
    "# other libraries:\n",
    "import warnings\n",
    "from pprint import pprint\n",
    "\n",
    "# setting global parameters for visualizations:\n",
    "warnings.filterwarnings(\"ignore\")\n",
    "pd.set_option(\"display.precision\", 4)\n",
    "pd.set_option(\"display.float_format\", lambda x: \"%.2f\" % x)"
   ]
  },
  {
   "cell_type": "markdown",
   "metadata": {},
   "source": [
    "# 0. Helper Functions"
   ]
  },
  {
   "cell_type": "code",
   "execution_count": 5,
   "metadata": {},
   "outputs": [
    {
     "data": {
      "application/javascript": [
       "\n",
       "            setTimeout(function() {\n",
       "                var nbb_cell_id = 5;\n",
       "                var nbb_unformatted_code = \"def set_plot_settings():\\n    \\\"\\\"\\\"Helper function to set standard plot settings for the jupyter notebook\\n    Note: these are hard-coded for my specific tastes\\n    \\\"\\\"\\\"\\n    %matplotlib inline\\n    %pylab inline\\n\\n    plt.rcParams[\\\"figure.figsize\\\"] = [10, 6]\\n    plt.rcParams[\\\"figure.dpi\\\"] = 120\\n    display(HTML(\\\"<style>.container { width:100% !important; }</style>\\\"))\\n    pd.set_option(\\\"display.expand_frame_repr\\\", False)\\n    sns.set_style(\\\"white\\\")\\n\\n\\ndef rotate_xticks(ax, rotation):\\n    \\\"\\\"\\\"Helper function to rotate x-axis labels of a matplotlib-based plot\\n\\n    Args:\\n        ax (axes.AxesSubplot): matplotlib subplot axis object that handles the figure\\n        rotation (int): degrees for which to rotate the axis x-ticks\\n\\n    Returns:\\n        None\\n\\n    \\\"\\\"\\\"\\n    for item in ax.get_xticklabels():\\n        item.set_rotation(rotation)\\n\\n\\ndef sequence_tokenizer(sequence):\\n    \\\"\\\"\\\"Simple tokenizer function to parse comma-separated sequences o MCCs\\\"\\\"\\\"\\n    return sequence.split(\\\",\\\")\\n\\n\\ndef tune_topic_model(\\n    dictionary, corpus, sequences, param_name, param_range, coherence_type=\\\"c_v\\\"\\n):\\n    \\\"\\\"\\\"Helper function to calculate coherence values accross different model settings\\n\\n    Args:\\n        dictionary (gensim.Dictionary) : Gensim dictionary object\\n        corpus (gensim.Corpora) : Gensim-ready processed corpus\\n        sequences (list): raw tokenized user sequences\\n        param_name (str): name of the parameter to be tuned\\n        param_range (list): range of values to try\\n        coherence_type (str): coherence model to use during the tunninng, defaults to c_v\\n\\n    Returns:\\n        models : List of LDA topic models\\n        coherence_values : Coherence values corresponding to the LDA model with respective number of topics\\n    \\\"\\\"\\\"\\n    coherence_values = []\\n    models = []\\n\\n    # enabling default parameters (some will be overriden by the param choice)\\n    param_dict = {\\n        \\\"corpus\\\": corpus,\\n        \\\"id2word\\\": dictionary,\\n        \\\"random_state\\\": 42,\\n        \\\"chunksize\\\": 100,\\n        \\\"passes\\\": 10,\\n        \\\"update_every\\\": 1,\\n        \\\"per_word_topics\\\": True,\\n        \\\"alpha\\\": \\\"auto\\\",\\n        \\\"num_topics\\\": 5,\\n    }\\n\\n    # default start is 2\\n    for param_value in tqdm(param_range):\\n\\n        input_params = param_dict\\n        input_params[param_name] = param_value\\n\\n        model = gensim.models.ldamodel.LdaModel(**input_params)\\n\\n        models.append(model)\\n\\n        coherence_model = CoherenceModel(\\n            model=model,\\n            texts=sequences,\\n            dictionary=dictionary,\\n            coherence=coherence_type,\\n        )\\n\\n        coherence_values.append(coherence_model.get_coherence())\\n\\n    return models, coherence_values\\n\\ndef get_lda_cluster(df, model, corpus):\\n    \\\"\\\"\\\"Helper function to perform main topic extraction (cluster) for gensim's LDA model\\n    \\n    Args:\\n        df (pandas.DataFrame): dataframe to input user topics as a new column\\n        model (gensim.models.lda.LdaModel): trained gensim LDA model\\n        corpus (gensim.doc2bow): Document to Bag-of-words representation of the user sequences (a corpus)\\n    \\n    \\\"\\\"\\\"\\n    topics = []\\n\\n    for user in corpus:\\n        temp_df = pd.DataFrame(model.get_document_topics(user))\\n        temp_df = temp_df.set_index(0)\\n        main_topic = temp_df.idxmax().values[0]\\n        topics.append(main_topic)\\n\\n    df[\\\"cluster\\\"] = topics\\n\\n    return df\";\n",
       "                var nbb_formatted_code = \"def set_plot_settings():\\n    \\\"\\\"\\\"Helper function to set standard plot settings for the jupyter notebook\\n    Note: these are hard-coded for my specific tastes\\n    \\\"\\\"\\\"\\n    %matplotlib inline\\n    %pylab inline\\n\\n    plt.rcParams[\\\"figure.figsize\\\"] = [10, 6]\\n    plt.rcParams[\\\"figure.dpi\\\"] = 120\\n    display(HTML(\\\"<style>.container { width:100% !important; }</style>\\\"))\\n    pd.set_option(\\\"display.expand_frame_repr\\\", False)\\n    sns.set_style(\\\"white\\\")\\n\\n\\ndef rotate_xticks(ax, rotation):\\n    \\\"\\\"\\\"Helper function to rotate x-axis labels of a matplotlib-based plot\\n\\n    Args:\\n        ax (axes.AxesSubplot): matplotlib subplot axis object that handles the figure\\n        rotation (int): degrees for which to rotate the axis x-ticks\\n\\n    Returns:\\n        None\\n\\n    \\\"\\\"\\\"\\n    for item in ax.get_xticklabels():\\n        item.set_rotation(rotation)\\n\\n\\ndef sequence_tokenizer(sequence):\\n    \\\"\\\"\\\"Simple tokenizer function to parse comma-separated sequences o MCCs\\\"\\\"\\\"\\n    return sequence.split(\\\",\\\")\\n\\n\\ndef tune_topic_model(\\n    dictionary, corpus, sequences, param_name, param_range, coherence_type=\\\"c_v\\\"\\n):\\n    \\\"\\\"\\\"Helper function to calculate coherence values accross different model settings\\n\\n    Args:\\n        dictionary (gensim.Dictionary) : Gensim dictionary object\\n        corpus (gensim.Corpora) : Gensim-ready processed corpus\\n        sequences (list): raw tokenized user sequences\\n        param_name (str): name of the parameter to be tuned\\n        param_range (list): range of values to try\\n        coherence_type (str): coherence model to use during the tunninng, defaults to c_v\\n\\n    Returns:\\n        models : List of LDA topic models\\n        coherence_values : Coherence values corresponding to the LDA model with respective number of topics\\n    \\\"\\\"\\\"\\n    coherence_values = []\\n    models = []\\n\\n    # enabling default parameters (some will be overriden by the param choice)\\n    param_dict = {\\n        \\\"corpus\\\": corpus,\\n        \\\"id2word\\\": dictionary,\\n        \\\"random_state\\\": 42,\\n        \\\"chunksize\\\": 100,\\n        \\\"passes\\\": 10,\\n        \\\"update_every\\\": 1,\\n        \\\"per_word_topics\\\": True,\\n        \\\"alpha\\\": \\\"auto\\\",\\n        \\\"num_topics\\\": 5,\\n    }\\n\\n    # default start is 2\\n    for param_value in tqdm(param_range):\\n\\n        input_params = param_dict\\n        input_params[param_name] = param_value\\n\\n        model = gensim.models.ldamodel.LdaModel(**input_params)\\n\\n        models.append(model)\\n\\n        coherence_model = CoherenceModel(\\n            model=model,\\n            texts=sequences,\\n            dictionary=dictionary,\\n            coherence=coherence_type,\\n        )\\n\\n        coherence_values.append(coherence_model.get_coherence())\\n\\n    return models, coherence_values\\n\\n\\ndef get_lda_cluster(df, model, corpus):\\n    \\\"\\\"\\\"Helper function to perform main topic extraction (cluster) for gensim's LDA model\\n\\n    Args:\\n        df (pandas.DataFrame): dataframe to input user topics as a new column\\n        model (gensim.models.lda.LdaModel): trained gensim LDA model\\n        corpus (gensim.doc2bow): Document to Bag-of-words representation of the user sequences (a corpus)\\n\\n    \\\"\\\"\\\"\\n    topics = []\\n\\n    for user in corpus:\\n        temp_df = pd.DataFrame(model.get_document_topics(user))\\n        temp_df = temp_df.set_index(0)\\n        main_topic = temp_df.idxmax().values[0]\\n        topics.append(main_topic)\\n\\n    df[\\\"cluster\\\"] = topics\\n\\n    return df\";\n",
       "                var nbb_cells = Jupyter.notebook.get_cells();\n",
       "                for (var i = 0; i < nbb_cells.length; ++i) {\n",
       "                    if (nbb_cells[i].input_prompt_number == nbb_cell_id) {\n",
       "                        if (nbb_cells[i].get_text() == nbb_unformatted_code) {\n",
       "                             nbb_cells[i].set_text(nbb_formatted_code);\n",
       "                        }\n",
       "                        break;\n",
       "                    }\n",
       "                }\n",
       "            }, 500);\n",
       "            "
      ],
      "text/plain": [
       "<IPython.core.display.Javascript object>"
      ]
     },
     "metadata": {},
     "output_type": "display_data"
    }
   ],
   "source": [
    "def set_plot_settings():\n",
    "    \"\"\"Helper function to set standard plot settings for the jupyter notebook\n",
    "    Note: these are hard-coded for my specific tastes\n",
    "    \"\"\"\n",
    "    %matplotlib inline\n",
    "    %pylab inline\n",
    "\n",
    "    plt.rcParams[\"figure.figsize\"] = [10, 6]\n",
    "    plt.rcParams[\"figure.dpi\"] = 120\n",
    "    display(HTML(\"<style>.container { width:100% !important; }</style>\"))\n",
    "    pd.set_option(\"display.expand_frame_repr\", False)\n",
    "    sns.set_style(\"white\")\n",
    "\n",
    "\n",
    "def rotate_xticks(ax, rotation):\n",
    "    \"\"\"Helper function to rotate x-axis labels of a matplotlib-based plot\n",
    "\n",
    "    Args:\n",
    "        ax (axes.AxesSubplot): matplotlib subplot axis object that handles the figure\n",
    "        rotation (int): degrees for which to rotate the axis x-ticks\n",
    "\n",
    "    Returns:\n",
    "        None\n",
    "\n",
    "    \"\"\"\n",
    "    for item in ax.get_xticklabels():\n",
    "        item.set_rotation(rotation)\n",
    "\n",
    "\n",
    "def sequence_tokenizer(sequence):\n",
    "    \"\"\"Simple tokenizer function to parse comma-separated sequences o MCCs\"\"\"\n",
    "    return sequence.split(\",\")\n",
    "\n",
    "\n",
    "def tune_topic_model(\n",
    "    dictionary, corpus, sequences, param_name, param_range, coherence_type=\"c_v\"\n",
    "):\n",
    "    \"\"\"Helper function to calculate coherence values accross different model settings\n",
    "\n",
    "    Args:\n",
    "        dictionary (gensim.Dictionary) : Gensim dictionary object\n",
    "        corpus (gensim.Corpora) : Gensim-ready processed corpus\n",
    "        sequences (list): raw tokenized user sequences\n",
    "        param_name (str): name of the parameter to be tuned\n",
    "        param_range (list): range of values to try\n",
    "        coherence_type (str): coherence model to use during the tunninng, defaults to c_v\n",
    "\n",
    "    Returns:\n",
    "        models : List of LDA topic models\n",
    "        coherence_values : Coherence values corresponding to the LDA model with respective number of topics\n",
    "    \"\"\"\n",
    "    coherence_values = []\n",
    "    models = []\n",
    "\n",
    "    # enabling default parameters (some will be overriden by the param choice)\n",
    "    param_dict = {\n",
    "        \"corpus\": corpus,\n",
    "        \"id2word\": dictionary,\n",
    "        \"random_state\": 42,\n",
    "        \"chunksize\": 100,\n",
    "        \"passes\": 10,\n",
    "        \"update_every\": 1,\n",
    "        \"per_word_topics\": True,\n",
    "        \"alpha\": \"auto\",\n",
    "        \"num_topics\": 5,\n",
    "    }\n",
    "\n",
    "    # default start is 2\n",
    "    for param_value in tqdm(param_range):\n",
    "\n",
    "        input_params = param_dict\n",
    "        input_params[param_name] = param_value\n",
    "\n",
    "        model = gensim.models.ldamodel.LdaModel(**input_params)\n",
    "\n",
    "        models.append(model)\n",
    "\n",
    "        coherence_model = CoherenceModel(\n",
    "            model=model,\n",
    "            texts=sequences,\n",
    "            dictionary=dictionary,\n",
    "            coherence=coherence_type,\n",
    "        )\n",
    "\n",
    "        coherence_values.append(coherence_model.get_coherence())\n",
    "\n",
    "    return models, coherence_values\n",
    "\n",
    "def get_lda_cluster(df, model, corpus):\n",
    "    \"\"\"Helper function to perform main topic extraction (cluster) for gensim's LDA model\n",
    "    \n",
    "    Args:\n",
    "        df (pandas.DataFrame): dataframe to input user topics as a new column\n",
    "        model (gensim.models.lda.LdaModel): trained gensim LDA model\n",
    "        corpus (gensim.doc2bow): Document to Bag-of-words representation of the user sequences (a corpus)\n",
    "    \n",
    "    \"\"\"\n",
    "    topics = []\n",
    "\n",
    "    for user in corpus:\n",
    "        temp_df = pd.DataFrame(model.get_document_topics(user))\n",
    "        temp_df = temp_df.set_index(0)\n",
    "        main_topic = temp_df.idxmax().values[0]\n",
    "        topics.append(main_topic)\n",
    "\n",
    "    df[\"cluster\"] = topics\n",
    "\n",
    "    return df"
   ]
  },
  {
   "cell_type": "code",
   "execution_count": 6,
   "metadata": {},
   "outputs": [
    {
     "name": "stdout",
     "output_type": "stream",
     "text": [
      "Populating the interactive namespace from numpy and matplotlib\n"
     ]
    },
    {
     "data": {
      "text/html": [
       "<style>.container { width:100% !important; }</style>"
      ],
      "text/plain": [
       "<IPython.core.display.HTML object>"
      ]
     },
     "metadata": {},
     "output_type": "display_data"
    },
    {
     "data": {
      "application/javascript": [
       "\n",
       "            setTimeout(function() {\n",
       "                var nbb_cell_id = 6;\n",
       "                var nbb_unformatted_code = \"# setting the global variables for plotting:\\nset_plot_settings()\";\n",
       "                var nbb_formatted_code = \"# setting the global variables for plotting:\\nset_plot_settings()\";\n",
       "                var nbb_cells = Jupyter.notebook.get_cells();\n",
       "                for (var i = 0; i < nbb_cells.length; ++i) {\n",
       "                    if (nbb_cells[i].input_prompt_number == nbb_cell_id) {\n",
       "                        if (nbb_cells[i].get_text() == nbb_unformatted_code) {\n",
       "                             nbb_cells[i].set_text(nbb_formatted_code);\n",
       "                        }\n",
       "                        break;\n",
       "                    }\n",
       "                }\n",
       "            }, 500);\n",
       "            "
      ],
      "text/plain": [
       "<IPython.core.display.Javascript object>"
      ]
     },
     "metadata": {},
     "output_type": "display_data"
    }
   ],
   "source": [
    "# setting the global variables for plotting:\n",
    "set_plot_settings()"
   ]
  },
  {
   "cell_type": "markdown",
   "metadata": {},
   "source": [
    "# 1. Loading and Inspecting the Data"
   ]
  },
  {
   "cell_type": "code",
   "execution_count": 7,
   "metadata": {},
   "outputs": [
    {
     "data": {
      "application/javascript": [
       "\n",
       "            setTimeout(function() {\n",
       "                var nbb_cell_id = 7;\n",
       "                var nbb_unformatted_code = \"# loading the raw dataset:\\nPROCESSED_DATA_DIR = \\\"../data/processed/\\\"\\n\\n# reading sequence dataset:\\ndf_sequence = pd.read_parquet(PROCESSED_DATA_DIR + \\\"tb_user_token_history.parquet\\\")\\n\\n# reading the helper dataset:\\ndf_daily = pd.read_parquet(PROCESSED_DATA_DIR + \\\"tb_user_daily_sequence.parquet\\\")\";\n",
       "                var nbb_formatted_code = \"# loading the raw dataset:\\nPROCESSED_DATA_DIR = \\\"../data/processed/\\\"\\n\\n# reading sequence dataset:\\ndf_sequence = pd.read_parquet(PROCESSED_DATA_DIR + \\\"tb_user_token_history.parquet\\\")\\n\\n# reading the helper dataset:\\ndf_daily = pd.read_parquet(PROCESSED_DATA_DIR + \\\"tb_user_daily_sequence.parquet\\\")\";\n",
       "                var nbb_cells = Jupyter.notebook.get_cells();\n",
       "                for (var i = 0; i < nbb_cells.length; ++i) {\n",
       "                    if (nbb_cells[i].input_prompt_number == nbb_cell_id) {\n",
       "                        if (nbb_cells[i].get_text() == nbb_unformatted_code) {\n",
       "                             nbb_cells[i].set_text(nbb_formatted_code);\n",
       "                        }\n",
       "                        break;\n",
       "                    }\n",
       "                }\n",
       "            }, 500);\n",
       "            "
      ],
      "text/plain": [
       "<IPython.core.display.Javascript object>"
      ]
     },
     "metadata": {},
     "output_type": "display_data"
    }
   ],
   "source": [
    "# loading the raw dataset:\n",
    "PROCESSED_DATA_DIR = \"../data/processed/\"\n",
    "\n",
    "# reading sequence dataset:\n",
    "df_sequence = pd.read_parquet(PROCESSED_DATA_DIR + \"tb_user_token_history.parquet\")\n",
    "\n",
    "# reading the helper dataset:\n",
    "df_daily = pd.read_parquet(PROCESSED_DATA_DIR + \"tb_user_daily_sequence.parquet\")"
   ]
  },
  {
   "cell_type": "code",
   "execution_count": 8,
   "metadata": {},
   "outputs": [
    {
     "data": {
      "text/html": [
       "<div>\n",
       "<style scoped>\n",
       "    .dataframe tbody tr th:only-of-type {\n",
       "        vertical-align: middle;\n",
       "    }\n",
       "\n",
       "    .dataframe tbody tr th {\n",
       "        vertical-align: top;\n",
       "    }\n",
       "\n",
       "    .dataframe thead th {\n",
       "        text-align: right;\n",
       "    }\n",
       "</style>\n",
       "<table border=\"1\" class=\"dataframe\">\n",
       "  <thead>\n",
       "    <tr style=\"text-align: right;\">\n",
       "      <th></th>\n",
       "      <th>user_id</th>\n",
       "      <th>sequence</th>\n",
       "    </tr>\n",
       "  </thead>\n",
       "  <tbody>\n",
       "    <tr>\n",
       "      <th>1026</th>\n",
       "      <td>1315</td>\n",
       "      <td>🏠💰,🏬🚃💰,🏠🚃💰,🚃,💰🛒,💰🛒🚗,💰,⛽💰,🚃💰💈,🚃,🚃💰,🚃👕🚗,💰🖼,💰💊,💰⛽...</td>\n",
       "    </tr>\n",
       "    <tr>\n",
       "      <th>336</th>\n",
       "      <td>199</td>\n",
       "      <td>🛒💊,💊🚚🏬💆,💊,⛽🏨🏛📱,⛽🏠🏬,🍺,💊🍺,💰💊,💊,📱🛒💰,💊,⛽💊,💈🎡,💊,🏬,💰...</td>\n",
       "    </tr>\n",
       "    <tr>\n",
       "      <th>495</th>\n",
       "      <td>520</td>\n",
       "      <td>🛒🌯💈,🍽,🚚⛽🔨🌯🚕,💰,🚗🍽,⛽🍽,📚💈,🍽🍺🏗,🚗🏬,🛒,🔨,👕🔨⛽,📮🛒🍽💳,🛒,💊...</td>\n",
       "    </tr>\n",
       "    <tr>\n",
       "      <th>173</th>\n",
       "      <td>1470</td>\n",
       "      <td>🍺🏠,🍺🛒,🍺,🍺🛒,🍺🛒🏬🏠🌯,💰⛽,🍺📚💉,🏨🏬,🍺🚃,🍺,🍺,🚗👕,🍺,🍺,🍺🛒🍽,🏷...</td>\n",
       "    </tr>\n",
       "    <tr>\n",
       "      <th>603</th>\n",
       "      <td>1276</td>\n",
       "      <td>📱,⛽,⛽,🍺,📚🍺💊,🏬🏠,⛽🍺,🛒,⛽,⛽🏬🏠,📱🛒,🎡,🛒⛽💊,💈,📱🛒💊,💊,🛒💈,...</td>\n",
       "    </tr>\n",
       "  </tbody>\n",
       "</table>\n",
       "</div>"
      ],
      "text/plain": [
       "     user_id                                           sequence\n",
       "1026    1315  🏠💰,🏬🚃💰,🏠🚃💰,🚃,💰🛒,💰🛒🚗,💰,⛽💰,🚃💰💈,🚃,🚃💰,🚃👕🚗,💰🖼,💰💊,💰⛽...\n",
       "336      199  🛒💊,💊🚚🏬💆,💊,⛽🏨🏛📱,⛽🏠🏬,🍺,💊🍺,💰💊,💊,📱🛒💰,💊,⛽💊,💈🎡,💊,🏬,💰...\n",
       "495      520  🛒🌯💈,🍽,🚚⛽🔨🌯🚕,💰,🚗🍽,⛽🍽,📚💈,🍽🍺🏗,🚗🏬,🛒,🔨,👕🔨⛽,📮🛒🍽💳,🛒,💊...\n",
       "173     1470  🍺🏠,🍺🛒,🍺,🍺🛒,🍺🛒🏬🏠🌯,💰⛽,🍺📚💉,🏨🏬,🍺🚃,🍺,🍺,🚗👕,🍺,🍺,🍺🛒🍽,🏷...\n",
       "603     1276  📱,⛽,⛽,🍺,📚🍺💊,🏬🏠,⛽🍺,🛒,⛽,⛽🏬🏠,📱🛒,🎡,🛒⛽💊,💈,📱🛒💊,💊,🛒💈,..."
      ]
     },
     "execution_count": 8,
     "metadata": {},
     "output_type": "execute_result"
    },
    {
     "data": {
      "application/javascript": [
       "\n",
       "            setTimeout(function() {\n",
       "                var nbb_cell_id = 8;\n",
       "                var nbb_unformatted_code = \"# checking a sample of the timeline dataset:\\ndf_sequence.sample(5)\";\n",
       "                var nbb_formatted_code = \"# checking a sample of the timeline dataset:\\ndf_sequence.sample(5)\";\n",
       "                var nbb_cells = Jupyter.notebook.get_cells();\n",
       "                for (var i = 0; i < nbb_cells.length; ++i) {\n",
       "                    if (nbb_cells[i].input_prompt_number == nbb_cell_id) {\n",
       "                        if (nbb_cells[i].get_text() == nbb_unformatted_code) {\n",
       "                             nbb_cells[i].set_text(nbb_formatted_code);\n",
       "                        }\n",
       "                        break;\n",
       "                    }\n",
       "                }\n",
       "            }, 500);\n",
       "            "
      ],
      "text/plain": [
       "<IPython.core.display.Javascript object>"
      ]
     },
     "metadata": {},
     "output_type": "display_data"
    }
   ],
   "source": [
    "# checking a sample of the timeline dataset:\n",
    "df_sequence.sample(5)"
   ]
  },
  {
   "cell_type": "code",
   "execution_count": 9,
   "metadata": {},
   "outputs": [
    {
     "name": "stdout",
     "output_type": "stream",
     "text": [
      "<class 'pandas.core.frame.DataFrame'>\n",
      "RangeIndex: 2000 entries, 0 to 1999\n",
      "Data columns (total 2 columns):\n",
      " #   Column    Non-Null Count  Dtype \n",
      "---  ------    --------------  ----- \n",
      " 0   user_id   2000 non-null   object\n",
      " 1   sequence  2000 non-null   object\n",
      "dtypes: object(2)\n",
      "memory usage: 31.4+ KB\n"
     ]
    },
    {
     "data": {
      "application/javascript": [
       "\n",
       "            setTimeout(function() {\n",
       "                var nbb_cell_id = 9;\n",
       "                var nbb_unformatted_code = \"# sequence dataset:\\ndf_sequence.info()\";\n",
       "                var nbb_formatted_code = \"# sequence dataset:\\ndf_sequence.info()\";\n",
       "                var nbb_cells = Jupyter.notebook.get_cells();\n",
       "                for (var i = 0; i < nbb_cells.length; ++i) {\n",
       "                    if (nbb_cells[i].input_prompt_number == nbb_cell_id) {\n",
       "                        if (nbb_cells[i].get_text() == nbb_unformatted_code) {\n",
       "                             nbb_cells[i].set_text(nbb_formatted_code);\n",
       "                        }\n",
       "                        break;\n",
       "                    }\n",
       "                }\n",
       "            }, 500);\n",
       "            "
      ],
      "text/plain": [
       "<IPython.core.display.Javascript object>"
      ]
     },
     "metadata": {},
     "output_type": "display_data"
    }
   ],
   "source": [
    "# sequence dataset:\n",
    "df_sequence.info()"
   ]
  },
  {
   "cell_type": "markdown",
   "metadata": {},
   "source": [
    "# 2. Tokenizing Sequences of Transactions\n",
    "We will start the modeling process by preparing the sequences for a bag of words representation. For each user we will generate a list of \"words\" he or she contains. This is done by splitting on the previously defined comma separator."
   ]
  },
  {
   "cell_type": "code",
   "execution_count": 10,
   "metadata": {},
   "outputs": [
    {
     "data": {
      "application/javascript": [
       "\n",
       "            setTimeout(function() {\n",
       "                var nbb_cell_id = 10;\n",
       "                var nbb_unformatted_code = \"# generating the sentences for each user:\\nsequences = list(map(lambda seq: seq.split(\\\",\\\"), df_sequence.sequence.values))\";\n",
       "                var nbb_formatted_code = \"# generating the sentences for each user:\\nsequences = list(map(lambda seq: seq.split(\\\",\\\"), df_sequence.sequence.values))\";\n",
       "                var nbb_cells = Jupyter.notebook.get_cells();\n",
       "                for (var i = 0; i < nbb_cells.length; ++i) {\n",
       "                    if (nbb_cells[i].input_prompt_number == nbb_cell_id) {\n",
       "                        if (nbb_cells[i].get_text() == nbb_unformatted_code) {\n",
       "                             nbb_cells[i].set_text(nbb_formatted_code);\n",
       "                        }\n",
       "                        break;\n",
       "                    }\n",
       "                }\n",
       "            }, 500);\n",
       "            "
      ],
      "text/plain": [
       "<IPython.core.display.Javascript object>"
      ]
     },
     "metadata": {},
     "output_type": "display_data"
    }
   ],
   "source": [
    "# generating the sentences for each user:\n",
    "sequences = list(map(lambda seq: seq.split(\",\"), df_sequence.sequence.values))"
   ]
  },
  {
   "cell_type": "code",
   "execution_count": 11,
   "metadata": {},
   "outputs": [
    {
     "data": {
      "text/plain": [
       "['🛒', '⛽🏬💊💰🛒🏠', '🏬💰', '⛽🏬', '🛒💊📱', '🏬💰🛒', '🏬⛽💰🏠', '🛒💰⛽', '🧹💰🏬', '🏬💰⛽']"
      ]
     },
     "execution_count": 11,
     "metadata": {},
     "output_type": "execute_result"
    },
    {
     "data": {
      "application/javascript": [
       "\n",
       "            setTimeout(function() {\n",
       "                var nbb_cell_id = 11;\n",
       "                var nbb_unformatted_code = \"# verifying some of the results:\\nsequences[0][:10]\";\n",
       "                var nbb_formatted_code = \"# verifying some of the results:\\nsequences[0][:10]\";\n",
       "                var nbb_cells = Jupyter.notebook.get_cells();\n",
       "                for (var i = 0; i < nbb_cells.length; ++i) {\n",
       "                    if (nbb_cells[i].input_prompt_number == nbb_cell_id) {\n",
       "                        if (nbb_cells[i].get_text() == nbb_unformatted_code) {\n",
       "                             nbb_cells[i].set_text(nbb_formatted_code);\n",
       "                        }\n",
       "                        break;\n",
       "                    }\n",
       "                }\n",
       "            }, 500);\n",
       "            "
      ],
      "text/plain": [
       "<IPython.core.display.Javascript object>"
      ]
     },
     "metadata": {},
     "output_type": "display_data"
    }
   ],
   "source": [
    "# verifying some of the results:\n",
    "sequences[0][:10]"
   ]
  },
  {
   "cell_type": "markdown",
   "metadata": {},
   "source": [
    "# 3. Building the Training Corpora"
   ]
  },
  {
   "cell_type": "code",
   "execution_count": 12,
   "metadata": {},
   "outputs": [
    {
     "data": {
      "application/javascript": [
       "\n",
       "            setTimeout(function() {\n",
       "                var nbb_cell_id = 12;\n",
       "                var nbb_unformatted_code = \"# using gensim's Dictionary to build the corpora representation out of the raw tokenized sequences:\\nid_to_seq_map = corpora.Dictionary(sequences)\";\n",
       "                var nbb_formatted_code = \"# using gensim's Dictionary to build the corpora representation out of the raw tokenized sequences:\\nid_to_seq_map = corpora.Dictionary(sequences)\";\n",
       "                var nbb_cells = Jupyter.notebook.get_cells();\n",
       "                for (var i = 0; i < nbb_cells.length; ++i) {\n",
       "                    if (nbb_cells[i].input_prompt_number == nbb_cell_id) {\n",
       "                        if (nbb_cells[i].get_text() == nbb_unformatted_code) {\n",
       "                             nbb_cells[i].set_text(nbb_formatted_code);\n",
       "                        }\n",
       "                        break;\n",
       "                    }\n",
       "                }\n",
       "            }, 500);\n",
       "            "
      ],
      "text/plain": [
       "<IPython.core.display.Javascript object>"
      ]
     },
     "metadata": {},
     "output_type": "display_data"
    }
   ],
   "source": [
    "# using gensim's Dictionary to build the corpora representation out of the raw tokenized sequences:\n",
    "id_to_seq_map = corpora.Dictionary(sequences)"
   ]
  },
  {
   "cell_type": "code",
   "execution_count": 13,
   "metadata": {},
   "outputs": [
    {
     "data": {
      "application/javascript": [
       "\n",
       "            setTimeout(function() {\n",
       "                var nbb_cell_id = 13;\n",
       "                var nbb_unformatted_code = \"# generating the full corpus (gensim's representation)\\ncorpus = list(map(lambda seq: id_to_seq_map.doc2bow(seq), sequences))\";\n",
       "                var nbb_formatted_code = \"# generating the full corpus (gensim's representation)\\ncorpus = list(map(lambda seq: id_to_seq_map.doc2bow(seq), sequences))\";\n",
       "                var nbb_cells = Jupyter.notebook.get_cells();\n",
       "                for (var i = 0; i < nbb_cells.length; ++i) {\n",
       "                    if (nbb_cells[i].input_prompt_number == nbb_cell_id) {\n",
       "                        if (nbb_cells[i].get_text() == nbb_unformatted_code) {\n",
       "                             nbb_cells[i].set_text(nbb_formatted_code);\n",
       "                        }\n",
       "                        break;\n",
       "                    }\n",
       "                }\n",
       "            }, 500);\n",
       "            "
      ],
      "text/plain": [
       "<IPython.core.display.Javascript object>"
      ]
     },
     "metadata": {},
     "output_type": "display_data"
    }
   ],
   "source": [
    "# generating the full corpus (gensim's representation)\n",
    "corpus = list(map(lambda seq: id_to_seq_map.doc2bow(seq), sequences))"
   ]
  },
  {
   "cell_type": "markdown",
   "metadata": {},
   "source": [
    "# 2. Building the first Topic Model\n",
    "To start the model experiments, we will use parameters to those defined on the [reference paper](https://www.nature.com/articles/s41467-018-05690-8), with the number of topics = `6`."
   ]
  },
  {
   "cell_type": "code",
   "execution_count": 14,
   "metadata": {},
   "outputs": [
    {
     "data": {
      "application/javascript": [
       "\n",
       "            setTimeout(function() {\n",
       "                var nbb_cell_id = 14;\n",
       "                var nbb_unformatted_code = \"# we will start by defining 6 topics (analogous to the 6 clusters defined by the paper)\\nlda_model = gensim.models.ldamodel.LdaModel(\\n    corpus=corpus,\\n    id2word=id_to_seq_map,\\n    num_topics=6,\\n    random_state=42,\\n    update_every=1,\\n    chunksize=100,\\n    passes=10,\\n    alpha=\\\"auto\\\",\\n    per_word_topics=True,\\n)\";\n",
       "                var nbb_formatted_code = \"# we will start by defining 6 topics (analogous to the 6 clusters defined by the paper)\\nlda_model = gensim.models.ldamodel.LdaModel(\\n    corpus=corpus,\\n    id2word=id_to_seq_map,\\n    num_topics=6,\\n    random_state=42,\\n    update_every=1,\\n    chunksize=100,\\n    passes=10,\\n    alpha=\\\"auto\\\",\\n    per_word_topics=True,\\n)\";\n",
       "                var nbb_cells = Jupyter.notebook.get_cells();\n",
       "                for (var i = 0; i < nbb_cells.length; ++i) {\n",
       "                    if (nbb_cells[i].input_prompt_number == nbb_cell_id) {\n",
       "                        if (nbb_cells[i].get_text() == nbb_unformatted_code) {\n",
       "                             nbb_cells[i].set_text(nbb_formatted_code);\n",
       "                        }\n",
       "                        break;\n",
       "                    }\n",
       "                }\n",
       "            }, 500);\n",
       "            "
      ],
      "text/plain": [
       "<IPython.core.display.Javascript object>"
      ]
     },
     "metadata": {},
     "output_type": "display_data"
    }
   ],
   "source": [
    "# we will start by defining 6 topics (analogous to the 6 clusters defined by the paper)\n",
    "lda_model = gensim.models.ldamodel.LdaModel(\n",
    "    corpus=corpus,\n",
    "    id2word=id_to_seq_map,\n",
    "    num_topics=6,\n",
    "    random_state=42,\n",
    "    update_every=1,\n",
    "    chunksize=100,\n",
    "    passes=10,\n",
    "    alpha=\"auto\",\n",
    "    per_word_topics=True,\n",
    ")"
   ]
  },
  {
   "cell_type": "code",
   "execution_count": 15,
   "metadata": {},
   "outputs": [
    {
     "name": "stdout",
     "output_type": "stream",
     "text": [
      "[(0,\n",
      "  '0.083*\"🧾\" + 0.032*\"🛒🧾\" + 0.025*\"🧾🛒\" + 0.017*\"🧾🍽\" + 0.014*\"🧾🏬\" + 0.012*\"🏬🧾\" '\n",
      "  '+ 0.009*\"🧾⛽\" + 0.008*\"🧾🌯\" + 0.008*\"🚃\" + 0.008*\"🧾💰\"'),\n",
      " (1,\n",
      "  '0.126*\"💰\" + 0.047*\"🛒💰\" + 0.025*\"💰🛒\" + 0.020*\"💰🏬\" + 0.019*\"🏬💰\" + 0.012*\"⛽💰\" '\n",
      "  '+ 0.011*\"💊💰\" + 0.011*\"💰💊\" + 0.011*\"💰🍽\" + 0.010*\"💰⛽\"'),\n",
      " (2,\n",
      "  '0.112*\"🛒\" + 0.065*\"🏬\" + 0.034*\"💊\" + 0.033*\"⛽\" + 0.023*\"🚗\" + 0.022*\"🛒🏬\" + '\n",
      "  '0.016*\"🏬🛒\" + 0.015*\"🍺\" + 0.012*\"📚\" + 0.012*\"🏠\"'),\n",
      " (3,\n",
      "  '0.107*\"🚕\" + 0.035*\"🛒🚕\" + 0.022*\"🚕🛒\" + 0.015*\"🚕🏬\" + 0.012*\"🏬🚕\" + 0.011*\"🚕🍽\" '\n",
      "  '+ 0.011*\"⛽🚕\" + 0.011*\"🍽🚕\" + 0.008*\"🚕⛽\" + 0.007*\"💰🚕\"'),\n",
      " (4,\n",
      "  '0.000*\"🍽🏠🏗📚\" + 0.000*\"🍽🏠🏬🚗💉\" + 0.000*\"🍽🏗🏬💈🚗💊🛒\" + 0.000*\"🍽🏗🏬📱🚗\" + '\n",
      "  '0.000*\"🍽🏗💰📺⛽\" + 0.000*\"🍽🏗💰🚗🏬\" + 0.000*\"🍽🏗📚🚗⛽\" + 0.000*\"🍽🏗🚗🏬🎧\" + '\n",
      "  '0.000*\"🍽🏗🚗💊⛽\" + 0.000*\"🍽🏗🚗🛒💉\"'),\n",
      " (5,\n",
      "  '0.087*\"🍽\" + 0.039*\"🌯\" + 0.039*\"🛒🍽\" + 0.027*\"🛒\" + 0.020*\"🍽🛒\" + 0.018*\"🛒🌯\" + '\n",
      "  '0.015*\"🏬🍽\" + 0.011*\"⛽🍽\" + 0.011*\"🛒⛽\" + 0.010*\"🍽🏬\"')]\n"
     ]
    },
    {
     "data": {
      "application/javascript": [
       "\n",
       "            setTimeout(function() {\n",
       "                var nbb_cell_id = 15;\n",
       "                var nbb_unformatted_code = \"# let's print the keywords per topic identified:\\npprint(lda_model.print_topics())\";\n",
       "                var nbb_formatted_code = \"# let's print the keywords per topic identified:\\npprint(lda_model.print_topics())\";\n",
       "                var nbb_cells = Jupyter.notebook.get_cells();\n",
       "                for (var i = 0; i < nbb_cells.length; ++i) {\n",
       "                    if (nbb_cells[i].input_prompt_number == nbb_cell_id) {\n",
       "                        if (nbb_cells[i].get_text() == nbb_unformatted_code) {\n",
       "                             nbb_cells[i].set_text(nbb_formatted_code);\n",
       "                        }\n",
       "                        break;\n",
       "                    }\n",
       "                }\n",
       "            }, 500);\n",
       "            "
      ],
      "text/plain": [
       "<IPython.core.display.Javascript object>"
      ]
     },
     "metadata": {},
     "output_type": "display_data"
    }
   ],
   "source": [
    "# let's print the keywords per topic identified:\n",
    "pprint(lda_model.print_topics())"
   ]
  },
  {
   "cell_type": "code",
   "execution_count": 16,
   "metadata": {},
   "outputs": [
    {
     "data": {
      "application/javascript": [
       "\n",
       "            setTimeout(function() {\n",
       "                var nbb_cell_id = 16;\n",
       "                var nbb_unformatted_code = \"# registering the lda projection for each user\\nuser_lda = lda_model[corpus]\";\n",
       "                var nbb_formatted_code = \"# registering the lda projection for each user\\nuser_lda = lda_model[corpus]\";\n",
       "                var nbb_cells = Jupyter.notebook.get_cells();\n",
       "                for (var i = 0; i < nbb_cells.length; ++i) {\n",
       "                    if (nbb_cells[i].input_prompt_number == nbb_cell_id) {\n",
       "                        if (nbb_cells[i].get_text() == nbb_unformatted_code) {\n",
       "                             nbb_cells[i].set_text(nbb_formatted_code);\n",
       "                        }\n",
       "                        break;\n",
       "                    }\n",
       "                }\n",
       "            }, 500);\n",
       "            "
      ],
      "text/plain": [
       "<IPython.core.display.Javascript object>"
      ]
     },
     "metadata": {},
     "output_type": "display_data"
    }
   ],
   "source": [
    "# registering the lda projection for each user\n",
    "user_lda = lda_model[corpus]"
   ]
  },
  {
   "cell_type": "markdown",
   "metadata": {},
   "source": [
    "# 3. Interpreting Preliminar Model Results\n",
    "In order to assess the quality of our topic model, we will verify some metrics associated with it, namely `perplexity` and `coherence`. Key indicators about the performance and quality of our topic representations in the model are that, the lower the `perplexity`, the best. On the other hand, the higher the `coherence`, the better."
   ]
  },
  {
   "cell_type": "code",
   "execution_count": 17,
   "metadata": {},
   "outputs": [
    {
     "data": {
      "application/javascript": [
       "\n",
       "            setTimeout(function() {\n",
       "                var nbb_cell_id = 17;\n",
       "                var nbb_unformatted_code = \"# extracting the perplexity from thee model:\\nperplexity = lda_model.log_perplexity(corpus)\";\n",
       "                var nbb_formatted_code = \"# extracting the perplexity from thee model:\\nperplexity = lda_model.log_perplexity(corpus)\";\n",
       "                var nbb_cells = Jupyter.notebook.get_cells();\n",
       "                for (var i = 0; i < nbb_cells.length; ++i) {\n",
       "                    if (nbb_cells[i].input_prompt_number == nbb_cell_id) {\n",
       "                        if (nbb_cells[i].get_text() == nbb_unformatted_code) {\n",
       "                             nbb_cells[i].set_text(nbb_formatted_code);\n",
       "                        }\n",
       "                        break;\n",
       "                    }\n",
       "                }\n",
       "            }, 500);\n",
       "            "
      ],
      "text/plain": [
       "<IPython.core.display.Javascript object>"
      ]
     },
     "metadata": {},
     "output_type": "display_data"
    }
   ],
   "source": [
    "# extracting the perplexity from thee model:\n",
    "perplexity = lda_model.log_perplexity(corpus)"
   ]
  },
  {
   "cell_type": "code",
   "execution_count": 18,
   "metadata": {},
   "outputs": [
    {
     "data": {
      "application/javascript": [
       "\n",
       "            setTimeout(function() {\n",
       "                var nbb_cell_id = 18;\n",
       "                var nbb_unformatted_code = \"# calculating coherence\\nlda_coherence = CoherenceModel(\\n    model=lda_model, texts=sequences, dictionary=id_to_seq_map, coherence=\\\"c_v\\\"\\n)\\n\\ncoherence = lda_coherence.get_coherence()\";\n",
       "                var nbb_formatted_code = \"# calculating coherence\\nlda_coherence = CoherenceModel(\\n    model=lda_model, texts=sequences, dictionary=id_to_seq_map, coherence=\\\"c_v\\\"\\n)\\n\\ncoherence = lda_coherence.get_coherence()\";\n",
       "                var nbb_cells = Jupyter.notebook.get_cells();\n",
       "                for (var i = 0; i < nbb_cells.length; ++i) {\n",
       "                    if (nbb_cells[i].input_prompt_number == nbb_cell_id) {\n",
       "                        if (nbb_cells[i].get_text() == nbb_unformatted_code) {\n",
       "                             nbb_cells[i].set_text(nbb_formatted_code);\n",
       "                        }\n",
       "                        break;\n",
       "                    }\n",
       "                }\n",
       "            }, 500);\n",
       "            "
      ],
      "text/plain": [
       "<IPython.core.display.Javascript object>"
      ]
     },
     "metadata": {},
     "output_type": "display_data"
    }
   ],
   "source": [
    "# calculating coherence\n",
    "lda_coherence = CoherenceModel(\n",
    "    model=lda_model, texts=sequences, dictionary=id_to_seq_map, coherence=\"c_v\"\n",
    ")\n",
    "\n",
    "coherence = lda_coherence.get_coherence()"
   ]
  },
  {
   "cell_type": "code",
   "execution_count": 19,
   "metadata": {},
   "outputs": [
    {
     "name": "stdout",
     "output_type": "stream",
     "text": [
      "\n",
      "Preliminar Model metrics:\n",
      "    perplexity = -8.610396483832869\n",
      "    coherence = 0.6454455620897868\n",
      "\n"
     ]
    },
    {
     "data": {
      "application/javascript": [
       "\n",
       "            setTimeout(function() {\n",
       "                var nbb_cell_id = 19;\n",
       "                var nbb_unformatted_code = \"# verifying the metrics:\\nprint(\\n    f\\\"\\\"\\\"\\nPreliminar Model metrics:\\n    perplexity = {perplexity}\\n    coherence = {coherence}\\n\\\"\\\"\\\"\\n)\";\n",
       "                var nbb_formatted_code = \"# verifying the metrics:\\nprint(\\n    f\\\"\\\"\\\"\\nPreliminar Model metrics:\\n    perplexity = {perplexity}\\n    coherence = {coherence}\\n\\\"\\\"\\\"\\n)\";\n",
       "                var nbb_cells = Jupyter.notebook.get_cells();\n",
       "                for (var i = 0; i < nbb_cells.length; ++i) {\n",
       "                    if (nbb_cells[i].input_prompt_number == nbb_cell_id) {\n",
       "                        if (nbb_cells[i].get_text() == nbb_unformatted_code) {\n",
       "                             nbb_cells[i].set_text(nbb_formatted_code);\n",
       "                        }\n",
       "                        break;\n",
       "                    }\n",
       "                }\n",
       "            }, 500);\n",
       "            "
      ],
      "text/plain": [
       "<IPython.core.display.Javascript object>"
      ]
     },
     "metadata": {},
     "output_type": "display_data"
    }
   ],
   "source": [
    "# verifying the metrics:\n",
    "print(\n",
    "    f\"\"\"\n",
    "Preliminar Model metrics:\n",
    "    perplexity = {perplexity}\n",
    "    coherence = {coherence}\n",
    "\"\"\"\n",
    ")"
   ]
  },
  {
   "cell_type": "code",
   "execution_count": 20,
   "metadata": {},
   "outputs": [
    {
     "data": {
      "text/html": [
       "\n",
       "<link rel=\"stylesheet\" type=\"text/css\" href=\"https://cdn.jsdelivr.net/gh/bmabey/pyLDAvis@3.2.2/pyLDAvis/js/ldavis.v1.0.0.css\">\n",
       "\n",
       "\n",
       "<div id=\"ldavis_el15705921401011961420642479326823\"></div>\n",
       "<script type=\"text/javascript\">\n",
       "\n",
       "var ldavis_el15705921401011961420642479326823_data = {\"mdsDat\": {\"x\": [0.3355919817070766, 0.26570171522229397, -0.1729281448212738, -0.1951904393675915, -0.06438132736142088, -0.16879378537908385], \"y\": [-0.0044782204713780934, -0.002787252884281522, -0.3025100419187645, 0.21325864764225283, 0.07516755315992468, 0.02134931447224674], \"topics\": [1, 2, 3, 4, 5, 6], \"cluster\": [1, 1, 1, 1, 1, 1], \"Freq\": [52.41514293005316, 23.57563121227815, 9.427253161642533, 7.479808669944682, 7.102085712432313, 7.831364916856383e-05]}, \"tinfo\": {\"Term\": [\"\\ud83d\\udcb0\", \"\\ud83c\\udf7d\", \"\\ud83c\\udfec\", \"\\ud83d\\ude95\", \"\\ud83d\\uded2\", \"\\ud83e\\uddfe\", \"\\ud83d\\uded2\\ud83c\\udf7d\", \"\\ud83c\\udf2f\", \"\\ud83d\\udc8a\", \"\\ud83d\\uded2\\ud83d\\udcb0\", \"\\ud83d\\ude97\", \"\\ud83d\\uded2\\ud83e\\uddfe\", \"\\ud83d\\uded2\\ud83d\\ude95\", \"\\ud83c\\udf7d\\ud83d\\uded2\", \"\\ud83d\\udcb0\\ud83d\\uded2\", \"\\ud83d\\uded2\\ud83c\\udf2f\", \"\\u26fd\", \"\\ud83e\\uddfe\\ud83d\\uded2\", \"\\ud83c\\udfec\\ud83d\\udcb0\", \"\\ud83c\\udfec\\ud83c\\udf7d\", \"\\ud83c\\udf7a\", \"\\ud83d\\udcb0\\ud83c\\udfec\", \"\\ud83c\\udfec\\ud83d\\uded2\", \"\\ud83d\\uded2\\ud83c\\udfec\", \"\\ud83d\\ude95\\ud83d\\uded2\", \"\\ud83e\\uddfe\\ud83c\\udf7d\", \"\\u26fd\\ud83c\\udf7d\", \"\\ud83c\\udfe0\", \"\\ud83d\\udcda\", \"\\ud83c\\udf7d\\ud83c\\udfec\", \"\\ud83c\\udfec\\ud83d\\udc8a\", \"\\ud83d\\udc8a\\ud83c\\udfec\", \"\\ud83d\\udcee\", \"\\ud83d\\ude9a\", \"\\ud83d\\udc8a\\ud83d\\ude97\", \"\\ud83d\\ude97\\ud83d\\udc8a\", \"\\ud83c\\udfd7\\ud83c\\udfec\", \"\\ud83c\\udfec\\ud83d\\udcda\", \"\\ud83c\\udfec\\ud83c\\udfd7\", \"\\ud83c\\udfec\\ud83d\\udc88\", \"\\ud83c\\udf7a\\ud83d\\udc8a\", \"\\ud83d\\udc88\\ud83c\\udfec\", \"\\ud83c\\udfec\\ud83e\\ude91\", \"\\ud83e\\ude91\\ud83c\\udfec\", \"\\ud83d\\udcee\\ud83c\\udfec\", \"\\ud83d\\udc8a\\ud83d\\udcf1\", \"\\ud83d\\ude9a\\ud83c\\udfec\", \"\\ud83d\\udc8a\\ud83c\\udfd7\", \"\\ud83c\\udfec\\ud83d\\ude9a\", \"\\ud83c\\udfd7\\ud83d\\udc8a\", \"\\ud83d\\udcf1\\ud83c\\udfec\", \"\\ud83c\\udfec\\ud83d\\udcee\", \"\\ud83d\\uddbc\\ud83c\\udfec\", \"\\ud83c\\udfec\\ud83d\\uddbc\", \"\\ud83c\\udfab\", \"\\ud83d\\udc8a\\ud83c\\udfe0\", \"\\ud83c\\udfec\\ud83c\\udfab\", \"\\ud83c\\udfdb\\ud83d\\uded2\", \"\\ud83d\\udc8a\\ud83d\\udc88\", \"\\ud83c\\udfd7\\ud83d\\ude97\", \"\\ud83c\\udfec\", \"\\ud83d\\udc8a\", \"\\ud83d\\ude97\", \"\\ud83c\\udf7a\", \"\\ud83c\\udfe0\", \"\\ud83c\\udfd7\", \"\\ud83d\\udcf1\", \"\\ud83c\\udfec\\ud83d\\uded2\", \"\\ud83e\\ude91\", \"\\ud83c\\udfec\\ud83d\\ude97\", \"\\ud83d\\ude97\\ud83c\\udfec\", \"\\ud83c\\udfdb\", \"\\ud83c\\udfe8\", \"\\ud83d\\uddbc\", \"\\ud83d\\udc88\", \"\\ud83c\\udfe0\\ud83c\\udfec\", \"\\ud83c\\udfec\\ud83c\\udfe0\", \"\\ud83c\\udfec\\ud83d\\udcf1\", \"\\ud83d\\udc8a\\ud83d\\uded2\", \"\\ud83d\\udcda\", \"\\ud83d\\udc55\", \"\\ud83c\\udfec\\ud83c\\udf7a\", \"\\ud83d\\uded2\", \"\\ud83d\\uded2\\ud83c\\udfec\", \"\\ud83c\\udfec\\u26fd\", \"\\ud83d\\udcda\\ud83c\\udfec\", \"\\u26fd\", \"\\ud83d\\ude97\\ud83d\\uded2\", \"\\ud83d\\uded2\\ud83d\\udc8a\", \"\\ud83d\\uded2\\ud83d\\ude97\", \"\\u26fd\\ud83c\\udfec\", \"\\ud83d\\uded2\\u26fd\", \"\\ud83d\\uded2\\ud83c\\udf7a\", \"\\u26fd\\ud83d\\uded2\", \"\\ud83d\\udcb0\", \"\\ud83c\\udf7d\\ud83c\\udf2f\", \"\\ud83c\\udf2f\\ud83c\\udf7d\", \"\\ud83d\\uded2\\ud83c\\udf7d\\ud83c\\udf2f\", \"\\ud83d\\uded2\\ud83c\\udf2f\\ud83c\\udf7d\", \"\\ud83c\\udf7d\\ud83d\\uded2\\ud83c\\udf2f\", \"\\ud83c\\udf2f\\ud83d\\uded2\\ud83c\\udf7d\", \"\\ud83d\\uded2\\ud83c\\udf7a\\ud83c\\udf7d\", \"\\u26fd\\ud83d\\uded2\\ud83c\\udf2f\", \"\\ud83c\\udf2f\\ud83c\\udf7d\\ud83d\\uded2\", \"\\ud83c\\udf7d\\ud83c\\udf2f\\ud83d\\uded2\", \"\\ud83c\\udfec\\ud83c\\udf2f\\ud83c\\udf7d\", \"\\ud83c\\udfec\\ud83c\\udf7d\\ud83c\\udf2f\", \"\\ud83d\\uded2\\ud83c\\udfe0\\ud83c\\udf7d\", \"\\u26fd\\ud83c\\udf7d\\ud83c\\udf2f\", \"\\u26fd\\ud83c\\udf2f\\ud83c\\udf7d\", \"\\ud83c\\udf7d\\ud83c\\udfec\\ud83c\\udf2f\", \"\\ud83d\\udcda\\ud83d\\uded2\\ud83c\\udf7d\", \"\\ud83c\\udf2f\\ud83c\\udfec\\ud83c\\udf7d\", \"\\ud83d\\udcda\\ud83d\\uded2\\ud83c\\udf2f\", \"\\ud83d\\uded2\\u26fd\\ud83c\\udf7d\", \"\\ud83c\\udf2f\\ud83c\\udf7d\\ud83c\\udfec\", \"\\ud83c\\udf7d\\ud83c\\udf2f\\ud83c\\udfec\", \"\\ud83d\\uded2\\ud83c\\udf7a\\ud83c\\udf2f\", \"\\ud83c\\udf7d\\u26fd\\ud83c\\udf2f\", \"\\ud83d\\udc8a\\ud83c\\udf7d\\ud83c\\udf2f\", \"\\ud83d\\udc8a\\ud83c\\udf2f\\ud83c\\udf7d\", \"\\ud83c\\udf2f\\u26fd\\ud83c\\udf7d\", \"\\ud83d\\uded2\\ud83d\\udc88\\ud83c\\udf7d\", \"\\ud83d\\ude97\\ud83c\\udf7d\\ud83c\\udf2f\", \"\\ud83d\\uded2\\ud83d\\udc55\\ud83c\\udf7d\", \"\\ud83d\\uded2\\ud83c\\udf7d\", \"\\ud83d\\uded2\\ud83c\\udf2f\", \"\\u26fd\\ud83d\\uded2\\ud83c\\udf7d\", \"\\ud83d\\uded2\\u26fd\\ud83c\\udf2f\", \"\\u26fd\\ud83c\\udf7d\", \"\\ud83d\\uded2\\ud83c\\udfec\\ud83c\\udf7d\", \"\\u26fd\\ud83c\\udf2f\", \"\\ud83d\\uded2\\ud83c\\udf7d\\u26fd\", \"\\ud83d\\uded2\\ud83d\\udc8a\\ud83c\\udf7d\", \"\\ud83d\\uded2\\ud83c\\udf7d\\ud83c\\udf7a\", \"\\ud83c\\udf7d\\ud83d\\uded2\", \"\\ud83c\\udfec\\ud83d\\uded2\\ud83c\\udf7d\", \"\\ud83d\\udc8a\\ud83d\\uded2\\ud83c\\udf7d\", \"\\ud83d\\uded2\\ud83c\\udfec\\ud83c\\udf2f\", \"\\u26fd\\ud83c\\udfec\\ud83c\\udf7d\", \"\\ud83d\\uded2\\ud83c\\udf2f\\u26fd\", \"\\ud83c\\udf7d\", \"\\ud83d\\udcda\\ud83c\\udf7d\", \"\\ud83c\\udf7d\\u26fd\", \"\\u26fd\\ud83c\\udf7d\\ud83d\\uded2\", \"\\ud83c\\udf7d\\u26fd\\ud83d\\uded2\", \"\\ud83c\\udf2f\", \"\\ud83c\\udf2f\\ud83d\\uded2\", \"\\ud83d\\uded2\\ud83c\\udf7d\\ud83c\\udfec\", \"\\ud83d\\udc8a\\ud83c\\udf7d\", \"\\ud83c\\udfec\\ud83c\\udf7d\", \"\\ud83c\\udf2f\\u26fd\", \"\\ud83c\\udfec\\ud83c\\udf2f\", \"\\ud83d\\ude97\\ud83c\\udf7d\", \"\\ud83c\\udf7d\\ud83c\\udfec\", \"\\ud83c\\udf7a\\ud83c\\udf7d\", \"\\ud83d\\udc8a\\ud83c\\udf2f\", \"\\ud83c\\udf7d\\ud83d\\udc8a\", \"\\ud83c\\udf7d\\ud83c\\udf7a\", \"\\ud83c\\udfe0\\ud83c\\udf7d\", \"\\ud83c\\udf2f\\ud83c\\udfec\", \"\\ud83d\\uded2\\u26fd\", \"\\ud83d\\uded2\", \"\\u26fd\\ud83d\\uded2\", \"\\u26fd\", \"\\ud83d\\uded2\\ud83c\\udfec\", \"\\ud83e\\uddfe\", \"\\ud83e\\uddfe\\ud83d\\uded2\", \"\\ud83e\\uddfe\\ud83c\\udfec\", \"\\ud83e\\uddfe\\u26fd\", \"\\ud83e\\uddfe\\ud83d\\udc8a\", \"\\ud83e\\uddfe\\ud83d\\ude97\", \"\\ud83e\\uddfe\\ud83c\\udf7a\", \"\\ud83d\\uded2\\ud83e\\uddfe\\ud83c\\udfec\", \"\\ud83d\\ude97\\ud83e\\uddfe\", \"\\ud83e\\uddfe\\ud83d\\uded2\\ud83c\\udfec\", \"\\ud83c\\udf2f\\ud83e\\uddfe\", \"\\ud83e\\uddfe\\ud83c\\udfdb\", \"\\ud83e\\uddfe\\ud83d\\uded2\\u26fd\", \"\\ud83e\\uddfe\\u26fd\\ud83d\\uded2\", \"\\ud83e\\uddfe\\ud83c\\udfe0\", \"\\ud83d\\uded2\\ud83e\\uddfe\\u26fd\", \"\\ud83d\\udc8a\\ud83d\\uded2\\ud83e\\uddfe\", \"\\ud83e\\uddfe\\ud83d\\udcda\", \"\\ud83d\\uded2\\u26fd\\ud83e\\uddfe\", \"\\ud83e\\uddfe\\ud83c\\udf7d\\ud83d\\uded2\", \"\\ud83e\\uddfe\\ud83d\\udcf1\", \"\\ud83d\\uded2\\ud83e\\uddfe\\ud83d\\udc8a\", \"\\ud83c\\udf7d\\ud83d\\uded2\\ud83e\\uddfe\", \"\\ud83c\\udfec\\ud83e\\uddfe\\ud83d\\uded2\", \"\\ud83d\\uded2\\ud83e\\uddfe\\ud83c\\udf7a\", \"\\ud83c\\udf7a\\ud83e\\uddfe\", \"\\ud83e\\uddfe\\ud83c\\udfec\\ud83c\\udf7d\", \"\\ud83d\\udcf1\\ud83e\\uddfe\", \"\\ud83c\\udfe0\\ud83e\\uddfe\", \"\\ud83e\\uddfe\\ud83c\\udfec\\ud83d\\uded2\", \"\\ud83d\\uded2\\ud83e\\uddfe\", \"\\ud83e\\uddfe\\ud83c\\udf7d\", \"\\ud83c\\udfec\\ud83e\\uddfe\", \"\\u26fd\\ud83e\\uddfe\", \"\\ud83d\\udc8a\\ud83e\\uddfe\", \"\\ud83c\\udf7d\\ud83e\\uddfe\", \"\\ud83e\\uddfe\\ud83c\\udf2f\", \"\\ud83d\\udcda\\ud83e\\uddfe\", \"\\ud83e\\uddfe\\ud83d\\uded2\\ud83c\\udf7d\", \"\\ud83d\\uded2\\ud83e\\uddfe\\ud83c\\udf7d\", \"\\ud83d\\uded2\\ud83e\\uddfe\\ud83d\\udcb0\", \"\\ud83e\\uddfe\\ud83d\\udcb0\", \"\\ud83d\\uded2\\ud83c\\udfec\\ud83e\\uddfe\", \"\\ud83c\\udfec\\ud83d\\uded2\\ud83e\\uddfe\", \"\\ud83d\\ude83\", \"\\ud83d\\ude83\\ud83d\\uded2\", \"\\ud83d\\uded2\\ud83d\\ude83\", \"\\ud83d\\ude95\", \"\\ud83d\\uded2\\ud83d\\ude95\", \"\\ud83d\\ude95\\ud83d\\uded2\", \"\\ud83c\\udfec\\ud83d\\ude95\", \"\\u26fd\\ud83d\\ude95\", \"\\ud83c\\udf7d\\ud83d\\ude95\", \"\\ud83d\\ude95\\u26fd\", \"\\ud83d\\ude95\\ud83d\\udc8a\", \"\\ud83d\\udc8a\\ud83d\\ude95\", \"\\ud83d\\ude97\\ud83d\\ude95\", \"\\ud83d\\ude95\\ud83d\\ude97\", \"\\ud83d\\ude95\\ud83d\\udcb0\", \"\\ud83d\\ude95\\ud83c\\udf2f\", \"\\ud83c\\udf2f\\ud83d\\ude95\", \"\\ud83d\\uded2\\ud83d\\ude95\\ud83c\\udfec\", \"\\ud83d\\udcda\\ud83d\\ude95\", \"\\ud83d\\ude95\\ud83c\\udfdb\", \"\\ud83c\\udf7d\\ud83d\\uded2\\ud83d\\ude95\", \"\\ud83c\\udfe0\\ud83d\\ude95\", \"\\ud83d\\ude95\\ud83c\\udf7a\", \"\\ud83d\\uded2\\ud83c\\udfec\\ud83d\\ude95\", \"\\ud83d\\uded2\\u26fd\\ud83d\\ude95\", \"\\ud83d\\ude95\\ud83d\\uded2\\ud83c\\udfec\", \"\\ud83d\\ude95\\ud83d\\uded2\\ud83c\\udf7d\", \"\\u26fd\\ud83d\\uded2\\ud83d\\ude95\", \"\\ud83d\\ude95\\ud83c\\udfe0\", \"\\ud83c\\udfec\\ud83d\\uded2\\ud83d\\ude95\", \"\\ud83c\\udf7d\\ud83d\\ude95\\ud83d\\uded2\", \"\\ud83d\\udc8a\\ud83d\\uded2\\ud83d\\ude95\", \"\\ud83c\\udf7a\\ud83d\\ude95\", \"\\ud83d\\ude95\\ud83c\\udfec\", \"\\ud83d\\ude95\\ud83c\\udf7d\", \"\\ud83d\\uded2\\ud83c\\udf7d\\ud83d\\ude95\", \"\\ud83d\\udcb0\\ud83d\\ude95\", \"\\ud83d\\uded2\\ud83d\\ude95\\ud83c\\udf7d\", \"\\ud83d\\uded2\\ud83d\\udcb0\\ud83d\\ude95\", \"\\ud83d\\ude95\\ud83e\\uddfe\", \"\\ud83e\\uddfe\\ud83d\\ude95\", \"\\ud83d\\uded2\\ud83d\\udcb0\\ud83d\\udc84\", \"\\ud83c\\udfab\\ud83d\\udcb0\\ud83c\\udfdb\", \"\\ud83d\\udcb0\\ud83d\\ude97\\ud83c\\udfec\\ud83d\\uded2\", \"\\ud83d\\uded2\\ud83d\\udc86\\ud83d\\udcb0\", \"\\ud83c\\udfe0\\ud83c\\udfab\\ud83d\\udcb0\", \"\\ud83d\\ude97\\ud83c\\udfec\\ud83c\\udf7a\\ud83d\\udcb0\", \"\\ud83d\\ude97\\ud83d\\udc8a\\ud83c\\udfec\\ud83d\\udcb0\", \"\\u26fd\\ud83d\\udcb0\\ud83d\\ude97\\ud83d\\uded2\", \"\\ud83d\\udcb0\\ud83d\\ude97\\ud83d\\udc8a\\ud83d\\uded2\", \"\\ud83d\\udcb0\\ud83d\\uded2\\ud83c\\udf2f\\ud83d\\udc8a\", \"\\ud83d\\udcb0\\ud83c\\udfae\", \"\\ud83d\\udcb0\\ud83d\\udc89\\ud83c\\udfec\", \"\\ud83d\\udcb0\\ud83d\\ude97\\u26fd\\ud83d\\uded2\", \"\\ud83d\\udcb0\\ud83d\\udc5f\", \"\\ud83d\\udcb0\\ud83d\\ude83\\u26fd\", \"\\ud83d\\uded2\\ud83c\\udf7a\\ud83d\\udc8a\\ud83d\\udcb0\", \"\\ud83d\\udcb0\\ud83d\\ude97\\ud83c\\udfec\\u26fd\", \"\\ud83d\\udcb0\\ud83d\\ude97\\ud83d\\uded2\\ud83d\\udc8a\", \"\\ud83d\\udcb0\\ud83d\\udc86\\ud83c\\udfec\", \"\\ud83d\\udcb0\\ud83c\\udfe0\\ud83d\\uded2\\ud83c\\udfec\", \"\\ud83d\\udcb0\\ud83c\\udfe8\\u26fd\", \"\\ud83c\\udf7d\\ud83d\\ude9a\\ud83d\\udcb0\", \"\\ud83d\\udcb0\\ud83c\\udfec\\u26fd\\ud83c\\udf7a\", \"\\ud83d\\uded2\\ud83d\\udc6e\\ud83d\\udcb0\", \"\\ud83d\\udcb0\\ud83d\\uded2\\ud83c\\udfdb\\ud83d\\udc8a\", \"\\ud83d\\udcb0\\ud83d\\udc89\\ud83d\\udc8a\", \"\\ud83d\\udcb0\\ud83d\\ude97\\ud83d\\uded2\\ud83c\\udfe8\", \"\\ud83d\\udcb0\\ud83d\\uded2\\ud83d\\udc8a\\ud83d\\udc55\", \"\\ud83d\\udcb0\\ud83d\\udcda\\ud83c\\udfec\\ud83d\\udc8a\", \"\\ud83d\\udcb0\\ud83c\\udfec\\ud83d\\udc8a\\ud83c\\udf7a\", \"\\u26fd\\ud83c\\udf2f\\ud83d\\uded2\\ud83d\\udcb0\", \"\\ud83d\\udcb0\\ud83d\\ude97\\ud83c\\udfd7\", \"\\ud83d\\udcb0\\ud83d\\ude97\\ud83d\\udc8a\", \"\\ud83d\\udcb0\\ud83d\\ude83\", \"\\ud83d\\udcb0\\ud83d\\udc84\", \"\\ud83d\\udcb0\\ud83d\\uded2\\u26fd\\ud83d\\udc8a\", \"\\ud83d\\udcb0\\ud83c\\udfec\\ud83c\\udf7a\", \"\\ud83d\\udcb0\", \"\\ud83d\\udcb0\\ud83c\\udfec\", \"\\ud83d\\udcb0\\ud83d\\ude97\\ud83d\\uded2\", \"\\ud83c\\udfa1\\ud83d\\udcb0\", \"\\ud83d\\udcb0\\ud83d\\udc8a\", \"\\ud83d\\uded2\\ud83d\\udcb0\", \"\\ud83d\\udcb0\\ud83d\\ude97\", \"\\ud83d\\udcb0\\u26fd\", \"\\ud83d\\udcb0\\ud83d\\uded2\", \"\\ud83c\\udfab\\ud83d\\udcb0\", \"\\ud83d\\udcb0\\ud83d\\ude97\\ud83c\\udfec\", \"\\ud83d\\uded2\\ud83d\\udcb0\\ud83d\\udcb3\", \"\\u26fd\\ud83d\\udcb0\", \"\\ud83c\\udfec\\ud83d\\udcb0\", \"\\ud83d\\udcb0\\ud83d\\udc8a\\ud83c\\udf7a\", \"\\ud83d\\ude97\\ud83c\\udfec\\ud83d\\udcb0\", \"\\ud83d\\udc8a\\ud83d\\udcb0\", \"\\ud83d\\udcda\\ud83d\\udcb0\", \"\\ud83d\\udcf1\\ud83d\\udcb0\", \"\\ud83d\\udcb0\\ud83c\\udfec\\u26fd\", \"\\ud83c\\udfe0\\ud83d\\udcb0\", \"\\ud83d\\udcb0\\ud83c\\udfe0\", \"\\ud83d\\udcb0\\ud83c\\udf7a\", \"\\ud83d\\uded2\\ud83d\\udcb0\\ud83c\\udfec\", \"\\ud83d\\udcb0\\ud83c\\udf7d\", \"\\ud83d\\udcb0\\ud83d\\uded2\\ud83d\\udc8a\", \"\\ud83d\\udcb0\\ud83c\\udfdb\", \"\\ud83d\\udcb0\\ud83c\\udfec\\ud83d\\uded2\", \"\\ud83d\\uded2\\ud83c\\udfec\\ud83d\\udcb0\", \"\\ud83c\\udf7d\\ud83d\\udcb0\", \"\\ud83d\\uded2\\ud83d\\udcb0\\ud83d\\ude97\", \"\\ud83d\\udcb0\\ud83c\\udf2f\", \"\\ud83d\\uded2\\ud83d\\udc8a\\ud83d\\udcb0\", \"\\ud83d\\udcb0\\ud83d\\uded2\\ud83c\\udfec\", \"\\ud83d\\udcb0\\ud83d\\udcda\", \"\\ud83c\\udf2f\\ud83d\\udcb0\", \"\\ud83d\\udcb0\\ud83d\\udcf1\", \"\\ud83d\\ude97\\ud83d\\udcb0\", \"\\ud83d\\uded2\\u26fd\\ud83d\\udcb0\", \"\\ud83c\\udfec\\ud83d\\uded2\\ud83d\\udcb0\", \"\\ud83c\\udf7a\\ud83d\\udcb0\", \"\\ud83d\\uded2\\ud83d\\udcb0\\ud83c\\udf7d\", \"\\ud83c\\udfec\\ud83c\\udf7d\\ud83d\\udc88\\ud83c\\udf7a\\ud83d\\uded2\", \"\\ud83d\\udc8a\\ud83d\\udc88\\ud83c\\udfdb\\u26fd\", \"\\ud83d\\uddbc\\ud83d\\uded2\\ud83d\\udcfa\\u26fd\\ud83c\\udfdb\", \"\\ud83d\\uddbc\\ud83e\\ude91\\ud83d\\ude97\\ud83d\\udc8a\\ud83d\\udc5e\", \"\\u26fd\\ud83c\\udfec\\ud83d\\udc86\\ud83d\\udcee\", \"\\u26fd\\ud83d\\udd28\\ud83c\\udfe0\\u2708\", \"\\u26fd\\ud83d\\uded2\\ud83c\\udfec\\ud83e\\ude91\\ud83d\\udc55\", \"\\ud83c\\udf7a\\ud83d\\udc55\\ud83c\\udfe0\\ud83d\\udcee\", \"\\ud83c\\udf7a\\ud83d\\udc86\\ud83d\\udcb0\\ud83d\\udc6e\", \"\\ud83c\\udf7a\\ud83d\\udc86\\ud83d\\udcee\", \"\\ud83c\\udf7a\\ud83d\\udcf1\\ud83c\\udfe0\\ud83c\\udfec\", \"\\ud83c\\udfae\\ud83d\\udc6e\", \"\\ud83c\\udfd7\\ud83d\\udc86\\ud83d\\udc55\", \"\\ud83c\\udfd7\\ud83d\\udcf1\\ud83d\\udc86\\ud83d\\udcee\", \"\\ud83c\\udfec\\u26fd\\ud83d\\udcf1\\ud83d\\udc53\\ud83c\\udfe0\", \"\\ud83c\\udfec\\u26fd\\ud83d\\udcf1\\ud83d\\udc55\\ud83c\\udfe0\", \"\\ud83c\\udfec\\ud83c\\udf7a\\ud83d\\udc53\\ud83d\\udc55\", \"\\ud83c\\udfec\\ud83d\\udc53\\ud83d\\udc88\\ud83d\\udcb0\", \"\\ud83c\\udfec\\ud83d\\udc55\\ud83d\\udc88\\ud83d\\udc6e\\ud83c\\udfe0\", \"\\ud83c\\udfec\\ud83d\\uded2\\ud83d\\udcf1\\ud83c\\udfae\", \"\\ud83d\\udc53\\ud83d\\udc55\\ud83c\\udfe0\", \"\\ud83d\\udc8a\\ud83c\\udf7a\\ud83e\\ude91\\ud83c\\udfe0\", \"\\ud83d\\udc8a\\ud83c\\udfe0\\ud83d\\ude97\\ud83c\\udfe8\", \"\\ud83d\\udc8a\\ud83e\\ude7a\\ud83d\\udc6e\", \"\\ud83d\\udcbc\\ud83d\\udc55\\ud83c\\udfe0\", \"\\ud83d\\udcda\\u26fd\\ud83c\\udfec\\ud83d\\uded2\\ud83e\\ude7a\", \"\\ud83d\\udcda\\ud83d\\ude97\\ud83d\\udcee\\ud83c\\udfe0\", \"\\ud83d\\udcda\\ud83d\\uded2\\ud83d\\udc86\\ud83e\\ude91\", \"\\ud83d\\udcda\\ud83d\\uded2\\ud83d\\udcb0\\ud83c\\udfe5\", \"\\ud83d\\udcf1\\u26fd\\ud83d\\udc55\\ud83c\\udfec\\ud83c\\udfe0\", \"\\u26fd\", \"\\u26fd\\ud83c\\udfdb\", \"\\u26fd\\ud83c\\udfe0\\ud83c\\udfec\\ud83d\\udcb0\\ud83d\\udc8a\", \"\\u26fd\\ud83c\\udfe0\\ud83d\\udc5e\\ud83d\\uded2\\ud83d\\ude9a\\ud83d\\ude97\\ud83d\\udcb0\\ud83d\\udc8a\", \"\\u26fd\\ud83c\\udfe0\\ud83d\\udc8a\", \"\\u26fd\\ud83c\\udfe0\\ud83d\\uded2\\ud83d\\udc8a\\ud83d\\udcb0\\ud83c\\udfec\", \"\\u26fd\\ud83c\\udfe8\\ud83c\\udfec\\ud83d\\ude95\", \"\\u26fd\\ud83c\\udfe8\\ud83d\\udcb0\\ud83d\\uded2\\ud83d\\ude95\", \"\\u26fd\\ud83c\\udfec\", \"\\u26fd\\ud83c\\udfec\\ud83c\\udfe0\", \"\\u26fd\\ud83c\\udfec\\ud83d\\udc55\\ud83d\\udc8a\", \"\\u26fd\\ud83c\\udfec\\ud83d\\udc55\\ud83d\\udcb0\", \"\\u26fd\\ud83c\\udfec\\ud83d\\udc55\\ud83d\\udcb0\\ud83d\\udc8a\", \"\\u26fd\\ud83c\\udfec\\ud83d\\udc55\\ud83d\\udcb0\\ud83d\\udc8a\\ud83c\\udfdb\\ud83c\\udfe8\", \"\\u26fd\\ud83c\\udfec\\ud83d\\udc55\\ud83d\\ude9a\\ud83d\\udcb0\", \"\\u26fd\\ud83c\\udfec\\ud83d\\udc8a\", \"\\u26fd\\ud83c\\udfec\\ud83d\\udc8a\\ud83d\\udcb0\", \"\\u26fd\\ud83c\\udfec\\ud83d\\udc8a\\ud83d\\udcb0\\ud83d\\uded2\\ud83c\\udfe0\", \"\\u26fd\\ud83c\\udfec\\ud83d\\udcb0\", \"\\u26fd\\ud83c\\udfec\\ud83d\\udcb0\\ud83c\\udfe0\", \"\\u26fd\\ud83c\\udfec\\ud83d\\udcb0\\ud83c\\udfe0\\ud83d\\ude95\", \"\\u26fd\\ud83c\\udfec\\ud83d\\udcb0\\ud83d\\udc8a\", \"\\u26fd\\ud83c\\udfec\\ud83d\\udcb0\\ud83d\\udc8a\\u2708\", \"\\u26fd\\ud83c\\udfec\\ud83d\\udcb0\\ud83d\\udc8a\\ud83d\\ude95\", \"\\u26fd\\ud83c\\udfec\\ud83d\\udcb0\\ud83d\\udc8a\\ud83d\\ude95\\ud83c\\udfe0\", \"\\u26fd\\ud83c\\udfec\\ud83d\\udcb0\\ud83d\\udcda\\ud83d\\uded2\", \"\\u26fd\\ud83c\\udfec\\ud83d\\udcb0\\ud83d\\udcf1\", \"\\u26fd\\ud83c\\udfec\\ud83d\\udcb0\\ud83d\\ude95\", \"\\u26fd\\ud83c\\udfec\\ud83d\\udcb0\\ud83d\\uded2\", \"\\u26fd\\ud83c\\udfec\\ud83d\\udcb0\\ud83d\\uded2\\ud83d\\udcf1\"], \"Freq\": [90587.0, 167114.0, 249169.0, 58738.0, 478960.0, 57358.0, 68362.0, 77737.0, 130121.0, 36517.0, 87737.0, 21918.0, 19298.0, 37019.0, 19782.0, 32335.0, 140467.0, 17017.0, 15545.0, 28937.0, 56362.0, 14056.0, 62145.0, 91304.0, 11820.0, 11491.0, 19544.0, 44862.0, 49328.0, 21057.0, 21757.095955839664, 23128.409014868605, 16729.12172079454, 16676.304067278248, 7317.954906360156, 6270.417607954759, 6253.392042141083, 6137.017408120827, 5958.700541545079, 3624.5376273749966, 3353.325761374517, 3057.3198165643616, 3024.6943444685658, 3028.364226169637, 3003.6511532853146, 2849.8356700762542, 2800.307259921184, 2714.4559718564888, 2661.8656719870432, 2652.246554011297, 7194.345234830204, 2603.262136686428, 2506.3009530915638, 2402.0825784328317, 16514.968906954382, 3670.7105572796063, 1942.0134533099242, 1918.486155006942, 1885.0262323707016, 1676.9347652157219, 248735.68805357395, 130003.96599472685, 87470.71735006805, 56206.94859380292, 44542.245718624436, 29452.651703621254, 38990.491645712886, 61280.17873587394, 14700.839866036335, 13695.19202951592, 12677.242928552132, 28703.757741838745, 14492.873935688325, 11292.736197261296, 20446.0065506184, 7034.002285205275, 6779.239545063474, 5489.440824267009, 34088.30305351852, 47830.16255187559, 16433.17529967539, 10868.382405607867, 431958.12309305323, 85122.00022212738, 18573.27307930664, 10197.004401189857, 125724.69059116891, 19724.796028165336, 43728.24805546492, 29067.079610617166, 21418.799099890155, 33702.929671182144, 19297.98699614458, 26236.476582160543, 24785.724010699887, 12470.253499811526, 11428.80060828349, 4315.786850493252, 3880.376370926039, 2499.1289066689733, 2477.381411463247, 1975.9047247961694, 2540.4903135039417, 1494.8854993363373, 1480.008086882762, 1441.2175888738213, 1435.9096983421919, 1249.5449271898578, 1175.9431380167882, 1150.7582361545803, 1075.056782532551, 2038.615454526808, 981.7371100426035, 952.2932943462903, 6512.499861665302, 928.0493714847687, 862.9334032067553, 950.5391621370738, 810.5873322154144, 779.0378633814541, 752.6110886558414, 747.269580947377, 698.7819365247941, 664.2697778443573, 641.8596015240175, 67130.41821620791, 31668.04084396658, 5171.011452580895, 2871.0041298210226, 19120.02175561527, 8968.24066846713, 9222.653852349824, 4157.755924300301, 4895.4198498931455, 2794.8507566660937, 35161.36393704985, 6374.920659616483, 3997.781643465648, 4241.349161159663, 2410.47336583929, 1880.9698174144667, 150909.76942895024, 6499.589657957948, 11884.271886501343, 2716.27050516433, 2439.697160132726, 67938.15805276514, 15306.930466074935, 6233.10971929567, 13923.956045170764, 25563.754159306773, 5296.827058343028, 11771.41962776803, 10388.347777441177, 17111.590701177443, 6056.322421433456, 6520.049836721404, 8615.984188155364, 6004.036237328992, 4960.953617276074, 7409.908585568298, 18916.11244156341, 46854.85613070818, 13496.42929682248, 14676.787557830403, 6181.809907445643, 57357.44055191772, 17017.016660511494, 9387.177444210562, 6497.727461460868, 4054.453108571096, 3755.731303694583, 3268.1627878916843, 3040.9211309483876, 2704.0323406894445, 2325.4046988070877, 2279.2151411802374, 2114.7307571291326, 2117.1650740457917, 1935.1990393324884, 1854.1509843170093, 1787.1097901793776, 1764.095264456552, 1631.48109721693, 1605.2099220061673, 1575.8530677833282, 1450.261086218447, 1426.694206726621, 1423.5660265793024, 1405.3905126864445, 1384.1296417598076, 1369.0088969624862, 1261.1275731237508, 1261.0081996700305, 1251.188022591842, 1189.4859530744432, 21905.65951313661, 11473.392676407673, 8530.195500447995, 5058.500249512243, 4313.2373694083835, 5107.8559807254915, 5561.296084928866, 2625.288684347668, 2167.6863666952295, 3045.8602780288124, 2493.927173673652, 5376.413570798712, 2151.3858934166383, 1817.3668957214388, 5446.163729340591, 2601.860094534528, 1945.340711740521, 58737.84076965372, 19297.748639530117, 11819.807200933661, 6410.523621475793, 5913.294646862532, 5799.027061776935, 4550.65499758981, 3809.852121509424, 3791.0634150709216, 3705.002264718051, 3360.535153030039, 3193.6414606247968, 2833.5064066063055, 2680.3965999420975, 2138.185295258386, 2026.204252342799, 1987.2768330865508, 1901.112857950324, 1790.2766827778698, 1744.0041252084366, 1736.9376995378395, 1688.1204521124787, 1653.9771315342707, 1368.871725272658, 1361.6116569044611, 1343.6687960751324, 1302.9753451981605, 1258.1476993670196, 1209.5541118120395, 1202.3821789724336, 8467.861302229092, 6093.721613549249, 1457.2191623302397, 3885.762358156312, 1699.583563333266, 1670.7912189343838, 1894.6336192723834, 1583.3833832511725, 154.6864637289012, 152.237471343836, 130.28137683124422, 101.49707494446803, 70.93418362087453, 66.23322949041541, 63.25976705730433, 60.08800431068112, 58.793971682453346, 53.91870459889605, 52.66007502543628, 52.95444606288154, 53.32898468564452, 52.023752397119196, 51.67791219323035, 51.4809687251959, 50.503986920274826, 45.00225518350499, 44.25006249948001, 44.65870797267199, 43.55674857102948, 43.423209203542505, 44.09959667416261, 42.203928148935255, 41.20647237957176, 41.25976078017535, 41.63063061404898, 40.38048321986025, 39.59822011119879, 39.17192806665473, 41.638491221648685, 60.266554563343654, 378.9012978815301, 150.24557670175767, 160.2471651829535, 147.8312104068713, 423.99902116765276, 65762.19259337113, 10472.582990084176, 677.2335054662243, 122.45184781510628, 5804.6047224973445, 24317.985361979518, 3415.815161948815, 5001.494342543819, 13242.313149366466, 1327.5250019986595, 529.7923995043976, 198.0930875810183, 6401.536201241422, 9870.346624529513, 269.4397977079595, 556.0239974987035, 5870.588588045419, 2548.0006870376424, 1796.9501182183164, 643.5465646019251, 1988.1836469564594, 1670.9345574468841, 2250.5056910133844, 2682.3501594960753, 5544.964593439105, 1270.3007489310273, 1537.3376415193086, 1603.78201587442, 3152.8531113143986, 4377.118624955512, 1063.5867503139825, 2697.607712549237, 1881.2949077319734, 1677.4425644486223, 1391.1398608235704, 2136.8244165645347, 1353.346605254438, 2758.732039809096, 1961.8817658824387, 1995.3242623167714, 1442.9353978754589, 1411.6294100386406, 7.79467773822268e-06, 7.79467773822268e-06, 7.79467773822268e-06, 7.79467773822268e-06, 7.79467773822268e-06, 7.79467773822268e-06, 7.79467773822268e-06, 7.79467773822268e-06, 7.79467773822268e-06, 7.79467773822268e-06, 7.79467773822268e-06, 7.79467773822268e-06, 7.79467773822268e-06, 7.79467773822268e-06, 7.79467773822268e-06, 7.79467773822268e-06, 7.79467773822268e-06, 7.79467773822268e-06, 7.79467773822268e-06, 7.79467773822268e-06, 7.79467773822268e-06, 7.79467773822268e-06, 7.79467773822268e-06, 7.79467773822268e-06, 7.79467773822268e-06, 7.79467773822268e-06, 7.79467773822268e-06, 7.79467773822268e-06, 7.79467773822268e-06, 7.79467773822268e-06, 7.79467773822268e-06, 7.79467773822268e-06, 7.79467773822268e-06, 7.79467773822268e-06, 7.79467773822268e-06, 7.79467773822268e-06, 7.79467773822268e-06, 7.79467773822268e-06, 7.79467773822268e-06, 7.79467773822268e-06, 7.79467773822268e-06, 7.79467773822268e-06, 7.79467773822268e-06, 7.79467773822268e-06, 7.79467773822268e-06, 7.79467773822268e-06, 7.79467773822268e-06, 7.79467773822268e-06, 7.79467773822268e-06, 7.79467773822268e-06, 7.79467773822268e-06, 7.79467773822268e-06, 7.79467773822268e-06, 7.79467773822268e-06, 7.79467773822268e-06, 7.79467773822268e-06, 7.79467773822268e-06, 7.79467773822268e-06, 7.79467773822268e-06, 7.79467773822268e-06], \"Total\": [90587.0, 167114.0, 249169.0, 58738.0, 478960.0, 57358.0, 68362.0, 77737.0, 130121.0, 36517.0, 87737.0, 21918.0, 19298.0, 37019.0, 19782.0, 32335.0, 140467.0, 17017.0, 15545.0, 28937.0, 56362.0, 14056.0, 62145.0, 91304.0, 11820.0, 11491.0, 19544.0, 44862.0, 49328.0, 21057.0, 21757.77588713755, 23129.199759789037, 16729.8005140445, 16676.982469416464, 7318.636281624188, 6271.098093350216, 6254.071260630034, 6137.697290005932, 5959.379865476352, 3625.2237792948786, 3354.005707456924, 3058.0015625865904, 3025.3728908441144, 3029.04407704381, 3004.329463468839, 2850.514829826444, 2800.9860432271357, 2715.136641802475, 2662.54372849168, 2652.9257697822463, 7196.205897148914, 2603.940503621253, 2506.9796151775927, 2402.7622988260773, 16519.648717951593, 3671.8885197379936, 1942.6928736753216, 1919.1708676779276, 1885.7052001576726, 1677.6158369948328, 249169.60466155587, 130121.29895347748, 87737.10902422956, 56362.949349459355, 44862.57946807262, 29549.633269951275, 39346.10223475552, 62145.56716183157, 14717.87902932908, 13706.705708701738, 12684.779058077338, 28968.227054665655, 14533.529512335714, 11310.645310056201, 20658.494766402517, 7053.558534720664, 6804.494191586232, 5503.143892160744, 34823.54743823109, 49328.398558064786, 16708.46436330844, 10990.513560572499, 478960.3874783899, 91304.31428945194, 19111.46624694323, 10340.44332157729, 140467.54998753447, 20443.86855233975, 46967.498059887344, 31833.969287688422, 23326.502280434594, 52622.49101643514, 23934.548377606483, 39737.94046842625, 90587.16148210163, 12470.932631699243, 11429.480647173652, 4316.465431278148, 3881.054871367967, 2499.8075223983387, 2478.0595470663975, 1976.5899734433794, 2541.5824441349646, 1495.5699260080703, 1480.6865213335905, 1441.8973557804916, 1436.5886380152103, 1250.2298338518794, 1176.621004108617, 1151.4363486567938, 1075.7347271252345, 2039.947417046643, 982.4152423306714, 952.9735099541007, 6517.219009243101, 928.728073363593, 863.6118753603083, 951.2895058527465, 811.2659311357143, 779.7157359498543, 753.289157583022, 747.9482772997412, 699.4641159174734, 664.9484219255123, 642.5394811900338, 68362.28604071095, 32335.339114077466, 5190.830183712838, 2876.451831553714, 19544.90403135949, 9101.52727680408, 9375.522918952018, 4197.622644652311, 4959.694487319034, 2816.4425601259977, 37019.5854350615, 6556.619735069698, 4083.828682820389, 4338.300125619803, 2440.1612903091445, 1896.7075836882605, 167114.9731569187, 6745.318445288977, 12568.21189078662, 2760.3800149188105, 2474.243712328575, 77737.08483384074, 16518.158573452205, 6547.879016148274, 15181.11644129199, 28937.824294318627, 5618.417751425584, 13450.4123130718, 11809.155390299513, 21057.62931614343, 6763.413359693445, 7409.191719140807, 10632.720775301881, 7022.142258035807, 5397.127946132725, 9684.954474150389, 52622.49101643514, 478960.3874783899, 39737.94046842625, 140467.54998753447, 91304.31428945194, 57358.1220644815, 17017.697038391856, 9387.862421053142, 6498.408093643665, 4055.1340305494195, 3756.4119184289234, 3268.8451038970416, 3041.6055971729843, 2704.7146308729025, 2326.0874638627215, 2279.8945277470275, 2115.412431191389, 2117.850330663988, 1935.8782671723595, 1854.8306687084503, 1787.7906579818869, 1764.775460047014, 1632.1627488646532, 1605.8923686809017, 1576.5318120759543, 1450.947584397495, 1427.3742764976957, 1424.2458227384732, 1406.0719507114502, 1384.8105526966267, 1369.688714146256, 1261.8067525506726, 1261.6876023485481, 1251.8702666080842, 1190.1649995534024, 21918.827232803495, 11491.070612155974, 8566.915128226425, 5066.596913627811, 4321.628507383307, 5127.136299309082, 5587.716282853263, 2632.634174921444, 2169.982636934225, 3061.239488425691, 2501.6559171703234, 5498.72934897411, 2167.9808573886835, 1838.013550496871, 9247.600416015077, 3669.430053306445, 2731.040650257213, 58738.53551225771, 19298.443993607394, 11820.501028593766, 6411.225174531287, 5913.992356740091, 5799.724242234552, 4551.34893130567, 3810.546272195102, 3791.7595610993803, 3705.696073938794, 3361.2291036558495, 3194.339676104503, 2834.201507503692, 2681.0927453618165, 2138.882226843411, 2026.8997528001862, 1987.970218595443, 1901.8090026976122, 1790.9704408699274, 1744.6985603834503, 1737.6380791364452, 1688.8208060422844, 1654.670714867913, 1369.56651322374, 1362.306178403176, 1344.3625601148617, 1303.6715228680148, 1258.8416233428609, 1210.247748076731, 1203.0776051619, 8476.208790588133, 6097.252305653159, 1461.3532082440113, 4038.231088081587, 1717.1500489728212, 1713.6670764579626, 2025.0295942082405, 2638.825344654758, 155.38409576144014, 152.9472168489757, 130.96657661353126, 102.1844680806847, 71.62631165566506, 66.91483193072206, 63.94350026719562, 60.772715250330805, 59.477166660661744, 54.613936904957626, 53.34588411019181, 53.64429710031931, 54.02402943977373, 52.70723104363027, 52.36112972492095, 52.166991468489336, 51.18967174030533, 45.68538349803193, 44.93482548692137, 45.35511710996338, 44.24023281220952, 44.110986039645795, 44.80020320457096, 42.89264355022783, 41.88970689750324, 41.94884406283915, 42.33094304118377, 41.06432740253621, 40.28175561101445, 39.855715335138036, 42.38130137953625, 61.57235494156366, 405.0831550076892, 157.78491584879148, 168.8645997897856, 156.41490504273963, 472.9670202424226, 90587.16148210163, 14056.464456516465, 787.4462740754966, 130.96807110182536, 7916.227767906547, 36517.874647423305, 4547.995372634471, 6831.314096212344, 19782.23622732514, 1687.2117445214853, 632.4022080613449, 221.5571816841423, 9644.825600458638, 15545.76019301199, 311.6983251771128, 687.9749025701806, 9098.162553152417, 3660.3641387157677, 2498.6409418274307, 813.6958436377159, 2825.1828558703537, 2335.056068288548, 3253.249222758815, 4063.796465058592, 9316.800033142626, 1756.9416106153312, 2185.2209170460765, 2336.92111960597, 5161.969063541409, 7637.892939313707, 1474.268449651773, 4516.5622571783615, 2975.5265653917586, 2594.851381411499, 2070.606804913009, 3544.3989702341128, 2006.2451312399573, 5111.476740740239, 3292.0190495642, 3372.9667352332244, 2914.815983428014, 3074.3246740503027, 0.8502297848072665, 0.8502297848072665, 0.8502297848072665, 0.8502297848072665, 0.8502334190136046, 0.8502334190136046, 0.8502334190136046, 0.8502334190136046, 0.8502334190136046, 0.8502334190136046, 0.8502334190136046, 0.8502334190136046, 0.8502334190136046, 0.8502334190136046, 0.8502334190136046, 0.8502334190136046, 0.8502334190136046, 0.8502334190136046, 0.8502334190136046, 0.8502334190136046, 0.8502334190136046, 0.8502334190136046, 0.8502334190136046, 0.8502334190136046, 0.8502334190136046, 0.8502334190136046, 0.8502334190136046, 0.8502334190136046, 0.8502334190136046, 0.8502334190136046, 140467.54998753447, 3784.9567713965853, 0.8518385081275823, 0.8518385081275823, 183.2774587973802, 0.8518385081275823, 0.8518385081275823, 0.8518385081275823, 23326.502280434594, 496.165655107529, 9.692850407563503, 12.205569779903822, 0.8518385081275823, 0.8518385081275823, 0.8518385081275823, 1425.3523539898579, 67.90659339721608, 0.8518385081275823, 1115.2064945152808, 19.96858923299171, 0.8582162417241072, 48.219394668720135, 0.8518385081275823, 0.8759318447310683, 0.8518385081275823, 0.8605281045282156, 14.04577492635837, 63.18701362685987, 103.87072406131549, 0.947473728840465], \"Category\": [\"Default\", \"Default\", \"Default\", \"Default\", \"Default\", \"Default\", \"Default\", \"Default\", \"Default\", \"Default\", \"Default\", \"Default\", \"Default\", \"Default\", \"Default\", \"Default\", \"Default\", \"Default\", \"Default\", \"Default\", \"Default\", \"Default\", \"Default\", \"Default\", \"Default\", \"Default\", \"Default\", \"Default\", \"Default\", \"Default\", \"Topic1\", \"Topic1\", \"Topic1\", \"Topic1\", \"Topic1\", \"Topic1\", \"Topic1\", \"Topic1\", \"Topic1\", \"Topic1\", \"Topic1\", \"Topic1\", \"Topic1\", \"Topic1\", \"Topic1\", \"Topic1\", \"Topic1\", \"Topic1\", \"Topic1\", \"Topic1\", \"Topic1\", \"Topic1\", \"Topic1\", \"Topic1\", \"Topic1\", \"Topic1\", \"Topic1\", \"Topic1\", \"Topic1\", \"Topic1\", \"Topic1\", \"Topic1\", \"Topic1\", \"Topic1\", \"Topic1\", \"Topic1\", \"Topic1\", \"Topic1\", \"Topic1\", \"Topic1\", \"Topic1\", \"Topic1\", \"Topic1\", \"Topic1\", \"Topic1\", \"Topic1\", \"Topic1\", \"Topic1\", \"Topic1\", \"Topic1\", \"Topic1\", \"Topic1\", \"Topic1\", \"Topic1\", \"Topic1\", \"Topic1\", \"Topic1\", \"Topic1\", \"Topic1\", \"Topic1\", \"Topic1\", \"Topic1\", \"Topic1\", \"Topic1\", \"Topic1\", \"Topic2\", \"Topic2\", \"Topic2\", \"Topic2\", \"Topic2\", \"Topic2\", \"Topic2\", \"Topic2\", \"Topic2\", \"Topic2\", \"Topic2\", \"Topic2\", \"Topic2\", \"Topic2\", \"Topic2\", \"Topic2\", \"Topic2\", \"Topic2\", \"Topic2\", \"Topic2\", \"Topic2\", \"Topic2\", \"Topic2\", \"Topic2\", \"Topic2\", \"Topic2\", \"Topic2\", \"Topic2\", \"Topic2\", \"Topic2\", \"Topic2\", \"Topic2\", \"Topic2\", \"Topic2\", \"Topic2\", \"Topic2\", \"Topic2\", \"Topic2\", \"Topic2\", \"Topic2\", \"Topic2\", \"Topic2\", \"Topic2\", \"Topic2\", \"Topic2\", \"Topic2\", \"Topic2\", \"Topic2\", \"Topic2\", \"Topic2\", \"Topic2\", \"Topic2\", \"Topic2\", \"Topic2\", \"Topic2\", \"Topic2\", \"Topic2\", \"Topic2\", \"Topic2\", \"Topic2\", \"Topic2\", \"Topic2\", \"Topic2\", \"Topic2\", \"Topic2\", \"Topic2\", \"Topic2\", \"Topic2\", \"Topic2\", \"Topic2\", \"Topic2\", \"Topic3\", \"Topic3\", \"Topic3\", \"Topic3\", \"Topic3\", \"Topic3\", \"Topic3\", \"Topic3\", \"Topic3\", \"Topic3\", \"Topic3\", \"Topic3\", \"Topic3\", \"Topic3\", \"Topic3\", \"Topic3\", \"Topic3\", \"Topic3\", \"Topic3\", \"Topic3\", \"Topic3\", \"Topic3\", \"Topic3\", \"Topic3\", \"Topic3\", \"Topic3\", \"Topic3\", \"Topic3\", \"Topic3\", \"Topic3\", \"Topic3\", \"Topic3\", \"Topic3\", \"Topic3\", \"Topic3\", \"Topic3\", \"Topic3\", \"Topic3\", \"Topic3\", \"Topic3\", \"Topic3\", \"Topic3\", \"Topic3\", \"Topic3\", \"Topic3\", \"Topic3\", \"Topic3\", \"Topic4\", \"Topic4\", \"Topic4\", \"Topic4\", \"Topic4\", \"Topic4\", \"Topic4\", \"Topic4\", \"Topic4\", \"Topic4\", \"Topic4\", \"Topic4\", \"Topic4\", \"Topic4\", \"Topic4\", \"Topic4\", \"Topic4\", \"Topic4\", \"Topic4\", \"Topic4\", \"Topic4\", \"Topic4\", \"Topic4\", \"Topic4\", \"Topic4\", \"Topic4\", \"Topic4\", \"Topic4\", \"Topic4\", \"Topic4\", \"Topic4\", \"Topic4\", \"Topic4\", \"Topic4\", \"Topic4\", \"Topic4\", \"Topic4\", \"Topic4\", \"Topic5\", \"Topic5\", \"Topic5\", \"Topic5\", \"Topic5\", \"Topic5\", \"Topic5\", \"Topic5\", \"Topic5\", \"Topic5\", \"Topic5\", \"Topic5\", \"Topic5\", \"Topic5\", \"Topic5\", \"Topic5\", \"Topic5\", \"Topic5\", \"Topic5\", \"Topic5\", \"Topic5\", \"Topic5\", \"Topic5\", \"Topic5\", \"Topic5\", \"Topic5\", \"Topic5\", \"Topic5\", \"Topic5\", \"Topic5\", \"Topic5\", \"Topic5\", \"Topic5\", \"Topic5\", \"Topic5\", \"Topic5\", \"Topic5\", \"Topic5\", \"Topic5\", \"Topic5\", \"Topic5\", \"Topic5\", \"Topic5\", \"Topic5\", \"Topic5\", \"Topic5\", \"Topic5\", \"Topic5\", \"Topic5\", \"Topic5\", \"Topic5\", \"Topic5\", \"Topic5\", \"Topic5\", \"Topic5\", \"Topic5\", \"Topic5\", \"Topic5\", \"Topic5\", \"Topic5\", \"Topic5\", \"Topic5\", \"Topic5\", \"Topic5\", \"Topic5\", \"Topic5\", \"Topic5\", \"Topic5\", \"Topic5\", \"Topic5\", \"Topic5\", \"Topic5\", \"Topic5\", \"Topic5\", \"Topic5\", \"Topic5\", \"Topic5\", \"Topic5\", \"Topic5\", \"Topic6\", \"Topic6\", \"Topic6\", \"Topic6\", \"Topic6\", \"Topic6\", \"Topic6\", \"Topic6\", \"Topic6\", \"Topic6\", \"Topic6\", \"Topic6\", \"Topic6\", \"Topic6\", \"Topic6\", \"Topic6\", \"Topic6\", \"Topic6\", \"Topic6\", \"Topic6\", \"Topic6\", \"Topic6\", \"Topic6\", \"Topic6\", \"Topic6\", \"Topic6\", \"Topic6\", \"Topic6\", \"Topic6\", \"Topic6\", \"Topic6\", \"Topic6\", \"Topic6\", \"Topic6\", \"Topic6\", \"Topic6\", \"Topic6\", \"Topic6\", \"Topic6\", \"Topic6\", \"Topic6\", \"Topic6\", \"Topic6\", \"Topic6\", \"Topic6\", \"Topic6\", \"Topic6\", \"Topic6\", \"Topic6\", \"Topic6\", \"Topic6\", \"Topic6\", \"Topic6\", \"Topic6\", \"Topic6\", \"Topic6\", \"Topic6\", \"Topic6\", \"Topic6\", \"Topic6\"], \"logprob\": [30.0, 29.0, 28.0, 27.0, 26.0, 25.0, 24.0, 23.0, 22.0, 21.0, 20.0, 19.0, 18.0, 17.0, 16.0, 15.0, 14.0, 13.0, 12.0, 11.0, 10.0, 9.0, 8.0, 7.0, 6.0, 5.0, 4.0, 3.0, 2.0, 1.0, -5.1744, -5.1133, -5.4372, -5.4404, -6.264, -6.4185, -6.4212, -6.44, -6.4695, -6.9666, -7.0444, -7.1368, -7.1476, -7.1463, -7.1545, -7.2071, -7.2246, -7.2558, -7.2753, -7.279, -6.2811, -7.2976, -7.3356, -7.378, -5.4501, -6.954, -7.5906, -7.6028, -7.6204, -7.7374, -2.738, -3.3868, -3.7831, -4.2253, -4.4579, -4.8716, -4.5911, -4.1389, -5.5665, -5.6373, -5.7146, -4.8973, -5.5807, -5.8302, -5.2366, -6.3036, -6.3405, -6.5515, -4.7254, -4.3867, -5.4551, -5.8685, -2.186, -3.8103, -5.3326, -5.9323, -3.4203, -5.2725, -4.4764, -4.8848, -5.1901, -4.7368, -5.2944, -4.9872, -5.0441, -4.932, -5.0193, -5.9931, -6.0995, -6.5394, -6.5482, -6.7744, -6.523, -7.0533, -7.0633, -7.0899, -7.0936, -7.2326, -7.2933, -7.315, -7.383, -6.7431, -7.4738, -7.5043, -5.5817, -7.5301, -7.6028, -7.5061, -7.6654, -7.7051, -7.7396, -7.7467, -7.8138, -7.8645, -7.8988, -3.2488, -4.0001, -5.8123, -6.4007, -4.5047, -5.2617, -5.2337, -6.0304, -5.8671, -6.4276, -3.8954, -5.603, -6.0697, -6.0105, -6.5756, -6.8236, -2.4387, -5.5837, -4.9802, -6.4561, -6.5635, -3.2368, -4.7271, -5.6255, -4.8218, -4.2142, -5.7883, -4.9897, -5.1147, -4.6156, -5.6543, -5.5805, -5.3018, -5.663, -5.8538, -5.4526, -4.5154, -3.6083, -4.853, -4.7691, -5.6338, -2.4895, -3.7046, -4.2994, -4.6673, -5.139, -5.2155, -5.3546, -5.4266, -5.544, -5.6949, -5.7149, -5.7899, -5.7887, -5.8786, -5.9214, -5.9582, -5.9711, -6.0493, -6.0655, -6.084, -6.167, -6.1834, -6.1856, -6.1985, -6.2137, -6.2247, -6.3068, -6.3069, -6.3147, -6.3653, -3.452, -4.0988, -4.3952, -4.9177, -5.0771, -4.908, -4.8229, -5.5736, -5.7651, -5.425, -5.6249, -4.8568, -5.7727, -5.9414, -4.8439, -5.5826, -5.8733, -2.2343, -3.3474, -3.8376, -4.4494, -4.5302, -4.5497, -4.7921, -4.9698, -4.9747, -4.9977, -5.0953, -5.1462, -5.2659, -5.3214, -5.5474, -5.6012, -5.6206, -5.6649, -5.725, -5.7512, -5.7553, -5.7838, -5.8042, -5.9934, -5.9987, -6.012, -6.0427, -6.0777, -6.1171, -6.1231, -4.1711, -4.5001, -5.9309, -4.9501, -5.777, -5.7941, -5.6684, -5.8478, -8.1219, -8.1379, -8.2936, -8.5433, -8.9016, -8.9701, -9.0161, -9.0675, -9.0893, -9.1758, -9.1995, -9.1939, -9.1868, -9.2116, -9.2183, -9.2221, -9.2413, -9.3566, -9.3735, -9.3643, -9.3893, -9.3923, -9.3769, -9.4208, -9.4447, -9.4434, -9.4345, -9.465, -9.4845, -9.4954, -9.4343, -9.0645, -7.226, -8.151, -8.0866, -8.1672, -7.1136, -2.0695, -3.9068, -6.6453, -8.3556, -4.4969, -3.0643, -5.0271, -4.6458, -3.6721, -5.9722, -6.8908, -7.8746, -4.399, -3.966, -7.567, -6.8425, -4.4856, -5.3203, -5.6695, -6.6963, -5.5683, -5.7422, -5.4444, -5.2689, -4.5427, -6.0163, -5.8255, -5.7832, -5.1073, -4.7792, -6.1939, -5.2632, -5.6236, -5.7383, -5.9254, -5.4962, -5.953, -5.2408, -5.5817, -5.5648, -5.8889, -5.9108, -13.5102, -13.5102, -13.5102, -13.5102, -13.5102, -13.5102, -13.5102, -13.5102, -13.5102, -13.5102, -13.5102, -13.5102, -13.5102, -13.5102, -13.5102, -13.5102, -13.5102, -13.5102, -13.5102, -13.5102, -13.5102, -13.5102, -13.5102, -13.5102, -13.5102, -13.5102, -13.5102, -13.5102, -13.5102, -13.5102, -13.5102, -13.5102, -13.5102, -13.5102, -13.5102, -13.5102, -13.5102, -13.5102, -13.5102, -13.5102, -13.5102, -13.5102, -13.5102, -13.5102, -13.5102, -13.5102, -13.5102, -13.5102, -13.5102, -13.5102, -13.5102, -13.5102, -13.5102, -13.5102, -13.5102, -13.5102, -13.5102, -13.5102, -13.5102, -13.5102], \"loglift\": [30.0, 29.0, 28.0, 27.0, 26.0, 25.0, 24.0, 23.0, 22.0, 21.0, 20.0, 19.0, 18.0, 17.0, 16.0, 15.0, 14.0, 13.0, 12.0, 11.0, 10.0, 9.0, 8.0, 7.0, 6.0, 5.0, 4.0, 3.0, 2.0, 1.0, 0.6459, 0.6459, 0.6459, 0.6459, 0.6459, 0.6459, 0.6459, 0.6459, 0.6459, 0.6458, 0.6458, 0.6458, 0.6458, 0.6458, 0.6457, 0.6457, 0.6457, 0.6457, 0.6457, 0.6457, 0.6457, 0.6457, 0.6457, 0.6457, 0.6457, 0.6457, 0.6456, 0.6456, 0.6456, 0.6456, 0.6442, 0.6451, 0.6429, 0.6432, 0.6388, 0.6427, 0.6369, 0.632, 0.6448, 0.6451, 0.6454, 0.6368, 0.6432, 0.6444, 0.6356, 0.6432, 0.6423, 0.6435, 0.6246, 0.6151, 0.6294, 0.6348, 0.5427, 0.5759, 0.6174, 0.632, 0.5351, 0.6102, 0.5745, 0.555, 0.5607, 0.2004, 0.4307, 0.2308, -0.6501, 1.4449, 1.4449, 1.4448, 1.4448, 1.4447, 1.4447, 1.4446, 1.4445, 1.4445, 1.4445, 1.4445, 1.4445, 1.4444, 1.4444, 1.4444, 1.4443, 1.4443, 1.4443, 1.4442, 1.4442, 1.4442, 1.4442, 1.4442, 1.4441, 1.4441, 1.4441, 1.444, 1.444, 1.4439, 1.4439, 1.4268, 1.4241, 1.4411, 1.4431, 1.423, 1.4302, 1.4285, 1.4354, 1.4319, 1.4373, 1.3935, 1.4169, 1.4237, 1.4224, 1.4327, 1.4366, 1.343, 1.4078, 1.389, 1.4288, 1.4309, 1.3102, 1.3688, 1.3957, 1.3585, 1.321, 1.386, 1.3116, 1.3168, 1.2374, 1.3345, 1.3171, 1.2346, 1.2883, 1.3607, 1.1772, 0.4218, -0.8796, 0.3651, -0.8138, -1.2476, 2.3616, 2.3615, 2.3615, 2.3615, 2.3614, 2.3614, 2.3614, 2.3613, 2.3613, 2.3613, 2.3613, 2.3612, 2.3612, 2.3612, 2.3612, 2.3612, 2.3612, 2.3611, 2.3611, 2.3611, 2.3611, 2.3611, 2.3611, 2.3611, 2.3611, 2.3611, 2.361, 2.361, 2.361, 2.361, 2.361, 2.36, 2.3573, 2.36, 2.3596, 2.3578, 2.3568, 2.3588, 2.3605, 2.3565, 2.3585, 2.3391, 2.3539, 2.3503, 1.8321, 2.0178, 2.0223, 2.593, 2.5929, 2.5929, 2.5929, 2.5928, 2.5928, 2.5928, 2.5928, 2.5928, 2.5928, 2.5928, 2.5927, 2.5927, 2.5927, 2.5926, 2.5926, 2.5926, 2.5926, 2.5926, 2.5926, 2.5926, 2.5925, 2.5925, 2.5925, 2.5925, 2.5924, 2.5924, 2.5924, 2.5924, 2.5924, 2.592, 2.5924, 2.5901, 2.5545, 2.5827, 2.5676, 2.5264, 2.0822, 2.6403, 2.6401, 2.6395, 2.638, 2.6351, 2.6345, 2.634, 2.6335, 2.6332, 2.632, 2.6318, 2.6318, 2.6318, 2.6317, 2.6316, 2.6315, 2.6313, 2.6297, 2.6294, 2.6293, 2.6292, 2.6291, 2.629, 2.6286, 2.6283, 2.6282, 2.6281, 2.628, 2.6277, 2.6275, 2.6271, 2.6233, 2.578, 2.5958, 2.5924, 2.5883, 2.5355, 2.3245, 2.3505, 2.494, 2.5775, 2.3345, 2.2382, 2.3585, 2.333, 2.2434, 2.405, 2.4677, 2.5328, 2.2349, 2.1905, 2.4991, 2.4318, 2.2067, 2.2825, 2.3151, 2.4102, 2.2934, 2.3101, 2.2763, 2.2294, 2.1259, 2.3205, 2.2931, 2.2683, 2.1518, 2.0881, 2.3183, 2.1294, 2.1863, 2.2085, 2.2471, 2.1387, 2.2511, 2.0281, 2.1272, 2.1198, 1.9417, 1.8664, 2.4601, 2.4601, 2.4601, 2.4601, 2.4601, 2.4601, 2.4601, 2.4601, 2.4601, 2.4601, 2.4601, 2.4601, 2.4601, 2.4601, 2.4601, 2.4601, 2.4601, 2.4601, 2.4601, 2.4601, 2.4601, 2.4601, 2.4601, 2.4601, 2.4601, 2.4601, 2.4601, 2.4601, 2.4601, 2.4601, -9.5548, -5.9409, 2.4582, 2.4582, -2.9131, 2.4582, 2.4582, 2.4582, -7.7595, -3.909, 0.0265, -0.204, 2.4582, 2.4582, 2.4582, -4.9643, -1.9202, 2.4582, -4.7189, -0.6963, 2.4508, -1.5779, 2.4582, 2.4304, 2.4582, 2.4481, -0.3444, -1.8482, -2.3453, 2.3518]}, \"token.table\": {\"Topic\": [1, 2, 3, 4, 5, 1, 2, 3, 2, 5, 1, 2, 3, 2, 1, 2, 1, 2, 1, 1, 2, 4, 1, 2, 1, 2, 1, 1, 5, 1, 2, 1, 5, 1, 2, 5, 1, 5, 1, 2, 5, 5, 4, 1, 5, 1, 2, 5, 5, 4, 1, 2, 3, 1, 2, 1, 2, 4, 1, 3, 1, 2, 3, 5, 1, 2, 2, 2, 2, 2, 1, 2, 2, 1, 2, 5, 4, 1, 2, 5, 2, 3, 1, 2, 3, 4, 1, 2, 1, 1, 5, 4, 3, 1, 2, 3, 5, 1, 2, 3, 2, 1, 2, 2, 2, 2, 1, 2, 3, 1, 2, 2, 1, 2, 1, 2, 5, 4, 4, 5, 1, 2, 2, 4, 3, 2, 3, 1, 5, 1, 3, 1, 5, 5, 1, 2, 1, 1, 1, 1, 2, 3, 1, 1, 2, 3, 1, 2, 5, 1, 2, 1, 3, 5, 4, 3, 1, 2, 3, 4, 5, 1, 2, 3, 5, 1, 2, 1, 2, 2, 1, 2, 1, 2, 2, 1, 1, 1, 2, 1, 1, 1, 5, 1, 1, 1, 2, 1, 4, 1, 2, 1, 1, 2, 1, 2, 1, 5, 4, 1, 3, 1, 3, 3, 1, 1, 2, 3, 1, 2, 3, 1, 1, 2, 5, 1, 2, 2, 1, 2, 2, 1, 1, 2, 1, 1, 1, 4, 5, 1, 4, 1, 1, 2, 1, 2, 4, 3, 1, 3, 1, 2, 3, 5, 1, 2, 3, 5, 2, 5, 1, 4, 5, 2, 5, 5, 1, 2, 5, 1, 5, 5, 5, 1, 5, 1, 5, 5, 1, 5, 5, 1, 5, 5, 1, 5, 5, 5, 5, 1, 5, 1, 5, 1, 5, 5, 1, 5, 1, 5, 5, 4, 5, 1, 5, 5, 1, 5, 1, 5, 5, 5, 1, 5, 5, 1, 5, 5, 5, 1, 2, 5, 1, 5, 5, 5, 1, 5, 1, 5, 5, 1, 2, 4, 1, 2, 1, 2, 1, 2, 5, 4, 2, 1, 2, 1, 3, 1, 1, 1, 2, 3, 1, 2, 1, 5, 3, 1, 2, 1, 1, 3, 5, 1, 2, 3, 5, 4, 4, 4, 4, 2, 4, 4, 4, 1, 4, 4, 4, 4, 4, 4, 4, 3, 4, 1, 2, 3, 1, 2, 2, 1, 2, 5, 1, 4, 5, 1, 5, 1, 5, 4, 1, 2, 3, 4, 5, 3, 1, 1, 1, 2, 3, 4, 5, 1, 2, 3, 4, 1, 2, 1, 2, 1, 2, 5, 4, 3, 1, 2, 3, 1, 2, 2, 1, 2, 3, 2, 2, 5, 1, 2, 1, 2, 2, 1, 2, 1, 2, 2, 4, 2, 1, 2, 1, 2, 1, 2, 1, 2, 5, 4, 1, 3, 2, 5, 5, 2, 1, 2, 1, 2, 1, 2, 5, 1, 2, 3, 5, 2, 5, 1, 2, 5, 5, 1, 5, 4, 5, 1, 2, 4, 5, 1, 2, 3, 4, 2, 4, 4, 1, 2, 2, 3, 4, 3, 3, 2, 3, 3, 3, 3, 5, 3, 3, 3, 2, 3, 3, 2, 3, 3, 3, 3, 3, 3, 3, 3, 3, 5, 3, 3, 3, 4, 3, 3, 3, 2, 3, 3, 1, 2, 1], \"Freq\": [0.8950465784528685, 0.10448676581390139, 0.0004556212449471751, 1.4238163904599221e-05, 7.119081952299611e-06, 0.016105768318774326, 0.9837317960533484, 0.00021332143468575266, 0.9996210397063608, 0.9910030752448683, 0.021386648884503378, 0.9782601116547956, 0.00035814962246775994, 0.9994722139869605, 0.01593983428448135, 0.9839224981057125, 0.8858753752061479, 0.11413604595557884, 0.9984861269945534, 0.9182259621480184, 0.0817525052437682, 4.2869693363276454e-05, 0.011884460308083152, 0.9876396324993241, 0.8888160545985927, 0.11085007483655918, 0.9285194366537567, 0.8192980893415366, 0.08192980893415365, 0.8945156588341189, 0.10523713633342575, 0.3976049842769303, 0.603770531679783, 0.3640581381087329, 0.018830593350451702, 0.6169261059576557, 0.35055055308738275, 0.6009438052926561, 0.3525552346062088, 0.16590834569703944, 0.47698649387898834, 0.925545231086121, 0.981214278714459, 0.6546599209211174, 0.3369573122388104, 0.2776618376461523, 0.05847695161778563, 0.6637756103848645, 0.9872851616527599, 0.9998322018899872, 0.6602254593653588, 0.339625049534795, 0.00012582433666819614, 0.00039345566078630715, 0.9993773783972201, 0.00366030082425272, 0.9961797664321481, 0.9997752499342438, 0.001578969106163174, 0.9985005885099371, 0.1247152503946166, 0.8739458155038126, 0.001299251190289456, 3.85916195135482e-05, 0.05713352303120418, 0.9427921230413973, 0.9987321619308159, 0.9999579467179227, 0.9992160532404752, 0.9996189238643013, 0.23490043304509947, 0.7651042676326097, 0.9995773250324513, 0.007053382028927944, 0.3901930938402938, 0.6029230958327606, 0.9995924253781572, 0.07313163841043903, 0.9266771433349257, 0.00018161830731069296, 0.9995724287305154, 0.9996076451186049, 0.9972331229777838, 0.002501643395660105, 0.00024839012439178347, 1.7742151742270246e-05, 0.10453301645192437, 0.895405866524546, 0.9997001473626929, 0.5046630759414211, 0.4950569806821691, 0.9991042928924315, 0.9994971746944084, 0.09594592092561502, 0.9030309920721319, 0.0010112798201589708, 1.196780852259137e-05, 0.053468226493907464, 0.9455601244845183, 0.0009547897588197762, 0.9996722022637609, 0.013741572760430183, 0.9861599275132249, 0.9999252155611144, 0.9992914926510789, 0.9995363493057449, 0.14482759856312985, 0.8550097362566683, 0.00014240668491949837, 0.18739051489404243, 0.812627088410252, 0.9993169997149781, 0.1896033990361947, 0.8103288125475464, 0.005106120275561796, 0.42184409045795146, 0.5730638063111277, 0.9998751247120893, 0.9993314303187514, 0.9748138470845501, 0.050162636295792304, 0.9497945367777885, 0.9996769661699537, 0.9995746141192597, 0.9998274014678165, 0.0037057723631338585, 0.9962676437309341, 0.06108359031859102, 0.9315247523585131, 0.99971859462444, 0.00024213589939435425, 0.21277708691022476, 0.7870974134172102, 0.9938069036593781, 0.9967297979955122, 0.0032487712833181395, 0.9998287098778714, 0.9996510381885573, 0.9996329094055669, 0.9908787288166778, 0.007007677743512597, 0.002140275961072813, 0.9993899096231362, 0.9928541900204209, 0.006263572075697953, 0.0008693213912890398, 0.08078370651049932, 0.9191925871527227, 0.9912558438206901, 0.9972271393759067, 0.0026936758100856166, 0.295556090560645, 0.00035395938989298806, 0.7036712671072602, 0.9994581480253487, 0.9993048268408498, 0.9972113097302817, 0.0005504512852992654, 0.0017201602665602046, 0.0003440320533120409, 0.00013761282132481635, 0.9982598011416969, 0.0017177054985552805, 1.605332241640449e-05, 8.026661208202246e-06, 0.97182496413485, 0.02815063967611852, 0.12475453993103496, 0.8751404585984579, 0.9993776562687392, 0.9888527901906236, 0.01110048218653442, 0.11659480566624418, 0.8834112661683066, 0.9995902529091253, 0.9996433436881812, 0.9999362575494553, 0.9962533303918819, 0.0036740423749516225, 0.9999382715913548, 0.999964339777118, 0.36505130206183045, 0.6348997975947607, 0.9998863922456608, 0.9996388152417672, 0.9974298523829457, 0.0023622860413514838, 0.999682740641282, 0.9999648780809974, 0.9991459867198939, 0.0008025268969637701, 0.9997957860801076, 0.9860719404237221, 0.013918933232155999, 0.027605688192023223, 0.9722997912936355, 0.4082459472891265, 0.5914674399722639, 0.9994848987216216, 0.010881312596739775, 0.9885672494138086, 0.004202212752334449, 0.995690966039246, 0.9992376274123754, 0.9998767454930125, 0.9835134841048973, 0.015201875796424506, 0.0012568479989169868, 0.9897139279117226, 0.009003560138490678, 0.0012585621698965464, 0.9996724780657917, 0.9990985414807501, 0.0008914758839094721, 7.685136930254069e-06, 0.11998609749878239, 0.8799880266502376, 0.9996161399907179, 0.08280023441365705, 0.9171920954461105, 0.9990820552711016, 0.9995813684714886, 0.9997580210474208, 0.00027233942278600404, 0.9999481279161624, 0.9996260284175842, 0.35457708973140134, 0.0002198246061570994, 0.6452951313741653, 0.9998193905812883, 0.999799681101309, 0.999913060083914, 0.978877871660382, 0.021106407993146583, 0.021058669860902775, 0.9789832802777825, 0.9997952914375384, 0.9995605899648031, 0.0018511540236122474, 0.998003412979953, 0.2736149316798856, 2.2078183787612812e-05, 0.00040844640007083705, 0.7259527611204969, 0.25997926240643976, 0.007612005430819182, 0.0001463847198234458, 0.7320699838370526, 0.40251852990857734, 0.5973569822295609, 0.3067702262151554, 0.001229539984830282, 0.6919236264632411, 0.404752703351519, 0.595161426699595, 0.9935161987478294, 0.2919613275816669, 0.004118576721371476, 0.7033613800831066, 0.2843614802306101, 0.715614508230948, 0.9921702967031835, 0.9945698113020955, 0.2549005129336737, 0.7450664448658567, 0.2089232743773109, 0.7914505217587543, 0.982138402343467, 0.10148699157796934, 0.8964684256053959, 0.9785296706396432, 0.313660565540865, 0.6863731884414017, 0.9865818972154914, 0.04737523441833846, 0.9475046883667693, 0.9791959693446799, 0.9879894576843011, 0.9773809246944257, 0.26666741557870255, 0.7333038121432346, 0.13474567107838908, 0.8630139409544443, 0.3279231954559941, 0.6717837479812779, 0.9930053790670086, 0.3249852123489178, 0.6743941599817267, 0.04436419008968033, 0.9506612162074356, 0.9931030952384308, 0.9623025317865337, 0.03764024313730137, 0.24890086889958243, 0.7511001485520968, 0.9810449266670247, 0.01624105494988892, 0.9744632969933352, 0.16128975942807855, 0.8380742401655061, 0.9962947263802048, 0.9926196695483342, 0.0641843524683382, 0.9356103686730837, 0.9919773135229499, 0.13969206994997316, 0.859741194146653, 0.9921820064140362, 0.9849977510189565, 0.3286787158581601, 0.0018703648856893147, 0.6693884274675109, 0.05114602088473626, 0.9462013863676207, 0.9887586037603179, 0.9787607275534251, 0.3533921081450096, 0.646279787741746, 0.27661704695455924, 0.7228470157043009, 0.9740814602391253, 0.9696240177693786, 0.030347630244632235, 2.0272298092606702e-05, 0.036321487560177584, 0.9636313026169564, 0.986127933095676, 0.013829194315257594, 0.30352171475207174, 0.0002731968629631609, 0.6961056068301339, 0.9995560940796686, 0.9989784501416544, 0.0004902087140303652, 0.9995355679079146, 0.0026589338035197677, 0.9971001763199129, 0.9999521504130413, 0.9998903371042207, 0.9909494914482033, 0.00884458638173826, 0.00020332382486754622, 0.9996934638640915, 0.00013896211618905915, 0.28055251487527044, 0.7191909689455934, 0.9994550137868771, 0.9984399378132287, 0.0015030088499800663, 0.9996092448571732, 0.40540246456880297, 0.5889095284186986, 0.005623080330108764, 0.2638011859982876, 0.024526969772568064, 0.7091019483135789, 0.002452696977256806, 0.9999908831186709, 0.9999233345298424, 0.9999289014901874, 0.9995996096980233, 0.0004920249072223081, 0.9994665948709153, 0.9995119551659438, 0.9997303107616812, 0.000943818185423074, 0.9990315492703238, 0.9998566420255572, 0.9998936631232289, 0.9999318393216338, 0.9999576135907815, 0.9995863558153109, 0.999594653569507, 0.06419659266798432, 0.9357887931217714, 0.9969669729583172, 0.002598672358090068, 0.000433112059681678, 0.12024568676320761, 0.8796564747156344, 0.9985736909897974, 0.9993867407511221, 0.0005518424852297747, 0.9863284132332695, 0.1889603814242899, 0.0029070827911429216, 0.8081690159377322, 0.9998248961611077, 0.9852447822960412, 0.46014099629051347, 0.5397657350193565, 0.999812161082586, 0.9648369607494136, 0.03463141030218428, 4.8914421330768756e-05, 4.8914421330768756e-05, 0.00039131537064615005, 0.9997357832635113, 0.9999410882983019, 0.9996479656764017, 0.9018658145700815, 0.09782646169692695, 0.00015867700542026355, 0.00013362274140653771, 1.6702842675817214e-05, 0.640467589979232, 0.3594660692533944, 3.800656261930582e-05, 3.800656261930582e-05, 0.0017382526434657009, 0.9981046678780054, 0.0006137587204491619, 0.9991991968912355, 0.22083711821055252, 0.1831702644855064, 0.5959868307140358, 0.9995139768296626, 0.9994443160087779, 0.020349253109070816, 0.9793619262280464, 0.0002783332492122148, 0.00790844098953388, 0.9917185000875485, 0.9997281998315074, 0.8062821865506973, 0.1936949018991104, 4.1780608692646766e-05, 0.9996956700867976, 0.9997015195608062, 0.9776296957973082, 0.018007004611678985, 0.9819741832510237, 0.00929097332026385, 0.9905606939912074, 0.9998921730555804, 0.007456214551402225, 0.992386651008058, 0.04795445963885683, 0.9519112959522122, 0.002737189050145155, 0.9970211115153726, 0.9998161667193852, 0.9322889138638856, 0.06770764391704308, 0.022128482866612346, 0.9775718316385725, 0.01461293208876717, 0.9853291351283006, 0.38202476142836356, 0.007167807389883089, 0.6108134243324698, 0.9996327893914697, 0.007380138964544124, 0.9921674320459006, 0.9991603921535924, 0.9791888893678812, 0.9884085311306857, 0.9993364692956913, 0.9310268122914122, 0.06896258335647375, 0.012904020633455436, 0.9869559531369432, 0.3589280675299186, 0.008737949209529855, 0.6321570178125252, 0.31110791933236537, 0.022126150763185568, 0.000848899348587565, 0.6659204631920131, 0.5406065319088045, 0.4592878598406931, 0.3329399027813989, 0.006890108852830132, 0.6599739979746576, 0.9975280883184477, 0.10381067237436428, 0.8936744839184404, 0.9751018870327178, 0.02450884455737531, 0.22248322554652422, 0.054942503869720924, 0.0006783025169101349, 0.7217138779923835, 0.2585095172177345, 0.02892670235155953, 0.7121827351111809, 0.9999769932950272, 0.009900124925116008, 0.9900124925116007, 0.999587529022244, 0.913081235246447, 0.08688831653392756, 0.0005474745465414738, 0.9994147847114604, 4.562287887845615e-05, 0.9995577457694184, 0.999414683333364, 0.0048999759923109044, 0.9950217915052676, 0.9998008955620192, 0.9997377867151886, 0.9969396601995597, 0.0027981466003997265, 0.9999804375659259, 0.9999372009824893, 0.9995463210743916, 0.00465306373549868, 0.9952187474272368, 0.9997414671328311, 0.0014794095845182898, 0.9984274213634317, 0.999662669619553, 0.9998050350913573, 0.9995521592766047, 0.9999081344597459, 0.9993606370000463, 0.9990211445019476, 0.9997203469624244, 0.9776804164771253, 0.022186943975113338, 0.9992876023757667, 0.9993469203107785, 0.39979910081469505, 0.5998881294688743, 0.9998903425827975, 0.9999590403807117, 0.9995984935046276, 0.0009216663608081315, 0.9990863351160145, 0.9995324922731342, 0.9988531615665922, 0.0011550577339386483, 0.9996553113730755], \"Term\": [\"\\u26fd\", \"\\u26fd\", \"\\u26fd\", \"\\u26fd\", \"\\u26fd\", \"\\u26fd\\ud83c\\udf2f\", \"\\u26fd\\ud83c\\udf2f\", \"\\u26fd\\ud83c\\udf2f\", \"\\u26fd\\ud83c\\udf2f\\ud83c\\udf7d\", \"\\u26fd\\ud83c\\udf2f\\ud83d\\uded2\\ud83d\\udcb0\", \"\\u26fd\\ud83c\\udf7d\", \"\\u26fd\\ud83c\\udf7d\", \"\\u26fd\\ud83c\\udf7d\", \"\\u26fd\\ud83c\\udf7d\\ud83c\\udf2f\", \"\\u26fd\\ud83c\\udf7d\\ud83d\\uded2\", \"\\u26fd\\ud83c\\udf7d\\ud83d\\uded2\", \"\\u26fd\\ud83c\\udfdb\", \"\\u26fd\\ud83c\\udfdb\", \"\\u26fd\\ud83c\\udfe0\\ud83d\\udc8a\", \"\\u26fd\\ud83c\\udfec\", \"\\u26fd\\ud83c\\udfec\", \"\\u26fd\\ud83c\\udfec\", \"\\u26fd\\ud83c\\udfec\\ud83c\\udf7d\", \"\\u26fd\\ud83c\\udfec\\ud83c\\udf7d\", \"\\u26fd\\ud83c\\udfec\\ud83c\\udfe0\", \"\\u26fd\\ud83c\\udfec\\ud83c\\udfe0\", \"\\u26fd\\ud83c\\udfec\\ud83d\\udc55\\ud83d\\udc8a\", \"\\u26fd\\ud83c\\udfec\\ud83d\\udc55\\ud83d\\udcb0\", \"\\u26fd\\ud83c\\udfec\\ud83d\\udc55\\ud83d\\udcb0\", \"\\u26fd\\ud83c\\udfec\\ud83d\\udc8a\", \"\\u26fd\\ud83c\\udfec\\ud83d\\udc8a\", \"\\u26fd\\ud83c\\udfec\\ud83d\\udc8a\\ud83d\\udcb0\", \"\\u26fd\\ud83c\\udfec\\ud83d\\udc8a\\ud83d\\udcb0\", \"\\u26fd\\ud83c\\udfec\\ud83d\\udcb0\", \"\\u26fd\\ud83c\\udfec\\ud83d\\udcb0\", \"\\u26fd\\ud83c\\udfec\\ud83d\\udcb0\", \"\\u26fd\\ud83c\\udfec\\ud83d\\udcb0\\ud83c\\udfe0\", \"\\u26fd\\ud83c\\udfec\\ud83d\\udcb0\\ud83c\\udfe0\", \"\\u26fd\\ud83c\\udfec\\ud83d\\udcb0\\ud83d\\udc8a\", \"\\u26fd\\ud83c\\udfec\\ud83d\\udcb0\\ud83d\\udc8a\", \"\\u26fd\\ud83c\\udfec\\ud83d\\udcb0\\ud83d\\udc8a\", \"\\u26fd\\ud83c\\udfec\\ud83d\\udcb0\\ud83d\\udcf1\", \"\\u26fd\\ud83c\\udfec\\ud83d\\udcb0\\ud83d\\ude95\", \"\\u26fd\\ud83c\\udfec\\ud83d\\udcb0\\ud83d\\uded2\", \"\\u26fd\\ud83c\\udfec\\ud83d\\udcb0\\ud83d\\uded2\", \"\\u26fd\\ud83d\\udcb0\", \"\\u26fd\\ud83d\\udcb0\", \"\\u26fd\\ud83d\\udcb0\", \"\\u26fd\\ud83d\\udcb0\\ud83d\\ude97\\ud83d\\uded2\", \"\\u26fd\\ud83d\\ude95\", \"\\u26fd\\ud83d\\uded2\", \"\\u26fd\\ud83d\\uded2\", \"\\u26fd\\ud83d\\uded2\", \"\\u26fd\\ud83d\\uded2\\ud83c\\udf2f\", \"\\u26fd\\ud83d\\uded2\\ud83c\\udf2f\", \"\\u26fd\\ud83d\\uded2\\ud83c\\udf7d\", \"\\u26fd\\ud83d\\uded2\\ud83c\\udf7d\", \"\\u26fd\\ud83d\\uded2\\ud83d\\ude95\", \"\\u26fd\\ud83e\\uddfe\", \"\\u26fd\\ud83e\\uddfe\", \"\\ud83c\\udf2f\", \"\\ud83c\\udf2f\", \"\\ud83c\\udf2f\", \"\\ud83c\\udf2f\", \"\\ud83c\\udf2f\\u26fd\", \"\\ud83c\\udf2f\\u26fd\", \"\\ud83c\\udf2f\\u26fd\\ud83c\\udf7d\", \"\\ud83c\\udf2f\\ud83c\\udf7d\", \"\\ud83c\\udf2f\\ud83c\\udf7d\\ud83c\\udfec\", \"\\ud83c\\udf2f\\ud83c\\udf7d\\ud83d\\uded2\", \"\\ud83c\\udf2f\\ud83c\\udfec\", \"\\ud83c\\udf2f\\ud83c\\udfec\", \"\\ud83c\\udf2f\\ud83c\\udfec\\ud83c\\udf7d\", \"\\ud83c\\udf2f\\ud83d\\udcb0\", \"\\ud83c\\udf2f\\ud83d\\udcb0\", \"\\ud83c\\udf2f\\ud83d\\udcb0\", \"\\ud83c\\udf2f\\ud83d\\ude95\", \"\\ud83c\\udf2f\\ud83d\\uded2\", \"\\ud83c\\udf2f\\ud83d\\uded2\", \"\\ud83c\\udf2f\\ud83d\\uded2\", \"\\ud83c\\udf2f\\ud83d\\uded2\\ud83c\\udf7d\", \"\\ud83c\\udf2f\\ud83e\\uddfe\", \"\\ud83c\\udf7a\", \"\\ud83c\\udf7a\", \"\\ud83c\\udf7a\", \"\\ud83c\\udf7a\", \"\\ud83c\\udf7a\\ud83c\\udf7d\", \"\\ud83c\\udf7a\\ud83c\\udf7d\", \"\\ud83c\\udf7a\\ud83d\\udc8a\", \"\\ud83c\\udf7a\\ud83d\\udcb0\", \"\\ud83c\\udf7a\\ud83d\\udcb0\", \"\\ud83c\\udf7a\\ud83d\\ude95\", \"\\ud83c\\udf7a\\ud83e\\uddfe\", \"\\ud83c\\udf7d\", \"\\ud83c\\udf7d\", \"\\ud83c\\udf7d\", \"\\ud83c\\udf7d\", \"\\ud83c\\udf7d\\u26fd\", \"\\ud83c\\udf7d\\u26fd\", \"\\ud83c\\udf7d\\u26fd\", \"\\ud83c\\udf7d\\u26fd\\ud83c\\udf2f\", \"\\ud83c\\udf7d\\u26fd\\ud83d\\uded2\", \"\\ud83c\\udf7d\\u26fd\\ud83d\\uded2\", \"\\ud83c\\udf7d\\ud83c\\udf2f\", \"\\ud83c\\udf7d\\ud83c\\udf2f\\ud83c\\udfec\", \"\\ud83c\\udf7d\\ud83c\\udf2f\\ud83d\\uded2\", \"\\ud83c\\udf7d\\ud83c\\udf7a\", \"\\ud83c\\udf7d\\ud83c\\udf7a\", \"\\ud83c\\udf7d\\ud83c\\udf7a\", \"\\ud83c\\udf7d\\ud83c\\udfec\", \"\\ud83c\\udf7d\\ud83c\\udfec\", \"\\ud83c\\udf7d\\ud83c\\udfec\\ud83c\\udf2f\", \"\\ud83c\\udf7d\\ud83d\\udc8a\", \"\\ud83c\\udf7d\\ud83d\\udc8a\", \"\\ud83c\\udf7d\\ud83d\\udcb0\", \"\\ud83c\\udf7d\\ud83d\\udcb0\", \"\\ud83c\\udf7d\\ud83d\\udcb0\", \"\\ud83c\\udf7d\\ud83d\\ude95\", \"\\ud83c\\udf7d\\ud83d\\ude95\\ud83d\\uded2\", \"\\ud83c\\udf7d\\ud83d\\ude9a\\ud83d\\udcb0\", \"\\ud83c\\udf7d\\ud83d\\uded2\", \"\\ud83c\\udf7d\\ud83d\\uded2\", \"\\ud83c\\udf7d\\ud83d\\uded2\\ud83c\\udf2f\", \"\\ud83c\\udf7d\\ud83d\\uded2\\ud83d\\ude95\", \"\\ud83c\\udf7d\\ud83d\\uded2\\ud83e\\uddfe\", \"\\ud83c\\udf7d\\ud83e\\uddfe\", \"\\ud83c\\udf7d\\ud83e\\uddfe\", \"\\ud83c\\udfa1\\ud83d\\udcb0\", \"\\ud83c\\udfa1\\ud83d\\udcb0\", \"\\ud83c\\udfab\", \"\\ud83c\\udfab\", \"\\ud83c\\udfab\\ud83d\\udcb0\", \"\\ud83c\\udfab\\ud83d\\udcb0\", \"\\ud83c\\udfab\\ud83d\\udcb0\\ud83c\\udfdb\", \"\\ud83c\\udfd7\", \"\\ud83c\\udfd7\", \"\\ud83c\\udfd7\\ud83c\\udfec\", \"\\ud83c\\udfd7\\ud83d\\udc8a\", \"\\ud83c\\udfd7\\ud83d\\ude97\", \"\\ud83c\\udfdb\", \"\\ud83c\\udfdb\", \"\\ud83c\\udfdb\", \"\\ud83c\\udfdb\\ud83d\\uded2\", \"\\ud83c\\udfe0\", \"\\ud83c\\udfe0\", \"\\ud83c\\udfe0\", \"\\ud83c\\udfe0\\ud83c\\udf7d\", \"\\ud83c\\udfe0\\ud83c\\udf7d\", \"\\ud83c\\udfe0\\ud83c\\udfab\\ud83d\\udcb0\", \"\\ud83c\\udfe0\\ud83c\\udfec\", \"\\ud83c\\udfe0\\ud83c\\udfec\", \"\\ud83c\\udfe0\\ud83d\\udcb0\", \"\\ud83c\\udfe0\\ud83d\\udcb0\", \"\\ud83c\\udfe0\\ud83d\\udcb0\", \"\\ud83c\\udfe0\\ud83d\\ude95\", \"\\ud83c\\udfe0\\ud83e\\uddfe\", \"\\ud83c\\udfe8\", \"\\ud83c\\udfe8\", \"\\ud83c\\udfe8\", \"\\ud83c\\udfe8\", \"\\ud83c\\udfe8\", \"\\ud83c\\udfec\", \"\\ud83c\\udfec\", \"\\ud83c\\udfec\", \"\\ud83c\\udfec\", \"\\ud83c\\udfec\\u26fd\", \"\\ud83c\\udfec\\u26fd\", \"\\ud83c\\udfec\\ud83c\\udf2f\", \"\\ud83c\\udfec\\ud83c\\udf2f\", \"\\ud83c\\udfec\\ud83c\\udf2f\\ud83c\\udf7d\", \"\\ud83c\\udfec\\ud83c\\udf7a\", \"\\ud83c\\udfec\\ud83c\\udf7a\", \"\\ud83c\\udfec\\ud83c\\udf7d\", \"\\ud83c\\udfec\\ud83c\\udf7d\", \"\\ud83c\\udfec\\ud83c\\udf7d\\ud83c\\udf2f\", \"\\ud83c\\udfec\\ud83c\\udfab\", \"\\ud83c\\udfec\\ud83c\\udfd7\", \"\\ud83c\\udfec\\ud83c\\udfe0\", \"\\ud83c\\udfec\\ud83c\\udfe0\", \"\\ud83c\\udfec\\ud83d\\udc88\", \"\\ud83c\\udfec\\ud83d\\udc8a\", \"\\ud83c\\udfec\\ud83d\\udcb0\", \"\\ud83c\\udfec\\ud83d\\udcb0\", \"\\ud83c\\udfec\\ud83d\\udcda\", \"\\ud83c\\udfec\\ud83d\\udcee\", \"\\ud83c\\udfec\\ud83d\\udcf1\", \"\\ud83c\\udfec\\ud83d\\udcf1\", \"\\ud83c\\udfec\\ud83d\\uddbc\", \"\\ud83c\\udfec\\ud83d\\ude95\", \"\\ud83c\\udfec\\ud83d\\ude97\", \"\\ud83c\\udfec\\ud83d\\ude97\", \"\\ud83c\\udfec\\ud83d\\ude9a\", \"\\ud83c\\udfec\\ud83d\\uded2\", \"\\ud83c\\udfec\\ud83d\\uded2\", \"\\ud83c\\udfec\\ud83d\\uded2\\ud83c\\udf7d\", \"\\ud83c\\udfec\\ud83d\\uded2\\ud83c\\udf7d\", \"\\ud83c\\udfec\\ud83d\\uded2\\ud83d\\udcb0\", \"\\ud83c\\udfec\\ud83d\\uded2\\ud83d\\udcb0\", \"\\ud83c\\udfec\\ud83d\\uded2\\ud83d\\ude95\", \"\\ud83c\\udfec\\ud83d\\uded2\\ud83e\\uddfe\", \"\\ud83c\\udfec\\ud83d\\uded2\\ud83e\\uddfe\", \"\\ud83c\\udfec\\ud83e\\uddfe\", \"\\ud83c\\udfec\\ud83e\\uddfe\", \"\\ud83c\\udfec\\ud83e\\uddfe\\ud83d\\uded2\", \"\\ud83c\\udfec\\ud83e\\ude91\", \"\\ud83d\\udc55\", \"\\ud83d\\udc55\", \"\\ud83d\\udc55\", \"\\ud83d\\udc88\", \"\\ud83d\\udc88\", \"\\ud83d\\udc88\", \"\\ud83d\\udc88\\ud83c\\udfec\", \"\\ud83d\\udc8a\", \"\\ud83d\\udc8a\", \"\\ud83d\\udc8a\", \"\\ud83d\\udc8a\\ud83c\\udf2f\", \"\\ud83d\\udc8a\\ud83c\\udf2f\", \"\\ud83d\\udc8a\\ud83c\\udf2f\\ud83c\\udf7d\", \"\\ud83d\\udc8a\\ud83c\\udf7d\", \"\\ud83d\\udc8a\\ud83c\\udf7d\", \"\\ud83d\\udc8a\\ud83c\\udf7d\\ud83c\\udf2f\", \"\\ud83d\\udc8a\\ud83c\\udfd7\", \"\\ud83d\\udc8a\\ud83c\\udfe0\", \"\\ud83d\\udc8a\\ud83c\\udfe0\", \"\\ud83d\\udc8a\\ud83c\\udfec\", \"\\ud83d\\udc8a\\ud83d\\udc88\", \"\\ud83d\\udc8a\\ud83d\\udcb0\", \"\\ud83d\\udc8a\\ud83d\\udcb0\", \"\\ud83d\\udc8a\\ud83d\\udcb0\", \"\\ud83d\\udc8a\\ud83d\\udcf1\", \"\\ud83d\\udc8a\\ud83d\\ude95\", \"\\ud83d\\udc8a\\ud83d\\ude97\", \"\\ud83d\\udc8a\\ud83d\\uded2\", \"\\ud83d\\udc8a\\ud83d\\uded2\", \"\\ud83d\\udc8a\\ud83d\\uded2\\ud83c\\udf7d\", \"\\ud83d\\udc8a\\ud83d\\uded2\\ud83c\\udf7d\", \"\\ud83d\\udc8a\\ud83d\\uded2\\ud83d\\ude95\", \"\\ud83d\\udc8a\\ud83d\\uded2\\ud83e\\uddfe\", \"\\ud83d\\udc8a\\ud83e\\uddfe\", \"\\ud83d\\udc8a\\ud83e\\uddfe\", \"\\ud83d\\udcb0\", \"\\ud83d\\udcb0\", \"\\ud83d\\udcb0\", \"\\ud83d\\udcb0\", \"\\ud83d\\udcb0\\u26fd\", \"\\ud83d\\udcb0\\u26fd\", \"\\ud83d\\udcb0\\u26fd\", \"\\ud83d\\udcb0\\u26fd\", \"\\ud83d\\udcb0\\ud83c\\udf2f\", \"\\ud83d\\udcb0\\ud83c\\udf2f\", \"\\ud83d\\udcb0\\ud83c\\udf7a\", \"\\ud83d\\udcb0\\ud83c\\udf7a\", \"\\ud83d\\udcb0\\ud83c\\udf7a\", \"\\ud83d\\udcb0\\ud83c\\udf7d\", \"\\ud83d\\udcb0\\ud83c\\udf7d\", \"\\ud83d\\udcb0\\ud83c\\udfae\", \"\\ud83d\\udcb0\\ud83c\\udfdb\", \"\\ud83d\\udcb0\\ud83c\\udfdb\", \"\\ud83d\\udcb0\\ud83c\\udfdb\", \"\\ud83d\\udcb0\\ud83c\\udfe0\", \"\\ud83d\\udcb0\\ud83c\\udfe0\", \"\\ud83d\\udcb0\\ud83c\\udfe0\\ud83d\\uded2\\ud83c\\udfec\", \"\\ud83d\\udcb0\\ud83c\\udfe8\\u26fd\", \"\\ud83d\\udcb0\\ud83c\\udfec\", \"\\ud83d\\udcb0\\ud83c\\udfec\", \"\\ud83d\\udcb0\\ud83c\\udfec\\u26fd\", \"\\ud83d\\udcb0\\ud83c\\udfec\\u26fd\", \"\\ud83d\\udcb0\\ud83c\\udfec\\u26fd\\ud83c\\udf7a\", \"\\ud83d\\udcb0\\ud83c\\udfec\\ud83c\\udf7a\", \"\\ud83d\\udcb0\\ud83c\\udfec\\ud83c\\udf7a\", \"\\ud83d\\udcb0\\ud83c\\udfec\\ud83d\\udc8a\\ud83c\\udf7a\", \"\\ud83d\\udcb0\\ud83c\\udfec\\ud83d\\uded2\", \"\\ud83d\\udcb0\\ud83c\\udfec\\ud83d\\uded2\", \"\\ud83d\\udcb0\\ud83d\\udc5f\", \"\\ud83d\\udcb0\\ud83d\\udc84\", \"\\ud83d\\udcb0\\ud83d\\udc84\", \"\\ud83d\\udcb0\\ud83d\\udc86\\ud83c\\udfec\", \"\\ud83d\\udcb0\\ud83d\\udc89\\ud83c\\udfec\", \"\\ud83d\\udcb0\\ud83d\\udc89\\ud83d\\udc8a\", \"\\ud83d\\udcb0\\ud83d\\udc8a\", \"\\ud83d\\udcb0\\ud83d\\udc8a\", \"\\ud83d\\udcb0\\ud83d\\udc8a\\ud83c\\udf7a\", \"\\ud83d\\udcb0\\ud83d\\udc8a\\ud83c\\udf7a\", \"\\ud83d\\udcb0\\ud83d\\udcda\", \"\\ud83d\\udcb0\\ud83d\\udcda\", \"\\ud83d\\udcb0\\ud83d\\udcda\\ud83c\\udfec\\ud83d\\udc8a\", \"\\ud83d\\udcb0\\ud83d\\udcf1\", \"\\ud83d\\udcb0\\ud83d\\udcf1\", \"\\ud83d\\udcb0\\ud83d\\ude83\", \"\\ud83d\\udcb0\\ud83d\\ude83\", \"\\ud83d\\udcb0\\ud83d\\ude83\\u26fd\", \"\\ud83d\\udcb0\\ud83d\\ude95\", \"\\ud83d\\udcb0\\ud83d\\ude95\", \"\\ud83d\\udcb0\\ud83d\\ude97\", \"\\ud83d\\udcb0\\ud83d\\ude97\", \"\\ud83d\\udcb0\\ud83d\\ude97\\u26fd\\ud83d\\uded2\", \"\\ud83d\\udcb0\\ud83d\\ude97\\ud83c\\udfd7\", \"\\ud83d\\udcb0\\ud83d\\ude97\\ud83c\\udfd7\", \"\\ud83d\\udcb0\\ud83d\\ude97\\ud83c\\udfec\", \"\\ud83d\\udcb0\\ud83d\\ude97\\ud83c\\udfec\", \"\\ud83d\\udcb0\\ud83d\\ude97\\ud83c\\udfec\\u26fd\", \"\\ud83d\\udcb0\\ud83d\\ude97\\ud83c\\udfec\\ud83d\\uded2\", \"\\ud83d\\udcb0\\ud83d\\ude97\\ud83d\\udc8a\", \"\\ud83d\\udcb0\\ud83d\\ude97\\ud83d\\udc8a\", \"\\ud83d\\udcb0\\ud83d\\ude97\\ud83d\\udc8a\\ud83d\\uded2\", \"\\ud83d\\udcb0\\ud83d\\ude97\\ud83d\\uded2\", \"\\ud83d\\udcb0\\ud83d\\ude97\\ud83d\\uded2\", \"\\ud83d\\udcb0\\ud83d\\ude97\\ud83d\\uded2\\ud83c\\udfe8\", \"\\ud83d\\udcb0\\ud83d\\ude97\\ud83d\\uded2\\ud83d\\udc8a\", \"\\ud83d\\udcb0\\ud83d\\uded2\", \"\\ud83d\\udcb0\\ud83d\\uded2\", \"\\ud83d\\udcb0\\ud83d\\uded2\", \"\\ud83d\\udcb0\\ud83d\\uded2\\u26fd\\ud83d\\udc8a\", \"\\ud83d\\udcb0\\ud83d\\uded2\\u26fd\\ud83d\\udc8a\", \"\\ud83d\\udcb0\\ud83d\\uded2\\ud83c\\udf2f\\ud83d\\udc8a\", \"\\ud83d\\udcb0\\ud83d\\uded2\\ud83c\\udfdb\\ud83d\\udc8a\", \"\\ud83d\\udcb0\\ud83d\\uded2\\ud83c\\udfec\", \"\\ud83d\\udcb0\\ud83d\\uded2\\ud83c\\udfec\", \"\\ud83d\\udcb0\\ud83d\\uded2\\ud83d\\udc8a\", \"\\ud83d\\udcb0\\ud83d\\uded2\\ud83d\\udc8a\", \"\\ud83d\\udcb0\\ud83d\\uded2\\ud83d\\udc8a\\ud83d\\udc55\", \"\\ud83d\\udcda\", \"\\ud83d\\udcda\", \"\\ud83d\\udcda\", \"\\ud83d\\udcda\\ud83c\\udf7d\", \"\\ud83d\\udcda\\ud83c\\udf7d\", \"\\ud83d\\udcda\\ud83c\\udfec\", \"\\ud83d\\udcda\\ud83c\\udfec\", \"\\ud83d\\udcda\\ud83d\\udcb0\", \"\\ud83d\\udcda\\ud83d\\udcb0\", \"\\ud83d\\udcda\\ud83d\\udcb0\", \"\\ud83d\\udcda\\ud83d\\ude95\", \"\\ud83d\\udcda\\ud83d\\uded2\\ud83c\\udf2f\", \"\\ud83d\\udcda\\ud83d\\uded2\\ud83c\\udf7d\", \"\\ud83d\\udcda\\ud83d\\uded2\\ud83c\\udf7d\", \"\\ud83d\\udcda\\ud83e\\uddfe\", \"\\ud83d\\udcda\\ud83e\\uddfe\", \"\\ud83d\\udcee\", \"\\ud83d\\udcee\\ud83c\\udfec\", \"\\ud83d\\udcf1\", \"\\ud83d\\udcf1\", \"\\ud83d\\udcf1\", \"\\ud83d\\udcf1\\ud83c\\udfec\", \"\\ud83d\\udcf1\\ud83c\\udfec\", \"\\ud83d\\udcf1\\ud83d\\udcb0\", \"\\ud83d\\udcf1\\ud83d\\udcb0\", \"\\ud83d\\udcf1\\ud83e\\uddfe\", \"\\ud83d\\uddbc\", \"\\ud83d\\uddbc\", \"\\ud83d\\uddbc\\ud83c\\udfec\", \"\\ud83d\\ude83\", \"\\ud83d\\ude83\", \"\\ud83d\\ude83\", \"\\ud83d\\ude83\\ud83d\\uded2\", \"\\ud83d\\ude83\\ud83d\\uded2\", \"\\ud83d\\ude83\\ud83d\\uded2\", \"\\ud83d\\ude83\\ud83d\\uded2\", \"\\ud83d\\ude95\", \"\\ud83d\\ude95\\u26fd\", \"\\ud83d\\ude95\\ud83c\\udf2f\", \"\\ud83d\\ude95\\ud83c\\udf7a\", \"\\ud83d\\ude95\\ud83c\\udf7d\", \"\\ud83d\\ude95\\ud83c\\udf7d\", \"\\ud83d\\ude95\\ud83c\\udfdb\", \"\\ud83d\\ude95\\ud83c\\udfe0\", \"\\ud83d\\ude95\\ud83c\\udfec\", \"\\ud83d\\ude95\\ud83c\\udfec\", \"\\ud83d\\ude95\\ud83d\\udc8a\", \"\\ud83d\\ude95\\ud83d\\udcb0\", \"\\ud83d\\ude95\\ud83d\\ude97\", \"\\ud83d\\ude95\\ud83d\\uded2\", \"\\ud83d\\ude95\\ud83d\\uded2\\ud83c\\udf7d\", \"\\ud83d\\ude95\\ud83d\\uded2\\ud83c\\udfec\", \"\\ud83d\\ude95\\ud83e\\uddfe\", \"\\ud83d\\ude95\\ud83e\\uddfe\", \"\\ud83d\\ude97\", \"\\ud83d\\ude97\", \"\\ud83d\\ude97\", \"\\ud83d\\ude97\\ud83c\\udf7d\", \"\\ud83d\\ude97\\ud83c\\udf7d\", \"\\ud83d\\ude97\\ud83c\\udf7d\\ud83c\\udf2f\", \"\\ud83d\\ude97\\ud83c\\udfec\", \"\\ud83d\\ude97\\ud83c\\udfec\", \"\\ud83d\\ude97\\ud83c\\udfec\\ud83c\\udf7a\\ud83d\\udcb0\", \"\\ud83d\\ude97\\ud83c\\udfec\\ud83d\\udcb0\", \"\\ud83d\\ude97\\ud83c\\udfec\\ud83d\\udcb0\", \"\\ud83d\\ude97\\ud83c\\udfec\\ud83d\\udcb0\", \"\\ud83d\\ude97\\ud83d\\udc8a\", \"\\ud83d\\ude97\\ud83d\\udc8a\\ud83c\\udfec\\ud83d\\udcb0\", \"\\ud83d\\ude97\\ud83d\\udcb0\", \"\\ud83d\\ude97\\ud83d\\udcb0\", \"\\ud83d\\ude97\\ud83d\\ude95\", \"\\ud83d\\ude97\\ud83d\\uded2\", \"\\ud83d\\ude97\\ud83d\\uded2\", \"\\ud83d\\ude97\\ud83d\\uded2\", \"\\ud83d\\ude97\\ud83d\\uded2\", \"\\ud83d\\ude97\\ud83d\\uded2\", \"\\ud83d\\ude97\\ud83e\\uddfe\", \"\\ud83d\\ude9a\", \"\\ud83d\\ude9a\\ud83c\\udfec\", \"\\ud83d\\uded2\", \"\\ud83d\\uded2\", \"\\ud83d\\uded2\", \"\\ud83d\\uded2\", \"\\ud83d\\uded2\", \"\\ud83d\\uded2\\u26fd\", \"\\ud83d\\uded2\\u26fd\", \"\\ud83d\\uded2\\u26fd\", \"\\ud83d\\uded2\\u26fd\", \"\\ud83d\\uded2\\u26fd\\ud83c\\udf2f\", \"\\ud83d\\uded2\\u26fd\\ud83c\\udf2f\", \"\\ud83d\\uded2\\u26fd\\ud83c\\udf7d\", \"\\ud83d\\uded2\\u26fd\\ud83c\\udf7d\", \"\\ud83d\\uded2\\u26fd\\ud83d\\udcb0\", \"\\ud83d\\uded2\\u26fd\\ud83d\\udcb0\", \"\\ud83d\\uded2\\u26fd\\ud83d\\udcb0\", \"\\ud83d\\uded2\\u26fd\\ud83d\\ude95\", \"\\ud83d\\uded2\\u26fd\\ud83e\\uddfe\", \"\\ud83d\\uded2\\ud83c\\udf2f\", \"\\ud83d\\uded2\\ud83c\\udf2f\", \"\\ud83d\\uded2\\ud83c\\udf2f\", \"\\ud83d\\uded2\\ud83c\\udf2f\\u26fd\", \"\\ud83d\\uded2\\ud83c\\udf2f\\u26fd\", \"\\ud83d\\uded2\\ud83c\\udf2f\\ud83c\\udf7d\", \"\\ud83d\\uded2\\ud83c\\udf7a\", \"\\ud83d\\uded2\\ud83c\\udf7a\", \"\\ud83d\\uded2\\ud83c\\udf7a\", \"\\ud83d\\uded2\\ud83c\\udf7a\\ud83c\\udf2f\", \"\\ud83d\\uded2\\ud83c\\udf7a\\ud83c\\udf7d\", \"\\ud83d\\uded2\\ud83c\\udf7a\\ud83d\\udc8a\\ud83d\\udcb0\", \"\\ud83d\\uded2\\ud83c\\udf7d\", \"\\ud83d\\uded2\\ud83c\\udf7d\", \"\\ud83d\\uded2\\ud83c\\udf7d\\u26fd\", \"\\ud83d\\uded2\\ud83c\\udf7d\\u26fd\", \"\\ud83d\\uded2\\ud83c\\udf7d\\ud83c\\udf2f\", \"\\ud83d\\uded2\\ud83c\\udf7d\\ud83c\\udf7a\", \"\\ud83d\\uded2\\ud83c\\udf7d\\ud83c\\udf7a\", \"\\ud83d\\uded2\\ud83c\\udf7d\\ud83c\\udfec\", \"\\ud83d\\uded2\\ud83c\\udf7d\\ud83c\\udfec\", \"\\ud83d\\uded2\\ud83c\\udf7d\\ud83d\\ude95\", \"\\ud83d\\uded2\\ud83c\\udf7d\\ud83d\\ude95\", \"\\ud83d\\uded2\\ud83c\\udfe0\\ud83c\\udf7d\", \"\\ud83d\\uded2\\ud83c\\udfec\", \"\\ud83d\\uded2\\ud83c\\udfec\", \"\\ud83d\\uded2\\ud83c\\udfec\\ud83c\\udf2f\", \"\\ud83d\\uded2\\ud83c\\udfec\\ud83c\\udf2f\", \"\\ud83d\\uded2\\ud83c\\udfec\\ud83c\\udf7d\", \"\\ud83d\\uded2\\ud83c\\udfec\\ud83c\\udf7d\", \"\\ud83d\\uded2\\ud83c\\udfec\\ud83d\\udcb0\", \"\\ud83d\\uded2\\ud83c\\udfec\\ud83d\\udcb0\", \"\\ud83d\\uded2\\ud83c\\udfec\\ud83d\\udcb0\", \"\\ud83d\\uded2\\ud83c\\udfec\\ud83d\\ude95\", \"\\ud83d\\uded2\\ud83c\\udfec\\ud83e\\uddfe\", \"\\ud83d\\uded2\\ud83c\\udfec\\ud83e\\uddfe\", \"\\ud83d\\uded2\\ud83d\\udc55\\ud83c\\udf7d\", \"\\ud83d\\uded2\\ud83d\\udc6e\\ud83d\\udcb0\", \"\\ud83d\\uded2\\ud83d\\udc86\\ud83d\\udcb0\", \"\\ud83d\\uded2\\ud83d\\udc88\\ud83c\\udf7d\", \"\\ud83d\\uded2\\ud83d\\udc8a\", \"\\ud83d\\uded2\\ud83d\\udc8a\", \"\\ud83d\\uded2\\ud83d\\udc8a\\ud83c\\udf7d\", \"\\ud83d\\uded2\\ud83d\\udc8a\\ud83c\\udf7d\", \"\\ud83d\\uded2\\ud83d\\udc8a\\ud83d\\udcb0\", \"\\ud83d\\uded2\\ud83d\\udc8a\\ud83d\\udcb0\", \"\\ud83d\\uded2\\ud83d\\udc8a\\ud83d\\udcb0\", \"\\ud83d\\uded2\\ud83d\\udcb0\", \"\\ud83d\\uded2\\ud83d\\udcb0\", \"\\ud83d\\uded2\\ud83d\\udcb0\", \"\\ud83d\\uded2\\ud83d\\udcb0\", \"\\ud83d\\uded2\\ud83d\\udcb0\\ud83c\\udf7d\", \"\\ud83d\\uded2\\ud83d\\udcb0\\ud83c\\udf7d\", \"\\ud83d\\uded2\\ud83d\\udcb0\\ud83c\\udfec\", \"\\ud83d\\uded2\\ud83d\\udcb0\\ud83c\\udfec\", \"\\ud83d\\uded2\\ud83d\\udcb0\\ud83c\\udfec\", \"\\ud83d\\uded2\\ud83d\\udcb0\\ud83d\\udc84\", \"\\ud83d\\uded2\\ud83d\\udcb0\\ud83d\\udcb3\", \"\\ud83d\\uded2\\ud83d\\udcb0\\ud83d\\udcb3\", \"\\ud83d\\uded2\\ud83d\\udcb0\\ud83d\\ude95\", \"\\ud83d\\uded2\\ud83d\\udcb0\\ud83d\\ude95\", \"\\ud83d\\uded2\\ud83d\\udcb0\\ud83d\\ude97\", \"\\ud83d\\uded2\\ud83d\\udcb0\\ud83d\\ude97\", \"\\ud83d\\uded2\\ud83d\\udcb0\\ud83d\\ude97\", \"\\ud83d\\uded2\\ud83d\\udcb0\\ud83d\\ude97\", \"\\ud83d\\uded2\\ud83d\\ude83\", \"\\ud83d\\uded2\\ud83d\\ude83\", \"\\ud83d\\uded2\\ud83d\\ude83\", \"\\ud83d\\uded2\\ud83d\\ude95\", \"\\ud83d\\uded2\\ud83d\\ude95\\ud83c\\udf7d\", \"\\ud83d\\uded2\\ud83d\\ude95\\ud83c\\udf7d\", \"\\ud83d\\uded2\\ud83d\\ude95\\ud83c\\udfec\", \"\\ud83d\\uded2\\ud83d\\ude97\", \"\\ud83d\\uded2\\ud83d\\ude97\", \"\\ud83d\\uded2\\ud83e\\uddfe\", \"\\ud83d\\uded2\\ud83e\\uddfe\", \"\\ud83d\\uded2\\ud83e\\uddfe\", \"\\ud83d\\uded2\\ud83e\\uddfe\\u26fd\", \"\\ud83d\\uded2\\ud83e\\uddfe\\ud83c\\udf7a\", \"\\ud83d\\uded2\\ud83e\\uddfe\\ud83c\\udf7d\", \"\\ud83d\\uded2\\ud83e\\uddfe\\ud83c\\udf7d\", \"\\ud83d\\uded2\\ud83e\\uddfe\\ud83c\\udfec\", \"\\ud83d\\uded2\\ud83e\\uddfe\\ud83d\\udc8a\", \"\\ud83d\\uded2\\ud83e\\uddfe\\ud83d\\udcb0\", \"\\ud83d\\uded2\\ud83e\\uddfe\\ud83d\\udcb0\", \"\\ud83e\\uddfe\", \"\\ud83e\\uddfe\\u26fd\", \"\\ud83e\\uddfe\\u26fd\\ud83d\\uded2\", \"\\ud83e\\uddfe\\ud83c\\udf2f\", \"\\ud83e\\uddfe\\ud83c\\udf2f\", \"\\ud83e\\uddfe\\ud83c\\udf7a\", \"\\ud83e\\uddfe\\ud83c\\udf7d\", \"\\ud83e\\uddfe\\ud83c\\udf7d\", \"\\ud83e\\uddfe\\ud83c\\udf7d\\ud83d\\uded2\", \"\\ud83e\\uddfe\\ud83c\\udfdb\", \"\\ud83e\\uddfe\\ud83c\\udfe0\", \"\\ud83e\\uddfe\\ud83c\\udfec\", \"\\ud83e\\uddfe\\ud83c\\udfec\\ud83c\\udf7d\", \"\\ud83e\\uddfe\\ud83c\\udfec\\ud83d\\uded2\", \"\\ud83e\\uddfe\\ud83d\\udc8a\", \"\\ud83e\\uddfe\\ud83d\\udcb0\", \"\\ud83e\\uddfe\\ud83d\\udcb0\", \"\\ud83e\\uddfe\\ud83d\\udcda\", \"\\ud83e\\uddfe\\ud83d\\udcf1\", \"\\ud83e\\uddfe\\ud83d\\ude95\", \"\\ud83e\\uddfe\\ud83d\\ude95\", \"\\ud83e\\uddfe\\ud83d\\ude97\", \"\\ud83e\\uddfe\\ud83d\\uded2\", \"\\ud83e\\uddfe\\ud83d\\uded2\\u26fd\", \"\\ud83e\\uddfe\\ud83d\\uded2\\ud83c\\udf7d\", \"\\ud83e\\uddfe\\ud83d\\uded2\\ud83c\\udf7d\", \"\\ud83e\\uddfe\\ud83d\\uded2\\ud83c\\udfec\", \"\\ud83e\\ude91\", \"\\ud83e\\ude91\", \"\\ud83e\\ude91\\ud83c\\udfec\"]}, \"R\": 30, \"lambda.step\": 0.01, \"plot.opts\": {\"xlab\": \"PC1\", \"ylab\": \"PC2\"}, \"topic.order\": [3, 6, 1, 4, 2, 5]};\n",
       "\n",
       "function LDAvis_load_lib(url, callback){\n",
       "  var s = document.createElement('script');\n",
       "  s.src = url;\n",
       "  s.async = true;\n",
       "  s.onreadystatechange = s.onload = callback;\n",
       "  s.onerror = function(){console.warn(\"failed to load library \" + url);};\n",
       "  document.getElementsByTagName(\"head\")[0].appendChild(s);\n",
       "}\n",
       "\n",
       "if(typeof(LDAvis) !== \"undefined\"){\n",
       "   // already loaded: just create the visualization\n",
       "   !function(LDAvis){\n",
       "       new LDAvis(\"#\" + \"ldavis_el15705921401011961420642479326823\", ldavis_el15705921401011961420642479326823_data);\n",
       "   }(LDAvis);\n",
       "}else if(typeof define === \"function\" && define.amd){\n",
       "   // require.js is available: use it to load d3/LDAvis\n",
       "   require.config({paths: {d3: \"https://d3js.org/d3.v5\"}});\n",
       "   require([\"d3\"], function(d3){\n",
       "      window.d3 = d3;\n",
       "      LDAvis_load_lib(\"https://cdn.jsdelivr.net/gh/bmabey/pyLDAvis@3.2.2/pyLDAvis/js/ldavis.v3.0.0.js\", function(){\n",
       "        new LDAvis(\"#\" + \"ldavis_el15705921401011961420642479326823\", ldavis_el15705921401011961420642479326823_data);\n",
       "      });\n",
       "    });\n",
       "}else{\n",
       "    // require.js not available: dynamically load d3 & LDAvis\n",
       "    LDAvis_load_lib(\"https://d3js.org/d3.v5.js\", function(){\n",
       "         LDAvis_load_lib(\"https://cdn.jsdelivr.net/gh/bmabey/pyLDAvis@3.2.2/pyLDAvis/js/ldavis.v3.0.0.js\", function(){\n",
       "                 new LDAvis(\"#\" + \"ldavis_el15705921401011961420642479326823\", ldavis_el15705921401011961420642479326823_data);\n",
       "            })\n",
       "         });\n",
       "}\n",
       "</script>"
      ],
      "text/plain": [
       "<IPython.core.display.HTML object>"
      ]
     },
     "execution_count": 20,
     "metadata": {},
     "output_type": "execute_result"
    },
    {
     "data": {
      "application/javascript": [
       "\n",
       "            setTimeout(function() {\n",
       "                var nbb_cell_id = 20;\n",
       "                var nbb_unformatted_code = \"# let's visualize the model:\\npyLDAvis.enable_notebook()\\nexplorer = pyLDAvis.gensim.prepare(lda_model, corpus, id_to_seq_map)\\npyLDAvis.display(explorer)\";\n",
       "                var nbb_formatted_code = \"# let's visualize the model:\\npyLDAvis.enable_notebook()\\nexplorer = pyLDAvis.gensim.prepare(lda_model, corpus, id_to_seq_map)\\npyLDAvis.display(explorer)\";\n",
       "                var nbb_cells = Jupyter.notebook.get_cells();\n",
       "                for (var i = 0; i < nbb_cells.length; ++i) {\n",
       "                    if (nbb_cells[i].input_prompt_number == nbb_cell_id) {\n",
       "                        if (nbb_cells[i].get_text() == nbb_unformatted_code) {\n",
       "                             nbb_cells[i].set_text(nbb_formatted_code);\n",
       "                        }\n",
       "                        break;\n",
       "                    }\n",
       "                }\n",
       "            }, 500);\n",
       "            "
      ],
      "text/plain": [
       "<IPython.core.display.Javascript object>"
      ]
     },
     "metadata": {},
     "output_type": "display_data"
    }
   ],
   "source": [
    "# let's visualize the model:\n",
    "pyLDAvis.enable_notebook()\n",
    "explorer = pyLDAvis.gensim.prepare(lda_model, corpus, id_to_seq_map)\n",
    "pyLDAvis.display(explorer)"
   ]
  },
  {
   "cell_type": "markdown",
   "metadata": {},
   "source": [
    "![LDA Preliminar Example](../reports/img/LDA_PREM_MODEL_FIRST.png)"
   ]
  },
  {
   "cell_type": "markdown",
   "metadata": {},
   "source": [
    "Investigating the results obtained, we can see that our `coherence`, is quite good considering the coherence model we chose (`c_v`). The higher this number is, the better. \n",
    "\n",
    "The visualization of the inter-topic distance map also shows us a significant separation of topics in both their locations in the different quadrants of the project, as well as their size and variety upon inspection. \n",
    "\n",
    "However, we still see a few problems:\n",
    "\n",
    "1. Topics `1` and ``2 have significant overlap. This means that it is likely that, when we retrieve the most significant topics for each user, topic `2` will be overuled. This might point out that we have too many topics or \"clusters\";\n",
    "2. Topic `1` captures the vast majority of the tokeens observed in the dataset. This topic is likely denoting the most \"usual\" patterns or behaviors, which is a deficiency of using Bag of Words representations. Some combinations might effectively become \"stop words\", or purchasing patterns that most if not all users make. This is hard to get, though, as the \"stop words\" vary by population make-up and culture. In some places is more common that people cook at home, in others, this might not be the case.\n",
    "3. Topic `6` has no representation whatsover (a junk topic). We need to **remove it**;"
   ]
  },
  {
   "cell_type": "code",
   "execution_count": 21,
   "metadata": {},
   "outputs": [
    {
     "name": "stderr",
     "output_type": "stream",
     "text": [
      "100%|██████████| 7/7 [10:58<00:00, 94.12s/it] \n"
     ]
    },
    {
     "data": {
      "application/javascript": [
       "\n",
       "            setTimeout(function() {\n",
       "                var nbb_cell_id = 21;\n",
       "                var nbb_unformatted_code = \"# let's try to tune the parameters of our model as to improve coherence (and hopefully, reduce the effects observed above):\\nn_topics_range = list(range(2, 9))\\n\\nmodel_list, coherence_values = tune_topic_model(\\n    dictionary=id_to_seq_map,\\n    corpus=corpus,\\n    sequences=sequences,\\n    param_name=\\\"num_topics\\\",\\n    param_range=n_topics_range,\\n)\";\n",
       "                var nbb_formatted_code = \"# let's try to tune the parameters of our model as to improve coherence (and hopefully, reduce the effects observed above):\\nn_topics_range = list(range(2, 9))\\n\\nmodel_list, coherence_values = tune_topic_model(\\n    dictionary=id_to_seq_map,\\n    corpus=corpus,\\n    sequences=sequences,\\n    param_name=\\\"num_topics\\\",\\n    param_range=n_topics_range,\\n)\";\n",
       "                var nbb_cells = Jupyter.notebook.get_cells();\n",
       "                for (var i = 0; i < nbb_cells.length; ++i) {\n",
       "                    if (nbb_cells[i].input_prompt_number == nbb_cell_id) {\n",
       "                        if (nbb_cells[i].get_text() == nbb_unformatted_code) {\n",
       "                             nbb_cells[i].set_text(nbb_formatted_code);\n",
       "                        }\n",
       "                        break;\n",
       "                    }\n",
       "                }\n",
       "            }, 500);\n",
       "            "
      ],
      "text/plain": [
       "<IPython.core.display.Javascript object>"
      ]
     },
     "metadata": {},
     "output_type": "display_data"
    }
   ],
   "source": [
    "# let's try to tune the parameters of our model as to improve coherence (and hopefully, reduce the effects observed above):\n",
    "n_topics_range = list(range(2, 9))\n",
    "\n",
    "model_list, coherence_values = tune_topic_model(\n",
    "    dictionary=id_to_seq_map,\n",
    "    corpus=corpus,\n",
    "    sequences=sequences,\n",
    "    param_name=\"num_topics\",\n",
    "    param_range=n_topics_range,\n",
    ")"
   ]
  },
  {
   "cell_type": "code",
   "execution_count": 22,
   "metadata": {},
   "outputs": [
    {
     "data": {
      "image/png": "[encoded data removed]",
      "text/plain": [
       "<Figure size 1200x720 with 1 Axes>"
      ]
     },
     "metadata": {},
     "output_type": "display_data"
    },
    {
     "data": {
      "application/javascript": [
       "\n",
       "            setTimeout(function() {\n",
       "                var nbb_cell_id = 22;\n",
       "                var nbb_unformatted_code = \"plt.plot(n_topics_range, coherence_values)\\nplt.xlabel(\\\"Number of Topics\\\")\\nplt.ylabel(\\\"Coherence score\\\")\\nplt.legend([\\\"Coherence Values\\\"], loc=\\\"best\\\")\\nplt.show()\";\n",
       "                var nbb_formatted_code = \"plt.plot(n_topics_range, coherence_values)\\nplt.xlabel(\\\"Number of Topics\\\")\\nplt.ylabel(\\\"Coherence score\\\")\\nplt.legend([\\\"Coherence Values\\\"], loc=\\\"best\\\")\\nplt.show()\";\n",
       "                var nbb_cells = Jupyter.notebook.get_cells();\n",
       "                for (var i = 0; i < nbb_cells.length; ++i) {\n",
       "                    if (nbb_cells[i].input_prompt_number == nbb_cell_id) {\n",
       "                        if (nbb_cells[i].get_text() == nbb_unformatted_code) {\n",
       "                             nbb_cells[i].set_text(nbb_formatted_code);\n",
       "                        }\n",
       "                        break;\n",
       "                    }\n",
       "                }\n",
       "            }, 500);\n",
       "            "
      ],
      "text/plain": [
       "<IPython.core.display.Javascript object>"
      ]
     },
     "metadata": {},
     "output_type": "display_data"
    }
   ],
   "source": [
    "plt.plot(n_topics_range, coherence_values)\n",
    "plt.xlabel(\"Number of Topics\")\n",
    "plt.ylabel(\"Coherence score\")\n",
    "plt.legend([\"Coherence Values\"], loc=\"best\")\n",
    "plt.show()"
   ]
  },
  {
   "cell_type": "markdown",
   "metadata": {},
   "source": [
    "From the results of our experiment it seems that the best model by number of topic is that of `5`. We will consider this for further improvements."
   ]
  },
  {
   "cell_type": "code",
   "execution_count": 23,
   "metadata": {},
   "outputs": [
    {
     "data": {
      "application/javascript": [
       "\n",
       "            setTimeout(function() {\n",
       "                var nbb_cell_id = 23;\n",
       "                var nbb_unformatted_code = \"# defining the tuned model:\\nlda_model_tuned = model_list[3]\";\n",
       "                var nbb_formatted_code = \"# defining the tuned model:\\nlda_model_tuned = model_list[3]\";\n",
       "                var nbb_cells = Jupyter.notebook.get_cells();\n",
       "                for (var i = 0; i < nbb_cells.length; ++i) {\n",
       "                    if (nbb_cells[i].input_prompt_number == nbb_cell_id) {\n",
       "                        if (nbb_cells[i].get_text() == nbb_unformatted_code) {\n",
       "                             nbb_cells[i].set_text(nbb_formatted_code);\n",
       "                        }\n",
       "                        break;\n",
       "                    }\n",
       "                }\n",
       "            }, 500);\n",
       "            "
      ],
      "text/plain": [
       "<IPython.core.display.Javascript object>"
      ]
     },
     "metadata": {},
     "output_type": "display_data"
    }
   ],
   "source": [
    "# defining the tuned model:\n",
    "lda_model_tuned = model_list[3]"
   ]
  },
  {
   "cell_type": "code",
   "execution_count": 24,
   "metadata": {},
   "outputs": [
    {
     "name": "stdout",
     "output_type": "stream",
     "text": [
      "[(0,\n",
      "  '0.083*\"🧾\" + 0.032*\"🛒🧾\" + 0.025*\"🧾🛒\" + 0.017*\"🧾🍽\" + 0.014*\"🧾🏬\" + 0.012*\"🏬🧾\" '\n",
      "  '+ 0.009*\"🧾⛽\" + 0.008*\"🧾🌯\" + 0.008*\"🧾💰\" + 0.007*\"🍽🧾\"'),\n",
      " (1,\n",
      "  '0.118*\"💰\" + 0.041*\"🛒💰\" + 0.023*\"💰🛒\" + 0.019*\"💰🏬\" + 0.018*\"🏬💰\" + 0.011*\"⛽💰\" '\n",
      "  '+ 0.011*\"💰💊\" + 0.011*\"💊💰\" + 0.010*\"💰🍽\" + 0.009*\"💰⛽\"'),\n",
      " (2,\n",
      "  '0.105*\"🛒\" + 0.055*\"🏬\" + 0.031*\"⛽\" + 0.029*\"💊\" + 0.020*\"🛒🏬\" + 0.019*\"🚗\" + '\n",
      "  '0.014*\"🏬🛒\" + 0.013*\"🍽\" + 0.012*\"🍺\" + 0.011*\"🛒⛽\"'),\n",
      " (3,\n",
      "  '0.101*\"🚕\" + 0.033*\"🛒🚕\" + 0.020*\"🚕🛒\" + 0.015*\"🚕🏬\" + 0.011*\"🏬🚕\" + 0.010*\"🚕🍽\" '\n",
      "  '+ 0.010*\"⛽🚕\" + 0.010*\"🍽🚕\" + 0.008*\"🚕⛽\" + 0.007*\"💰🚕\"'),\n",
      " (4,\n",
      "  '0.090*\"🍽\" + 0.047*\"🛒🍽\" + 0.039*\"🌯\" + 0.022*\"🛒🌯\" + 0.018*\"🏬🍽\" + 0.014*\"🍽🛒\" + '\n",
      "  '0.013*\"⛽🍽\" + 0.010*\"🍽🌯\" + 0.010*\"💊🍽\" + 0.009*\"🌯🍽\"')]\n"
     ]
    },
    {
     "data": {
      "application/javascript": [
       "\n",
       "            setTimeout(function() {\n",
       "                var nbb_cell_id = 24;\n",
       "                var nbb_unformatted_code = \"# printing the topics for the model:\\npprint(lda_model_tuned.print_topics())\";\n",
       "                var nbb_formatted_code = \"# printing the topics for the model:\\npprint(lda_model_tuned.print_topics())\";\n",
       "                var nbb_cells = Jupyter.notebook.get_cells();\n",
       "                for (var i = 0; i < nbb_cells.length; ++i) {\n",
       "                    if (nbb_cells[i].input_prompt_number == nbb_cell_id) {\n",
       "                        if (nbb_cells[i].get_text() == nbb_unformatted_code) {\n",
       "                             nbb_cells[i].set_text(nbb_formatted_code);\n",
       "                        }\n",
       "                        break;\n",
       "                    }\n",
       "                }\n",
       "            }, 500);\n",
       "            "
      ],
      "text/plain": [
       "<IPython.core.display.Javascript object>"
      ]
     },
     "metadata": {},
     "output_type": "display_data"
    }
   ],
   "source": [
    "# printing the topics for the model:\n",
    "pprint(lda_model_tuned.print_topics())"
   ]
  },
  {
   "cell_type": "code",
   "execution_count": 25,
   "metadata": {},
   "outputs": [
    {
     "data": {
      "application/javascript": [
       "\n",
       "            setTimeout(function() {\n",
       "                var nbb_cell_id = 25;\n",
       "                var nbb_unformatted_code = \"# registering the lda projection for each user\\nuser_lda = lda_model_tuned[corpus]\";\n",
       "                var nbb_formatted_code = \"# registering the lda projection for each user\\nuser_lda = lda_model_tuned[corpus]\";\n",
       "                var nbb_cells = Jupyter.notebook.get_cells();\n",
       "                for (var i = 0; i < nbb_cells.length; ++i) {\n",
       "                    if (nbb_cells[i].input_prompt_number == nbb_cell_id) {\n",
       "                        if (nbb_cells[i].get_text() == nbb_unformatted_code) {\n",
       "                             nbb_cells[i].set_text(nbb_formatted_code);\n",
       "                        }\n",
       "                        break;\n",
       "                    }\n",
       "                }\n",
       "            }, 500);\n",
       "            "
      ],
      "text/plain": [
       "<IPython.core.display.Javascript object>"
      ]
     },
     "metadata": {},
     "output_type": "display_data"
    }
   ],
   "source": [
    "# registering the lda projection for each user\n",
    "user_lda = lda_model_tuned[corpus]"
   ]
  },
  {
   "cell_type": "code",
   "execution_count": 26,
   "metadata": {},
   "outputs": [
    {
     "data": {
      "application/javascript": [
       "\n",
       "            setTimeout(function() {\n",
       "                var nbb_cell_id = 26;\n",
       "                var nbb_unformatted_code = \"# extracting the metrics for the tuned model:\\nperplexity_tuned = lda_model_tuned.log_perplexity(corpus)\\n\\n# calculating coherence\\nlda_coherence = CoherenceModel(\\n    model=lda_model_tuned, texts=sequences, dictionary=id_to_seq_map, coherence=\\\"c_v\\\"\\n)\\n\\ncoherence_tuned = lda_coherence.get_coherence()\";\n",
       "                var nbb_formatted_code = \"# extracting the metrics for the tuned model:\\nperplexity_tuned = lda_model_tuned.log_perplexity(corpus)\\n\\n# calculating coherence\\nlda_coherence = CoherenceModel(\\n    model=lda_model_tuned, texts=sequences, dictionary=id_to_seq_map, coherence=\\\"c_v\\\"\\n)\\n\\ncoherence_tuned = lda_coherence.get_coherence()\";\n",
       "                var nbb_cells = Jupyter.notebook.get_cells();\n",
       "                for (var i = 0; i < nbb_cells.length; ++i) {\n",
       "                    if (nbb_cells[i].input_prompt_number == nbb_cell_id) {\n",
       "                        if (nbb_cells[i].get_text() == nbb_unformatted_code) {\n",
       "                             nbb_cells[i].set_text(nbb_formatted_code);\n",
       "                        }\n",
       "                        break;\n",
       "                    }\n",
       "                }\n",
       "            }, 500);\n",
       "            "
      ],
      "text/plain": [
       "<IPython.core.display.Javascript object>"
      ]
     },
     "metadata": {},
     "output_type": "display_data"
    }
   ],
   "source": [
    "# extracting the metrics for the tuned model:\n",
    "perplexity_tuned = lda_model_tuned.log_perplexity(corpus)\n",
    "\n",
    "# calculating coherence\n",
    "lda_coherence = CoherenceModel(\n",
    "    model=lda_model_tuned, texts=sequences, dictionary=id_to_seq_map, coherence=\"c_v\"\n",
    ")\n",
    "\n",
    "coherence_tuned = lda_coherence.get_coherence()"
   ]
  },
  {
   "cell_type": "code",
   "execution_count": 27,
   "metadata": {},
   "outputs": [
    {
     "name": "stdout",
     "output_type": "stream",
     "text": [
      "\n",
      "Preliminar Model metrics:\n",
      "    perplexity = -8.465310377348153\n",
      "    coherence = 0.7140612180527642\n",
      "\n"
     ]
    },
    {
     "data": {
      "application/javascript": [
       "\n",
       "            setTimeout(function() {\n",
       "                var nbb_cell_id = 27;\n",
       "                var nbb_unformatted_code = \"# verifying the metrics:\\nprint(\\n    f\\\"\\\"\\\"\\nPreliminar Model metrics:\\n    perplexity = {perplexity_tuned}\\n    coherence = {coherence_tuned}\\n\\\"\\\"\\\"\\n)\";\n",
       "                var nbb_formatted_code = \"# verifying the metrics:\\nprint(\\n    f\\\"\\\"\\\"\\nPreliminar Model metrics:\\n    perplexity = {perplexity_tuned}\\n    coherence = {coherence_tuned}\\n\\\"\\\"\\\"\\n)\";\n",
       "                var nbb_cells = Jupyter.notebook.get_cells();\n",
       "                for (var i = 0; i < nbb_cells.length; ++i) {\n",
       "                    if (nbb_cells[i].input_prompt_number == nbb_cell_id) {\n",
       "                        if (nbb_cells[i].get_text() == nbb_unformatted_code) {\n",
       "                             nbb_cells[i].set_text(nbb_formatted_code);\n",
       "                        }\n",
       "                        break;\n",
       "                    }\n",
       "                }\n",
       "            }, 500);\n",
       "            "
      ],
      "text/plain": [
       "<IPython.core.display.Javascript object>"
      ]
     },
     "metadata": {},
     "output_type": "display_data"
    }
   ],
   "source": [
    "# verifying the metrics:\n",
    "print(\n",
    "    f\"\"\"\n",
    "Preliminar Model metrics:\n",
    "    perplexity = {perplexity_tuned}\n",
    "    coherence = {coherence_tuned}\n",
    "\"\"\"\n",
    ")"
   ]
  },
  {
   "cell_type": "code",
   "execution_count": 28,
   "metadata": {},
   "outputs": [
    {
     "data": {
      "text/html": [
       "\n",
       "<link rel=\"stylesheet\" type=\"text/css\" href=\"https://cdn.jsdelivr.net/gh/bmabey/pyLDAvis@3.2.2/pyLDAvis/js/ldavis.v1.0.0.css\">\n",
       "\n",
       "\n",
       "<div id=\"ldavis_el1570592140101188803152935541396\"></div>\n",
       "<script type=\"text/javascript\">\n",
       "\n",
       "var ldavis_el1570592140101188803152935541396_data = {\"mdsDat\": {\"x\": [0.32874135567546053, 0.16063916883562282, -0.21740798150031854, -0.21618292042112422, -0.05578962258964007], \"y\": [-0.013359251611996343, 0.007577547821075462, -0.2602835959733792, 0.2404686578534118, 0.025596641910888316], \"topics\": [1, 2, 3, 4, 5], \"cluster\": [1, 1, 1, 1, 1], \"Freq\": [61.83883793072905, 15.31298495670688, 8.646505635045619, 7.531422103601604, 6.670249373916848]}, \"tinfo\": {\"Term\": [\"\\ud83d\\uded2\", \"\\ud83c\\udf7d\", \"\\ud83d\\udcb0\", \"\\ud83d\\ude95\", \"\\ud83e\\uddfe\", \"\\ud83c\\udfec\", \"\\ud83d\\uded2\\ud83c\\udf7d\", \"\\ud83c\\udf2f\", \"\\ud83d\\uded2\\ud83d\\udcb0\", \"\\u26fd\", \"\\ud83d\\udc8a\", \"\\ud83d\\uded2\\ud83e\\uddfe\", \"\\ud83d\\uded2\\ud83c\\udf2f\", \"\\ud83d\\uded2\\ud83d\\ude95\", \"\\ud83d\\udcb0\\ud83d\\uded2\", \"\\ud83d\\uded2\\ud83c\\udfec\", \"\\ud83d\\ude97\", \"\\ud83c\\udfec\\ud83c\\udf7d\", \"\\ud83e\\uddfe\\ud83d\\uded2\", \"\\ud83c\\udf7d\\ud83d\\uded2\", \"\\ud83c\\udfec\\ud83d\\udcb0\", \"\\ud83d\\udcb0\\ud83c\\udfec\", \"\\ud83c\\udfec\\ud83d\\uded2\", \"\\u26fd\\ud83c\\udf7d\", \"\\ud83d\\ude95\\ud83d\\uded2\", \"\\ud83c\\udf7a\", \"\\ud83e\\uddfe\\ud83c\\udf7d\", \"\\ud83d\\udcda\", \"\\ud83d\\uded2\\ud83d\\udc8a\", \"\\ud83d\\udc8a\\ud83c\\udf7d\", \"\\ud83d\\udc8a\", \"\\ud83c\\udfec\", \"\\ud83d\\uded2\\ud83c\\udfec\", \"\\ud83c\\udfec\\ud83d\\uded2\", \"\\ud83c\\udf7a\", \"\\ud83d\\udcda\", \"\\ud83d\\uded2\\ud83d\\udc8a\", \"\\ud83d\\udcf1\", \"\\ud83d\\udc8a\\ud83d\\uded2\", \"\\ud83d\\uded2\\ud83d\\ude97\", \"\\ud83c\\udfd7\", \"\\u26fd\\ud83c\\udfec\", \"\\ud83d\\udc8a\\ud83c\\udfec\", \"\\ud83c\\udfec\\ud83d\\udc8a\", \"\\ud83c\\udfec\\u26fd\", \"\\ud83d\\udcee\", \"\\ud83d\\ude9a\", \"\\ud83c\\udfab\", \"\\ud83d\\uded2\\ud83d\\udcda\", \"\\ud83e\\ude91\", \"\\ud83c\\udfec\\ud83d\\ude97\", \"\\u26fd\\ud83d\\udc8a\", \"\\ud83c\\udfe0\\ud83d\\uded2\", \"\\ud83d\\uddbc\", \"\\ud83c\\udfec\\ud83c\\udf7a\", \"\\ud83d\\uded2\\ud83c\\udfd7\", \"\\ud83d\\udc8a\\u26fd\", \"\\ud83d\\udcda\\ud83c\\udfec\", \"\\ud83d\\udcf1\\ud83d\\uded2\", \"\\ud83d\\udcb3\", \"\\ud83d\\uded2\", \"\\u26fd\", \"\\ud83d\\ude97\", \"\\ud83c\\udfe0\", \"\\ud83c\\udfdb\", \"\\ud83d\\uded2\\ud83c\\udf7a\", \"\\ud83d\\ude97\\ud83d\\uded2\", \"\\ud83d\\udc88\", \"\\ud83d\\udcda\\ud83d\\uded2\", \"\\ud83d\\udc55\", \"\\ud83d\\uded2\\u26fd\", \"\\u26fd\\ud83d\\uded2\", \"\\ud83c\\udf7d\", \"\\ud83c\\udf2f\", \"\\ud83d\\udcb0\", \"\\ud83c\\udf7d\\ud83d\\uded2\", \"\\ud83d\\uded2\\ud83c\\udf7d\\ud83c\\udf2f\", \"\\ud83d\\ude83\\ud83c\\udf7d\", \"\\u26fd\\ud83c\\udf7d\\ud83c\\udf2f\", \"\\u26fd\\ud83c\\udf2f\\ud83c\\udf7d\", \"\\ud83d\\udc8a\\ud83c\\udf7d\\ud83c\\udf2f\", \"\\ud83d\\udc8a\\ud83c\\udf2f\\ud83c\\udf7d\", \"\\ud83d\\ude83\\ud83c\\udf2f\", \"\\ud83d\\ude97\\ud83c\\udf7d\\ud83c\\udf2f\", \"\\ud83d\\ude97\\ud83c\\udf2f\\ud83c\\udf7d\", \"\\ud83d\\uded2\\ud83d\\ude83\\ud83c\\udf7d\", \"\\ud83c\\udf7a\\ud83c\\udf7d\\ud83c\\udf2f\", \"\\ud83d\\ude83\\ud83d\\uded2\\ud83c\\udf7d\", \"\\ud83c\\udf7a\\ud83c\\udf2f\\ud83c\\udf7d\", \"\\ud83c\\udfec\\ud83d\\uded2\\ud83c\\udf7d\\ud83c\\udf2f\", \"\\ud83d\\udcda\\ud83c\\udf7d\\ud83c\\udf2f\", \"\\ud83d\\udcda\\ud83c\\udf2f\\ud83c\\udf7d\", \"\\ud83d\\uded2\\ud83c\\udfec\\ud83c\\udf7d\\ud83c\\udf2f\", \"\\ud83d\\uded2\\ud83d\\ude83\\u26fd\", \"\\ud83d\\uded2\\ud83c\\udfec\\ud83c\\udf2f\\ud83c\\udf7d\", \"\\ud83d\\uded2\\u26fd\\ud83c\\udf2f\\ud83c\\udf7d\", \"\\ud83d\\uded2\\u26fd\\ud83c\\udf7d\\ud83c\\udf2f\", \"\\u26fd\\ud83d\\uded2\\ud83c\\udf7d\\ud83c\\udf2f\", \"\\ud83c\\udfec\\ud83d\\uded2\\ud83c\\udf2f\\ud83c\\udf7d\", \"\\ud83d\\udcf1\\ud83c\\udf2f\\ud83c\\udf7d\", \"\\ud83d\\ude83\\ud83d\\uded2\\ud83c\\udf2f\", \"\\ud83c\\udfe0\\ud83c\\udf2f\\ud83c\\udf7d\", \"\\u26fd\\ud83d\\uded2\\ud83c\\udf2f\\ud83c\\udf7d\", \"\\ud83d\\ude83\\ud83c\\udf7d\\ud83d\\uded2\", \"\\ud83d\\uded2\\ud83d\\ude83\\ud83c\\udf2f\", \"\\ud83d\\uded2\\ud83d\\udc8a\\ud83c\\udf2f\\ud83c\\udf7d\", \"\\ud83d\\uded2\\ud83c\\udf2f\\ud83c\\udf7d\", \"\\ud83c\\udf7d\\ud83c\\udf2f\", \"\\ud83c\\udf2f\\ud83c\\udf7d\", \"\\ud83c\\udf7d\\ud83d\\uded2\\ud83c\\udf2f\", \"\\ud83c\\udfec\\ud83c\\udf7d\\ud83c\\udf2f\", \"\\ud83c\\udf2f\\ud83d\\uded2\\ud83c\\udf7d\", \"\\ud83c\\udf7d\\u26fd\\ud83c\\udf2f\", \"\\ud83c\\udf2f\\u26fd\\ud83c\\udf7d\", \"\\ud83c\\udfec\\ud83c\\udf2f\\ud83c\\udf7d\", \"\\ud83d\\ude83\\ud83d\\uded2\\u26fd\", \"\\ud83c\\udf7d\\ud83c\\udfec\\ud83c\\udf2f\", \"\\ud83c\\udf7d\\ud83d\\udc8a\\ud83c\\udf2f\", \"\\ud83d\\uded2\\u26fd\\ud83c\\udf7d\", \"\\ud83c\\udf2f\\ud83c\\udfec\\ud83c\\udf7d\", \"\\ud83c\\udf7d\\ud83d\\ude83\", \"\\ud83d\\uded2\\ud83c\\udf7d\", \"\\u26fd\\ud83d\\uded2\\ud83c\\udf7d\", \"\\ud83d\\uded2\\ud83d\\ude83\", \"\\u26fd\\ud83c\\udf7d\", \"\\ud83d\\uded2\\ud83c\\udfec\\ud83c\\udf7d\", \"\\ud83d\\uded2\\ud83c\\udf2f\", \"\\ud83c\\udfec\\ud83d\\uded2\\ud83c\\udf7d\", \"\\ud83d\\uded2\\u26fd\\ud83c\\udf2f\", \"\\ud83d\\uded2\\ud83d\\udc8a\\ud83c\\udf7d\", \"\\ud83d\\udc8a\\ud83d\\uded2\\ud83c\\udf7d\", \"\\u26fd\\ud83c\\udf2f\", \"\\ud83c\\udf7d\", \"\\ud83c\\udfec\\ud83c\\udf7d\", \"\\ud83d\\udc8a\\ud83c\\udf7d\", \"\\ud83d\\ude83\\ud83d\\uded2\", \"\\u26fd\\ud83d\\uded2\\ud83c\\udf2f\", \"\\ud83d\\uded2\\ud83c\\udf7a\\ud83c\\udf7d\", \"\\ud83d\\uded2\\ud83c\\udfec\\ud83c\\udf2f\", \"\\ud83c\\udf2f\", \"\\ud83d\\ude83\", \"\\ud83c\\udfec\\ud83c\\udf2f\", \"\\ud83c\\udf7a\\ud83c\\udf7d\", \"\\ud83d\\ude97\\ud83c\\udf7d\", \"\\ud83d\\udcda\\ud83c\\udf7d\", \"\\ud83d\\udc8a\\ud83c\\udf2f\", \"\\ud83c\\udf7d\\ud83d\\uded2\", \"\\ud83c\\udfe0\\ud83c\\udf7d\", \"\\ud83d\\ude97\\ud83c\\udf2f\", \"\\ud83d\\udcf1\\ud83c\\udf7d\", \"\\ud83c\\udf7d\\u26fd\", \"\\ud83c\\udf2f\\ud83d\\uded2\", \"\\ud83c\\udf7d\\ud83c\\udfec\", \"\\ud83d\\udcb0\\ud83c\\udf7d\", \"\\ud83e\\uddfe\", \"\\ud83e\\uddfe\\ud83d\\uded2\", \"\\ud83e\\uddfe\\u26fd\", \"\\ud83e\\uddfe\\ud83d\\udc8a\", \"\\ud83e\\uddfe\\ud83d\\ude97\", \"\\ud83e\\uddfe\\ud83c\\udf7a\", \"\\ud83d\\ude97\\ud83e\\uddfe\", \"\\ud83e\\uddfe\\ud83d\\uded2\\ud83c\\udfec\", \"\\ud83c\\udf2f\\ud83e\\uddfe\", \"\\ud83e\\uddfe\\ud83c\\udfdb\", \"\\ud83e\\uddfe\\ud83d\\uded2\\u26fd\", \"\\ud83e\\uddfe\\u26fd\\ud83d\\uded2\", \"\\ud83e\\uddfe\\ud83c\\udfe0\", \"\\ud83d\\uded2\\ud83e\\uddfe\\u26fd\", \"\\ud83d\\udc8a\\ud83d\\uded2\\ud83e\\uddfe\", \"\\ud83e\\uddfe\\ud83d\\udcda\", \"\\ud83d\\uded2\\u26fd\\ud83e\\uddfe\", \"\\ud83e\\uddfe\\ud83c\\udf7d\\ud83d\\uded2\", \"\\ud83d\\uded2\\ud83e\\uddfe\\ud83d\\udc8a\", \"\\ud83c\\udf7d\\ud83e\\uddfe\", \"\\ud83c\\udf7d\\ud83d\\uded2\\ud83e\\uddfe\", \"\\ud83e\\uddfe\\ud83d\\udcf1\", \"\\ud83c\\udfec\\ud83e\\uddfe\\ud83d\\uded2\", \"\\ud83d\\uded2\\ud83e\\uddfe\\ud83c\\udf7a\", \"\\ud83c\\udf7a\\ud83e\\uddfe\", \"\\ud83d\\udcf1\\ud83e\\uddfe\", \"\\ud83e\\uddfe\\ud83c\\udfec\\ud83c\\udf7d\", \"\\ud83c\\udfe0\\ud83e\\uddfe\", \"\\ud83e\\uddfe\\ud83c\\udfec\\ud83d\\uded2\", \"\\ud83d\\uded2\\ud83d\\ude97\\ud83e\\uddfe\", \"\\ud83d\\uded2\\ud83e\\uddfe\", \"\\ud83e\\uddfe\\ud83c\\udf7d\", \"\\ud83e\\uddfe\\ud83c\\udfec\", \"\\ud83c\\udfec\\ud83e\\uddfe\", \"\\u26fd\\ud83e\\uddfe\", \"\\ud83d\\udc8a\\ud83e\\uddfe\", \"\\ud83e\\uddfe\\ud83c\\udf2f\", \"\\ud83d\\uded2\\ud83e\\uddfe\\ud83c\\udfec\", \"\\ud83e\\uddfe\\ud83d\\uded2\\ud83c\\udf7d\", \"\\ud83d\\uded2\\ud83e\\uddfe\\ud83d\\udcb0\", \"\\ud83d\\udcda\\ud83e\\uddfe\", \"\\ud83d\\uded2\\ud83e\\uddfe\\ud83c\\udf7d\", \"\\ud83e\\uddfe\\ud83d\\udcb0\", \"\\ud83d\\uded2\\ud83c\\udfec\\ud83e\\uddfe\", \"\\ud83c\\udfec\\ud83d\\uded2\\ud83e\\uddfe\", \"\\ud83d\\ude95\", \"\\ud83d\\uded2\\ud83d\\ude95\", \"\\ud83d\\ude95\\ud83d\\uded2\", \"\\ud83c\\udfec\\ud83d\\ude95\", \"\\u26fd\\ud83d\\ude95\", \"\\ud83c\\udf7d\\ud83d\\ude95\", \"\\ud83d\\ude95\\u26fd\", \"\\ud83d\\ude95\\ud83d\\udc8a\", \"\\ud83d\\udc8a\\ud83d\\ude95\", \"\\ud83d\\ude97\\ud83d\\ude95\", \"\\ud83d\\ude95\\ud83d\\ude97\", \"\\ud83d\\ude95\\ud83d\\udcb0\", \"\\ud83d\\ude95\\ud83c\\udf2f\", \"\\ud83c\\udf2f\\ud83d\\ude95\", \"\\ud83d\\uded2\\ud83d\\ude95\\ud83c\\udfec\", \"\\ud83d\\udcda\\ud83d\\ude95\", \"\\ud83d\\ude95\\ud83c\\udfdb\", \"\\ud83c\\udf7d\\ud83d\\uded2\\ud83d\\ude95\", \"\\ud83c\\udfe0\\ud83d\\ude95\", \"\\ud83d\\ude95\\ud83c\\udf7a\", \"\\ud83d\\uded2\\ud83c\\udfec\\ud83d\\ude95\", \"\\ud83d\\ude95\\ud83d\\uded2\\ud83c\\udfec\", \"\\ud83d\\uded2\\u26fd\\ud83d\\ude95\", \"\\ud83d\\ude95\\ud83d\\uded2\\ud83c\\udf7d\", \"\\u26fd\\ud83d\\uded2\\ud83d\\ude95\", \"\\ud83d\\ude95\\ud83c\\udfe0\", \"\\ud83c\\udfec\\ud83d\\uded2\\ud83d\\ude95\", \"\\ud83c\\udf7d\\ud83d\\ude95\\ud83d\\uded2\", \"\\ud83d\\udc8a\\ud83d\\uded2\\ud83d\\ude95\", \"\\ud83c\\udf7a\\ud83d\\ude95\", \"\\ud83d\\ude95\\ud83c\\udfec\", \"\\ud83d\\ude95\\ud83c\\udf7d\", \"\\ud83d\\uded2\\ud83c\\udf7d\\ud83d\\ude95\", \"\\ud83d\\udcb0\\ud83d\\ude95\", \"\\ud83d\\uded2\\ud83d\\ude95\\ud83c\\udf7d\", \"\\ud83d\\uded2\\ud83d\\udcb0\\ud83d\\ude95\", \"\\ud83d\\ude95\\ud83e\\uddfe\", \"\\ud83e\\uddfe\\ud83d\\ude95\", \"\\ud83d\\udcb0\\ud83d\\ude97\\ud83c\\udfec\\ud83d\\uded2\", \"\\ud83c\\udfe0\\ud83c\\udfab\\ud83d\\udcb0\", \"\\ud83d\\ude97\\ud83c\\udfec\\ud83c\\udf7a\\ud83d\\udcb0\", \"\\ud83d\\ude97\\ud83d\\udc8a\\ud83c\\udfec\\ud83d\\udcb0\", \"\\u26fd\\ud83d\\udcb0\\ud83d\\ude97\\ud83d\\uded2\", \"\\ud83d\\udcb0\\ud83d\\ude97\\ud83d\\udc8a\\ud83d\\uded2\", \"\\ud83d\\udcb0\\ud83d\\udc5f\", \"\\ud83d\\udcb0\\ud83d\\ude83\\u26fd\", \"\\ud83d\\uded2\\ud83c\\udf7a\\ud83d\\udc8a\\ud83d\\udcb0\", \"\\ud83d\\udcb0\\ud83d\\ude97\\ud83c\\udfec\\u26fd\", \"\\ud83d\\udcb0\\ud83d\\udc86\\ud83c\\udfec\", \"\\ud83d\\udcb0\\ud83c\\udfe8\\u26fd\", \"\\ud83d\\udcb0\\ud83c\\udfe0\\ud83d\\uded2\\ud83c\\udfec\", \"\\ud83c\\udf7d\\ud83d\\ude9a\\ud83d\\udcb0\", \"\\ud83d\\udcb0\\ud83d\\uded2\\ud83c\\udfdb\\ud83d\\udc8a\", \"\\ud83d\\uded2\\ud83d\\udc6e\\ud83d\\udcb0\", \"\\ud83d\\udcb0\\ud83d\\uded2\\ud83d\\udc8a\\ud83d\\udc55\", \"\\ud83d\\udcb0\\ud83d\\udcda\\ud83c\\udfec\\ud83d\\udc8a\", \"\\ud83d\\udcf1\\ud83d\\udcb0\\ud83c\\udfd7\", \"\\ud83d\\udcb0\\ud83d\\udc89\\ud83d\\udc8a\", \"\\ud83d\\udcb0\\ud83d\\ude97\\ud83d\\uded2\\ud83c\\udfe8\", \"\\ud83d\\udcb0\\ud83c\\udfec\\ud83c\\udf7a\\ud83d\\udc8a\", \"\\ud83d\\ude83\\ud83d\\udcb0\\ud83d\\ude97\", \"\\ud83c\\udf2f\\ud83d\\uded2\\ud83d\\udcda\\ud83d\\udcb0\", \"\\ud83c\\udfe0\\ud83d\\ude83\\ud83d\\udcb0\", \"\\u26fd\\ud83d\\udcb0\\ud83d\\udc89\", \"\\ud83d\\udcb0\\ud83d\\udc8a\\ud83c\\udfec\\ud83c\\udf7a\", \"\\ud83d\\udcb0\\ud83c\\udfec\\ud83c\\udf7a\\u26fd\", \"\\ud83d\\uded2\\u26fd\\ud83d\\udcb0\\ud83d\\udcb3\", \"\\ud83d\\udc6e\\ud83d\\udcb0\\ud83c\\udf7d\", \"\\ud83d\\uded2\\ud83d\\udcb0\\ud83d\\udc84\", \"\\ud83d\\udcb0\\ud83d\\udc84\", \"\\ud83d\\udcb0\\ud83d\\ude97\\ud83d\\udc8a\", \"\\ud83d\\udcb0\\ud83d\\ude83\", \"\\ud83d\\udcb0\", \"\\ud83d\\udcb0\\ud83c\\udfec\", \"\\ud83d\\udcb0\\ud83c\\udfec\\ud83c\\udf7a\", \"\\ud83d\\udcb0\\ud83d\\uded2\\u26fd\\ud83d\\udc8a\", \"\\ud83d\\udcb0\\ud83d\\ude97\\ud83d\\uded2\", \"\\ud83d\\udcb0\\ud83d\\udc8a\", \"\\ud83c\\udfab\\ud83d\\udcb0\", \"\\ud83d\\udcb0\\u26fd\", \"\\ud83d\\udcb0\\ud83d\\ude97\", \"\\ud83d\\udcb0\\ud83d\\ude97\\ud83c\\udfec\", \"\\ud83d\\udcb0\\ud83d\\uded2\", \"\\ud83d\\uded2\\ud83d\\udcb0\", \"\\ud83c\\udfa1\\ud83d\\udcb0\", \"\\ud83d\\udcb0\\ud83d\\udc8a\\ud83c\\udf7a\", \"\\ud83d\\udcb0\\ud83c\\udfec\\u26fd\", \"\\ud83c\\udfec\\ud83d\\udcb0\", \"\\ud83d\\udc8a\\ud83d\\udcb0\", \"\\u26fd\\ud83d\\udcb0\", \"\\ud83d\\udcb0\\ud83c\\udf7d\", \"\\ud83d\\ude97\\ud83c\\udfec\\ud83d\\udcb0\", \"\\ud83d\\udcf1\\ud83d\\udcb0\", \"\\ud83d\\udcb0\\ud83c\\udf7a\", \"\\ud83c\\udfe0\\ud83d\\udcb0\", \"\\ud83d\\udcb0\\ud83c\\udfe0\", \"\\ud83d\\udcb0\\ud83d\\uded2\\ud83d\\udc8a\", \"\\ud83d\\udcda\\ud83d\\udcb0\", \"\\ud83d\\udcb0\\ud83c\\udfec\\ud83d\\uded2\", \"\\ud83c\\udf7d\\ud83d\\udcb0\", \"\\ud83d\\udcb0\\ud83c\\udf2f\", \"\\ud83d\\uded2\\ud83d\\udcb0\\ud83c\\udfec\", \"\\ud83d\\udcb0\\ud83c\\udfdb\", \"\\ud83d\\udcb0\\ud83c\\udfd7\", \"\\ud83d\\udcb0\\ud83d\\udcda\", \"\\ud83c\\udf2f\\ud83d\\udcb0\", \"\\ud83d\\uded2\\ud83c\\udfec\\ud83d\\udcb0\", \"\\ud83d\\udcb0\\ud83d\\udcf1\", \"\\ud83d\\udcb0\\ud83d\\uded2\\ud83c\\udfec\", \"\\ud83d\\ude97\\ud83d\\udcb0\", \"\\ud83d\\uded2\\ud83d\\udc8a\\ud83d\\udcb0\", \"\\ud83c\\udfec\\ud83d\\uded2\\ud83d\\udcb0\", \"\\ud83d\\uded2\\u26fd\\ud83d\\udcb0\", \"\\ud83c\\udf7a\\ud83d\\udcb0\", \"\\ud83d\\uded2\\ud83d\\udcb0\\ud83c\\udf7d\"], \"Freq\": [477085.0, 160671.0, 86656.0, 55841.0, 52902.0, 247974.0, 64987.0, 74922.0, 35177.0, 139917.0, 129496.0, 20217.0, 30780.0, 18346.0, 19000.0, 90924.0, 87316.0, 27618.0, 15695.0, 36115.0, 14957.0, 13410.0, 61854.0, 18571.0, 11237.0, 56093.0, 10599.0, 49105.0, 46772.0, 14455.0, 129495.61037226694, 247973.23361157026, 90923.80172305215, 61854.171240642434, 56092.74630660036, 49104.841163445286, 46772.01796952953, 39159.484586494276, 34662.40245465635, 31706.76526571262, 29407.71574983114, 23232.000928446767, 23017.254742373934, 21652.433611184577, 19024.01945302103, 16648.628034430098, 16596.05823059594, 16439.516778817862, 15059.39812089458, 14646.583495518822, 13640.204557254827, 11661.909940768377, 11566.60717291274, 11255.748250531631, 10938.175143767372, 10739.120380429553, 10653.235211870697, 10291.440150839564, 10483.461811316141, 8446.313535353514, 476667.70582762524, 139687.39166676698, 87303.35467803151, 44633.78996036556, 28810.026617156716, 23858.18363190228, 20347.95565772752, 20553.94320188877, 17589.67092554318, 16610.54895694158, 51092.172155484834, 38544.08597409267, 59545.066288507995, 30796.221330115382, 28910.310638195006, 20938.168158531436, 4052.166897586826, 1417.4567736003266, 1104.1310432847572, 1080.3853624663518, 731.436501990101, 706.4685713456084, 646.4488221167169, 623.698082467718, 575.3030430738468, 554.7605380539438, 452.9801288091759, 589.3859159229187, 434.01208108958167, 368.2537525598221, 356.3052406607983, 344.3760797431888, 338.2919938991633, 651.2473425079668, 339.76391061045746, 326.4161789303175, 318.4504062685625, 307.2936829215636, 294.7957273627542, 289.7841173636667, 274.2718541999562, 275.76459282875186, 268.0162408644246, 273.6347590931057, 260.1625208450484, 248.93823250044238, 3621.362274354134, 11465.12490629397, 10505.13736231625, 2328.9640946409886, 1344.1319825252938, 2306.9960237402734, 757.0455646438169, 697.4402271419027, 1334.4553150692716, 441.5530147218743, 988.297441412411, 508.9742528419885, 5674.328028078375, 891.5191954883037, 542.7704150073855, 52636.773996887314, 4377.196702911189, 2376.218668255223, 15161.614227992155, 7364.280091959962, 24296.774280106318, 5379.711428043577, 2470.5029256996872, 4070.8952480991384, 3363.6814678442674, 7229.244236655465, 101071.4520456875, 20326.685093187763, 11209.005776284188, 3019.696330225597, 2145.158274677718, 1698.9887107023194, 3445.4411948179463, 44081.68628564131, 6682.7505555366, 9244.957520658927, 5034.092439994142, 7976.357387088893, 4919.067068470529, 5088.296630933601, 15176.673475528467, 3750.112721695466, 3821.4642356657373, 3360.7225981861206, 5347.841407653213, 5602.978344606345, 5978.313118115184, 3610.263702013784, 52901.32930704129, 15694.944571692035, 5992.946079127678, 3739.468139398848, 3463.9733345607438, 3014.292795241389, 2493.9575241452194, 2144.788268069879, 2102.1711095179817, 1950.4400626913305, 1952.7015669334617, 1784.892223102001, 1710.1305783589662, 1648.2853181213286, 1627.0521912264016, 1504.7419620579585, 1480.475531320899, 1453.4505851586966, 1315.8775648570354, 4726.018504857063, 1312.9857157722784, 1337.601501369411, 1296.2091520162912, 1276.4338359977394, 1262.6721190435176, 1163.060801087815, 1163.1811409910101, 1153.981709102952, 1097.0898755309433, 1062.5894588791552, 20194.246537993837, 10570.02512759957, 8651.555464294634, 7869.0921246507205, 4663.727322524151, 3978.692645070258, 5126.168616584525, 2803.127125305399, 1998.7161498198584, 2300.763252930438, 2419.994257140315, 2805.7459578490425, 4968.325779238789, 1981.6853218757706, 1675.6041003661794, 55840.60627906453, 18345.890620527236, 11236.807742702813, 6094.264532429987, 5621.602245507252, 5512.918230039359, 4326.2077234019325, 3621.939058700197, 3604.061191515095, 3522.2647145514807, 3194.787881719521, 3036.0675996303316, 2693.7425321376018, 2548.173036498275, 2032.6775127354126, 1926.2563328352346, 1889.2680900391222, 1807.350715870003, 1701.9858431494115, 1657.9917359083413, 1651.078087736093, 1572.4113050264734, 1604.8221738396949, 1301.3543684945632, 1294.4544820254948, 1277.404889312149, 1238.7041504614651, 1196.103962277056, 1149.9078539131683, 1143.0563263263018, 8050.093222030047, 5786.476709812831, 1385.8736048630049, 3681.194894767674, 1603.096687766234, 1582.7226791296016, 1788.0610522755103, 1433.3985535750587, 121.94131177832317, 66.36388442631761, 61.94997114113952, 58.99658375811087, 56.19048628885139, 54.936471681286434, 48.67377061434998, 48.35162153788369, 48.08506659050161, 46.92265521752836, 41.12475495730856, 40.688940127870225, 41.760570538234, 40.50171840848789, 38.53739607379789, 39.3596538175511, 37.76000376755125, 37.06357855441188, 36.40214083613542, 37.80948247124382, 38.50709303750042, 33.7789757453986, 33.28480808217377, 36.205575116955025, 32.86980990447603, 31.60581412531727, 30.264667164587802, 29.98131081566407, 29.411969339206752, 28.62418116575621, 143.1540921564448, 148.7540277672287, 346.67188957135903, 137.35172813403574, 57733.120412519274, 9407.049819607188, 382.7757378973697, 133.64636412421115, 604.5511057824639, 5190.605627950347, 1201.1094146511916, 4370.065727835444, 2994.545121415335, 482.31327774388234, 11472.345074897437, 20210.82623425961, 111.32657784239508, 245.54157685869788, 585.1067013935528, 8566.571496944145, 5139.456010635981, 5375.182294144903, 5032.992306581062, 494.86859491558494, 1567.6310210659403, 1980.3330167119734, 1731.6121305734152, 1458.8435977469549, 1129.7514132859496, 2154.388246583822, 1442.1285383230572, 3923.498371610832, 2441.0486338361475, 2268.0411279736554, 1312.0108529614415, 976.4456295485218, 1231.9532567396434, 1890.8770012372934, 2556.7707644490697, 1198.7823920607213, 1457.7907478862803, 2353.1421062609325, 1573.2997569921897, 1669.3010289684614, 1621.826191417724, 1246.9856700376204, 1247.8107042841707], \"Total\": [477085.0, 160671.0, 86656.0, 55841.0, 52902.0, 247974.0, 64987.0, 74922.0, 35177.0, 139917.0, 129496.0, 20217.0, 30780.0, 18346.0, 19000.0, 90924.0, 87316.0, 27618.0, 15695.0, 36115.0, 14957.0, 13410.0, 61854.0, 18571.0, 11237.0, 56093.0, 10599.0, 49105.0, 46772.0, 14455.0, 129496.39203874276, 247974.76530393847, 90924.58090404612, 61854.94339232092, 56093.52357627504, 49105.61743133013, 46772.79277912465, 39160.34195314612, 34663.17545886409, 31707.54231216102, 29408.489606952586, 23232.7769903857, 23018.026118759084, 21653.204987446687, 19024.798912149865, 16649.397911117918, 16596.827201744214, 16440.29386956858, 15060.177230173302, 14647.35830620109, 13640.982279513206, 11662.68320586775, 11567.402444191499, 11256.522588891632, 10938.948495928866, 10739.894341796029, 10654.01906895414, 10292.21606727294, 10484.26335358561, 8447.09373787488, 477085.2701829217, 139917.57990231694, 87316.61865880078, 44648.776313169554, 28830.047764328312, 23863.78106814485, 20352.501550586814, 20560.836659107692, 17597.705823212393, 16629.693382326503, 52456.02366612225, 39602.604091796435, 160671.15963046515, 74922.34178761467, 86656.84097026495, 36115.415233445274, 4052.9511638422255, 1418.2381607062391, 1104.909614350648, 1081.166049783647, 732.2150160882125, 707.2493176752254, 647.2342793001491, 624.4792862035955, 576.0809601542466, 555.5364642968017, 453.7575242015057, 590.4301406060706, 434.79796931825774, 369.03137990286166, 357.0837965271458, 345.15983814868355, 339.06850422915335, 652.7425072254626, 340.54634562979123, 327.193329900684, 319.2505225368235, 308.0722283867074, 295.5744025868441, 290.5702772963855, 275.0464867595805, 276.5518952883655, 268.79301459169795, 274.4338216363459, 260.93575381695894, 249.7175545169237, 3645.305539921561, 11726.527244164492, 10747.35205913244, 2348.26748363143, 1348.7494838808736, 2327.9462060254023, 761.9488880799312, 702.163693000438, 1354.974105759645, 443.7374640349615, 1011.4038651482512, 514.3030537114281, 6150.511120904376, 924.4878408200221, 553.4056251362373, 64987.19590513026, 4908.598347511202, 2584.293548976826, 18571.589007777005, 8627.571136122675, 30780.41059292727, 6209.158544081752, 2717.021209061413, 4697.480632695323, 3866.8273094819174, 8912.204994375574, 160671.15963046515, 27618.880312176563, 14455.911172596096, 3483.712191375653, 2403.3779420122837, 1866.9077387561222, 4116.6559365893645, 74922.34178761467, 8821.561734546309, 12850.596412442006, 6436.159768257509, 11292.90487601361, 6430.461649174213, 7079.483911625315, 36115.415233445274, 5155.968382784534, 5496.848202764946, 4737.495617295251, 12246.773750479224, 16193.225927264697, 20701.771993131242, 8742.984825030151, 52902.121171199695, 15695.730266572198, 5993.731918447549, 3740.255518108353, 3464.759601947831, 3015.0827346528463, 2494.748049048522, 2145.5779991484055, 2102.9539065510826, 1951.2289940840578, 1953.5016255533544, 1785.6740864322092, 1710.9140278048583, 1649.072004924477, 1627.838696597209, 1505.5321278290153, 1481.2686915516251, 1454.2319403308272, 1316.6617721801113, 4728.839487522854, 1313.7695056997825, 1338.403247449898, 1296.9986949767788, 1277.2249354546657, 1263.4560556486767, 1163.8435739539148, 1163.964207068909, 1154.7729186087747, 1097.8716384571533, 1063.3729818081335, 20217.940768368408, 10599.099335253975, 8659.216933391574, 7904.033257230194, 4673.897425154999, 3986.5685594391957, 5154.303943965828, 2805.5233933671047, 2001.6410636121886, 2307.588892838489, 2428.978393199543, 2823.994101467217, 5073.441497650534, 2001.183445492834, 1696.9208278502692, 55841.40177272332, 18346.686691459036, 11237.599858988802, 6095.102696833262, 5622.40591247873, 5513.723499833417, 4327.00000996498, 3622.731954598976, 3604.859395240246, 3523.056719102902, 3195.5799556163074, 3036.874741379096, 2694.539633447267, 2548.972283193327, 2033.4787616463939, 1927.052916126043, 1890.0589357626036, 1808.1488733238602, 1702.7775653253393, 1658.784844273176, 1651.8897102237195, 1573.2022951325985, 1605.6314517283165, 1302.1501102618688, 1295.2479921033432, 1278.1965647867169, 1239.502797873246, 1196.8960981109026, 1150.6992292989028, 1143.8529959049847, 8058.590094239767, 5797.284775724021, 1389.0468966331296, 3837.7073457327383, 1633.6195434768495, 1628.995584294978, 1922.4886653061133, 2483.633953749755, 122.73177347668134, 67.1743483072829, 62.730689838051305, 59.78649837517736, 56.979185200935916, 55.7287974812903, 49.45866769112895, 49.136090431584975, 48.88301619868066, 47.719950367901916, 41.91957835846772, 41.47639724211051, 42.58422661944274, 41.30630624735614, 39.32158231189677, 40.16192074286414, 38.54755218169209, 37.849013106017246, 37.18730890798523, 38.63586958532485, 39.36594574134671, 34.56464785125731, 34.07053296122963, 37.06398062850685, 33.66315215121918, 32.41853808036656, 31.04870123483746, 30.77691579186864, 30.19632684988858, 29.413879166141, 147.29889904200382, 158.77994372639787, 381.61121735580076, 148.54859449896884, 86656.84097026495, 13410.107809507288, 447.1892936027082, 147.7862102723322, 746.7939097061134, 7559.886289817918, 1604.8533749060693, 6535.592597092775, 4345.182806430756, 599.539934422699, 19000.139981590764, 35177.30122237637, 123.53311626084313, 295.0523071128043, 773.5872338601224, 14957.062316232597, 8744.293827296799, 9287.360840316462, 8742.984825030151, 654.4464716710219, 2392.3337626067187, 3117.662013772324, 2707.403669402541, 2236.041758182795, 1679.6307027812738, 3516.2309943059663, 2236.9845889276985, 7285.358999043237, 4241.597093264071, 3911.3561163848617, 2097.204522625271, 1482.2916316545848, 1985.7569042364626, 3388.3952647819815, 4992.389886171599, 1923.7379843611407, 2494.9707644165883, 4947.678144517962, 2869.9167577269895, 3259.556993801622, 3186.3553722971023, 2826.3291414175173, 2886.5012088230515], \"Category\": [\"Default\", \"Default\", \"Default\", \"Default\", \"Default\", \"Default\", \"Default\", \"Default\", \"Default\", \"Default\", \"Default\", \"Default\", \"Default\", \"Default\", \"Default\", \"Default\", \"Default\", \"Default\", \"Default\", \"Default\", \"Default\", \"Default\", \"Default\", \"Default\", \"Default\", \"Default\", \"Default\", \"Default\", \"Default\", \"Default\", \"Topic1\", \"Topic1\", \"Topic1\", \"Topic1\", \"Topic1\", \"Topic1\", \"Topic1\", \"Topic1\", \"Topic1\", \"Topic1\", \"Topic1\", \"Topic1\", \"Topic1\", \"Topic1\", \"Topic1\", \"Topic1\", \"Topic1\", \"Topic1\", \"Topic1\", \"Topic1\", \"Topic1\", \"Topic1\", \"Topic1\", \"Topic1\", \"Topic1\", \"Topic1\", \"Topic1\", \"Topic1\", \"Topic1\", \"Topic1\", \"Topic1\", \"Topic1\", \"Topic1\", \"Topic1\", \"Topic1\", \"Topic1\", \"Topic1\", \"Topic1\", \"Topic1\", \"Topic1\", \"Topic1\", \"Topic1\", \"Topic1\", \"Topic1\", \"Topic1\", \"Topic1\", \"Topic2\", \"Topic2\", \"Topic2\", \"Topic2\", \"Topic2\", \"Topic2\", \"Topic2\", \"Topic2\", \"Topic2\", \"Topic2\", \"Topic2\", \"Topic2\", \"Topic2\", \"Topic2\", \"Topic2\", \"Topic2\", \"Topic2\", \"Topic2\", \"Topic2\", \"Topic2\", \"Topic2\", \"Topic2\", \"Topic2\", \"Topic2\", \"Topic2\", \"Topic2\", \"Topic2\", \"Topic2\", \"Topic2\", \"Topic2\", \"Topic2\", \"Topic2\", \"Topic2\", \"Topic2\", \"Topic2\", \"Topic2\", \"Topic2\", \"Topic2\", \"Topic2\", \"Topic2\", \"Topic2\", \"Topic2\", \"Topic2\", \"Topic2\", \"Topic2\", \"Topic2\", \"Topic2\", \"Topic2\", \"Topic2\", \"Topic2\", \"Topic2\", \"Topic2\", \"Topic2\", \"Topic2\", \"Topic2\", \"Topic2\", \"Topic2\", \"Topic2\", \"Topic2\", \"Topic2\", \"Topic2\", \"Topic2\", \"Topic2\", \"Topic2\", \"Topic2\", \"Topic2\", \"Topic2\", \"Topic2\", \"Topic2\", \"Topic2\", \"Topic2\", \"Topic2\", \"Topic2\", \"Topic2\", \"Topic2\", \"Topic2\", \"Topic2\", \"Topic2\", \"Topic3\", \"Topic3\", \"Topic3\", \"Topic3\", \"Topic3\", \"Topic3\", \"Topic3\", \"Topic3\", \"Topic3\", \"Topic3\", \"Topic3\", \"Topic3\", \"Topic3\", \"Topic3\", \"Topic3\", \"Topic3\", \"Topic3\", \"Topic3\", \"Topic3\", \"Topic3\", \"Topic3\", \"Topic3\", \"Topic3\", \"Topic3\", \"Topic3\", \"Topic3\", \"Topic3\", \"Topic3\", \"Topic3\", \"Topic3\", \"Topic3\", \"Topic3\", \"Topic3\", \"Topic3\", \"Topic3\", \"Topic3\", \"Topic3\", \"Topic3\", \"Topic3\", \"Topic3\", \"Topic3\", \"Topic3\", \"Topic3\", \"Topic3\", \"Topic3\", \"Topic4\", \"Topic4\", \"Topic4\", \"Topic4\", \"Topic4\", \"Topic4\", \"Topic4\", \"Topic4\", \"Topic4\", \"Topic4\", \"Topic4\", \"Topic4\", \"Topic4\", \"Topic4\", \"Topic4\", \"Topic4\", \"Topic4\", \"Topic4\", \"Topic4\", \"Topic4\", \"Topic4\", \"Topic4\", \"Topic4\", \"Topic4\", \"Topic4\", \"Topic4\", \"Topic4\", \"Topic4\", \"Topic4\", \"Topic4\", \"Topic4\", \"Topic4\", \"Topic4\", \"Topic4\", \"Topic4\", \"Topic4\", \"Topic4\", \"Topic4\", \"Topic5\", \"Topic5\", \"Topic5\", \"Topic5\", \"Topic5\", \"Topic5\", \"Topic5\", \"Topic5\", \"Topic5\", \"Topic5\", \"Topic5\", \"Topic5\", \"Topic5\", \"Topic5\", \"Topic5\", \"Topic5\", \"Topic5\", \"Topic5\", \"Topic5\", \"Topic5\", \"Topic5\", \"Topic5\", \"Topic5\", \"Topic5\", \"Topic5\", \"Topic5\", \"Topic5\", \"Topic5\", \"Topic5\", \"Topic5\", \"Topic5\", \"Topic5\", \"Topic5\", \"Topic5\", \"Topic5\", \"Topic5\", \"Topic5\", \"Topic5\", \"Topic5\", \"Topic5\", \"Topic5\", \"Topic5\", \"Topic5\", \"Topic5\", \"Topic5\", \"Topic5\", \"Topic5\", \"Topic5\", \"Topic5\", \"Topic5\", \"Topic5\", \"Topic5\", \"Topic5\", \"Topic5\", \"Topic5\", \"Topic5\", \"Topic5\", \"Topic5\", \"Topic5\", \"Topic5\", \"Topic5\", \"Topic5\", \"Topic5\", \"Topic5\", \"Topic5\", \"Topic5\", \"Topic5\", \"Topic5\", \"Topic5\", \"Topic5\", \"Topic5\", \"Topic5\", \"Topic5\", \"Topic5\", \"Topic5\", \"Topic5\", \"Topic5\"], \"logprob\": [30.0, 29.0, 28.0, 27.0, 26.0, 25.0, 24.0, 23.0, 22.0, 21.0, 20.0, 19.0, 18.0, 17.0, 16.0, 15.0, 14.0, 13.0, 12.0, 11.0, 10.0, 9.0, 8.0, 7.0, 6.0, 5.0, 4.0, 3.0, 2.0, 1.0, -3.5561, -2.9064, -3.9097, -4.2949, -4.3927, -4.5258, -4.5744, -4.7521, -4.8741, -4.9632, -5.0385, -5.2742, -5.2835, -5.3446, -5.474, -5.6074, -5.6105, -5.62, -5.7077, -5.7355, -5.8067, -5.9634, -5.9716, -5.9988, -6.0274, -6.0458, -6.0538, -6.0884, -6.0699, -6.286, -2.2529, -3.4803, -3.9503, -4.6212, -5.059, -5.2476, -5.4067, -5.3967, -5.5524, -5.6097, -4.4861, -4.7679, -4.333, -4.9923, -5.0555, -5.3781, -5.6246, -6.675, -6.9248, -6.9466, -7.3366, -7.3714, -7.4601, -7.496, -7.5767, -7.6131, -7.8158, -7.5526, -7.8586, -8.0229, -8.0558, -8.0899, -8.1077, -7.4527, -8.1034, -8.1435, -8.1682, -8.2038, -8.2453, -8.2625, -8.3175, -8.3121, -8.3406, -8.3198, -8.3703, -8.4144, -5.737, -4.5846, -4.672, -6.1785, -6.7281, -6.1879, -7.3022, -7.3842, -6.7354, -7.8413, -7.0356, -7.6992, -5.2879, -7.1387, -7.6349, -3.0605, -5.5475, -6.1584, -4.3051, -5.0272, -3.8335, -5.3412, -6.1195, -5.62, -5.8108, -5.0457, -2.408, -4.0119, -4.6072, -5.9187, -6.2607, -6.4938, -5.7868, -3.2378, -5.1243, -4.7998, -5.4076, -4.9474, -5.4308, -5.3969, -4.3041, -5.7021, -5.6832, -5.8117, -5.3472, -5.3006, -5.2357, -5.7401, -2.4839, -3.699, -4.6617, -5.1334, -5.2099, -5.349, -5.5385, -5.6893, -5.7094, -5.7843, -5.7831, -5.873, -5.9158, -5.9526, -5.9656, -6.0437, -6.06, -6.0784, -6.1778, -4.8992, -6.18, -6.1615, -6.1929, -6.2083, -6.2191, -6.3013, -6.3012, -6.3091, -6.3597, -6.3916, -3.4469, -4.0943, -4.2946, -4.3894, -4.9125, -5.0714, -4.818, -5.4216, -5.7598, -5.6191, -5.5686, -5.4207, -4.8492, -5.7684, -5.9362, -2.2918, -3.4049, -3.8951, -4.5069, -4.5876, -4.6072, -4.8496, -5.0273, -5.0322, -5.0552, -5.1527, -5.2037, -5.3233, -5.3789, -5.6049, -5.6587, -5.6781, -5.7224, -5.7825, -5.8087, -5.8128, -5.8616, -5.8412, -6.0509, -6.0562, -6.0694, -6.1002, -6.1352, -6.1746, -6.1806, -4.2286, -4.5587, -5.9879, -5.011, -5.8423, -5.8551, -5.7331, -5.9542, -8.297, -8.9054, -8.9743, -9.0231, -9.0718, -9.0944, -9.2154, -9.2221, -9.2276, -9.2521, -9.384, -9.3946, -9.3686, -9.3992, -9.449, -9.4278, -9.4693, -9.488, -9.506, -9.468, -9.4497, -9.5808, -9.5955, -9.5114, -9.608, -9.6472, -9.6906, -9.7, -9.7192, -9.7463, -8.1367, -8.0983, -7.2522, -8.178, -2.137, -3.9514, -7.1531, -8.2054, -6.6961, -4.546, -6.0096, -4.7181, -5.096, -6.922, -3.7529, -3.1866, -8.3881, -7.5971, -6.7288, -4.045, -4.5559, -4.511, -4.5768, -6.8963, -5.7433, -5.5096, -5.6438, -5.8152, -6.0708, -5.4253, -5.8267, -4.8258, -5.3004, -5.3739, -5.9213, -6.2167, -5.9842, -5.5558, -5.2541, -6.0115, -5.8159, -5.3371, -5.7397, -5.6804, -5.7093, -5.9721, -5.9714], \"loglift\": [30.0, 29.0, 28.0, 27.0, 26.0, 25.0, 24.0, 23.0, 22.0, 21.0, 20.0, 19.0, 18.0, 17.0, 16.0, 15.0, 14.0, 13.0, 12.0, 11.0, 10.0, 9.0, 8.0, 7.0, 6.0, 5.0, 4.0, 3.0, 2.0, 1.0, 0.4806, 0.4806, 0.4806, 0.4806, 0.4806, 0.4806, 0.4806, 0.4806, 0.4806, 0.4806, 0.4806, 0.4806, 0.4806, 0.4806, 0.4806, 0.4806, 0.4806, 0.4806, 0.4806, 0.4806, 0.4806, 0.4806, 0.4806, 0.4806, 0.4806, 0.4806, 0.4806, 0.4806, 0.4806, 0.4805, 0.4798, 0.479, 0.4805, 0.4803, 0.4799, 0.4804, 0.4804, 0.4803, 0.4802, 0.4795, 0.4543, 0.4535, -0.512, -0.4084, -0.6171, -0.0645, 1.8763, 1.8759, 1.8758, 1.8757, 1.8754, 1.8754, 1.8753, 1.8752, 1.8751, 1.8751, 1.8748, 1.8747, 1.8747, 1.8744, 1.8743, 1.8742, 1.8742, 1.8742, 1.8742, 1.8741, 1.874, 1.8739, 1.8738, 1.8738, 1.8736, 1.8736, 1.8736, 1.8736, 1.8735, 1.8733, 1.8699, 1.8539, 1.8537, 1.8682, 1.873, 1.8674, 1.87, 1.8697, 1.8612, 1.8715, 1.8534, 1.8661, 1.7959, 1.8402, 1.8571, 1.6657, 1.7619, 1.7925, 1.6736, 1.7181, 1.6399, 1.7331, 1.7814, 1.7333, 1.7371, 1.6672, 1.4129, 1.5699, 1.6221, 1.7335, 1.7628, 1.7822, 1.6985, 1.3461, 1.5988, 1.5472, 1.6308, 1.5288, 1.6085, 1.5462, 1.0095, 1.5581, 1.5129, 1.5331, 1.0479, 0.8152, 0.6344, 0.992, 2.448, 2.448, 2.4479, 2.4478, 2.4478, 2.4478, 2.4477, 2.4476, 2.4476, 2.4476, 2.4476, 2.4476, 2.4476, 2.4475, 2.4475, 2.4475, 2.4475, 2.4475, 2.4474, 2.4474, 2.4474, 2.4474, 2.4474, 2.4474, 2.4474, 2.4473, 2.4473, 2.4473, 2.4473, 2.4473, 2.4468, 2.4453, 2.4471, 2.4436, 2.4458, 2.446, 2.4425, 2.4472, 2.4466, 2.4451, 2.4443, 2.4415, 2.4271, 2.4382, 2.4354, 2.5861, 2.586, 2.586, 2.5859, 2.5859, 2.5859, 2.5859, 2.5859, 2.5859, 2.5859, 2.5858, 2.5858, 2.5858, 2.5858, 2.5857, 2.5857, 2.5857, 2.5856, 2.5856, 2.5856, 2.5856, 2.5856, 2.5856, 2.5855, 2.5855, 2.5855, 2.5854, 2.5854, 2.5854, 2.5854, 2.585, 2.5842, 2.5838, 2.5444, 2.5672, 2.5573, 2.5136, 2.0364, 2.7011, 2.6954, 2.695, 2.6942, 2.6936, 2.6932, 2.6915, 2.6914, 2.6911, 2.6907, 2.6884, 2.6883, 2.688, 2.6878, 2.6874, 2.6873, 2.6869, 2.6865, 2.6862, 2.6859, 2.6855, 2.6845, 2.6842, 2.6841, 2.6837, 2.6821, 2.6819, 2.6813, 2.6812, 2.6803, 2.679, 2.6423, 2.6115, 2.6291, 2.3014, 2.353, 2.552, 2.6069, 2.4962, 2.3315, 2.4177, 2.305, 2.3352, 2.4899, 2.203, 2.1533, 2.6035, 2.5238, 2.4283, 2.1502, 2.1761, 2.1607, 2.1553, 2.428, 2.2848, 2.2537, 2.2606, 2.2805, 2.3109, 2.2176, 2.2685, 2.0886, 2.155, 2.1625, 2.2385, 2.2901, 2.2301, 2.1242, 2.0383, 2.2345, 2.1702, 1.9643, 2.1064, 2.0383, 2.0322, 1.8893, 1.8689]}, \"token.table\": {\"Topic\": [1, 2, 3, 1, 2, 2, 1, 2, 2, 1, 1, 1, 2, 5, 5, 5, 4, 1, 2, 1, 2, 2, 1, 2, 2, 4, 1, 3, 1, 2, 3, 1, 2, 1, 2, 1, 2, 1, 2, 3, 5, 4, 1, 2, 1, 2, 5, 3, 1, 2, 1, 2, 2, 1, 5, 4, 3, 1, 2, 3, 1, 2, 3, 1, 2, 1, 2, 1, 2, 1, 2, 1, 2, 1, 2, 5, 1, 2, 4, 4, 5, 1, 2, 1, 2, 4, 3, 2, 3, 1, 5, 1, 1, 5, 1, 1, 3, 1, 3, 2, 1, 2, 5, 1, 3, 5, 5, 4, 1, 3, 1, 5, 1, 1, 2, 1, 2, 1, 1, 2, 1, 2, 1, 1, 5, 4, 1, 1, 2, 1, 2, 2, 1, 5, 4, 1, 3, 1, 3, 3, 1, 2, 5, 1, 3, 1, 1, 1, 2, 2, 1, 2, 2, 1, 1, 5, 4, 1, 1, 2, 4, 3, 1, 3, 1, 3, 5, 1, 5, 1, 2, 5, 1, 4, 5, 1, 2, 5, 1, 5, 1, 5, 1, 5, 5, 5, 1, 5, 1, 5, 1, 5, 5, 5, 1, 5, 5, 1, 5, 5, 5, 1, 5, 1, 5, 5, 1, 5, 5, 1, 5, 1, 5, 5, 4, 5, 1, 5, 1, 5, 5, 5, 1, 5, 5, 1, 5, 5, 1, 5, 1, 5, 5, 1, 5, 1, 5, 5, 1, 1, 2, 1, 2, 2, 1, 1, 5, 4, 1, 2, 1, 3, 1, 1, 2, 1, 2, 3, 1, 5, 5, 1, 3, 1, 1, 2, 5, 2, 2, 2, 5, 1, 2, 5, 1, 2, 2, 2, 4, 4, 4, 4, 2, 4, 4, 4, 1, 4, 4, 4, 4, 4, 4, 4, 3, 4, 1, 3, 1, 2, 2, 1, 2, 2, 5, 1, 4, 5, 5, 1, 5, 4, 1, 5, 3, 1, 1, 2, 3, 4, 5, 1, 2, 1, 2, 2, 1, 2, 2, 1, 2, 5, 5, 4, 3, 1, 2, 1, 2, 1, 2, 1, 2, 5, 1, 2, 2, 2, 4, 1, 1, 1, 2, 2, 1, 2, 2, 1, 5, 4, 1, 3, 5, 1, 2, 1, 2, 1, 5, 1, 3, 5, 1, 2, 5, 1, 5, 1, 5, 4, 5, 1, 1, 2, 1, 2, 2, 2, 4, 2, 4, 4, 1, 3, 1, 3, 4, 3, 3, 2, 3, 1, 3, 3, 3, 5, 3, 3, 3, 2, 3, 3, 2, 3, 3, 3, 3, 1, 3, 3, 3, 3, 3, 5, 3, 3, 3, 4, 3, 3, 3, 2, 3, 3, 1], \"Freq\": [0.9983520305134072, 0.0015008835926594135, 0.00013579422981204218, 0.18872994966582318, 0.8111348431238025, 0.9989214887168532, 0.18355995270907907, 0.8164083317615304, 0.9991767522530043, 0.9999665562844243, 0.999941419495352, 0.4176644007586363, 0.0035532160930742455, 0.5787435303113354, 0.9870895448977683, 0.982815036798388, 0.999927804487074, 0.9732693312454238, 0.026715414914322808, 0.10734890900429232, 0.8924938364891746, 0.9970497202358382, 0.10817752083326028, 0.8917005813317895, 0.9965195551954735, 0.9990364840471078, 0.0021395420332033436, 0.9978824042860396, 0.41103894065803015, 0.588369222694093, 0.0005872747561031734, 0.00569667734158608, 0.9926460267713746, 0.02251717433917718, 0.9774500679051913, 0.034613759734920854, 0.9648585526109187, 0.2853858314733005, 0.15582597623361186, 0.0005902499099758024, 0.5580812898821212, 0.9996185587423851, 0.6539771659808383, 0.34600888205766167, 0.008591263813671545, 0.9910022809070126, 0.9712934064160256, 0.9995463968334679, 0.999990666012016, 0.9981647354068628, 0.2176763862994189, 0.7821434180094752, 0.9983305528589553, 0.5586752005847656, 0.44120834397036274, 0.9992542783836398, 0.999639041146989, 0.3706016695027921, 0.6290550228955698, 0.0003360901864665509, 0.5628421117627223, 0.43668643750283453, 0.0004899249485820881, 0.005249695960682845, 0.9935049605592284, 0.02225722880828868, 0.9776978095288495, 0.7111951578292441, 0.28876755100884477, 0.022740668483236092, 0.9768600200624894, 0.009721894443204036, 0.9896888543181709, 0.2543457364617651, 0.2071277476097159, 0.5384772391470612, 0.01806992835957929, 0.9811971099251555, 0.9998687819885348, 0.999251315037022, 0.9925845161384832, 0.5797524371424095, 0.42023606545564757, 0.008091071452651484, 0.9917950217487004, 0.9993646135333158, 0.9994142764796686, 0.00042293674912778146, 0.9993995381889476, 0.09713994403461589, 0.898544482320197, 0.9999821250416256, 0.2511132831830118, 0.7483549704784049, 0.9999833515097467, 0.9993046225766883, 0.0006590346348128108, 0.9996690544648769, 0.000313558425471799, 0.998004369893072, 0.2724997315133293, 0.7273124506583521, 0.9825179054672634, 0.35975425866765504, 0.0007387151102005237, 0.6397272854336534, 0.9803003548734767, 0.9995433547274916, 0.9999652087671852, 0.9993306748051332, 0.9999928811145912, 4.032668399844303e-06, 0.9999580068018824, 0.280531726644969, 0.7194218620895252, 0.014760429675360707, 0.9845206593465591, 0.999913291855317, 0.2640222890131109, 0.7359820445377819, 0.0029657101246781973, 0.9964786018918743, 0.9999443506193478, 0.42722293087360225, 0.5727729027846871, 0.9998190847819783, 0.9999279905586652, 0.9999847483116274, 0.9980566565243236, 0.13351245488652563, 0.866462011205679, 0.9972051701859794, 0.48779634871350497, 0.5120327710709685, 0.9995943551929785, 0.012375356383953214, 0.9876712999764564, 0.004301601333584798, 0.995567673352317, 0.9992299953880859, 0.9988759033677452, 0.001142534595387825, 0.9859291199299742, 0.9996674912008182, 0.00029181691871192514, 0.9999969725894553, 0.9999043488708305, 0.2812351895779511, 0.7186964563398367, 0.9982335540749167, 0.22454482192401715, 0.7753921469335514, 0.9983406293759126, 0.9999554210793841, 0.4121544942542418, 0.5876975432776216, 0.99976160089867, 0.9999660891176723, 0.13008080261732521, 0.8699638568681551, 0.9993923439930269, 0.9994847790515349, 0.0017558960533679406, 0.9981014851930051, 0.3336147461216599, 0.00015001700794125143, 0.6662255322670976, 0.331262998394829, 0.6686463293235116, 0.022161463697077225, 0.4024427503288386, 0.5754907753677182, 0.36373410427125713, 0.0009622595351091459, 0.6350912931720363, 0.011323364043429937, 0.41290246663416236, 0.5756615275816452, 0.3406886939220602, 0.6584399312236252, 0.37430779474828746, 0.6255946837066919, 0.34748903823310473, 0.6524922867208491, 0.9862806802935808, 0.9885140158309886, 0.29843160523756, 0.7014857847250693, 0.2430236588340515, 0.7562172362655326, 0.14311612758971565, 0.8564605760447046, 0.9747565416521072, 0.9836640068289666, 0.3549420965750171, 0.6446177622936707, 0.9907262424860825, 0.05668222187752111, 0.9384056733056272, 0.978063272712237, 0.9835419885161231, 0.31336450168446356, 0.6866505395711483, 0.16607224827178302, 0.833750470915482, 0.9662239902756129, 0.379200494478217, 0.6204183389072554, 0.9775684215691671, 0.37635062876841574, 0.6232657512338818, 0.07404984232332375, 0.9222571271177594, 0.9768786970716195, 0.9591664158792655, 0.04064926945861598, 0.31068888471206224, 0.6892690442315751, 0.19514963604994898, 0.8039497827014992, 0.9849130109660345, 0.9940376199581246, 0.08909591346812955, 0.9093024109835575, 0.9869224258511055, 0.19014616771028758, 0.810129799047352, 0.990704002292968, 0.3961549760840136, 0.6037850253269302, 0.09473143654067304, 0.9067151783178705, 0.9918217352153839, 0.415636132811555, 0.5843755849944524, 0.3268575640412619, 0.6727669350940364, 0.9857954098067958, 0.9998705190318918, 0.9999874264623392, 0.9966397071139431, 0.23497535362706654, 0.7649528553881801, 0.9969648678050184, 0.9998818459246297, 0.38706217031928364, 0.6125877405347075, 0.9994536132779582, 0.9995621120565484, 0.00039777912361545415, 0.0032935657321603814, 0.9963036339785154, 0.9999761005701202, 0.9999657318327883, 0.9980373859924985, 0.2893934075621872, 0.7094465666057703, 0.0010554099473456863, 0.34443354555267347, 0.6554269410516893, 0.9680722014350901, 0.9998795000141638, 0.9992751827025612, 0.9999535745708761, 0.23635270746163758, 0.757575608616846, 0.006008006472645944, 0.9980929945467603, 0.9991269726477938, 0.9984192122029305, 0.968578919430235, 0.13089485438231166, 0.8668913601635553, 0.0022964009540756432, 0.004507169581341509, 0.9960844774764733, 0.9961952367692112, 0.9975777987814061, 0.9999928051103559, 0.9997688906950135, 0.9997997307441432, 0.9995268558934055, 0.0017249454506486795, 0.998053437745326, 0.9994397339984659, 0.999063864807901, 0.0009927294857345274, 0.9989340450203682, 0.999797955076956, 0.9997119600070502, 0.9998185131887286, 0.9999466203641054, 0.9991167606155349, 0.999235765714099, 0.06970132121879818, 0.93004449506874, 0.9998440313080148, 0.00014888345654793297, 0.30472007561668984, 0.6951256172724608, 0.9981235968049402, 0.2936356974938539, 0.7062841746715859, 0.9992325026399046, 0.9883519559574797, 0.24142539816369227, 0.0030560176982745856, 0.7563643803229599, 0.9868448830998287, 0.5242863266831852, 0.4755766101332054, 0.9997000561764525, 0.9997788207717059, 0.00019653603710865066, 0.9997001504625659, 0.9999501590434028, 0.9991253760931211, 0.0008384245437857134, 1.8864552235178553e-05, 1.4672429516249986e-05, 2.0960613594642836e-06, 0.9739968154123894, 0.02598366983886101, 0.0905403311463218, 0.9094518628559398, 0.9963528293775237, 0.07739194200985504, 0.9225249558065494, 0.9960829428660395, 0.48142778214161064, 0.009415145674216635, 0.5090455427859795, 0.9603817094762638, 0.9996067268565044, 0.9991435101822774, 0.21062097207662542, 0.7893656885000413, 0.006309484828669509, 0.9933323723744474, 0.9997577471848094, 0.00020952253901936654, 0.08945273327286557, 0.9100610409017881, 0.9819361351375758, 0.19003743472835483, 0.809959550752746, 0.9997653157406111, 0.0021597542943090063, 0.9978064839707609, 0.9999167271327289, 0.9999936111440895, 0.16299637626649002, 0.8368442864948706, 0.9983956790704043, 0.14639114300802, 0.8535426580451775, 0.9968487069255149, 0.48774235496804785, 0.5121795489335927, 0.9994613985315043, 0.009494381958232143, 0.9904139495376899, 0.9710690942720764, 0.9999830504214621, 0.9971265355440797, 0.13326292303217296, 0.8666347598466072, 0.4515810420321907, 0.5480995209233301, 0.4251036742547982, 0.0003411290685473839, 0.5745466337009313, 0.009007444694818368, 0.5584615710787388, 0.4323573453512816, 0.42005891335677487, 0.5798500398619387, 0.0271556680057694, 0.970815131206256, 0.971764451212503, 0.028238259479327316, 0.9999218315856906, 0.08009925965336077, 0.9194001977603149, 0.0015319976697252102, 0.9973304829911119, 0.9964138535893576, 0.9990343310812536, 0.9999625713639425, 0.01836412897959747, 0.9812566251431581, 0.9997645602917405, 0.9999828964302664, 0.9996492464878134, 0.0010881424697029322, 0.9988158651445916, 4.946102135013329e-05, 0.9993499344350788, 0.999040939915388, 0.00637395099042453, 0.9936281377295129, 0.0007128794594008571, 0.9991005623503013, 0.9994973863492554, 0.997144685147802, 0.0026001165192902267, 0.9999788066872392, 0.999877886022013, 0.9996225030999044, 0.005432353292393584, 0.9945086777431968, 0.9996408938831421, 0.0026417338977915207, 0.9972545464162991, 0.9991528584287958, 0.9993701435926875, 0.9994657663739943, 0.0008083871848742673, 0.9991665605045944, 0.9991716179388909, 0.9992060652387577, 0.9996643229046052, 0.9792169678709485, 0.02069601079437391, 0.9996465516615826, 0.9996987100482114, 0.4227676137277496, 0.5769771337827287, 0.9997807634482335, 0.9999534735523741, 0.9997432172326899, 0.000999180140914362, 0.9986805508439047, 0.9997306091185523, 0.9999755378278049], \"Term\": [\"\\u26fd\", \"\\u26fd\", \"\\u26fd\", \"\\u26fd\\ud83c\\udf2f\", \"\\u26fd\\ud83c\\udf2f\", \"\\u26fd\\ud83c\\udf2f\\ud83c\\udf7d\", \"\\u26fd\\ud83c\\udf7d\", \"\\u26fd\\ud83c\\udf7d\", \"\\u26fd\\ud83c\\udf7d\\ud83c\\udf2f\", \"\\u26fd\\ud83c\\udfec\", \"\\u26fd\\ud83d\\udc8a\", \"\\u26fd\\ud83d\\udcb0\", \"\\u26fd\\ud83d\\udcb0\", \"\\u26fd\\ud83d\\udcb0\", \"\\u26fd\\ud83d\\udcb0\\ud83d\\udc89\", \"\\u26fd\\ud83d\\udcb0\\ud83d\\ude97\\ud83d\\uded2\", \"\\u26fd\\ud83d\\ude95\", \"\\u26fd\\ud83d\\uded2\", \"\\u26fd\\ud83d\\uded2\", \"\\u26fd\\ud83d\\uded2\\ud83c\\udf2f\", \"\\u26fd\\ud83d\\uded2\\ud83c\\udf2f\", \"\\u26fd\\ud83d\\uded2\\ud83c\\udf2f\\ud83c\\udf7d\", \"\\u26fd\\ud83d\\uded2\\ud83c\\udf7d\", \"\\u26fd\\ud83d\\uded2\\ud83c\\udf7d\", \"\\u26fd\\ud83d\\uded2\\ud83c\\udf7d\\ud83c\\udf2f\", \"\\u26fd\\ud83d\\uded2\\ud83d\\ude95\", \"\\u26fd\\ud83e\\uddfe\", \"\\u26fd\\ud83e\\uddfe\", \"\\ud83c\\udf2f\", \"\\ud83c\\udf2f\", \"\\ud83c\\udf2f\", \"\\ud83c\\udf2f\\u26fd\\ud83c\\udf7d\", \"\\ud83c\\udf2f\\u26fd\\ud83c\\udf7d\", \"\\ud83c\\udf2f\\ud83c\\udf7d\", \"\\ud83c\\udf2f\\ud83c\\udf7d\", \"\\ud83c\\udf2f\\ud83c\\udfec\\ud83c\\udf7d\", \"\\ud83c\\udf2f\\ud83c\\udfec\\ud83c\\udf7d\", \"\\ud83c\\udf2f\\ud83d\\udcb0\", \"\\ud83c\\udf2f\\ud83d\\udcb0\", \"\\ud83c\\udf2f\\ud83d\\udcb0\", \"\\ud83c\\udf2f\\ud83d\\udcb0\", \"\\ud83c\\udf2f\\ud83d\\ude95\", \"\\ud83c\\udf2f\\ud83d\\uded2\", \"\\ud83c\\udf2f\\ud83d\\uded2\", \"\\ud83c\\udf2f\\ud83d\\uded2\\ud83c\\udf7d\", \"\\ud83c\\udf2f\\ud83d\\uded2\\ud83c\\udf7d\", \"\\ud83c\\udf2f\\ud83d\\uded2\\ud83d\\udcda\\ud83d\\udcb0\", \"\\ud83c\\udf2f\\ud83e\\uddfe\", \"\\ud83c\\udf7a\", \"\\ud83c\\udf7a\\ud83c\\udf2f\\ud83c\\udf7d\", \"\\ud83c\\udf7a\\ud83c\\udf7d\", \"\\ud83c\\udf7a\\ud83c\\udf7d\", \"\\ud83c\\udf7a\\ud83c\\udf7d\\ud83c\\udf2f\", \"\\ud83c\\udf7a\\ud83d\\udcb0\", \"\\ud83c\\udf7a\\ud83d\\udcb0\", \"\\ud83c\\udf7a\\ud83d\\ude95\", \"\\ud83c\\udf7a\\ud83e\\uddfe\", \"\\ud83c\\udf7d\", \"\\ud83c\\udf7d\", \"\\ud83c\\udf7d\", \"\\ud83c\\udf7d\\u26fd\", \"\\ud83c\\udf7d\\u26fd\", \"\\ud83c\\udf7d\\u26fd\", \"\\ud83c\\udf7d\\u26fd\\ud83c\\udf2f\", \"\\ud83c\\udf7d\\u26fd\\ud83c\\udf2f\", \"\\ud83c\\udf7d\\ud83c\\udf2f\", \"\\ud83c\\udf7d\\ud83c\\udf2f\", \"\\ud83c\\udf7d\\ud83c\\udfec\", \"\\ud83c\\udf7d\\ud83c\\udfec\", \"\\ud83c\\udf7d\\ud83c\\udfec\\ud83c\\udf2f\", \"\\ud83c\\udf7d\\ud83c\\udfec\\ud83c\\udf2f\", \"\\ud83c\\udf7d\\ud83d\\udc8a\\ud83c\\udf2f\", \"\\ud83c\\udf7d\\ud83d\\udc8a\\ud83c\\udf2f\", \"\\ud83c\\udf7d\\ud83d\\udcb0\", \"\\ud83c\\udf7d\\ud83d\\udcb0\", \"\\ud83c\\udf7d\\ud83d\\udcb0\", \"\\ud83c\\udf7d\\ud83d\\ude83\", \"\\ud83c\\udf7d\\ud83d\\ude83\", \"\\ud83c\\udf7d\\ud83d\\ude95\", \"\\ud83c\\udf7d\\ud83d\\ude95\\ud83d\\uded2\", \"\\ud83c\\udf7d\\ud83d\\ude9a\\ud83d\\udcb0\", \"\\ud83c\\udf7d\\ud83d\\uded2\", \"\\ud83c\\udf7d\\ud83d\\uded2\", \"\\ud83c\\udf7d\\ud83d\\uded2\\ud83c\\udf2f\", \"\\ud83c\\udf7d\\ud83d\\uded2\\ud83c\\udf2f\", \"\\ud83c\\udf7d\\ud83d\\uded2\\ud83d\\ude95\", \"\\ud83c\\udf7d\\ud83d\\uded2\\ud83e\\uddfe\", \"\\ud83c\\udf7d\\ud83e\\uddfe\", \"\\ud83c\\udf7d\\ud83e\\uddfe\", \"\\ud83c\\udfa1\\ud83d\\udcb0\", \"\\ud83c\\udfa1\\ud83d\\udcb0\", \"\\ud83c\\udfab\", \"\\ud83c\\udfab\\ud83d\\udcb0\", \"\\ud83c\\udfab\\ud83d\\udcb0\", \"\\ud83c\\udfd7\", \"\\ud83c\\udfdb\", \"\\ud83c\\udfdb\", \"\\ud83c\\udfe0\", \"\\ud83c\\udfe0\", \"\\ud83c\\udfe0\\ud83c\\udf2f\\ud83c\\udf7d\", \"\\ud83c\\udfe0\\ud83c\\udf7d\", \"\\ud83c\\udfe0\\ud83c\\udf7d\", \"\\ud83c\\udfe0\\ud83c\\udfab\\ud83d\\udcb0\", \"\\ud83c\\udfe0\\ud83d\\udcb0\", \"\\ud83c\\udfe0\\ud83d\\udcb0\", \"\\ud83c\\udfe0\\ud83d\\udcb0\", \"\\ud83c\\udfe0\\ud83d\\ude83\\ud83d\\udcb0\", \"\\ud83c\\udfe0\\ud83d\\ude95\", \"\\ud83c\\udfe0\\ud83d\\uded2\", \"\\ud83c\\udfe0\\ud83e\\uddfe\", \"\\ud83c\\udfec\", \"\\ud83c\\udfec\", \"\\ud83c\\udfec\\u26fd\", \"\\ud83c\\udfec\\ud83c\\udf2f\", \"\\ud83c\\udfec\\ud83c\\udf2f\", \"\\ud83c\\udfec\\ud83c\\udf2f\\ud83c\\udf7d\", \"\\ud83c\\udfec\\ud83c\\udf2f\\ud83c\\udf7d\", \"\\ud83c\\udfec\\ud83c\\udf7a\", \"\\ud83c\\udfec\\ud83c\\udf7d\", \"\\ud83c\\udfec\\ud83c\\udf7d\", \"\\ud83c\\udfec\\ud83c\\udf7d\\ud83c\\udf2f\", \"\\ud83c\\udfec\\ud83c\\udf7d\\ud83c\\udf2f\", \"\\ud83c\\udfec\\ud83d\\udc8a\", \"\\ud83c\\udfec\\ud83d\\udcb0\", \"\\ud83c\\udfec\\ud83d\\udcb0\", \"\\ud83c\\udfec\\ud83d\\ude95\", \"\\ud83c\\udfec\\ud83d\\ude97\", \"\\ud83c\\udfec\\ud83d\\uded2\", \"\\ud83c\\udfec\\ud83d\\uded2\\ud83c\\udf2f\\ud83c\\udf7d\", \"\\ud83c\\udfec\\ud83d\\uded2\\ud83c\\udf7d\", \"\\ud83c\\udfec\\ud83d\\uded2\\ud83c\\udf7d\", \"\\ud83c\\udfec\\ud83d\\uded2\\ud83c\\udf7d\\ud83c\\udf2f\", \"\\ud83c\\udfec\\ud83d\\uded2\\ud83d\\udcb0\", \"\\ud83c\\udfec\\ud83d\\uded2\\ud83d\\udcb0\", \"\\ud83c\\udfec\\ud83d\\uded2\\ud83d\\ude95\", \"\\ud83c\\udfec\\ud83d\\uded2\\ud83e\\uddfe\", \"\\ud83c\\udfec\\ud83d\\uded2\\ud83e\\uddfe\", \"\\ud83c\\udfec\\ud83e\\uddfe\", \"\\ud83c\\udfec\\ud83e\\uddfe\", \"\\ud83c\\udfec\\ud83e\\uddfe\\ud83d\\uded2\", \"\\ud83d\\udc55\", \"\\ud83d\\udc55\", \"\\ud83d\\udc6e\\ud83d\\udcb0\\ud83c\\udf7d\", \"\\ud83d\\udc88\", \"\\ud83d\\udc88\", \"\\ud83d\\udc8a\", \"\\ud83d\\udc8a\\u26fd\", \"\\ud83d\\udc8a\\ud83c\\udf2f\", \"\\ud83d\\udc8a\\ud83c\\udf2f\", \"\\ud83d\\udc8a\\ud83c\\udf2f\\ud83c\\udf7d\", \"\\ud83d\\udc8a\\ud83c\\udf7d\", \"\\ud83d\\udc8a\\ud83c\\udf7d\", \"\\ud83d\\udc8a\\ud83c\\udf7d\\ud83c\\udf2f\", \"\\ud83d\\udc8a\\ud83c\\udfec\", \"\\ud83d\\udc8a\\ud83d\\udcb0\", \"\\ud83d\\udc8a\\ud83d\\udcb0\", \"\\ud83d\\udc8a\\ud83d\\ude95\", \"\\ud83d\\udc8a\\ud83d\\uded2\", \"\\ud83d\\udc8a\\ud83d\\uded2\\ud83c\\udf7d\", \"\\ud83d\\udc8a\\ud83d\\uded2\\ud83c\\udf7d\", \"\\ud83d\\udc8a\\ud83d\\uded2\\ud83d\\ude95\", \"\\ud83d\\udc8a\\ud83d\\uded2\\ud83e\\uddfe\", \"\\ud83d\\udc8a\\ud83e\\uddfe\", \"\\ud83d\\udc8a\\ud83e\\uddfe\", \"\\ud83d\\udcb0\", \"\\ud83d\\udcb0\", \"\\ud83d\\udcb0\", \"\\ud83d\\udcb0\\u26fd\", \"\\ud83d\\udcb0\\u26fd\", \"\\ud83d\\udcb0\\ud83c\\udf2f\", \"\\ud83d\\udcb0\\ud83c\\udf2f\", \"\\ud83d\\udcb0\\ud83c\\udf2f\", \"\\ud83d\\udcb0\\ud83c\\udf7a\", \"\\ud83d\\udcb0\\ud83c\\udf7a\", \"\\ud83d\\udcb0\\ud83c\\udf7a\", \"\\ud83d\\udcb0\\ud83c\\udf7d\", \"\\ud83d\\udcb0\\ud83c\\udf7d\", \"\\ud83d\\udcb0\\ud83c\\udf7d\", \"\\ud83d\\udcb0\\ud83c\\udfd7\", \"\\ud83d\\udcb0\\ud83c\\udfd7\", \"\\ud83d\\udcb0\\ud83c\\udfdb\", \"\\ud83d\\udcb0\\ud83c\\udfdb\", \"\\ud83d\\udcb0\\ud83c\\udfe0\", \"\\ud83d\\udcb0\\ud83c\\udfe0\", \"\\ud83d\\udcb0\\ud83c\\udfe0\\ud83d\\uded2\\ud83c\\udfec\", \"\\ud83d\\udcb0\\ud83c\\udfe8\\u26fd\", \"\\ud83d\\udcb0\\ud83c\\udfec\", \"\\ud83d\\udcb0\\ud83c\\udfec\", \"\\ud83d\\udcb0\\ud83c\\udfec\\u26fd\", \"\\ud83d\\udcb0\\ud83c\\udfec\\u26fd\", \"\\ud83d\\udcb0\\ud83c\\udfec\\ud83c\\udf7a\", \"\\ud83d\\udcb0\\ud83c\\udfec\\ud83c\\udf7a\", \"\\ud83d\\udcb0\\ud83c\\udfec\\ud83c\\udf7a\\u26fd\", \"\\ud83d\\udcb0\\ud83c\\udfec\\ud83c\\udf7a\\ud83d\\udc8a\", \"\\ud83d\\udcb0\\ud83c\\udfec\\ud83d\\uded2\", \"\\ud83d\\udcb0\\ud83c\\udfec\\ud83d\\uded2\", \"\\ud83d\\udcb0\\ud83d\\udc5f\", \"\\ud83d\\udcb0\\ud83d\\udc84\", \"\\ud83d\\udcb0\\ud83d\\udc84\", \"\\ud83d\\udcb0\\ud83d\\udc86\\ud83c\\udfec\", \"\\ud83d\\udcb0\\ud83d\\udc89\\ud83d\\udc8a\", \"\\ud83d\\udcb0\\ud83d\\udc8a\", \"\\ud83d\\udcb0\\ud83d\\udc8a\", \"\\ud83d\\udcb0\\ud83d\\udc8a\\ud83c\\udf7a\", \"\\ud83d\\udcb0\\ud83d\\udc8a\\ud83c\\udf7a\", \"\\ud83d\\udcb0\\ud83d\\udc8a\\ud83c\\udfec\\ud83c\\udf7a\", \"\\ud83d\\udcb0\\ud83d\\udcda\", \"\\ud83d\\udcb0\\ud83d\\udcda\", \"\\ud83d\\udcb0\\ud83d\\udcda\\ud83c\\udfec\\ud83d\\udc8a\", \"\\ud83d\\udcb0\\ud83d\\udcf1\", \"\\ud83d\\udcb0\\ud83d\\udcf1\", \"\\ud83d\\udcb0\\ud83d\\ude83\", \"\\ud83d\\udcb0\\ud83d\\ude83\", \"\\ud83d\\udcb0\\ud83d\\ude83\\u26fd\", \"\\ud83d\\udcb0\\ud83d\\ude95\", \"\\ud83d\\udcb0\\ud83d\\ude95\", \"\\ud83d\\udcb0\\ud83d\\ude97\", \"\\ud83d\\udcb0\\ud83d\\ude97\", \"\\ud83d\\udcb0\\ud83d\\ude97\\ud83c\\udfec\", \"\\ud83d\\udcb0\\ud83d\\ude97\\ud83c\\udfec\", \"\\ud83d\\udcb0\\ud83d\\ude97\\ud83c\\udfec\\u26fd\", \"\\ud83d\\udcb0\\ud83d\\ude97\\ud83c\\udfec\\ud83d\\uded2\", \"\\ud83d\\udcb0\\ud83d\\ude97\\ud83d\\udc8a\", \"\\ud83d\\udcb0\\ud83d\\ude97\\ud83d\\udc8a\", \"\\ud83d\\udcb0\\ud83d\\ude97\\ud83d\\udc8a\\ud83d\\uded2\", \"\\ud83d\\udcb0\\ud83d\\ude97\\ud83d\\uded2\", \"\\ud83d\\udcb0\\ud83d\\ude97\\ud83d\\uded2\", \"\\ud83d\\udcb0\\ud83d\\ude97\\ud83d\\uded2\\ud83c\\udfe8\", \"\\ud83d\\udcb0\\ud83d\\uded2\", \"\\ud83d\\udcb0\\ud83d\\uded2\", \"\\ud83d\\udcb0\\ud83d\\uded2\\u26fd\\ud83d\\udc8a\", \"\\ud83d\\udcb0\\ud83d\\uded2\\u26fd\\ud83d\\udc8a\", \"\\ud83d\\udcb0\\ud83d\\uded2\\ud83c\\udfdb\\ud83d\\udc8a\", \"\\ud83d\\udcb0\\ud83d\\uded2\\ud83c\\udfec\", \"\\ud83d\\udcb0\\ud83d\\uded2\\ud83c\\udfec\", \"\\ud83d\\udcb0\\ud83d\\uded2\\ud83d\\udc8a\", \"\\ud83d\\udcb0\\ud83d\\uded2\\ud83d\\udc8a\", \"\\ud83d\\udcb0\\ud83d\\uded2\\ud83d\\udc8a\\ud83d\\udc55\", \"\\ud83d\\udcb3\", \"\\ud83d\\udcda\", \"\\ud83d\\udcda\\ud83c\\udf2f\\ud83c\\udf7d\", \"\\ud83d\\udcda\\ud83c\\udf7d\", \"\\ud83d\\udcda\\ud83c\\udf7d\", \"\\ud83d\\udcda\\ud83c\\udf7d\\ud83c\\udf2f\", \"\\ud83d\\udcda\\ud83c\\udfec\", \"\\ud83d\\udcda\\ud83d\\udcb0\", \"\\ud83d\\udcda\\ud83d\\udcb0\", \"\\ud83d\\udcda\\ud83d\\ude95\", \"\\ud83d\\udcda\\ud83d\\uded2\", \"\\ud83d\\udcda\\ud83d\\uded2\", \"\\ud83d\\udcda\\ud83e\\uddfe\", \"\\ud83d\\udcda\\ud83e\\uddfe\", \"\\ud83d\\udcee\", \"\\ud83d\\udcf1\", \"\\ud83d\\udcf1\\ud83c\\udf2f\\ud83c\\udf7d\", \"\\ud83d\\udcf1\\ud83c\\udf7d\", \"\\ud83d\\udcf1\\ud83c\\udf7d\", \"\\ud83d\\udcf1\\ud83c\\udf7d\", \"\\ud83d\\udcf1\\ud83d\\udcb0\", \"\\ud83d\\udcf1\\ud83d\\udcb0\", \"\\ud83d\\udcf1\\ud83d\\udcb0\\ud83c\\udfd7\", \"\\ud83d\\udcf1\\ud83d\\uded2\", \"\\ud83d\\udcf1\\ud83e\\uddfe\", \"\\ud83d\\uddbc\", \"\\ud83d\\ude83\", \"\\ud83d\\ude83\", \"\\ud83d\\ude83\", \"\\ud83d\\ude83\\ud83c\\udf2f\", \"\\ud83d\\ude83\\ud83c\\udf7d\", \"\\ud83d\\ude83\\ud83c\\udf7d\\ud83d\\uded2\", \"\\ud83d\\ude83\\ud83d\\udcb0\\ud83d\\ude97\", \"\\ud83d\\ude83\\ud83d\\uded2\", \"\\ud83d\\ude83\\ud83d\\uded2\", \"\\ud83d\\ude83\\ud83d\\uded2\", \"\\ud83d\\ude83\\ud83d\\uded2\\u26fd\", \"\\ud83d\\ude83\\ud83d\\uded2\\u26fd\", \"\\ud83d\\ude83\\ud83d\\uded2\\ud83c\\udf2f\", \"\\ud83d\\ude83\\ud83d\\uded2\\ud83c\\udf7d\", \"\\ud83d\\ude95\", \"\\ud83d\\ude95\\u26fd\", \"\\ud83d\\ude95\\ud83c\\udf2f\", \"\\ud83d\\ude95\\ud83c\\udf7a\", \"\\ud83d\\ude95\\ud83c\\udf7d\", \"\\ud83d\\ude95\\ud83c\\udf7d\", \"\\ud83d\\ude95\\ud83c\\udfdb\", \"\\ud83d\\ude95\\ud83c\\udfe0\", \"\\ud83d\\ude95\\ud83c\\udfec\", \"\\ud83d\\ude95\\ud83c\\udfec\", \"\\ud83d\\ude95\\ud83d\\udc8a\", \"\\ud83d\\ude95\\ud83d\\udcb0\", \"\\ud83d\\ude95\\ud83d\\ude97\", \"\\ud83d\\ude95\\ud83d\\uded2\", \"\\ud83d\\ude95\\ud83d\\uded2\\ud83c\\udf7d\", \"\\ud83d\\ude95\\ud83d\\uded2\\ud83c\\udfec\", \"\\ud83d\\ude95\\ud83e\\uddfe\", \"\\ud83d\\ude95\\ud83e\\uddfe\", \"\\ud83d\\ude97\", \"\\ud83d\\ude97\", \"\\ud83d\\ude97\\ud83c\\udf2f\", \"\\ud83d\\ude97\\ud83c\\udf2f\", \"\\ud83d\\ude97\\ud83c\\udf2f\\ud83c\\udf7d\", \"\\ud83d\\ude97\\ud83c\\udf7d\", \"\\ud83d\\ude97\\ud83c\\udf7d\", \"\\ud83d\\ude97\\ud83c\\udf7d\\ud83c\\udf2f\", \"\\ud83d\\ude97\\ud83c\\udfec\\ud83c\\udf7a\\ud83d\\udcb0\", \"\\ud83d\\ude97\\ud83c\\udfec\\ud83d\\udcb0\", \"\\ud83d\\ude97\\ud83c\\udfec\\ud83d\\udcb0\", \"\\ud83d\\ude97\\ud83c\\udfec\\ud83d\\udcb0\", \"\\ud83d\\ude97\\ud83d\\udc8a\\ud83c\\udfec\\ud83d\\udcb0\", \"\\ud83d\\ude97\\ud83d\\udcb0\", \"\\ud83d\\ude97\\ud83d\\udcb0\", \"\\ud83d\\ude97\\ud83d\\ude95\", \"\\ud83d\\ude97\\ud83d\\uded2\", \"\\ud83d\\ude97\\ud83d\\uded2\", \"\\ud83d\\ude97\\ud83e\\uddfe\", \"\\ud83d\\ude9a\", \"\\ud83d\\uded2\", \"\\ud83d\\uded2\", \"\\ud83d\\uded2\", \"\\ud83d\\uded2\", \"\\ud83d\\uded2\", \"\\ud83d\\uded2\\u26fd\", \"\\ud83d\\uded2\\u26fd\", \"\\ud83d\\uded2\\u26fd\\ud83c\\udf2f\", \"\\ud83d\\uded2\\u26fd\\ud83c\\udf2f\", \"\\ud83d\\uded2\\u26fd\\ud83c\\udf2f\\ud83c\\udf7d\", \"\\ud83d\\uded2\\u26fd\\ud83c\\udf7d\", \"\\ud83d\\uded2\\u26fd\\ud83c\\udf7d\", \"\\ud83d\\uded2\\u26fd\\ud83c\\udf7d\\ud83c\\udf2f\", \"\\ud83d\\uded2\\u26fd\\ud83d\\udcb0\", \"\\ud83d\\uded2\\u26fd\\ud83d\\udcb0\", \"\\ud83d\\uded2\\u26fd\\ud83d\\udcb0\", \"\\ud83d\\uded2\\u26fd\\ud83d\\udcb0\\ud83d\\udcb3\", \"\\ud83d\\uded2\\u26fd\\ud83d\\ude95\", \"\\ud83d\\uded2\\u26fd\\ud83e\\uddfe\", \"\\ud83d\\uded2\\ud83c\\udf2f\", \"\\ud83d\\uded2\\ud83c\\udf2f\", \"\\ud83d\\uded2\\ud83c\\udf2f\\ud83c\\udf7d\", \"\\ud83d\\uded2\\ud83c\\udf2f\\ud83c\\udf7d\", \"\\ud83d\\uded2\\ud83c\\udf7a\", \"\\ud83d\\uded2\\ud83c\\udf7a\", \"\\ud83d\\uded2\\ud83c\\udf7a\\ud83c\\udf7d\", \"\\ud83d\\uded2\\ud83c\\udf7a\\ud83c\\udf7d\", \"\\ud83d\\uded2\\ud83c\\udf7a\\ud83d\\udc8a\\ud83d\\udcb0\", \"\\ud83d\\uded2\\ud83c\\udf7d\", \"\\ud83d\\uded2\\ud83c\\udf7d\", \"\\ud83d\\uded2\\ud83c\\udf7d\\ud83c\\udf2f\", \"\\ud83d\\uded2\\ud83c\\udf7d\\ud83d\\ude95\", \"\\ud83d\\uded2\\ud83c\\udf7d\\ud83d\\ude95\", \"\\ud83d\\uded2\\ud83c\\udfd7\", \"\\ud83d\\uded2\\ud83c\\udfec\", \"\\ud83d\\uded2\\ud83c\\udfec\\ud83c\\udf2f\", \"\\ud83d\\uded2\\ud83c\\udfec\\ud83c\\udf2f\", \"\\ud83d\\uded2\\ud83c\\udfec\\ud83c\\udf2f\\ud83c\\udf7d\", \"\\ud83d\\uded2\\ud83c\\udfec\\ud83c\\udf7d\", \"\\ud83d\\uded2\\ud83c\\udfec\\ud83c\\udf7d\", \"\\ud83d\\uded2\\ud83c\\udfec\\ud83c\\udf7d\\ud83c\\udf2f\", \"\\ud83d\\uded2\\ud83c\\udfec\\ud83d\\udcb0\", \"\\ud83d\\uded2\\ud83c\\udfec\\ud83d\\udcb0\", \"\\ud83d\\uded2\\ud83c\\udfec\\ud83d\\ude95\", \"\\ud83d\\uded2\\ud83c\\udfec\\ud83e\\uddfe\", \"\\ud83d\\uded2\\ud83c\\udfec\\ud83e\\uddfe\", \"\\ud83d\\uded2\\ud83d\\udc6e\\ud83d\\udcb0\", \"\\ud83d\\uded2\\ud83d\\udc8a\", \"\\ud83d\\uded2\\ud83d\\udc8a\\ud83c\\udf2f\\ud83c\\udf7d\", \"\\ud83d\\uded2\\ud83d\\udc8a\\ud83c\\udf7d\", \"\\ud83d\\uded2\\ud83d\\udc8a\\ud83c\\udf7d\", \"\\ud83d\\uded2\\ud83d\\udc8a\\ud83d\\udcb0\", \"\\ud83d\\uded2\\ud83d\\udc8a\\ud83d\\udcb0\", \"\\ud83d\\uded2\\ud83d\\udcb0\", \"\\ud83d\\uded2\\ud83d\\udcb0\", \"\\ud83d\\uded2\\ud83d\\udcb0\", \"\\ud83d\\uded2\\ud83d\\udcb0\\ud83c\\udf7d\", \"\\ud83d\\uded2\\ud83d\\udcb0\\ud83c\\udf7d\", \"\\ud83d\\uded2\\ud83d\\udcb0\\ud83c\\udf7d\", \"\\ud83d\\uded2\\ud83d\\udcb0\\ud83c\\udfec\", \"\\ud83d\\uded2\\ud83d\\udcb0\\ud83c\\udfec\", \"\\ud83d\\uded2\\ud83d\\udcb0\\ud83d\\udc84\", \"\\ud83d\\uded2\\ud83d\\udcb0\\ud83d\\udc84\", \"\\ud83d\\uded2\\ud83d\\udcb0\\ud83d\\ude95\", \"\\ud83d\\uded2\\ud83d\\udcb0\\ud83d\\ude95\", \"\\ud83d\\uded2\\ud83d\\udcda\", \"\\ud83d\\uded2\\ud83d\\ude83\", \"\\ud83d\\uded2\\ud83d\\ude83\", \"\\ud83d\\uded2\\ud83d\\ude83\\u26fd\", \"\\ud83d\\uded2\\ud83d\\ude83\\u26fd\", \"\\ud83d\\uded2\\ud83d\\ude83\\ud83c\\udf2f\", \"\\ud83d\\uded2\\ud83d\\ude83\\ud83c\\udf7d\", \"\\ud83d\\uded2\\ud83d\\ude95\", \"\\ud83d\\uded2\\ud83d\\ude95\\ud83c\\udf7d\", \"\\ud83d\\uded2\\ud83d\\ude95\\ud83c\\udf7d\", \"\\ud83d\\uded2\\ud83d\\ude95\\ud83c\\udfec\", \"\\ud83d\\uded2\\ud83d\\ude97\", \"\\ud83d\\uded2\\ud83d\\ude97\\ud83e\\uddfe\", \"\\ud83d\\uded2\\ud83e\\uddfe\", \"\\ud83d\\uded2\\ud83e\\uddfe\", \"\\ud83d\\uded2\\ud83e\\uddfe\", \"\\ud83d\\uded2\\ud83e\\uddfe\\u26fd\", \"\\ud83d\\uded2\\ud83e\\uddfe\\ud83c\\udf7a\", \"\\ud83d\\uded2\\ud83e\\uddfe\\ud83c\\udf7d\", \"\\ud83d\\uded2\\ud83e\\uddfe\\ud83c\\udf7d\", \"\\ud83d\\uded2\\ud83e\\uddfe\\ud83c\\udfec\", \"\\ud83d\\uded2\\ud83e\\uddfe\\ud83c\\udfec\", \"\\ud83d\\uded2\\ud83e\\uddfe\\ud83d\\udc8a\", \"\\ud83d\\uded2\\ud83e\\uddfe\\ud83d\\udcb0\", \"\\ud83d\\uded2\\ud83e\\uddfe\\ud83d\\udcb0\", \"\\ud83e\\uddfe\", \"\\ud83e\\uddfe\\u26fd\", \"\\ud83e\\uddfe\\u26fd\\ud83d\\uded2\", \"\\ud83e\\uddfe\\ud83c\\udf2f\", \"\\ud83e\\uddfe\\ud83c\\udf2f\", \"\\ud83e\\uddfe\\ud83c\\udf7a\", \"\\ud83e\\uddfe\\ud83c\\udf7d\", \"\\ud83e\\uddfe\\ud83c\\udf7d\", \"\\ud83e\\uddfe\\ud83c\\udf7d\\ud83d\\uded2\", \"\\ud83e\\uddfe\\ud83c\\udfdb\", \"\\ud83e\\uddfe\\ud83c\\udfe0\", \"\\ud83e\\uddfe\\ud83c\\udfec\", \"\\ud83e\\uddfe\\ud83c\\udfec\", \"\\ud83e\\uddfe\\ud83c\\udfec\\ud83c\\udf7d\", \"\\ud83e\\uddfe\\ud83c\\udfec\\ud83d\\uded2\", \"\\ud83e\\uddfe\\ud83d\\udc8a\", \"\\ud83e\\uddfe\\ud83d\\udcb0\", \"\\ud83e\\uddfe\\ud83d\\udcb0\", \"\\ud83e\\uddfe\\ud83d\\udcda\", \"\\ud83e\\uddfe\\ud83d\\udcf1\", \"\\ud83e\\uddfe\\ud83d\\ude95\", \"\\ud83e\\uddfe\\ud83d\\ude95\", \"\\ud83e\\uddfe\\ud83d\\ude97\", \"\\ud83e\\uddfe\\ud83d\\uded2\", \"\\ud83e\\uddfe\\ud83d\\uded2\\u26fd\", \"\\ud83e\\uddfe\\ud83d\\uded2\\ud83c\\udf7d\", \"\\ud83e\\uddfe\\ud83d\\uded2\\ud83c\\udf7d\", \"\\ud83e\\uddfe\\ud83d\\uded2\\ud83c\\udfec\", \"\\ud83e\\ude91\"]}, \"R\": 30, \"lambda.step\": 0.01, \"plot.opts\": {\"xlab\": \"PC1\", \"ylab\": \"PC2\"}, \"topic.order\": [3, 5, 1, 4, 2]};\n",
       "\n",
       "function LDAvis_load_lib(url, callback){\n",
       "  var s = document.createElement('script');\n",
       "  s.src = url;\n",
       "  s.async = true;\n",
       "  s.onreadystatechange = s.onload = callback;\n",
       "  s.onerror = function(){console.warn(\"failed to load library \" + url);};\n",
       "  document.getElementsByTagName(\"head\")[0].appendChild(s);\n",
       "}\n",
       "\n",
       "if(typeof(LDAvis) !== \"undefined\"){\n",
       "   // already loaded: just create the visualization\n",
       "   !function(LDAvis){\n",
       "       new LDAvis(\"#\" + \"ldavis_el1570592140101188803152935541396\", ldavis_el1570592140101188803152935541396_data);\n",
       "   }(LDAvis);\n",
       "}else if(typeof define === \"function\" && define.amd){\n",
       "   // require.js is available: use it to load d3/LDAvis\n",
       "   require.config({paths: {d3: \"https://d3js.org/d3.v5\"}});\n",
       "   require([\"d3\"], function(d3){\n",
       "      window.d3 = d3;\n",
       "      LDAvis_load_lib(\"https://cdn.jsdelivr.net/gh/bmabey/pyLDAvis@3.2.2/pyLDAvis/js/ldavis.v3.0.0.js\", function(){\n",
       "        new LDAvis(\"#\" + \"ldavis_el1570592140101188803152935541396\", ldavis_el1570592140101188803152935541396_data);\n",
       "      });\n",
       "    });\n",
       "}else{\n",
       "    // require.js not available: dynamically load d3 & LDAvis\n",
       "    LDAvis_load_lib(\"https://d3js.org/d3.v5.js\", function(){\n",
       "         LDAvis_load_lib(\"https://cdn.jsdelivr.net/gh/bmabey/pyLDAvis@3.2.2/pyLDAvis/js/ldavis.v3.0.0.js\", function(){\n",
       "                 new LDAvis(\"#\" + \"ldavis_el1570592140101188803152935541396\", ldavis_el1570592140101188803152935541396_data);\n",
       "            })\n",
       "         });\n",
       "}\n",
       "</script>"
      ],
      "text/plain": [
       "<IPython.core.display.HTML object>"
      ]
     },
     "execution_count": 28,
     "metadata": {},
     "output_type": "execute_result"
    },
    {
     "data": {
      "application/javascript": [
       "\n",
       "            setTimeout(function() {\n",
       "                var nbb_cell_id = 28;\n",
       "                var nbb_unformatted_code = \"# let's visualize the tuned model:\\npyLDAvis.enable_notebook()\\nexplorer = pyLDAvis.gensim.prepare(lda_model_tuned, corpus, id_to_seq_map)\\npyLDAvis.display(explorer)\";\n",
       "                var nbb_formatted_code = \"# let's visualize the tuned model:\\npyLDAvis.enable_notebook()\\nexplorer = pyLDAvis.gensim.prepare(lda_model_tuned, corpus, id_to_seq_map)\\npyLDAvis.display(explorer)\";\n",
       "                var nbb_cells = Jupyter.notebook.get_cells();\n",
       "                for (var i = 0; i < nbb_cells.length; ++i) {\n",
       "                    if (nbb_cells[i].input_prompt_number == nbb_cell_id) {\n",
       "                        if (nbb_cells[i].get_text() == nbb_unformatted_code) {\n",
       "                             nbb_cells[i].set_text(nbb_formatted_code);\n",
       "                        }\n",
       "                        break;\n",
       "                    }\n",
       "                }\n",
       "            }, 500);\n",
       "            "
      ],
      "text/plain": [
       "<IPython.core.display.Javascript object>"
      ]
     },
     "metadata": {},
     "output_type": "display_data"
    }
   ],
   "source": [
    "# let's visualize the tuned model:\n",
    "pyLDAvis.enable_notebook()\n",
    "explorer = pyLDAvis.gensim.prepare(lda_model_tuned, corpus, id_to_seq_map)\n",
    "pyLDAvis.display(explorer)"
   ]
  },
  {
   "cell_type": "markdown",
   "metadata": {},
   "source": [
    "![LDA Example Plot](../reports/img/LDA_PREM_MODEL_SCREEN.png)"
   ]
  },
  {
   "cell_type": "markdown",
   "metadata": {},
   "source": [
    "By looking at the model results, we observe that we obtain not only a better coherence, but better topic descriptions, eliminating the \"junk\" topic and further separating the topics in inter-topic distance projection map above. We will consider this as a our final model."
   ]
  },
  {
   "cell_type": "markdown",
   "metadata": {},
   "source": [
    "# 4. Exporting Model Results"
   ]
  },
  {
   "cell_type": "code",
   "execution_count": 29,
   "metadata": {},
   "outputs": [
    {
     "data": {
      "application/javascript": [
       "\n",
       "            setTimeout(function() {\n",
       "                var nbb_cell_id = 29;\n",
       "                var nbb_unformatted_code = \"# adding the main topic as a cluster to each user:\\ndf_clusters = get_lda_cluster(df_sequence, lda_model_tuned, corpus)[['user_id', 'cluster']]\";\n",
       "                var nbb_formatted_code = \"# adding the main topic as a cluster to each user:\\ndf_clusters = get_lda_cluster(df_sequence, lda_model_tuned, corpus)[\\n    [\\\"user_id\\\", \\\"cluster\\\"]\\n]\";\n",
       "                var nbb_cells = Jupyter.notebook.get_cells();\n",
       "                for (var i = 0; i < nbb_cells.length; ++i) {\n",
       "                    if (nbb_cells[i].input_prompt_number == nbb_cell_id) {\n",
       "                        if (nbb_cells[i].get_text() == nbb_unformatted_code) {\n",
       "                             nbb_cells[i].set_text(nbb_formatted_code);\n",
       "                        }\n",
       "                        break;\n",
       "                    }\n",
       "                }\n",
       "            }, 500);\n",
       "            "
      ],
      "text/plain": [
       "<IPython.core.display.Javascript object>"
      ]
     },
     "metadata": {},
     "output_type": "display_data"
    }
   ],
   "source": [
    "# adding the main topic as a cluster to each user:\n",
    "df_clusters = get_lda_cluster(df_sequence, lda_model_tuned, corpus)[\n",
    "    [\"user_id\", \"cluster\"]\n",
    "]"
   ]
  },
  {
   "cell_type": "code",
   "execution_count": 30,
   "metadata": {},
   "outputs": [
    {
     "data": {
      "text/html": [
       "<div>\n",
       "<style scoped>\n",
       "    .dataframe tbody tr th:only-of-type {\n",
       "        vertical-align: middle;\n",
       "    }\n",
       "\n",
       "    .dataframe tbody tr th {\n",
       "        vertical-align: top;\n",
       "    }\n",
       "\n",
       "    .dataframe thead th {\n",
       "        text-align: right;\n",
       "    }\n",
       "</style>\n",
       "<table border=\"1\" class=\"dataframe\">\n",
       "  <thead>\n",
       "    <tr style=\"text-align: right;\">\n",
       "      <th></th>\n",
       "      <th>user_id</th>\n",
       "    </tr>\n",
       "    <tr>\n",
       "      <th>cluster</th>\n",
       "      <th></th>\n",
       "    </tr>\n",
       "  </thead>\n",
       "  <tbody>\n",
       "    <tr>\n",
       "      <th>0</th>\n",
       "      <td>188</td>\n",
       "    </tr>\n",
       "    <tr>\n",
       "      <th>1</th>\n",
       "      <td>106</td>\n",
       "    </tr>\n",
       "    <tr>\n",
       "      <th>2</th>\n",
       "      <td>1386</td>\n",
       "    </tr>\n",
       "    <tr>\n",
       "      <th>3</th>\n",
       "      <td>149</td>\n",
       "    </tr>\n",
       "    <tr>\n",
       "      <th>4</th>\n",
       "      <td>171</td>\n",
       "    </tr>\n",
       "  </tbody>\n",
       "</table>\n",
       "</div>"
      ],
      "text/plain": [
       "         user_id\n",
       "cluster         \n",
       "0            188\n",
       "1            106\n",
       "2           1386\n",
       "3            149\n",
       "4            171"
      ]
     },
     "execution_count": 30,
     "metadata": {},
     "output_type": "execute_result"
    },
    {
     "data": {
      "application/javascript": [
       "\n",
       "            setTimeout(function() {\n",
       "                var nbb_cell_id = 30;\n",
       "                var nbb_unformatted_code = \"# verifying the proportion of users in each cluster:\\ndf_clusters.groupby('cluster')[['user_id']].count() # we see topic 2 is the most representative\";\n",
       "                var nbb_formatted_code = \"# verifying the proportion of users in each cluster:\\ndf_clusters.groupby(\\\"cluster\\\")[\\n    [\\\"user_id\\\"]\\n].count()  # we see topic 2 is the most representative\";\n",
       "                var nbb_cells = Jupyter.notebook.get_cells();\n",
       "                for (var i = 0; i < nbb_cells.length; ++i) {\n",
       "                    if (nbb_cells[i].input_prompt_number == nbb_cell_id) {\n",
       "                        if (nbb_cells[i].get_text() == nbb_unformatted_code) {\n",
       "                             nbb_cells[i].set_text(nbb_formatted_code);\n",
       "                        }\n",
       "                        break;\n",
       "                    }\n",
       "                }\n",
       "            }, 500);\n",
       "            "
      ],
      "text/plain": [
       "<IPython.core.display.Javascript object>"
      ]
     },
     "metadata": {},
     "output_type": "display_data"
    }
   ],
   "source": [
    "# verifying the proportion of users in each cluster:\n",
    "df_clusters.groupby(\"cluster\")[\n",
    "    [\"user_id\"]\n",
    "].count()  # we see topic 2 is the most representative"
   ]
  },
  {
   "cell_type": "code",
   "execution_count": 19,
   "metadata": {},
   "outputs": [],
   "source": [
    "# exporting the results for further studies:\n",
    "df_clusters.to_parquet(\"../data/predict/user_cluster_lda_token_sequence.parquet\")"
   ]
  },
  {
   "cell_type": "code",
   "execution_count": 20,
   "metadata": {},
   "outputs": [],
   "source": [
    "# exporting model:\n",
    "lda_model_tuned.save(\"../models/lda_user_sequences.model\")"
   ]
  }
 ],
 "metadata": {
  "kernelspec": {
   "display_name": "Python [conda env:ds]",
   "language": "python",
   "name": "conda-env-ds-py"
  },
  "language_info": {
   "codemirror_mode": {
    "name": "ipython",
    "version": 3
   },
   "file_extension": ".py",
   "mimetype": "text/x-python",
   "name": "python",
   "nbconvert_exporter": "python",
   "pygments_lexer": "ipython3",
   "version": "3.9.4"
  }
 },
 "nbformat": 4,
 "nbformat_minor": 4
}
