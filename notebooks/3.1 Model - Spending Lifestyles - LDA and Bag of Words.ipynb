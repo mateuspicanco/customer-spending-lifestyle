{
 "cells": [
  {
   "cell_type": "markdown",
   "metadata": {},
   "source": [
    "# Model - Spending \"Lifestyles\" - LDA and Bag of Words\n",
    "Coming back to the topic of sequences of credit card transactions and still using the [Sequences of purchases in credit card data reveal\n",
    "life styles in urban populations](https://www.nature.com/articles/s41467-018-05690-8) paper as a reference, we will explore the patterns in the credit card transactions at a user level.\n",
    "\n",
    "We aim at developing a \"summary\" of relevant spending behaviors (lifestyles) in the data. Different from standard approaches, which often take into account monetary value or frequency of purchases on the different categories as features, we will tackle this by finding latent representions of the data in a way similar to that of performing `topic modeling` on text data.\n",
    "\n",
    "In this notebook, we will utilize `bag-of-words` representations of the data, alongiside a `latent dirchlett allocation (lda)` model to perform `topic modeling` on the user sequences, which, for our purposes, is analogous to a clustering procedure.\n"
   ]
  },
  {
   "cell_type": "code",
   "execution_count": 5,
   "metadata": {
    "tags": []
   },
   "outputs": [],
   "source": [
    "# installing dependencies:\n",
    "!pip install -r ../configs/dependencies/modeling_requirements.txt --upgrade >> ../configs/dependencies/package_installation.txt"
   ]
  },
  {
   "cell_type": "code",
   "execution_count": 1,
   "metadata": {},
   "outputs": [
    {
     "data": {
      "application/javascript": [
       "\n",
       "            setTimeout(function() {\n",
       "                var nbb_cell_id = 1;\n",
       "                var nbb_unformatted_code = \"# running magic commands:\\n%load_ext nb_black\\n%load_ext autoreload\\n%autoreload 2\";\n",
       "                var nbb_formatted_code = \"# running magic commands:\\n%load_ext nb_black\\n%load_ext autoreload\\n%autoreload 2\";\n",
       "                var nbb_cells = Jupyter.notebook.get_cells();\n",
       "                for (var i = 0; i < nbb_cells.length; ++i) {\n",
       "                    if (nbb_cells[i].input_prompt_number == nbb_cell_id) {\n",
       "                        if (nbb_cells[i].get_text() == nbb_unformatted_code) {\n",
       "                             nbb_cells[i].set_text(nbb_formatted_code);\n",
       "                        }\n",
       "                        break;\n",
       "                    }\n",
       "                }\n",
       "            }, 500);\n",
       "            "
      ],
      "text/plain": [
       "<IPython.core.display.Javascript object>"
      ]
     },
     "metadata": {},
     "output_type": "display_data"
    }
   ],
   "source": [
    "# running magic commands:\n",
    "%load_ext nb_black\n",
    "%load_ext autoreload\n",
    "%autoreload 2"
   ]
  },
  {
   "cell_type": "code",
   "execution_count": 1,
   "metadata": {},
   "outputs": [],
   "source": [
    "###### Loading the necessary libraries #########\n",
    "\n",
    "# data wrangling\n",
    "import pandas as pd\n",
    "import numpy as np\n",
    "from tqdm import tqdm\n",
    "\n",
    "# statistical libraries:\n",
    "from scipy import stats\n",
    "\n",
    "# plotting and visualization:\n",
    "import matplotlib.pyplot as plt\n",
    "import seaborn as sns\n",
    "from IPython.display import HTML, Image\n",
    "\n",
    "# machine learning and topic modelling utilities\n",
    "import umap\n",
    "import gensim\n",
    "import gensim.corpora as corpora\n",
    "from gensim.utils import simple_preprocess\n",
    "from gensim.models import CoherenceModel\n",
    "import pyLDAvis\n",
    "import pyLDAvis.gensim \n",
    "\n",
    "# other libraries:\n",
    "import warnings\n",
    "from pprint import pprint\n",
    "\n",
    "# setting global parameters for visualizations:\n",
    "warnings.filterwarnings(\"ignore\")\n",
    "pd.set_option(\"display.precision\", 4)\n",
    "pd.set_option(\"display.float_format\", lambda x: \"%.2f\" % x)"
   ]
  },
  {
   "cell_type": "markdown",
   "metadata": {},
   "source": [
    "# 0. Helper Functions"
   ]
  },
  {
   "cell_type": "code",
   "execution_count": 2,
   "metadata": {},
   "outputs": [],
   "source": [
    "def set_plot_settings():\n",
    "    \"\"\"Helper function to set standard plot settings for the jupyter notebook\n",
    "    Note: these are hard-coded for my specific tastes\n",
    "    \"\"\"\n",
    "    %matplotlib inline\n",
    "    %pylab inline\n",
    "\n",
    "    plt.rcParams[\"figure.figsize\"] = [10, 6]\n",
    "    plt.rcParams[\"figure.dpi\"] = 120\n",
    "    display(HTML(\"<style>.container { width:100% !important; }</style>\"))\n",
    "    pd.set_option(\"display.expand_frame_repr\", False)\n",
    "    sns.set_style(\"white\")\n",
    "\n",
    "\n",
    "def rotate_xticks(ax, rotation):\n",
    "    \"\"\"Helper function to rotate x-axis labels of a matplotlib-based plot\n",
    "\n",
    "    Args:\n",
    "        ax (axes.AxesSubplot): matplotlib subplot axis object that handles the figure\n",
    "        rotation (int): degrees for which to rotate the axis x-ticks\n",
    "\n",
    "    Returns:\n",
    "        None\n",
    "\n",
    "    \"\"\"\n",
    "    for item in ax.get_xticklabels():\n",
    "        item.set_rotation(rotation)\n",
    "\n",
    "\n",
    "def sequence_tokenizer(sequence):\n",
    "    \"\"\"Simple tokenizer function to parse comma-separated sequences o MCCs\"\"\"\n",
    "    return sequence.split(\",\")\n",
    "\n",
    "\n",
    "def tune_topic_model(\n",
    "    dictionary, corpus, sequences, param_name, param_range, coherence_type=\"c_v\"\n",
    "):\n",
    "    \"\"\"Helper function to calculate coherence values accross different model settings\n",
    "\n",
    "    Args:\n",
    "        dictionary : Gensim dictionary\n",
    "        corpus : Gensim corpus\n",
    "        texts : List of input texts\n",
    "        limit : Max num of topics\n",
    "\n",
    "    Returns:\n",
    "        models : List of LDA topic models\n",
    "        coherence_values : Coherence values corresponding to the LDA model with respective number of topics\n",
    "    \"\"\"\n",
    "    coherence_values = []\n",
    "    models = []\n",
    "\n",
    "    # enabling default parameters (some will be overriden by the param choice)\n",
    "    param_dict = {\n",
    "        \"corpus\": corpus,\n",
    "        \"id2word\": dictionary,\n",
    "        \"random_state\": 42,\n",
    "        \"chunksize\": 100,\n",
    "        \"passes\": 10,\n",
    "        \"update_every\": 1,\n",
    "        \"per_word_topics\": True,\n",
    "        \"alpha\": \"auto\",\n",
    "        \"num_topics\": 5,\n",
    "    }\n",
    "\n",
    "    # default start is 2\n",
    "    for param_value in tqdm(param_range):\n",
    "\n",
    "        input_params = param_dict\n",
    "        input_params[param_name] = param_value\n",
    "\n",
    "        model = gensim.models.ldamodel.LdaModel(**input_params)\n",
    "\n",
    "        models.append(model)\n",
    "\n",
    "        coherence_model = CoherenceModel(\n",
    "            model=model,\n",
    "            texts=sequences,\n",
    "            dictionary=dictionary,\n",
    "            coherence=coherence_type,\n",
    "        )\n",
    "\n",
    "        coherence_values.append(coherence_model.get_coherence())\n",
    "\n",
    "    return models, coherence_values\n",
    "\n",
    "def get_lda_cluster(df, model, corpus):\n",
    "    topics = []\n",
    "\n",
    "    for user in corpus:\n",
    "        temp_df = pd.DataFrame(model.get_document_topics(user))\n",
    "        temp_df = temp_df.set_index(0)\n",
    "        main_topic = temp_df.idxmax().values[0]\n",
    "        topics.append(main_topic)\n",
    "\n",
    "    df[\"cluster\"] = topics\n",
    "\n",
    "    return df"
   ]
  },
  {
   "cell_type": "code",
   "execution_count": 3,
   "metadata": {},
   "outputs": [
    {
     "name": "stdout",
     "output_type": "stream",
     "text": [
      "Populating the interactive namespace from numpy and matplotlib\n"
     ]
    },
    {
     "data": {
      "text/html": [
       "<style>.container { width:100% !important; }</style>"
      ],
      "text/plain": [
       "<IPython.core.display.HTML object>"
      ]
     },
     "metadata": {},
     "output_type": "display_data"
    }
   ],
   "source": [
    "# setting the global variables for plotting:\n",
    "set_plot_settings()"
   ]
  },
  {
   "cell_type": "markdown",
   "metadata": {},
   "source": [
    "# 1. Loading and Inspecting the Data"
   ]
  },
  {
   "cell_type": "code",
   "execution_count": 4,
   "metadata": {},
   "outputs": [],
   "source": [
    "# loading the raw dataset:\n",
    "PROCESSED_DATA_DIR = \"../data/processed/\"\n",
    "\n",
    "# reading sequence dataset:\n",
    "df_sequence = pd.read_parquet(PROCESSED_DATA_DIR + \"tb_user_token_history.parquet\")\n",
    "\n",
    "# reading the helper dataset:\n",
    "df_daily = pd.read_parquet(PROCESSED_DATA_DIR + \"tb_user_daily_sequence.parquet\")"
   ]
  },
  {
   "cell_type": "code",
   "execution_count": 5,
   "metadata": {},
   "outputs": [
    {
     "data": {
      "text/html": [
       "<div>\n",
       "<style scoped>\n",
       "    .dataframe tbody tr th:only-of-type {\n",
       "        vertical-align: middle;\n",
       "    }\n",
       "\n",
       "    .dataframe tbody tr th {\n",
       "        vertical-align: top;\n",
       "    }\n",
       "\n",
       "    .dataframe thead th {\n",
       "        text-align: right;\n",
       "    }\n",
       "</style>\n",
       "<table border=\"1\" class=\"dataframe\">\n",
       "  <thead>\n",
       "    <tr style=\"text-align: right;\">\n",
       "      <th></th>\n",
       "      <th>user_id</th>\n",
       "      <th>sequence</th>\n",
       "    </tr>\n",
       "  </thead>\n",
       "  <tbody>\n",
       "    <tr>\n",
       "      <th>806</th>\n",
       "      <td>932</td>\n",
       "      <td>🍺🎫🏬🚕,💊🏬📺🚕,🏬🍽,🍺🎫⛽🍽🏨🚗🚕,🎫🍺🚕🏬,🛒🎫🌯,💊🍺🚕,🍺🌯🚕,🛒🎫💊💈🚕,🍽🚕...</td>\n",
       "    </tr>\n",
       "    <tr>\n",
       "      <th>588</th>\n",
       "      <td>632</td>\n",
       "      <td>🛒,📚💊,📚📺,🛒🚗,💊,🍽,💰,🛒📱💰,🛒🏬,💰🏬,🍽📚,🛒💊,💊💰,🛒🍽,💈🏬,🏬💰,💰...</td>\n",
       "    </tr>\n",
       "    <tr>\n",
       "      <th>326</th>\n",
       "      <td>28</td>\n",
       "      <td>🏬,👕🍽💰,👕,🛒🏬🚗👚🍽,🏬👕,📱,🛒🏬,⛽,🏬🏠🍽,🏗,👕🎥,🛒🏬,👕⛽💊,🏬,👕💰,💰...</td>\n",
       "    </tr>\n",
       "    <tr>\n",
       "      <th>768</th>\n",
       "      <td>1904</td>\n",
       "      <td>🍽🍺🚗,💊,📱🛒🍺✈,🍽🍺🪑🏨🌯🚗,🍺🏗🌯💰,🍺,🌯🩺,🍺📮🍽🏬,🧹,🍺🌯,🛒🏬🏛,⛽🍺🏬👕...</td>\n",
       "    </tr>\n",
       "    <tr>\n",
       "      <th>1153</th>\n",
       "      <td>1950</td>\n",
       "      <td>💰🏬🏗🛒,⛽💊,🏬🛒🎥🍺,🏬💊,🛒💊,💰💊🏗,💰🏬⛽🏗💊,💰🏬🏗💊🛒📚🍽,🛒,💊🏬🛒,🌻🏬🛒...</td>\n",
       "    </tr>\n",
       "  </tbody>\n",
       "</table>\n",
       "</div>"
      ],
      "text/plain": [
       "     user_id                                           sequence\n",
       "806      932  🍺🎫🏬🚕,💊🏬📺🚕,🏬🍽,🍺🎫⛽🍽🏨🚗🚕,🎫🍺🚕🏬,🛒🎫🌯,💊🍺🚕,🍺🌯🚕,🛒🎫💊💈🚕,🍽🚕...\n",
       "588      632  🛒,📚💊,📚📺,🛒🚗,💊,🍽,💰,🛒📱💰,🛒🏬,💰🏬,🍽📚,🛒💊,💊💰,🛒🍽,💈🏬,🏬💰,💰...\n",
       "326       28  🏬,👕🍽💰,👕,🛒🏬🚗👚🍽,🏬👕,📱,🛒🏬,⛽,🏬🏠🍽,🏗,👕🎥,🛒🏬,👕⛽💊,🏬,👕💰,💰...\n",
       "768     1904  🍽🍺🚗,💊,📱🛒🍺✈,🍽🍺🪑🏨🌯🚗,🍺🏗🌯💰,🍺,🌯🩺,🍺📮🍽🏬,🧹,🍺🌯,🛒🏬🏛,⛽🍺🏬👕...\n",
       "1153    1950  💰🏬🏗🛒,⛽💊,🏬🛒🎥🍺,🏬💊,🛒💊,💰💊🏗,💰🏬⛽🏗💊,💰🏬🏗💊🛒📚🍽,🛒,💊🏬🛒,🌻🏬🛒..."
      ]
     },
     "execution_count": 5,
     "metadata": {},
     "output_type": "execute_result"
    }
   ],
   "source": [
    "# checking a sample of the timeline dataset:\n",
    "df_sequence.sample(5)"
   ]
  },
  {
   "cell_type": "code",
   "execution_count": 6,
   "metadata": {},
   "outputs": [
    {
     "name": "stdout",
     "output_type": "stream",
     "text": [
      "<class 'pandas.core.frame.DataFrame'>\n",
      "RangeIndex: 2000 entries, 0 to 1999\n",
      "Data columns (total 2 columns):\n",
      " #   Column    Non-Null Count  Dtype \n",
      "---  ------    --------------  ----- \n",
      " 0   user_id   2000 non-null   object\n",
      " 1   sequence  2000 non-null   object\n",
      "dtypes: object(2)\n",
      "memory usage: 31.4+ KB\n"
     ]
    }
   ],
   "source": [
    "# sequence dataset:\n",
    "df_sequence.info()"
   ]
  },
  {
   "cell_type": "markdown",
   "metadata": {},
   "source": [
    "# 2. Tokenizing Sequences of Transactions\n",
    "We will start the modeling process by preparing the sequences for a bag of words representation. For each user we will generate a list of \"words\" he or she contains. This is done by splitting on the previously defined comma separator."
   ]
  },
  {
   "cell_type": "code",
   "execution_count": 7,
   "metadata": {},
   "outputs": [],
   "source": [
    "# generating the sentences for each user:\n",
    "sequences = list(map(lambda seq: seq.split(\",\"), df_sequence.sequence.values))"
   ]
  },
  {
   "cell_type": "code",
   "execution_count": 8,
   "metadata": {},
   "outputs": [
    {
     "data": {
      "text/plain": [
       "['🛒', '⛽🏬💊💰🛒🏠', '🏬💰', '⛽🏬', '🛒💊📱', '🏬💰🛒', '🏬⛽💰🏠', '🛒💰⛽', '🧹💰🏬', '🏬💰⛽']"
      ]
     },
     "execution_count": 8,
     "metadata": {},
     "output_type": "execute_result"
    }
   ],
   "source": [
    "# verifying some of the results:\n",
    "sequences[0][:10]"
   ]
  },
  {
   "cell_type": "markdown",
   "metadata": {},
   "source": [
    "# 3. Building the Training Corpora"
   ]
  },
  {
   "cell_type": "code",
   "execution_count": 9,
   "metadata": {},
   "outputs": [],
   "source": [
    "# using gensim's Dictionary to build the corpora representation out of the raw tokenized sequences:\n",
    "id_to_seq_map = corpora.Dictionary(sequences)"
   ]
  },
  {
   "cell_type": "code",
   "execution_count": 10,
   "metadata": {},
   "outputs": [],
   "source": [
    "# generating the full corpus (gensim's representation)\n",
    "corpus = list(map(lambda seq: id_to_seq_map.doc2bow(seq), sequences))"
   ]
  },
  {
   "cell_type": "markdown",
   "metadata": {},
   "source": [
    "# 2. Building the first Topic Model\n",
    "To start the model experiments, we will use parameters to those defined on the [reference paper](https://www.nature.com/articles/s41467-018-05690-8), with the number of topics = `6`."
   ]
  },
  {
   "cell_type": "code",
   "execution_count": 13,
   "metadata": {},
   "outputs": [
    {
     "data": {
      "application/javascript": [
       "\n",
       "            setTimeout(function() {\n",
       "                var nbb_cell_id = 13;\n",
       "                var nbb_unformatted_code = \"# we will start by defining 6 topics (analogous to the 6 clusters defined by the paper)\\nlda_model = gensim.models.ldamodel.LdaModel(\\n    corpus=corpus,\\n    id2word=id_to_seq_map,\\n    num_topics=6,\\n    random_state=42,\\n    update_every=1,\\n    chunksize=100,\\n    passes=10,\\n    alpha=\\\"auto\\\",\\n    per_word_topics=True,\\n)\";\n",
       "                var nbb_formatted_code = \"# we will start by defining 6 topics (analogous to the 6 clusters defined by the paper)\\nlda_model = gensim.models.ldamodel.LdaModel(\\n    corpus=corpus,\\n    id2word=id_to_seq_map,\\n    num_topics=6,\\n    random_state=42,\\n    update_every=1,\\n    chunksize=100,\\n    passes=10,\\n    alpha=\\\"auto\\\",\\n    per_word_topics=True,\\n)\";\n",
       "                var nbb_cells = Jupyter.notebook.get_cells();\n",
       "                for (var i = 0; i < nbb_cells.length; ++i) {\n",
       "                    if (nbb_cells[i].input_prompt_number == nbb_cell_id) {\n",
       "                        if (nbb_cells[i].get_text() == nbb_unformatted_code) {\n",
       "                             nbb_cells[i].set_text(nbb_formatted_code);\n",
       "                        }\n",
       "                        break;\n",
       "                    }\n",
       "                }\n",
       "            }, 500);\n",
       "            "
      ],
      "text/plain": [
       "<IPython.core.display.Javascript object>"
      ]
     },
     "metadata": {},
     "output_type": "display_data"
    }
   ],
   "source": [
    "# we will start by defining 6 topics (analogous to the 6 clusters defined by the paper)\n",
    "lda_model = gensim.models.ldamodel.LdaModel(\n",
    "    corpus=corpus,\n",
    "    id2word=id_to_seq_map,\n",
    "    num_topics=6,\n",
    "    random_state=42,\n",
    "    update_every=1,\n",
    "    chunksize=100,\n",
    "    passes=10,\n",
    "    alpha=\"auto\",\n",
    "    per_word_topics=True,\n",
    ")"
   ]
  },
  {
   "cell_type": "code",
   "execution_count": 14,
   "metadata": {},
   "outputs": [
    {
     "name": "stdout",
     "output_type": "stream",
     "text": [
      "[(0,\n",
      "  '0.083*\"🧾\" + 0.032*\"🛒🧾\" + 0.025*\"🧾🛒\" + 0.017*\"🧾🍽\" + 0.014*\"🧾🏬\" + 0.012*\"🏬🧾\" '\n",
      "  '+ 0.009*\"🧾⛽\" + 0.008*\"🧾🌯\" + 0.008*\"🚃\" + 0.008*\"🧾💰\"'),\n",
      " (1,\n",
      "  '0.126*\"💰\" + 0.047*\"🛒💰\" + 0.025*\"💰🛒\" + 0.020*\"💰🏬\" + 0.019*\"🏬💰\" + 0.012*\"⛽💰\" '\n",
      "  '+ 0.011*\"💊💰\" + 0.011*\"💰💊\" + 0.011*\"💰🍽\" + 0.010*\"💰⛽\"'),\n",
      " (2,\n",
      "  '0.112*\"🛒\" + 0.065*\"🏬\" + 0.034*\"💊\" + 0.033*\"⛽\" + 0.023*\"🚗\" + 0.022*\"🛒🏬\" + '\n",
      "  '0.016*\"🏬🛒\" + 0.015*\"🍺\" + 0.012*\"📚\" + 0.012*\"🏠\"'),\n",
      " (3,\n",
      "  '0.107*\"🚕\" + 0.035*\"🛒🚕\" + 0.022*\"🚕🛒\" + 0.015*\"🚕🏬\" + 0.012*\"🏬🚕\" + 0.011*\"🚕🍽\" '\n",
      "  '+ 0.011*\"⛽🚕\" + 0.011*\"🍽🚕\" + 0.008*\"🚕⛽\" + 0.007*\"💰🚕\"'),\n",
      " (4,\n",
      "  '0.000*\"🍽🏠🏗📚\" + 0.000*\"🍽🏠🏬🚗💉\" + 0.000*\"🍽🏗🏬💈🚗💊🛒\" + 0.000*\"🍽🏗🏬📱🚗\" + '\n",
      "  '0.000*\"🍽🏗💰📺⛽\" + 0.000*\"🍽🏗💰🚗🏬\" + 0.000*\"🍽🏗📚🚗⛽\" + 0.000*\"🍽🏗🚗🏬🎧\" + '\n",
      "  '0.000*\"🍽🏗🚗💊⛽\" + 0.000*\"🍽🏗🚗🛒💉\"'),\n",
      " (5,\n",
      "  '0.087*\"🍽\" + 0.039*\"🌯\" + 0.039*\"🛒🍽\" + 0.027*\"🛒\" + 0.020*\"🍽🛒\" + 0.018*\"🛒🌯\" + '\n",
      "  '0.015*\"🏬🍽\" + 0.011*\"⛽🍽\" + 0.011*\"🛒⛽\" + 0.010*\"🍽🏬\"')]\n"
     ]
    },
    {
     "data": {
      "application/javascript": [
       "\n",
       "            setTimeout(function() {\n",
       "                var nbb_cell_id = 14;\n",
       "                var nbb_unformatted_code = \"# let's print the keywords per topic identified:\\npprint(lda_model.print_topics())\";\n",
       "                var nbb_formatted_code = \"# let's print the keywords per topic identified:\\npprint(lda_model.print_topics())\";\n",
       "                var nbb_cells = Jupyter.notebook.get_cells();\n",
       "                for (var i = 0; i < nbb_cells.length; ++i) {\n",
       "                    if (nbb_cells[i].input_prompt_number == nbb_cell_id) {\n",
       "                        if (nbb_cells[i].get_text() == nbb_unformatted_code) {\n",
       "                             nbb_cells[i].set_text(nbb_formatted_code);\n",
       "                        }\n",
       "                        break;\n",
       "                    }\n",
       "                }\n",
       "            }, 500);\n",
       "            "
      ],
      "text/plain": [
       "<IPython.core.display.Javascript object>"
      ]
     },
     "metadata": {},
     "output_type": "display_data"
    }
   ],
   "source": [
    "# let's print the keywords per topic identified:\n",
    "pprint(lda_model.print_topics())"
   ]
  },
  {
   "cell_type": "code",
   "execution_count": 15,
   "metadata": {},
   "outputs": [
    {
     "data": {
      "application/javascript": [
       "\n",
       "            setTimeout(function() {\n",
       "                var nbb_cell_id = 15;\n",
       "                var nbb_unformatted_code = \"# registering the lda projection for each user\\nuser_lda = lda_model[corpus]\";\n",
       "                var nbb_formatted_code = \"# registering the lda projection for each user\\nuser_lda = lda_model[corpus]\";\n",
       "                var nbb_cells = Jupyter.notebook.get_cells();\n",
       "                for (var i = 0; i < nbb_cells.length; ++i) {\n",
       "                    if (nbb_cells[i].input_prompt_number == nbb_cell_id) {\n",
       "                        if (nbb_cells[i].get_text() == nbb_unformatted_code) {\n",
       "                             nbb_cells[i].set_text(nbb_formatted_code);\n",
       "                        }\n",
       "                        break;\n",
       "                    }\n",
       "                }\n",
       "            }, 500);\n",
       "            "
      ],
      "text/plain": [
       "<IPython.core.display.Javascript object>"
      ]
     },
     "metadata": {},
     "output_type": "display_data"
    }
   ],
   "source": [
    "# registering the lda projection for each user\n",
    "user_lda = lda_model[corpus]"
   ]
  },
  {
   "cell_type": "markdown",
   "metadata": {},
   "source": [
    "# 3. Interpreting Preliminar Model Results\n",
    "In order to assess the quality of our topic model, we will verify some metrics associated with it, namely `perplexity` and `coherence`. Key indicators about the performance and quality of our topic representations in the model are that, the lower the `perplexity`, the best. On the other hand, the higher the `coherence`, the better."
   ]
  },
  {
   "cell_type": "code",
   "execution_count": 16,
   "metadata": {},
   "outputs": [
    {
     "data": {
      "application/javascript": [
       "\n",
       "            setTimeout(function() {\n",
       "                var nbb_cell_id = 16;\n",
       "                var nbb_unformatted_code = \"# extracting the perplexity from thee model:\\nperplexity = lda_model.log_perplexity(corpus)\";\n",
       "                var nbb_formatted_code = \"# extracting the perplexity from thee model:\\nperplexity = lda_model.log_perplexity(corpus)\";\n",
       "                var nbb_cells = Jupyter.notebook.get_cells();\n",
       "                for (var i = 0; i < nbb_cells.length; ++i) {\n",
       "                    if (nbb_cells[i].input_prompt_number == nbb_cell_id) {\n",
       "                        if (nbb_cells[i].get_text() == nbb_unformatted_code) {\n",
       "                             nbb_cells[i].set_text(nbb_formatted_code);\n",
       "                        }\n",
       "                        break;\n",
       "                    }\n",
       "                }\n",
       "            }, 500);\n",
       "            "
      ],
      "text/plain": [
       "<IPython.core.display.Javascript object>"
      ]
     },
     "metadata": {},
     "output_type": "display_data"
    }
   ],
   "source": [
    "# extracting the perplexity from thee model:\n",
    "perplexity = lda_model.log_perplexity(corpus)"
   ]
  },
  {
   "cell_type": "code",
   "execution_count": 17,
   "metadata": {},
   "outputs": [
    {
     "data": {
      "application/javascript": [
       "\n",
       "            setTimeout(function() {\n",
       "                var nbb_cell_id = 17;\n",
       "                var nbb_unformatted_code = \"# calculating coherence\\nlda_coherence = CoherenceModel(\\n    model=lda_model, texts=sequences, dictionary=id_to_seq_map, coherence=\\\"c_v\\\"\\n)\\n\\ncoherence = lda_coherence.get_coherence()\";\n",
       "                var nbb_formatted_code = \"# calculating coherence\\nlda_coherence = CoherenceModel(\\n    model=lda_model, texts=sequences, dictionary=id_to_seq_map, coherence=\\\"c_v\\\"\\n)\\n\\ncoherence = lda_coherence.get_coherence()\";\n",
       "                var nbb_cells = Jupyter.notebook.get_cells();\n",
       "                for (var i = 0; i < nbb_cells.length; ++i) {\n",
       "                    if (nbb_cells[i].input_prompt_number == nbb_cell_id) {\n",
       "                        if (nbb_cells[i].get_text() == nbb_unformatted_code) {\n",
       "                             nbb_cells[i].set_text(nbb_formatted_code);\n",
       "                        }\n",
       "                        break;\n",
       "                    }\n",
       "                }\n",
       "            }, 500);\n",
       "            "
      ],
      "text/plain": [
       "<IPython.core.display.Javascript object>"
      ]
     },
     "metadata": {},
     "output_type": "display_data"
    }
   ],
   "source": [
    "# calculating coherence\n",
    "lda_coherence = CoherenceModel(\n",
    "    model=lda_model, texts=sequences, dictionary=id_to_seq_map, coherence=\"c_v\"\n",
    ")\n",
    "\n",
    "coherence = lda_coherence.get_coherence()"
   ]
  },
  {
   "cell_type": "code",
   "execution_count": 18,
   "metadata": {},
   "outputs": [
    {
     "name": "stdout",
     "output_type": "stream",
     "text": [
      "\n",
      "Preliminar Model metrics:\n",
      "    perplexity = -8.610396483832869\n",
      "    coherence = 0.6454455620897868\n",
      "\n"
     ]
    },
    {
     "data": {
      "application/javascript": [
       "\n",
       "            setTimeout(function() {\n",
       "                var nbb_cell_id = 18;\n",
       "                var nbb_unformatted_code = \"# verifying the metrics:\\nprint(\\n    f\\\"\\\"\\\"\\nPreliminar Model metrics:\\n    perplexity = {perplexity}\\n    coherence = {coherence}\\n\\\"\\\"\\\"\\n)\";\n",
       "                var nbb_formatted_code = \"# verifying the metrics:\\nprint(\\n    f\\\"\\\"\\\"\\nPreliminar Model metrics:\\n    perplexity = {perplexity}\\n    coherence = {coherence}\\n\\\"\\\"\\\"\\n)\";\n",
       "                var nbb_cells = Jupyter.notebook.get_cells();\n",
       "                for (var i = 0; i < nbb_cells.length; ++i) {\n",
       "                    if (nbb_cells[i].input_prompt_number == nbb_cell_id) {\n",
       "                        if (nbb_cells[i].get_text() == nbb_unformatted_code) {\n",
       "                             nbb_cells[i].set_text(nbb_formatted_code);\n",
       "                        }\n",
       "                        break;\n",
       "                    }\n",
       "                }\n",
       "            }, 500);\n",
       "            "
      ],
      "text/plain": [
       "<IPython.core.display.Javascript object>"
      ]
     },
     "metadata": {},
     "output_type": "display_data"
    }
   ],
   "source": [
    "# verifying the metrics:\n",
    "print(\n",
    "    f\"\"\"\n",
    "Preliminar Model metrics:\n",
    "    perplexity = {perplexity}\n",
    "    coherence = {coherence}\n",
    "\"\"\"\n",
    ")"
   ]
  },
  {
   "cell_type": "code",
   "execution_count": 23,
   "metadata": {},
   "outputs": [
    {
     "data": {
      "text/html": [
       "\n",
       "<link rel=\"stylesheet\" type=\"text/css\" href=\"https://cdn.jsdelivr.net/gh/bmabey/pyLDAvis@3.2.2/pyLDAvis/js/ldavis.v1.0.0.css\">\n",
       "\n",
       "\n",
       "<div id=\"ldavis_el7547761398888565356644833071718\"></div>\n",
       "<script type=\"text/javascript\">\n",
       "\n",
       "var ldavis_el7547761398888565356644833071718_data = {\"mdsDat\": {\"x\": [0.3355919817070766, 0.26570171522229397, -0.1729281448212738, -0.1951904393675915, -0.06438132736142088, -0.16879378537908385], \"y\": [-0.0044782204713780934, -0.002787252884281522, -0.3025100419187645, 0.21325864764225283, 0.07516755315992468, 0.02134931447224674], \"topics\": [1, 2, 3, 4, 5, 6], \"cluster\": [1, 1, 1, 1, 1, 1], \"Freq\": [52.415142559238205, 23.575631612330437, 9.4272530786549, 7.47980869404984, 7.102085742077737, 7.831364887600213e-05]}, \"tinfo\": {\"Term\": [\"\\ud83d\\udcb0\", \"\\ud83c\\udf7d\", \"\\ud83c\\udfec\", \"\\ud83d\\ude95\", \"\\ud83d\\uded2\", \"\\ud83e\\uddfe\", \"\\ud83d\\uded2\\ud83c\\udf7d\", \"\\ud83c\\udf2f\", \"\\ud83d\\udc8a\", \"\\ud83d\\uded2\\ud83d\\udcb0\", \"\\ud83d\\ude97\", \"\\ud83d\\uded2\\ud83e\\uddfe\", \"\\ud83d\\uded2\\ud83d\\ude95\", \"\\ud83c\\udf7d\\ud83d\\uded2\", \"\\ud83d\\udcb0\\ud83d\\uded2\", \"\\ud83d\\uded2\\ud83c\\udf2f\", \"\\u26fd\", \"\\ud83e\\uddfe\\ud83d\\uded2\", \"\\ud83c\\udfec\\ud83d\\udcb0\", \"\\ud83c\\udfec\\ud83c\\udf7d\", \"\\ud83c\\udf7a\", \"\\ud83d\\udcb0\\ud83c\\udfec\", \"\\ud83c\\udfec\\ud83d\\uded2\", \"\\ud83d\\uded2\\ud83c\\udfec\", \"\\ud83d\\ude95\\ud83d\\uded2\", \"\\ud83e\\uddfe\\ud83c\\udf7d\", \"\\u26fd\\ud83c\\udf7d\", \"\\ud83c\\udfe0\", \"\\ud83d\\udcda\", \"\\ud83c\\udf7d\\ud83c\\udfec\", \"\\ud83c\\udfec\\ud83d\\udc8a\", \"\\ud83d\\udc8a\\ud83c\\udfec\", \"\\ud83d\\udcee\", \"\\ud83d\\ude9a\", \"\\ud83d\\udc8a\\ud83d\\ude97\", \"\\ud83d\\ude97\\ud83d\\udc8a\", \"\\ud83c\\udfd7\\ud83c\\udfec\", \"\\ud83c\\udfec\\ud83d\\udcda\", \"\\ud83c\\udfec\\ud83c\\udfd7\", \"\\ud83c\\udfec\\ud83d\\udc88\", \"\\ud83c\\udf7a\\ud83d\\udc8a\", \"\\ud83d\\udc88\\ud83c\\udfec\", \"\\ud83c\\udfec\\ud83e\\ude91\", \"\\ud83e\\ude91\\ud83c\\udfec\", \"\\ud83d\\udcee\\ud83c\\udfec\", \"\\ud83d\\udc8a\\ud83d\\udcf1\", \"\\ud83d\\ude9a\\ud83c\\udfec\", \"\\ud83d\\udc8a\\ud83c\\udfd7\", \"\\ud83c\\udfec\\ud83d\\ude9a\", \"\\ud83c\\udfd7\\ud83d\\udc8a\", \"\\ud83d\\udcf1\\ud83c\\udfec\", \"\\ud83c\\udfec\\ud83d\\udcee\", \"\\ud83d\\uddbc\\ud83c\\udfec\", \"\\ud83c\\udfec\\ud83d\\uddbc\", \"\\ud83c\\udfab\", \"\\ud83d\\udc8a\\ud83c\\udfe0\", \"\\ud83c\\udfec\\ud83c\\udfab\", \"\\ud83c\\udfdb\\ud83d\\uded2\", \"\\ud83d\\udc8a\\ud83d\\udc88\", \"\\ud83c\\udfd7\\ud83d\\ude97\", \"\\ud83c\\udfec\", \"\\ud83d\\udc8a\", \"\\ud83d\\ude97\", \"\\ud83c\\udf7a\", \"\\ud83c\\udfe0\", \"\\ud83c\\udfd7\", \"\\ud83d\\udcf1\", \"\\ud83c\\udfec\\ud83d\\uded2\", \"\\ud83e\\ude91\", \"\\ud83c\\udfec\\ud83d\\ude97\", \"\\ud83d\\ude97\\ud83c\\udfec\", \"\\ud83c\\udfdb\", \"\\ud83c\\udfe8\", \"\\ud83d\\uddbc\", \"\\ud83d\\udc88\", \"\\ud83c\\udfe0\\ud83c\\udfec\", \"\\ud83c\\udfec\\ud83c\\udfe0\", \"\\ud83c\\udfec\\ud83d\\udcf1\", \"\\ud83d\\udc8a\\ud83d\\uded2\", \"\\ud83d\\udcda\", \"\\ud83d\\udc55\", \"\\ud83c\\udfec\\ud83c\\udf7a\", \"\\ud83d\\uded2\", \"\\ud83d\\uded2\\ud83c\\udfec\", \"\\ud83c\\udfec\\u26fd\", \"\\ud83d\\udcda\\ud83c\\udfec\", \"\\u26fd\", \"\\ud83d\\ude97\\ud83d\\uded2\", \"\\ud83d\\uded2\\ud83d\\udc8a\", \"\\ud83d\\uded2\\ud83d\\ude97\", \"\\u26fd\\ud83c\\udfec\", \"\\ud83d\\uded2\\u26fd\", \"\\ud83d\\uded2\\ud83c\\udf7a\", \"\\u26fd\\ud83d\\uded2\", \"\\ud83d\\udcb0\", \"\\ud83c\\udf7d\\ud83c\\udf2f\", \"\\ud83c\\udf2f\\ud83c\\udf7d\", \"\\ud83d\\uded2\\ud83c\\udf7d\\ud83c\\udf2f\", \"\\ud83d\\uded2\\ud83c\\udf2f\\ud83c\\udf7d\", \"\\ud83c\\udf7d\\ud83d\\uded2\\ud83c\\udf2f\", \"\\ud83c\\udf2f\\ud83d\\uded2\\ud83c\\udf7d\", \"\\ud83d\\uded2\\ud83c\\udf7a\\ud83c\\udf7d\", \"\\u26fd\\ud83d\\uded2\\ud83c\\udf2f\", \"\\ud83c\\udf2f\\ud83c\\udf7d\\ud83d\\uded2\", \"\\ud83c\\udf7d\\ud83c\\udf2f\\ud83d\\uded2\", \"\\ud83c\\udfec\\ud83c\\udf2f\\ud83c\\udf7d\", \"\\ud83c\\udfec\\ud83c\\udf7d\\ud83c\\udf2f\", \"\\ud83d\\uded2\\ud83c\\udfe0\\ud83c\\udf7d\", \"\\u26fd\\ud83c\\udf7d\\ud83c\\udf2f\", \"\\u26fd\\ud83c\\udf2f\\ud83c\\udf7d\", \"\\ud83c\\udf7d\\ud83c\\udfec\\ud83c\\udf2f\", \"\\ud83d\\udcda\\ud83d\\uded2\\ud83c\\udf7d\", \"\\ud83c\\udf2f\\ud83c\\udfec\\ud83c\\udf7d\", \"\\ud83d\\udcda\\ud83d\\uded2\\ud83c\\udf2f\", \"\\ud83d\\uded2\\u26fd\\ud83c\\udf7d\", \"\\ud83c\\udf2f\\ud83c\\udf7d\\ud83c\\udfec\", \"\\ud83c\\udf7d\\ud83c\\udf2f\\ud83c\\udfec\", \"\\ud83d\\uded2\\ud83c\\udf7a\\ud83c\\udf2f\", \"\\ud83c\\udf7d\\u26fd\\ud83c\\udf2f\", \"\\ud83d\\udc8a\\ud83c\\udf7d\\ud83c\\udf2f\", \"\\ud83d\\udc8a\\ud83c\\udf2f\\ud83c\\udf7d\", \"\\ud83c\\udf2f\\u26fd\\ud83c\\udf7d\", \"\\ud83d\\uded2\\ud83d\\udc88\\ud83c\\udf7d\", \"\\ud83d\\ude97\\ud83c\\udf7d\\ud83c\\udf2f\", \"\\ud83d\\uded2\\ud83d\\udc55\\ud83c\\udf7d\", \"\\ud83d\\uded2\\ud83c\\udf7d\", \"\\ud83d\\uded2\\ud83c\\udf2f\", \"\\u26fd\\ud83d\\uded2\\ud83c\\udf7d\", \"\\ud83d\\uded2\\u26fd\\ud83c\\udf2f\", \"\\u26fd\\ud83c\\udf7d\", \"\\ud83d\\uded2\\ud83c\\udfec\\ud83c\\udf7d\", \"\\u26fd\\ud83c\\udf2f\", \"\\ud83d\\uded2\\ud83c\\udf7d\\u26fd\", \"\\ud83d\\uded2\\ud83d\\udc8a\\ud83c\\udf7d\", \"\\ud83d\\uded2\\ud83c\\udf7d\\ud83c\\udf7a\", \"\\ud83c\\udf7d\\ud83d\\uded2\", \"\\ud83c\\udfec\\ud83d\\uded2\\ud83c\\udf7d\", \"\\ud83d\\udc8a\\ud83d\\uded2\\ud83c\\udf7d\", \"\\ud83d\\uded2\\ud83c\\udfec\\ud83c\\udf2f\", \"\\u26fd\\ud83c\\udfec\\ud83c\\udf7d\", \"\\ud83d\\uded2\\ud83c\\udf2f\\u26fd\", \"\\ud83c\\udf7d\", \"\\ud83d\\udcda\\ud83c\\udf7d\", \"\\ud83c\\udf7d\\u26fd\", \"\\u26fd\\ud83c\\udf7d\\ud83d\\uded2\", \"\\ud83c\\udf7d\\u26fd\\ud83d\\uded2\", \"\\ud83c\\udf2f\", \"\\ud83c\\udf2f\\ud83d\\uded2\", \"\\ud83d\\uded2\\ud83c\\udf7d\\ud83c\\udfec\", \"\\ud83d\\udc8a\\ud83c\\udf7d\", \"\\ud83c\\udfec\\ud83c\\udf7d\", \"\\ud83c\\udf2f\\u26fd\", \"\\ud83c\\udfec\\ud83c\\udf2f\", \"\\ud83d\\ude97\\ud83c\\udf7d\", \"\\ud83c\\udf7d\\ud83c\\udfec\", \"\\ud83c\\udf7a\\ud83c\\udf7d\", \"\\ud83d\\udc8a\\ud83c\\udf2f\", \"\\ud83c\\udf7d\\ud83d\\udc8a\", \"\\ud83c\\udf7d\\ud83c\\udf7a\", \"\\ud83c\\udfe0\\ud83c\\udf7d\", \"\\ud83c\\udf2f\\ud83c\\udfec\", \"\\ud83d\\uded2\\u26fd\", \"\\ud83d\\uded2\", \"\\u26fd\\ud83d\\uded2\", \"\\u26fd\", \"\\ud83d\\uded2\\ud83c\\udfec\", \"\\ud83e\\uddfe\", \"\\ud83e\\uddfe\\ud83d\\uded2\", \"\\ud83e\\uddfe\\ud83c\\udfec\", \"\\ud83e\\uddfe\\u26fd\", \"\\ud83e\\uddfe\\ud83d\\udc8a\", \"\\ud83e\\uddfe\\ud83d\\ude97\", \"\\ud83e\\uddfe\\ud83c\\udf7a\", \"\\ud83d\\uded2\\ud83e\\uddfe\\ud83c\\udfec\", \"\\ud83d\\ude97\\ud83e\\uddfe\", \"\\ud83e\\uddfe\\ud83d\\uded2\\ud83c\\udfec\", \"\\ud83c\\udf2f\\ud83e\\uddfe\", \"\\ud83e\\uddfe\\ud83c\\udfdb\", \"\\ud83e\\uddfe\\ud83d\\uded2\\u26fd\", \"\\ud83e\\uddfe\\u26fd\\ud83d\\uded2\", \"\\ud83e\\uddfe\\ud83c\\udfe0\", \"\\ud83d\\uded2\\ud83e\\uddfe\\u26fd\", \"\\ud83d\\udc8a\\ud83d\\uded2\\ud83e\\uddfe\", \"\\ud83e\\uddfe\\ud83d\\udcda\", \"\\ud83d\\uded2\\u26fd\\ud83e\\uddfe\", \"\\ud83e\\uddfe\\ud83c\\udf7d\\ud83d\\uded2\", \"\\ud83e\\uddfe\\ud83d\\udcf1\", \"\\ud83d\\uded2\\ud83e\\uddfe\\ud83d\\udc8a\", \"\\ud83c\\udf7d\\ud83d\\uded2\\ud83e\\uddfe\", \"\\ud83c\\udfec\\ud83e\\uddfe\\ud83d\\uded2\", \"\\ud83d\\uded2\\ud83e\\uddfe\\ud83c\\udf7a\", \"\\ud83c\\udf7a\\ud83e\\uddfe\", \"\\ud83e\\uddfe\\ud83c\\udfec\\ud83c\\udf7d\", \"\\ud83d\\udcf1\\ud83e\\uddfe\", \"\\ud83c\\udfe0\\ud83e\\uddfe\", \"\\ud83e\\uddfe\\ud83c\\udfec\\ud83d\\uded2\", \"\\ud83d\\uded2\\ud83e\\uddfe\", \"\\ud83e\\uddfe\\ud83c\\udf7d\", \"\\ud83c\\udfec\\ud83e\\uddfe\", \"\\u26fd\\ud83e\\uddfe\", \"\\ud83d\\udc8a\\ud83e\\uddfe\", \"\\ud83c\\udf7d\\ud83e\\uddfe\", \"\\ud83e\\uddfe\\ud83c\\udf2f\", \"\\ud83d\\udcda\\ud83e\\uddfe\", \"\\ud83e\\uddfe\\ud83d\\uded2\\ud83c\\udf7d\", \"\\ud83d\\uded2\\ud83e\\uddfe\\ud83c\\udf7d\", \"\\ud83d\\uded2\\ud83e\\uddfe\\ud83d\\udcb0\", \"\\ud83e\\uddfe\\ud83d\\udcb0\", \"\\ud83d\\uded2\\ud83c\\udfec\\ud83e\\uddfe\", \"\\ud83c\\udfec\\ud83d\\uded2\\ud83e\\uddfe\", \"\\ud83d\\ude83\", \"\\ud83d\\ude83\\ud83d\\uded2\", \"\\ud83d\\uded2\\ud83d\\ude83\", \"\\ud83d\\ude95\", \"\\ud83d\\uded2\\ud83d\\ude95\", \"\\ud83d\\ude95\\ud83d\\uded2\", \"\\ud83c\\udfec\\ud83d\\ude95\", \"\\u26fd\\ud83d\\ude95\", \"\\ud83c\\udf7d\\ud83d\\ude95\", \"\\ud83d\\ude95\\u26fd\", \"\\ud83d\\ude95\\ud83d\\udc8a\", \"\\ud83d\\udc8a\\ud83d\\ude95\", \"\\ud83d\\ude97\\ud83d\\ude95\", \"\\ud83d\\ude95\\ud83d\\ude97\", \"\\ud83d\\ude95\\ud83d\\udcb0\", \"\\ud83d\\ude95\\ud83c\\udf2f\", \"\\ud83c\\udf2f\\ud83d\\ude95\", \"\\ud83d\\uded2\\ud83d\\ude95\\ud83c\\udfec\", \"\\ud83d\\udcda\\ud83d\\ude95\", \"\\ud83d\\ude95\\ud83c\\udfdb\", \"\\ud83c\\udf7d\\ud83d\\uded2\\ud83d\\ude95\", \"\\ud83c\\udfe0\\ud83d\\ude95\", \"\\ud83d\\ude95\\ud83c\\udf7a\", \"\\ud83d\\uded2\\ud83c\\udfec\\ud83d\\ude95\", \"\\ud83d\\uded2\\u26fd\\ud83d\\ude95\", \"\\ud83d\\ude95\\ud83d\\uded2\\ud83c\\udfec\", \"\\ud83d\\ude95\\ud83d\\uded2\\ud83c\\udf7d\", \"\\u26fd\\ud83d\\uded2\\ud83d\\ude95\", \"\\ud83d\\ude95\\ud83c\\udfe0\", \"\\ud83c\\udfec\\ud83d\\uded2\\ud83d\\ude95\", \"\\ud83c\\udf7d\\ud83d\\ude95\\ud83d\\uded2\", \"\\ud83d\\udc8a\\ud83d\\uded2\\ud83d\\ude95\", \"\\ud83c\\udf7a\\ud83d\\ude95\", \"\\ud83d\\ude95\\ud83c\\udfec\", \"\\ud83d\\ude95\\ud83c\\udf7d\", \"\\ud83d\\uded2\\ud83c\\udf7d\\ud83d\\ude95\", \"\\ud83d\\udcb0\\ud83d\\ude95\", \"\\ud83d\\uded2\\ud83d\\ude95\\ud83c\\udf7d\", \"\\ud83d\\uded2\\ud83d\\udcb0\\ud83d\\ude95\", \"\\ud83d\\ude95\\ud83e\\uddfe\", \"\\ud83e\\uddfe\\ud83d\\ude95\", \"\\ud83d\\uded2\\ud83d\\udcb0\\ud83d\\udc84\", \"\\ud83c\\udfab\\ud83d\\udcb0\\ud83c\\udfdb\", \"\\ud83d\\udcb0\\ud83d\\ude97\\ud83c\\udfec\\ud83d\\uded2\", \"\\ud83d\\uded2\\ud83d\\udc86\\ud83d\\udcb0\", \"\\ud83c\\udfe0\\ud83c\\udfab\\ud83d\\udcb0\", \"\\ud83d\\ude97\\ud83c\\udfec\\ud83c\\udf7a\\ud83d\\udcb0\", \"\\ud83d\\ude97\\ud83d\\udc8a\\ud83c\\udfec\\ud83d\\udcb0\", \"\\u26fd\\ud83d\\udcb0\\ud83d\\ude97\\ud83d\\uded2\", \"\\ud83d\\udcb0\\ud83d\\ude97\\ud83d\\udc8a\\ud83d\\uded2\", \"\\ud83d\\udcb0\\ud83d\\uded2\\ud83c\\udf2f\\ud83d\\udc8a\", \"\\ud83d\\udcb0\\ud83c\\udfae\", \"\\ud83d\\udcb0\\ud83d\\udc89\\ud83c\\udfec\", \"\\ud83d\\udcb0\\ud83d\\ude97\\u26fd\\ud83d\\uded2\", \"\\ud83d\\udcb0\\ud83d\\udc5f\", \"\\ud83d\\udcb0\\ud83d\\ude83\\u26fd\", \"\\ud83d\\uded2\\ud83c\\udf7a\\ud83d\\udc8a\\ud83d\\udcb0\", \"\\ud83d\\udcb0\\ud83d\\ude97\\ud83c\\udfec\\u26fd\", \"\\ud83d\\udcb0\\ud83d\\ude97\\ud83d\\uded2\\ud83d\\udc8a\", \"\\ud83d\\udcb0\\ud83d\\udc86\\ud83c\\udfec\", \"\\ud83d\\udcb0\\ud83c\\udfe0\\ud83d\\uded2\\ud83c\\udfec\", \"\\ud83d\\udcb0\\ud83c\\udfe8\\u26fd\", \"\\ud83c\\udf7d\\ud83d\\ude9a\\ud83d\\udcb0\", \"\\ud83d\\udcb0\\ud83c\\udfec\\u26fd\\ud83c\\udf7a\", \"\\ud83d\\uded2\\ud83d\\udc6e\\ud83d\\udcb0\", \"\\ud83d\\udcb0\\ud83d\\uded2\\ud83c\\udfdb\\ud83d\\udc8a\", \"\\ud83d\\udcb0\\ud83d\\udc89\\ud83d\\udc8a\", \"\\ud83d\\udcb0\\ud83d\\ude97\\ud83d\\uded2\\ud83c\\udfe8\", \"\\ud83d\\udcb0\\ud83d\\uded2\\ud83d\\udc8a\\ud83d\\udc55\", \"\\ud83d\\udcb0\\ud83d\\udcda\\ud83c\\udfec\\ud83d\\udc8a\", \"\\ud83d\\udcb0\\ud83c\\udfec\\ud83d\\udc8a\\ud83c\\udf7a\", \"\\u26fd\\ud83c\\udf2f\\ud83d\\uded2\\ud83d\\udcb0\", \"\\ud83d\\udcb0\\ud83d\\ude97\\ud83c\\udfd7\", \"\\ud83d\\udcb0\\ud83d\\ude97\\ud83d\\udc8a\", \"\\ud83d\\udcb0\\ud83d\\ude83\", \"\\ud83d\\udcb0\\ud83d\\udc84\", \"\\ud83d\\udcb0\\ud83d\\uded2\\u26fd\\ud83d\\udc8a\", \"\\ud83d\\udcb0\\ud83c\\udfec\\ud83c\\udf7a\", \"\\ud83d\\udcb0\", \"\\ud83d\\udcb0\\ud83c\\udfec\", \"\\ud83d\\udcb0\\ud83d\\ude97\\ud83d\\uded2\", \"\\ud83c\\udfa1\\ud83d\\udcb0\", \"\\ud83d\\udcb0\\ud83d\\udc8a\", \"\\ud83d\\uded2\\ud83d\\udcb0\", \"\\ud83d\\udcb0\\ud83d\\ude97\", \"\\ud83d\\udcb0\\u26fd\", \"\\ud83d\\udcb0\\ud83d\\uded2\", \"\\ud83c\\udfab\\ud83d\\udcb0\", \"\\ud83d\\udcb0\\ud83d\\ude97\\ud83c\\udfec\", \"\\ud83d\\uded2\\ud83d\\udcb0\\ud83d\\udcb3\", \"\\u26fd\\ud83d\\udcb0\", \"\\ud83c\\udfec\\ud83d\\udcb0\", \"\\ud83d\\udcb0\\ud83d\\udc8a\\ud83c\\udf7a\", \"\\ud83d\\ude97\\ud83c\\udfec\\ud83d\\udcb0\", \"\\ud83d\\udc8a\\ud83d\\udcb0\", \"\\ud83d\\udcda\\ud83d\\udcb0\", \"\\ud83d\\udcf1\\ud83d\\udcb0\", \"\\ud83d\\udcb0\\ud83c\\udfec\\u26fd\", \"\\ud83c\\udfe0\\ud83d\\udcb0\", \"\\ud83d\\udcb0\\ud83c\\udfe0\", \"\\ud83d\\udcb0\\ud83c\\udf7a\", \"\\ud83d\\uded2\\ud83d\\udcb0\\ud83c\\udfec\", \"\\ud83d\\udcb0\\ud83c\\udf7d\", \"\\ud83d\\udcb0\\ud83d\\uded2\\ud83d\\udc8a\", \"\\ud83d\\udcb0\\ud83c\\udfdb\", \"\\ud83d\\udcb0\\ud83c\\udfec\\ud83d\\uded2\", \"\\ud83d\\uded2\\ud83c\\udfec\\ud83d\\udcb0\", \"\\ud83c\\udf7d\\ud83d\\udcb0\", \"\\ud83d\\uded2\\ud83d\\udcb0\\ud83d\\ude97\", \"\\ud83d\\udcb0\\ud83c\\udf2f\", \"\\ud83d\\uded2\\ud83d\\udc8a\\ud83d\\udcb0\", \"\\ud83d\\udcb0\\ud83d\\uded2\\ud83c\\udfec\", \"\\ud83d\\udcb0\\ud83d\\udcda\", \"\\ud83c\\udf2f\\ud83d\\udcb0\", \"\\ud83d\\udcb0\\ud83d\\udcf1\", \"\\ud83d\\ude97\\ud83d\\udcb0\", \"\\ud83d\\uded2\\u26fd\\ud83d\\udcb0\", \"\\ud83c\\udfec\\ud83d\\uded2\\ud83d\\udcb0\", \"\\ud83c\\udf7a\\ud83d\\udcb0\", \"\\ud83d\\uded2\\ud83d\\udcb0\\ud83c\\udf7d\", \"\\ud83c\\udfec\\ud83c\\udf7d\\ud83d\\udc88\\ud83c\\udf7a\\ud83d\\uded2\", \"\\ud83d\\udc8a\\ud83d\\udc88\\ud83c\\udfdb\\u26fd\", \"\\ud83d\\uddbc\\ud83d\\uded2\\ud83d\\udcfa\\u26fd\\ud83c\\udfdb\", \"\\ud83d\\uddbc\\ud83e\\ude91\\ud83d\\ude97\\ud83d\\udc8a\\ud83d\\udc5e\", \"\\u26fd\\ud83c\\udfec\\ud83d\\udc86\\ud83d\\udcee\", \"\\u26fd\\ud83d\\udd28\\ud83c\\udfe0\\u2708\", \"\\u26fd\\ud83d\\uded2\\ud83c\\udfec\\ud83e\\ude91\\ud83d\\udc55\", \"\\ud83c\\udf7a\\ud83d\\udc55\\ud83c\\udfe0\\ud83d\\udcee\", \"\\ud83c\\udf7a\\ud83d\\udc86\\ud83d\\udcb0\\ud83d\\udc6e\", \"\\ud83c\\udf7a\\ud83d\\udc86\\ud83d\\udcee\", \"\\ud83c\\udf7a\\ud83d\\udcf1\\ud83c\\udfe0\\ud83c\\udfec\", \"\\ud83c\\udfae\\ud83d\\udc6e\", \"\\ud83c\\udfd7\\ud83d\\udc86\\ud83d\\udc55\", \"\\ud83c\\udfd7\\ud83d\\udcf1\\ud83d\\udc86\\ud83d\\udcee\", \"\\ud83c\\udfec\\u26fd\\ud83d\\udcf1\\ud83d\\udc53\\ud83c\\udfe0\", \"\\ud83c\\udfec\\u26fd\\ud83d\\udcf1\\ud83d\\udc55\\ud83c\\udfe0\", \"\\ud83c\\udfec\\ud83c\\udf7a\\ud83d\\udc53\\ud83d\\udc55\", \"\\ud83c\\udfec\\ud83d\\udc53\\ud83d\\udc88\\ud83d\\udcb0\", \"\\ud83c\\udfec\\ud83d\\udc55\\ud83d\\udc88\\ud83d\\udc6e\\ud83c\\udfe0\", \"\\ud83c\\udfec\\ud83d\\uded2\\ud83d\\udcf1\\ud83c\\udfae\", \"\\ud83d\\udc53\\ud83d\\udc55\\ud83c\\udfe0\", \"\\ud83d\\udc8a\\ud83c\\udf7a\\ud83e\\ude91\\ud83c\\udfe0\", \"\\ud83d\\udc8a\\ud83c\\udfe0\\ud83d\\ude97\\ud83c\\udfe8\", \"\\ud83d\\udc8a\\ud83e\\ude7a\\ud83d\\udc6e\", \"\\ud83d\\udcbc\\ud83d\\udc55\\ud83c\\udfe0\", \"\\ud83d\\udcda\\u26fd\\ud83c\\udfec\\ud83d\\uded2\\ud83e\\ude7a\", \"\\ud83d\\udcda\\ud83d\\ude97\\ud83d\\udcee\\ud83c\\udfe0\", \"\\ud83d\\udcda\\ud83d\\uded2\\ud83d\\udc86\\ud83e\\ude91\", \"\\ud83d\\udcda\\ud83d\\uded2\\ud83d\\udcb0\\ud83c\\udfe5\", \"\\ud83d\\udcf1\\u26fd\\ud83d\\udc55\\ud83c\\udfec\\ud83c\\udfe0\", \"\\u26fd\", \"\\u26fd\\ud83c\\udfdb\", \"\\u26fd\\ud83c\\udfe0\\ud83c\\udfec\\ud83d\\udcb0\\ud83d\\udc8a\", \"\\u26fd\\ud83c\\udfe0\\ud83d\\udc5e\\ud83d\\uded2\\ud83d\\ude9a\\ud83d\\ude97\\ud83d\\udcb0\\ud83d\\udc8a\", \"\\u26fd\\ud83c\\udfe0\\ud83d\\udc8a\", \"\\u26fd\\ud83c\\udfe0\\ud83d\\uded2\\ud83d\\udc8a\\ud83d\\udcb0\\ud83c\\udfec\", \"\\u26fd\\ud83c\\udfe8\\ud83c\\udfec\\ud83d\\ude95\", \"\\u26fd\\ud83c\\udfe8\\ud83d\\udcb0\\ud83d\\uded2\\ud83d\\ude95\", \"\\u26fd\\ud83c\\udfec\", \"\\u26fd\\ud83c\\udfec\\ud83c\\udfe0\", \"\\u26fd\\ud83c\\udfec\\ud83d\\udc55\\ud83d\\udc8a\", \"\\u26fd\\ud83c\\udfec\\ud83d\\udc55\\ud83d\\udcb0\", \"\\u26fd\\ud83c\\udfec\\ud83d\\udc55\\ud83d\\udcb0\\ud83d\\udc8a\", \"\\u26fd\\ud83c\\udfec\\ud83d\\udc55\\ud83d\\udcb0\\ud83d\\udc8a\\ud83c\\udfdb\\ud83c\\udfe8\", \"\\u26fd\\ud83c\\udfec\\ud83d\\udc55\\ud83d\\ude9a\\ud83d\\udcb0\", \"\\u26fd\\ud83c\\udfec\\ud83d\\udc8a\", \"\\u26fd\\ud83c\\udfec\\ud83d\\udc8a\\ud83d\\udcb0\", \"\\u26fd\\ud83c\\udfec\\ud83d\\udc8a\\ud83d\\udcb0\\ud83d\\uded2\\ud83c\\udfe0\", \"\\u26fd\\ud83c\\udfec\\ud83d\\udcb0\", \"\\u26fd\\ud83c\\udfec\\ud83d\\udcb0\\ud83c\\udfe0\", \"\\u26fd\\ud83c\\udfec\\ud83d\\udcb0\\ud83c\\udfe0\\ud83d\\ude95\", \"\\u26fd\\ud83c\\udfec\\ud83d\\udcb0\\ud83d\\udc8a\", \"\\u26fd\\ud83c\\udfec\\ud83d\\udcb0\\ud83d\\udc8a\\u2708\", \"\\u26fd\\ud83c\\udfec\\ud83d\\udcb0\\ud83d\\udc8a\\ud83d\\ude95\", \"\\u26fd\\ud83c\\udfec\\ud83d\\udcb0\\ud83d\\udc8a\\ud83d\\ude95\\ud83c\\udfe0\", \"\\u26fd\\ud83c\\udfec\\ud83d\\udcb0\\ud83d\\udcda\\ud83d\\uded2\", \"\\u26fd\\ud83c\\udfec\\ud83d\\udcb0\\ud83d\\udcf1\", \"\\u26fd\\ud83c\\udfec\\ud83d\\udcb0\\ud83d\\ude95\", \"\\u26fd\\ud83c\\udfec\\ud83d\\udcb0\\ud83d\\uded2\", \"\\u26fd\\ud83c\\udfec\\ud83d\\udcb0\\ud83d\\uded2\\ud83d\\udcf1\"], \"Freq\": [90587.0, 167114.0, 249169.0, 58738.0, 478960.0, 57358.0, 68362.0, 77737.0, 130121.0, 36517.0, 87737.0, 21918.0, 19298.0, 37019.0, 19782.0, 32335.0, 140467.0, 17017.0, 15545.0, 28937.0, 56362.0, 14056.0, 62145.0, 91304.0, 11820.0, 11491.0, 19544.0, 44862.0, 49328.0, 21057.0, 21757.095786366302, 23128.40883471362, 16729.121590485767, 16676.30393738089, 7317.954849358136, 6270.41755911236, 6253.391993431303, 6137.017360317528, 5958.700495130751, 3624.53759914225, 3353.325735254331, 3057.319792749866, 3024.694320908201, 3028.364202580686, 3003.6511298888627, 2849.835647877923, 2800.307238108646, 2714.4559507126755, 2661.8656512528732, 2652.2465333520536, 7194.345178791022, 2603.262116408741, 2506.30093356914, 2402.0825597221997, 16514.968778313716, 3670.710528687203, 1942.0134381829262, 1918.486140063206, 1885.026217687596, 1676.9347521535112, 248735.68611608775, 130003.96498208209, 87470.71666872912, 56206.94815598803, 44542.24537166985, 29452.651474204613, 38990.49134200279, 61280.17825854194, 14700.839751526533, 13695.191922839447, 12677.242829804809, 28703.75751825549, 14492.87382279844, 11292.736109298363, 20446.006391357558, 7034.002230415058, 6779.23949225769, 5489.440781507901, 34088.30278799322, 47830.16217931032, 16433.175171671843, 10868.382320950368, 431958.11972838565, 85121.9995590834, 18573.27293463315, 10197.00432176195, 125724.68961185687, 19724.795874522246, 43728.24771485085, 29067.079384203877, 21418.798933051905, 33702.92940865866, 19297.98684582605, 26236.476377795774, 24785.723817635517, 12470.253702504635, 11428.800794048688, 4315.786920642608, 3880.3764339981767, 2499.1289472901367, 2477.3814517309233, 1975.9047569127792, 2540.4903547973986, 1494.8855236343989, 1480.0081109390042, 1441.2176122995577, 1435.909721681653, 1249.5449475001221, 1175.9431571307196, 1150.7582548591529, 1075.0568000066628, 2038.6154876627263, 981.7371259998849, 952.2933098249882, 6512.4999675203135, 928.0493865694028, 862.933417232986, 950.5391775872598, 810.5873453908055, 779.037876044036, 752.611100888879, 747.2695930935931, 698.7819478828857, 664.269788641484, 641.8596119568863, 67130.41930735439, 31668.041358702998, 5171.011536631182, 2871.0041764866937, 19120.02206639457, 8968.240814238068, 9222.65400225603, 4157.755991881001, 4895.41992946393, 2794.850802093958, 35161.36450856719, 6374.9207632352645, 3997.781708446106, 4241.349230099098, 2410.4734050194347, 1880.9698479879924, 150909.77188185707, 6499.589763603115, 11884.27207966983, 2716.270549314941, 2439.6971997878777, 67938.15915704072, 15306.930714875754, 6233.109820609439, 13923.95627149254, 25563.754574823328, 5296.827144438337, 11771.4198191022, 10388.34794629472, 17111.590979311444, 6056.322519873701, 6520.049942699134, 8615.98432820068, 6004.03633491937, 4960.953697912053, 7409.908706009906, 18916.11274902834, 46854.85689229306, 13496.429516195181, 14676.7877963888, 6181.810007925577, 57357.440006006225, 17017.01649854846, 9387.177354866126, 6497.72739961738, 4054.453069981986, 3755.7312679486204, 3268.162756786258, 3040.9211020057814, 2704.0323149532483, 2325.4046766745596, 2279.215119487328, 2114.730737001738, 2117.165053895228, 1935.1990209138246, 1854.1509666697375, 1787.1097731701846, 1764.0952476664045, 1631.4810816889658, 1605.2099067282443, 1575.8530527848154, 1450.2610724152821, 1426.6941931477588, 1423.5660130302133, 1405.3904993103447, 1384.1296285860626, 1369.0088839326563, 1261.127561120704, 1261.00818766812, 1251.1880106833967, 1189.4859417532605, 21905.65930464489, 11473.392567207246, 8530.195419260066, 5058.500201366904, 4313.237328356239, 5107.8559321103985, 5561.296031998061, 2625.288659360931, 2167.6863460638187, 3045.860249039197, 2493.9271499371757, 5376.413519627566, 2151.385872940371, 1817.3668784242673, 5446.163677505582, 2601.8600697707775, 1945.3406932253317, 58737.840916964495, 19297.748687927644, 11819.807230576986, 6410.523637552979, 5913.294661692699, 5799.027076320526, 4550.655009002563, 3809.8521310642905, 3791.0634245786678, 3705.002274009961, 3360.5351614580472, 3193.641468634247, 2833.506413712559, 2680.3966066643616, 2138.1853006208185, 2026.2042574243906, 1987.276838070515, 1901.1128627181943, 1790.2766872677698, 1744.0041295822882, 1736.9377038939688, 1688.1204563461774, 1653.9771356823403, 1368.8717287057013, 1361.6116603192966, 1343.6687994449685, 1302.97534846594, 1258.147702522374, 1209.5541148455245, 1202.3821819879317, 8467.86132346595, 6093.721628831916, 1457.2191659848527, 3885.762367901557, 1699.5835675957135, 1670.7912231246219, 1894.6336240240041, 1583.3833872221974, 154.6864642640274, 152.23747187049008, 130.28137728194287, 101.49707529558953, 70.93418386626601, 66.23322971954428, 63.25976727614673, 60.08800451855105, 58.79397188584667, 53.91870478542375, 52.66007520760985, 52.95444624607346, 53.32898487013213, 52.02375257709145, 51.677912372006205, 51.48096890329044, 50.50398709498957, 45.00225533918691, 44.25006265255977, 44.65870812716543, 43.556748721710775, 43.42320935376183, 44.09959682672185, 42.203928294936574, 41.206472522122446, 41.25976092291039, 41.630630758067014, 40.380483359553494, 39.598220248185854, 39.17192820216707, 41.63849136569391, 60.26655477183127, 378.90129919231066, 150.24557722152096, 160.24716573731652, 147.83121091828227, 423.99902263444545, 65762.19282087048, 10472.583026313288, 677.2335078090628, 122.45184823871924, 5804.604742577938, 24317.98544610576, 3415.8151737655703, 5001.494359846112, 13242.313195177252, 1327.5250065911323, 529.7924013371745, 198.09308826630644, 6401.536223387055, 9870.346658675235, 269.4397986400662, 556.0239994222267, 5870.588608354278, 2548.0006958522595, 1796.9501244347302, 643.546566828226, 1988.1836538344312, 1670.9345632273566, 2250.5056987988396, 2682.3501687754638, 5544.964612621492, 1270.3007533255372, 1537.3376468376125, 1603.7820214225833, 3152.853122221457, 4377.118640097825, 1063.5867539933809, 2697.607721881408, 1881.2949142401715, 1677.4425702516087, 1391.139865636114, 2136.824423956718, 1353.3466099362388, 2758.7320493527222, 1961.881772669421, 1995.3242692194456, 1442.9354028671853, 1411.6294149220662, 7.794677703532236e-06, 7.794677703532236e-06, 7.794677703532236e-06, 7.794677703532236e-06, 7.794677703532236e-06, 7.794677703532236e-06, 7.794677703532236e-06, 7.794677703532236e-06, 7.794677703532236e-06, 7.794677703532236e-06, 7.794677703532236e-06, 7.794677703532236e-06, 7.794677703532236e-06, 7.794677703532236e-06, 7.794677703532236e-06, 7.794677703532236e-06, 7.794677703532236e-06, 7.794677703532236e-06, 7.794677703532236e-06, 7.794677703532236e-06, 7.794677703532236e-06, 7.794677703532236e-06, 7.794677703532236e-06, 7.794677703532236e-06, 7.794677703532236e-06, 7.794677703532236e-06, 7.794677703532236e-06, 7.794677703532236e-06, 7.794677703532236e-06, 7.794677703532236e-06, 7.794677703532236e-06, 7.794677703532236e-06, 7.794677703532236e-06, 7.794677703532236e-06, 7.794677703532236e-06, 7.794677703532236e-06, 7.794677703532236e-06, 7.794677703532236e-06, 7.794677703532236e-06, 7.794677703532236e-06, 7.794677703532236e-06, 7.794677703532236e-06, 7.794677703532236e-06, 7.794677703532236e-06, 7.794677703532236e-06, 7.794677703532236e-06, 7.794677703532236e-06, 7.794677703532236e-06, 7.794677703532236e-06, 7.794677703532236e-06, 7.794677703532236e-06, 7.794677703532236e-06, 7.794677703532236e-06, 7.794677703532236e-06, 7.794677703532236e-06, 7.794677703532236e-06, 7.794677703532236e-06, 7.794677703532236e-06, 7.794677703532236e-06, 7.794677703532236e-06], \"Total\": [90587.0, 167114.0, 249169.0, 58738.0, 478960.0, 57358.0, 68362.0, 77737.0, 130121.0, 36517.0, 87737.0, 21918.0, 19298.0, 37019.0, 19782.0, 32335.0, 140467.0, 17017.0, 15545.0, 28937.0, 56362.0, 14056.0, 62145.0, 91304.0, 11820.0, 11491.0, 19544.0, 44862.0, 49328.0, 21057.0, 21757.775717666387, 23129.199579638054, 16729.800383737907, 16676.98233952129, 7318.636224624354, 6271.098044510019, 6254.07121192244, 6137.697242204836, 5959.379819064216, 3625.2237510644336, 3354.005681338925, 3058.0015387742756, 3025.3728672859374, 3029.044053457042, 3004.3294400745785, 2850.5148076303085, 2800.986021416794, 2715.1366206608536, 2662.5437077596935, 2652.9257491251997, 7196.2058411310945, 2603.940483345758, 2506.9795956573503, 2402.7622801176317, 16519.64858927506, 3671.888491155875, 1942.69285855051, 1919.1708527364485, 1885.7051854767594, 1677.6158239348042, 249169.6027309926, 130121.29794272032, 87737.10834623621, 56362.9489138125, 44862.579125321805, 29549.633042101872, 39346.101936622676, 62145.56669855685, 14717.878915087298, 13706.70560220352, 12684.778959443549, 28968.226833791163, 14533.529399353109, 11310.645222375395, 20658.49460991312, 7053.558480239418, 6804.494139182077, 5503.143849615506, 34823.547184647694, 49328.39820983537, 16708.464239232242, 10990.51347789128, 478960.3848747752, 91304.31372688722, 19111.466111008744, 10340.443244471971, 140467.54924617943, 20443.868410225026, 46967.49777191558, 31833.96910623963, 23326.502144589587, 52622.491061366076, 23934.548302628875, 39737.94048339039, 90587.16151622831, 12470.932834390305, 11429.480832936797, 4316.465501425453, 3881.054934438055, 2499.807563017457, 2478.0595873320267, 1976.5900055579104, 2541.582485423152, 1495.5699503040505, 1480.6865453877874, 1441.8973792041666, 1436.588661352617, 1250.2298541600867, 1176.6210232205008, 1151.436367359318, 1075.7347445972994, 2039.9474501754366, 982.4152582859064, 952.9735254307386, 6517.219115064946, 928.7280884461796, 863.611889384491, 951.2895213003329, 811.2659443090502, 779.7157486103873, 753.2891698140112, 747.948289443906, 699.4641272734951, 664.9484327205887, 642.5394916208586, 68362.28712226525, 32335.339623604777, 5190.830267611999, 2876.45187818019, 19544.904338820972, 9101.52742154005, 9375.523067667998, 4197.622711925721, 4959.694566392411, 2816.442605388915, 37019.585992107386, 6556.619837276408, 4083.828747133841, 4338.3001938072985, 2440.1613292612815, 1896.7076141424534, 167114.97548333282, 6745.318549023329, 12568.212078611105, 2760.380058729124, 2474.243751717881, 77737.08586164584, 16518.158812853766, 6547.879115013445, 15181.116657824574, 28937.82468355666, 5618.417835019162, 13450.412491330975, 11809.155548089157, 21057.629563543658, 6763.413452629165, 7409.191818195969, 10632.720899641412, 7022.142347697681, 5397.128023374463, 9684.954576874154, 52622.491061366076, 478960.3848747752, 39737.94048339039, 140467.54924617943, 91304.31372688722, 57358.12151857244, 17017.696876431273, 9387.86233171114, 6498.40803180263, 4055.1339919627603, 3756.4118826854065, 3268.8450727940667, 3041.605568232853, 2704.7146051391464, 2326.0874417326445, 2279.8945060565757, 2115.4124110664256, 2117.8503105159016, 1935.878248756146, 1854.8306510636205, 1787.7906409751695, 1764.7754432593235, 1632.1627333391605, 1605.8923534054456, 1576.531797079898, 1450.9475705967852, 1427.374262921286, 1424.2458091918477, 1406.0719373378072, 1384.81053952534, 1369.688701118868, 1261.8067405500851, 1261.6875903490836, 1251.8702547021041, 1190.1649882346646, 21918.827024502345, 11491.07050323429, 8566.915046760252, 5066.596865427155, 4321.628466273581, 5127.136250998776, 5587.716230343287, 2632.6341498852853, 2169.9826163315624, 3061.2394596774598, 2501.655893460678, 5498.729298226205, 2167.980836790936, 1838.0135330466803, 9247.600335164121, 3669.430022498114, 2731.0406275356054, 58738.53565956888, 19298.444042005325, 11820.50105823749, 6411.225190608824, 5913.992371570675, 5799.724256778572, 4551.348942718825, 3810.546281750365, 3791.7595706075354, 3705.6960832311065, 3361.2291120842615, 3194.3396841143626, 2834.2015146103495, 2681.092752084485, 2138.8822322062565, 2026.899757882187, 1987.970223579811, 1901.8090074659056, 1790.9704453602267, 1744.6985647577012, 1737.6380834929494, 1688.820810276396, 1654.6707190163838, 1369.5665166571957, 1362.3061818184199, 1344.3625634850969, 1303.6715261362085, 1258.8416264986267, 1210.2477511106176, 1203.0776081778072, 8476.208811765788, 6097.252320982287, 1461.3532119548875, 4038.231098352284, 1717.1500535098844, 1713.6670807945295, 2025.029597725784, 2638.8253385873873, 155.38409629678392, 152.94721737567087, 130.96657706447655, 102.18446843201417, 71.62631190127556, 66.91483216005734, 63.943500486249626, 60.77271545842039, 59.47716686427944, 54.613937091877986, 53.345884292553734, 53.64429728378953, 54.024029624585246, 52.70723122381331, 52.36112990389491, 52.16699164679973, 51.189671915228864, 45.685383653927346, 44.93482564021321, 45.35511726467461, 44.24023296310227, 44.11098619011231, 44.800203357585296, 42.89264369645132, 41.889707040273606, 41.94884420576259, 42.33094318557882, 41.06432754246826, 40.281755748220355, 39.85571547085755, 42.381301524287004, 61.57235514562925, 405.08315612008556, 157.78491631537423, 168.86460028254388, 156.41490549290094, 472.96702133332957, 90587.16151622831, 14056.464464835075, 787.4462755654192, 130.96807146464994, 7916.227771544555, 36517.87465589582, 4547.995375637888, 6831.31410051498, 19782.236223092797, 1687.2117463177783, 632.4022091004265, 221.5571821922272, 9644.82561091458, 15545.760182955566, 311.69832578562085, 687.9749034861782, 9098.162548341885, 3660.3641388883343, 2498.640942583718, 813.6958445442052, 2825.1828562322953, 2335.0560689015856, 3253.2492227798393, 4063.796464261535, 9316.800113621963, 1756.9416112247898, 2185.2209175392645, 2336.921119449011, 5161.9690596833125, 7637.893006515717, 1474.2684520853961, 4516.562296065088, 2975.526564003685, 2594.8513800740448, 2070.6068044385192, 3544.3989999039322, 2006.2451308416732, 5111.476731963109, 3292.019060490653, 3372.9667314105404, 2914.8159769603353, 3074.3247059484693, 0.8502297855999437, 0.8502297855999437, 0.8502297855999437, 0.8502297855999437, 0.8502334198062341, 0.8502334198062341, 0.8502334198062341, 0.8502334198062341, 0.8502334198062341, 0.8502334198062341, 0.8502334198062341, 0.8502334198062341, 0.8502334198062341, 0.8502334198062341, 0.8502334198062341, 0.8502334198062341, 0.8502334198062341, 0.8502334198062341, 0.8502334198062341, 0.8502334198062341, 0.8502334198062341, 0.8502334198062341, 0.8502334198062341, 0.8502334198062341, 0.8502334198062341, 0.8502334198062341, 0.8502334198062341, 0.8502334198062341, 0.8502334198062341, 0.8502334198062341, 140467.54924617943, 3784.956752295722, 0.8518385089286266, 0.8518385089286266, 183.27745737726792, 0.8518385089286266, 0.8518385089286266, 0.8518385089286266, 23326.502144589587, 496.16565256399724, 9.692850339569102, 12.205569706601123, 0.8518385089286266, 0.8518385089286266, 0.8518385089286266, 1425.3523465024643, 67.9065933301688, 0.8518385089286266, 1115.20649406704, 19.968589219929218, 0.8582162425412342, 48.21939474885793, 0.8518385089286266, 0.8759318456076359, 0.8518385089286266, 0.860528105342015, 14.04577497282619, 63.18701378399293, 103.87072365409699, 0.9474737299717169], \"Category\": [\"Default\", \"Default\", \"Default\", \"Default\", \"Default\", \"Default\", \"Default\", \"Default\", \"Default\", \"Default\", \"Default\", \"Default\", \"Default\", \"Default\", \"Default\", \"Default\", \"Default\", \"Default\", \"Default\", \"Default\", \"Default\", \"Default\", \"Default\", \"Default\", \"Default\", \"Default\", \"Default\", \"Default\", \"Default\", \"Default\", \"Topic1\", \"Topic1\", \"Topic1\", \"Topic1\", \"Topic1\", \"Topic1\", \"Topic1\", \"Topic1\", \"Topic1\", \"Topic1\", \"Topic1\", \"Topic1\", \"Topic1\", \"Topic1\", \"Topic1\", \"Topic1\", \"Topic1\", \"Topic1\", \"Topic1\", \"Topic1\", \"Topic1\", \"Topic1\", \"Topic1\", \"Topic1\", \"Topic1\", \"Topic1\", \"Topic1\", \"Topic1\", \"Topic1\", \"Topic1\", \"Topic1\", \"Topic1\", \"Topic1\", \"Topic1\", \"Topic1\", \"Topic1\", \"Topic1\", \"Topic1\", \"Topic1\", \"Topic1\", \"Topic1\", \"Topic1\", \"Topic1\", \"Topic1\", \"Topic1\", \"Topic1\", \"Topic1\", \"Topic1\", \"Topic1\", \"Topic1\", \"Topic1\", \"Topic1\", \"Topic1\", \"Topic1\", \"Topic1\", \"Topic1\", \"Topic1\", \"Topic1\", \"Topic1\", \"Topic1\", \"Topic1\", \"Topic1\", \"Topic1\", \"Topic1\", \"Topic1\", \"Topic2\", \"Topic2\", \"Topic2\", \"Topic2\", \"Topic2\", \"Topic2\", \"Topic2\", \"Topic2\", \"Topic2\", \"Topic2\", \"Topic2\", \"Topic2\", \"Topic2\", \"Topic2\", \"Topic2\", \"Topic2\", \"Topic2\", \"Topic2\", \"Topic2\", \"Topic2\", \"Topic2\", \"Topic2\", \"Topic2\", \"Topic2\", \"Topic2\", \"Topic2\", \"Topic2\", \"Topic2\", \"Topic2\", \"Topic2\", \"Topic2\", \"Topic2\", \"Topic2\", \"Topic2\", \"Topic2\", \"Topic2\", \"Topic2\", \"Topic2\", \"Topic2\", \"Topic2\", \"Topic2\", \"Topic2\", \"Topic2\", \"Topic2\", \"Topic2\", \"Topic2\", \"Topic2\", \"Topic2\", \"Topic2\", \"Topic2\", \"Topic2\", \"Topic2\", \"Topic2\", \"Topic2\", \"Topic2\", \"Topic2\", \"Topic2\", \"Topic2\", \"Topic2\", \"Topic2\", \"Topic2\", \"Topic2\", \"Topic2\", \"Topic2\", \"Topic2\", \"Topic2\", \"Topic2\", \"Topic2\", \"Topic2\", \"Topic2\", \"Topic2\", \"Topic3\", \"Topic3\", \"Topic3\", \"Topic3\", \"Topic3\", \"Topic3\", \"Topic3\", \"Topic3\", \"Topic3\", \"Topic3\", \"Topic3\", \"Topic3\", \"Topic3\", \"Topic3\", \"Topic3\", \"Topic3\", \"Topic3\", \"Topic3\", \"Topic3\", \"Topic3\", \"Topic3\", \"Topic3\", \"Topic3\", \"Topic3\", \"Topic3\", \"Topic3\", \"Topic3\", \"Topic3\", \"Topic3\", \"Topic3\", \"Topic3\", \"Topic3\", \"Topic3\", \"Topic3\", \"Topic3\", \"Topic3\", \"Topic3\", \"Topic3\", \"Topic3\", \"Topic3\", \"Topic3\", \"Topic3\", \"Topic3\", \"Topic3\", \"Topic3\", \"Topic3\", \"Topic3\", \"Topic4\", \"Topic4\", \"Topic4\", \"Topic4\", \"Topic4\", \"Topic4\", \"Topic4\", \"Topic4\", \"Topic4\", \"Topic4\", \"Topic4\", \"Topic4\", \"Topic4\", \"Topic4\", \"Topic4\", \"Topic4\", \"Topic4\", \"Topic4\", \"Topic4\", \"Topic4\", \"Topic4\", \"Topic4\", \"Topic4\", \"Topic4\", \"Topic4\", \"Topic4\", \"Topic4\", \"Topic4\", \"Topic4\", \"Topic4\", \"Topic4\", \"Topic4\", \"Topic4\", \"Topic4\", \"Topic4\", \"Topic4\", \"Topic4\", \"Topic4\", \"Topic5\", \"Topic5\", \"Topic5\", \"Topic5\", \"Topic5\", \"Topic5\", \"Topic5\", \"Topic5\", \"Topic5\", \"Topic5\", \"Topic5\", \"Topic5\", \"Topic5\", \"Topic5\", \"Topic5\", \"Topic5\", \"Topic5\", \"Topic5\", \"Topic5\", \"Topic5\", \"Topic5\", \"Topic5\", \"Topic5\", \"Topic5\", \"Topic5\", \"Topic5\", \"Topic5\", \"Topic5\", \"Topic5\", \"Topic5\", \"Topic5\", \"Topic5\", \"Topic5\", \"Topic5\", \"Topic5\", \"Topic5\", \"Topic5\", \"Topic5\", \"Topic5\", \"Topic5\", \"Topic5\", \"Topic5\", \"Topic5\", \"Topic5\", \"Topic5\", \"Topic5\", \"Topic5\", \"Topic5\", \"Topic5\", \"Topic5\", \"Topic5\", \"Topic5\", \"Topic5\", \"Topic5\", \"Topic5\", \"Topic5\", \"Topic5\", \"Topic5\", \"Topic5\", \"Topic5\", \"Topic5\", \"Topic5\", \"Topic5\", \"Topic5\", \"Topic5\", \"Topic5\", \"Topic5\", \"Topic5\", \"Topic5\", \"Topic5\", \"Topic5\", \"Topic5\", \"Topic5\", \"Topic5\", \"Topic5\", \"Topic5\", \"Topic5\", \"Topic5\", \"Topic5\", \"Topic6\", \"Topic6\", \"Topic6\", \"Topic6\", \"Topic6\", \"Topic6\", \"Topic6\", \"Topic6\", \"Topic6\", \"Topic6\", \"Topic6\", \"Topic6\", \"Topic6\", \"Topic6\", \"Topic6\", \"Topic6\", \"Topic6\", \"Topic6\", \"Topic6\", \"Topic6\", \"Topic6\", \"Topic6\", \"Topic6\", \"Topic6\", \"Topic6\", \"Topic6\", \"Topic6\", \"Topic6\", \"Topic6\", \"Topic6\", \"Topic6\", \"Topic6\", \"Topic6\", \"Topic6\", \"Topic6\", \"Topic6\", \"Topic6\", \"Topic6\", \"Topic6\", \"Topic6\", \"Topic6\", \"Topic6\", \"Topic6\", \"Topic6\", \"Topic6\", \"Topic6\", \"Topic6\", \"Topic6\", \"Topic6\", \"Topic6\", \"Topic6\", \"Topic6\", \"Topic6\", \"Topic6\", \"Topic6\", \"Topic6\", \"Topic6\", \"Topic6\", \"Topic6\", \"Topic6\"], \"logprob\": [30.0, 29.0, 28.0, 27.0, 26.0, 25.0, 24.0, 23.0, 22.0, 21.0, 20.0, 19.0, 18.0, 17.0, 16.0, 15.0, 14.0, 13.0, 12.0, 11.0, 10.0, 9.0, 8.0, 7.0, 6.0, 5.0, 4.0, 3.0, 2.0, 1.0, -5.1744, -5.1133, -5.4372, -5.4404, -6.264, -6.4185, -6.4212, -6.44, -6.4695, -6.9666, -7.0444, -7.1368, -7.1476, -7.1463, -7.1545, -7.2071, -7.2246, -7.2558, -7.2753, -7.279, -6.2811, -7.2976, -7.3356, -7.378, -5.4501, -6.954, -7.5906, -7.6028, -7.6204, -7.7374, -2.738, -3.3868, -3.7831, -4.2253, -4.4579, -4.8716, -4.5911, -4.1389, -5.5665, -5.6373, -5.7146, -4.8973, -5.5807, -5.8302, -5.2366, -6.3036, -6.3405, -6.5515, -4.7254, -4.3867, -5.4551, -5.8685, -2.186, -3.8103, -5.3326, -5.9323, -3.4203, -5.2725, -4.4764, -4.8848, -5.1901, -4.7368, -5.2944, -4.9872, -5.0441, -4.932, -5.0193, -5.9931, -6.0995, -6.5394, -6.5482, -6.7744, -6.523, -7.0533, -7.0633, -7.0899, -7.0936, -7.2326, -7.2933, -7.315, -7.383, -6.7431, -7.4738, -7.5043, -5.5817, -7.5301, -7.6028, -7.5061, -7.6654, -7.7051, -7.7396, -7.7467, -7.8138, -7.8645, -7.8988, -3.2488, -4.0001, -5.8123, -6.4007, -4.5047, -5.2617, -5.2337, -6.0304, -5.8671, -6.4276, -3.8954, -5.603, -6.0697, -6.0105, -6.5756, -6.8236, -2.4387, -5.5837, -4.9802, -6.4561, -6.5635, -3.2368, -4.7271, -5.6255, -4.8218, -4.2142, -5.7883, -4.9897, -5.1147, -4.6156, -5.6543, -5.5805, -5.3018, -5.663, -5.8538, -5.4526, -4.5154, -3.6083, -4.853, -4.7691, -5.6338, -2.4895, -3.7046, -4.2994, -4.6673, -5.139, -5.2155, -5.3546, -5.4266, -5.544, -5.6949, -5.7149, -5.7899, -5.7887, -5.8786, -5.9214, -5.9582, -5.9711, -6.0493, -6.0655, -6.084, -6.167, -6.1834, -6.1856, -6.1985, -6.2137, -6.2247, -6.3068, -6.3069, -6.3147, -6.3653, -3.452, -4.0988, -4.3952, -4.9177, -5.0771, -4.908, -4.8229, -5.5736, -5.7651, -5.425, -5.6249, -4.8568, -5.7727, -5.9414, -4.8439, -5.5826, -5.8733, -2.2343, -3.3474, -3.8376, -4.4494, -4.5302, -4.5497, -4.7921, -4.9698, -4.9747, -4.9977, -5.0953, -5.1462, -5.2659, -5.3214, -5.5474, -5.6012, -5.6206, -5.6649, -5.725, -5.7512, -5.7553, -5.7838, -5.8042, -5.9934, -5.9987, -6.012, -6.0427, -6.0777, -6.1171, -6.1231, -4.1711, -4.5001, -5.9309, -4.9501, -5.777, -5.7941, -5.6684, -5.8478, -8.1219, -8.1379, -8.2936, -8.5433, -8.9016, -8.9701, -9.0161, -9.0675, -9.0893, -9.1758, -9.1995, -9.1939, -9.1868, -9.2116, -9.2183, -9.2221, -9.2413, -9.3566, -9.3735, -9.3643, -9.3893, -9.3923, -9.3769, -9.4208, -9.4447, -9.4434, -9.4345, -9.465, -9.4845, -9.4954, -9.4343, -9.0645, -7.226, -8.151, -8.0866, -8.1672, -7.1136, -2.0695, -3.9068, -6.6453, -8.3556, -4.4969, -3.0643, -5.0271, -4.6458, -3.6721, -5.9722, -6.8908, -7.8746, -4.399, -3.966, -7.567, -6.8425, -4.4856, -5.3203, -5.6695, -6.6963, -5.5683, -5.7422, -5.4444, -5.2689, -4.5427, -6.0163, -5.8255, -5.7832, -5.1073, -4.7792, -6.1939, -5.2632, -5.6236, -5.7383, -5.9254, -5.4962, -5.953, -5.2408, -5.5817, -5.5648, -5.8889, -5.9108, -13.5102, -13.5102, -13.5102, -13.5102, -13.5102, -13.5102, -13.5102, -13.5102, -13.5102, -13.5102, -13.5102, -13.5102, -13.5102, -13.5102, -13.5102, -13.5102, -13.5102, -13.5102, -13.5102, -13.5102, -13.5102, -13.5102, -13.5102, -13.5102, -13.5102, -13.5102, -13.5102, -13.5102, -13.5102, -13.5102, -13.5102, -13.5102, -13.5102, -13.5102, -13.5102, -13.5102, -13.5102, -13.5102, -13.5102, -13.5102, -13.5102, -13.5102, -13.5102, -13.5102, -13.5102, -13.5102, -13.5102, -13.5102, -13.5102, -13.5102, -13.5102, -13.5102, -13.5102, -13.5102, -13.5102, -13.5102, -13.5102, -13.5102, -13.5102, -13.5102], \"loglift\": [30.0, 29.0, 28.0, 27.0, 26.0, 25.0, 24.0, 23.0, 22.0, 21.0, 20.0, 19.0, 18.0, 17.0, 16.0, 15.0, 14.0, 13.0, 12.0, 11.0, 10.0, 9.0, 8.0, 7.0, 6.0, 5.0, 4.0, 3.0, 2.0, 1.0, 0.6459, 0.6459, 0.6459, 0.6459, 0.6459, 0.6459, 0.6459, 0.6459, 0.6459, 0.6458, 0.6458, 0.6458, 0.6458, 0.6458, 0.6457, 0.6457, 0.6457, 0.6457, 0.6457, 0.6457, 0.6457, 0.6457, 0.6457, 0.6457, 0.6457, 0.6457, 0.6456, 0.6456, 0.6456, 0.6456, 0.6442, 0.6451, 0.6429, 0.6432, 0.6388, 0.6427, 0.6369, 0.632, 0.6448, 0.6451, 0.6454, 0.6368, 0.6432, 0.6444, 0.6356, 0.6432, 0.6423, 0.6435, 0.6246, 0.6151, 0.6294, 0.6348, 0.5427, 0.5759, 0.6174, 0.632, 0.5351, 0.6102, 0.5745, 0.555, 0.5607, 0.2004, 0.4307, 0.2308, -0.6501, 1.4449, 1.4449, 1.4448, 1.4448, 1.4447, 1.4447, 1.4446, 1.4445, 1.4445, 1.4445, 1.4445, 1.4445, 1.4444, 1.4444, 1.4444, 1.4443, 1.4443, 1.4443, 1.4442, 1.4442, 1.4442, 1.4442, 1.4442, 1.4441, 1.4441, 1.4441, 1.444, 1.444, 1.4439, 1.4439, 1.4268, 1.4241, 1.4411, 1.4431, 1.423, 1.4302, 1.4285, 1.4354, 1.4319, 1.4373, 1.3935, 1.4169, 1.4237, 1.4224, 1.4327, 1.4366, 1.343, 1.4078, 1.389, 1.4288, 1.4309, 1.3102, 1.3688, 1.3957, 1.3585, 1.321, 1.386, 1.3116, 1.3168, 1.2374, 1.3345, 1.3171, 1.2346, 1.2883, 1.3607, 1.1772, 0.4218, -0.8796, 0.3651, -0.8138, -1.2476, 2.3616, 2.3615, 2.3615, 2.3615, 2.3614, 2.3614, 2.3614, 2.3613, 2.3613, 2.3613, 2.3613, 2.3612, 2.3612, 2.3612, 2.3612, 2.3612, 2.3612, 2.3611, 2.3611, 2.3611, 2.3611, 2.3611, 2.3611, 2.3611, 2.3611, 2.3611, 2.361, 2.361, 2.361, 2.361, 2.361, 2.36, 2.3573, 2.36, 2.3596, 2.3578, 2.3568, 2.3588, 2.3605, 2.3565, 2.3585, 2.3391, 2.3539, 2.3503, 1.8321, 2.0178, 2.0223, 2.593, 2.5929, 2.5929, 2.5929, 2.5928, 2.5928, 2.5928, 2.5928, 2.5928, 2.5928, 2.5928, 2.5927, 2.5927, 2.5927, 2.5926, 2.5926, 2.5926, 2.5926, 2.5926, 2.5926, 2.5926, 2.5925, 2.5925, 2.5925, 2.5925, 2.5924, 2.5924, 2.5924, 2.5924, 2.5924, 2.592, 2.5924, 2.5901, 2.5545, 2.5827, 2.5676, 2.5264, 2.0822, 2.6403, 2.6401, 2.6395, 2.638, 2.6351, 2.6345, 2.634, 2.6335, 2.6332, 2.632, 2.6318, 2.6318, 2.6318, 2.6317, 2.6316, 2.6315, 2.6313, 2.6297, 2.6294, 2.6293, 2.6292, 2.6291, 2.629, 2.6286, 2.6283, 2.6282, 2.6281, 2.628, 2.6277, 2.6275, 2.6271, 2.6233, 2.578, 2.5958, 2.5924, 2.5883, 2.5355, 2.3245, 2.3505, 2.494, 2.5775, 2.3345, 2.2382, 2.3585, 2.333, 2.2434, 2.405, 2.4677, 2.5328, 2.2349, 2.1905, 2.4991, 2.4318, 2.2067, 2.2825, 2.3151, 2.4102, 2.2934, 2.3101, 2.2763, 2.2294, 2.1259, 2.3205, 2.2931, 2.2683, 2.1518, 2.0881, 2.3183, 2.1294, 2.1863, 2.2085, 2.2471, 2.1387, 2.2511, 2.0281, 2.1272, 2.1198, 1.9417, 1.8664, 2.4601, 2.4601, 2.4601, 2.4601, 2.4601, 2.4601, 2.4601, 2.4601, 2.4601, 2.4601, 2.4601, 2.4601, 2.4601, 2.4601, 2.4601, 2.4601, 2.4601, 2.4601, 2.4601, 2.4601, 2.4601, 2.4601, 2.4601, 2.4601, 2.4601, 2.4601, 2.4601, 2.4601, 2.4601, 2.4601, -9.5548, -5.9409, 2.4582, 2.4582, -2.9131, 2.4582, 2.4582, 2.4582, -7.7595, -3.909, 0.0265, -0.204, 2.4582, 2.4582, 2.4582, -4.9643, -1.9202, 2.4582, -4.7189, -0.6963, 2.4508, -1.5779, 2.4582, 2.4304, 2.4582, 2.4481, -0.3444, -1.8482, -2.3453, 2.3518]}, \"token.table\": {\"Topic\": [1, 2, 3, 4, 5, 1, 2, 3, 2, 5, 1, 2, 3, 2, 1, 2, 1, 2, 1, 1, 2, 4, 1, 2, 1, 2, 1, 1, 5, 1, 2, 1, 5, 1, 2, 5, 1, 5, 1, 2, 5, 5, 4, 1, 5, 1, 2, 5, 5, 4, 1, 2, 3, 1, 2, 1, 2, 4, 1, 3, 1, 2, 3, 5, 1, 2, 2, 2, 2, 2, 1, 2, 2, 1, 2, 5, 4, 1, 2, 5, 2, 3, 1, 2, 3, 4, 1, 2, 1, 1, 5, 4, 3, 1, 2, 3, 5, 1, 2, 3, 2, 1, 2, 2, 2, 2, 1, 2, 3, 1, 2, 2, 1, 2, 1, 2, 5, 4, 4, 5, 1, 2, 2, 4, 3, 2, 3, 1, 5, 1, 3, 1, 5, 5, 1, 2, 1, 1, 1, 1, 2, 3, 1, 1, 2, 3, 1, 2, 5, 1, 2, 1, 3, 5, 4, 3, 1, 2, 3, 4, 5, 1, 2, 3, 5, 1, 2, 1, 2, 2, 1, 2, 1, 2, 2, 1, 1, 1, 2, 1, 1, 1, 5, 1, 1, 1, 2, 1, 4, 1, 2, 1, 1, 2, 1, 2, 1, 5, 4, 1, 3, 1, 3, 3, 1, 1, 2, 3, 1, 2, 3, 1, 1, 2, 5, 1, 2, 2, 1, 2, 2, 1, 1, 2, 1, 1, 1, 4, 5, 1, 4, 1, 1, 2, 1, 2, 4, 3, 1, 3, 1, 2, 3, 5, 1, 2, 3, 5, 2, 5, 1, 4, 5, 2, 5, 5, 1, 2, 5, 1, 5, 5, 5, 1, 5, 1, 5, 5, 1, 5, 5, 1, 5, 5, 1, 5, 5, 5, 5, 1, 5, 1, 5, 1, 5, 5, 1, 5, 1, 5, 5, 4, 5, 1, 5, 5, 1, 5, 1, 5, 5, 5, 1, 5, 5, 1, 5, 5, 5, 1, 2, 5, 1, 5, 5, 5, 1, 5, 1, 5, 5, 1, 2, 4, 1, 2, 1, 2, 1, 2, 5, 4, 2, 1, 2, 1, 3, 1, 1, 1, 2, 3, 1, 2, 1, 5, 3, 1, 2, 1, 1, 3, 5, 1, 2, 3, 5, 4, 4, 4, 4, 2, 4, 4, 4, 1, 4, 4, 4, 4, 4, 4, 4, 3, 4, 1, 2, 3, 1, 2, 2, 1, 2, 5, 1, 4, 5, 1, 5, 1, 5, 4, 1, 2, 3, 4, 5, 3, 1, 1, 1, 2, 3, 4, 5, 1, 2, 3, 4, 1, 2, 1, 2, 1, 2, 5, 4, 3, 1, 2, 3, 1, 2, 2, 1, 2, 3, 2, 2, 5, 1, 2, 1, 2, 2, 1, 2, 1, 2, 2, 4, 2, 1, 2, 1, 2, 1, 2, 1, 2, 5, 4, 1, 3, 2, 5, 5, 2, 1, 2, 1, 2, 1, 2, 5, 1, 2, 3, 5, 2, 5, 1, 2, 5, 5, 1, 5, 4, 5, 1, 2, 4, 5, 1, 2, 3, 4, 2, 4, 4, 1, 2, 2, 3, 4, 3, 3, 2, 3, 3, 3, 3, 5, 3, 3, 3, 2, 3, 3, 2, 3, 3, 3, 3, 3, 3, 3, 3, 3, 5, 3, 3, 3, 4, 3, 3, 3, 2, 3, 3, 1, 2, 1], \"Freq\": [0.895046583176716, 0.10448676636535821, 0.000455621247351838, 1.4238163979744937e-05, 7.1190819898724684e-06, 0.016105768063302165, 0.9837317804492443, 0.00021332143130201544, 0.9996210234697391, 0.9910030718601576, 0.021386648548069355, 0.9782600962657562, 0.00035814961683369734, 0.9994721977525092, 0.015939834031498384, 0.983922482489764, 0.8858753796767365, 0.1141360465315688, 0.9984861347312518, 0.9182259674954302, 0.08175250571986485, 4.286969361293385e-05, 0.011884460118372284, 0.9876396167336967, 0.8888160591549981, 0.11085007540481835, 0.9285194431672301, 0.8192980942619755, 0.08192980942619756, 0.8945156635330207, 0.10523713688623773, 0.39760498466950384, 0.6037705322759133, 0.3640581382550607, 0.01883059335802038, 0.6169261062056202, 0.3505505533166961, 0.6009438056857648, 0.3525552340202827, 0.16590834542130953, 0.4769864930862649, 0.9255452280241276, 0.9812142762743816, 0.6546599234876695, 0.3369573135598299, 0.2776618373451395, 0.058476951554390845, 0.6637756096652663, 0.9872851582722337, 0.9998321993826971, 0.6602254591167372, 0.3396250494069022, 0.0001258243366208144, 0.0003934556543945921, 0.9993773621622639, 0.003660300765091439, 0.9961797503309385, 0.9997752474278497, 0.0015789691211845678, 0.9985005980090911, 0.12471524874568714, 0.8739458039488904, 0.0012992511731113358, 3.8591619003307e-05, 0.05713352218114358, 0.9427921090140733, 0.9987321457147645, 0.9999579304656243, 0.9992160370131609, 0.9996189076251936, 0.2349004305536209, 0.765104259517508, 0.9995773087984903, 0.007053381969884768, 0.3901930905740254, 0.60292309078575, 0.9995924228717432, 0.07313163735052498, 0.9266771299043759, 0.0001816183046784561, 0.9995724124886087, 0.9996076546286684, 0.9972331306857104, 0.0025016434149960887, 0.0002483901263116684, 1.7742151879404887e-05, 0.10453301501554152, 0.8954058542208196, 0.9997001551474642, 0.5046630770612169, 0.49505698178064994, 0.9991042903878501, 0.9994971842008293, 0.09594591958994811, 0.9030309795010022, 0.001011279806080905, 1.196780835598704e-05, 0.05346822569485649, 0.9455601103536824, 0.0009547897445510088, 0.9996721860310842, 0.01374157254166798, 0.9861599118138198, 0.9999251993092503, 0.9992914764235968, 0.9995363330679772, 0.14482759671390588, 0.8550097253395191, 0.00014240668310118573, 0.18739051269244344, 0.8126270788629225, 0.9993169834840889, 0.18960339681896377, 0.8103288030715237, 0.005106120230635591, 0.4218440867463557, 0.5730638012690251, 0.9998751222046934, 0.9993314278135466, 0.9748138437593731, 0.05016263554097861, 0.9497945224859177, 0.9996769499263046, 0.9995746116130854, 0.9998274109776126, 0.0037057723980514004, 0.9962676531182396, 0.06108359014936941, 0.9315247497778835, 0.9997186024115502, 0.0002421359012804239, 0.21277708668369125, 0.7870974125792256, 0.9938069002370647, 0.996729805681032, 0.0032487713083685556, 0.9998287176646793, 0.9996510459723552, 0.9996329171875836, 0.9908787363718464, 0.007007677796944148, 0.0021402759773918086, 0.9993899174037689, 0.9928541976058425, 0.006263572123551743, 0.0008693213979306689, 0.08078370535435223, 0.9191925739975719, 0.9912558404216202, 0.997227147078427, 0.002693675830891401, 0.29555609052278053, 0.0003539593898476414, 0.703671267017111, 0.9994581455195195, 0.9993048363447926, 0.9972113174825302, 0.0005504512895784339, 0.0017201602799326058, 0.00034403205598652117, 0.00013761282239460848, 0.9982598088762026, 0.0017177055118640435, 1.6053322540785452e-05, 8.026661270392726e-06, 0.9718249710471678, 0.02815063987634611, 0.12475453827765506, 0.8751404470001656, 0.999377640033813, 0.9888527976297259, 0.011100482270042929, 0.11659480409794618, 0.8834112542856835, 0.9995902366707651, 0.9996433514708923, 0.9999362653370405, 0.9962533380644308, 0.0036740424032469052, 0.9999382793781024, 0.9999643475658333, 0.36505130229797916, 0.6348997980054721, 0.9998864000328916, 0.9996388230254213, 0.9974298600941544, 0.002362286059614503, 0.9996827484250359, 0.9999648755733688, 0.999145994483048, 0.0008025269031992353, 0.9997957938650514, 0.9860719477745634, 0.013918933335917058, 0.027605687761696827, 0.972299776137112, 0.40824594775180384, 0.5914674406425916, 0.9994848962159979, 0.010881312700047491, 0.9885672587993145, 0.004202212792294948, 0.995690975507664, 0.9992376369164747, 0.99987675327892, 0.983513491408418, 0.015201875909312858, 0.0012568480082502755, 0.989713935408868, 0.009003560206693214, 0.001258562179430234, 0.9996724858501291, 0.999098549241555, 0.0008914758908342849, 7.685136989950732e-06, 0.11998609589466111, 0.8799880148854785, 0.9996161237601722, 0.08280023323265377, 0.9171920823639388, 0.9990820390486367, 0.9995813762548063, 0.9997580288295751, 0.00027233942490590443, 0.9999481357046566, 0.9996260362000431, 0.35457708991887926, 0.00021982460627332874, 0.6452951317153565, 0.9998193983665932, 0.9997996785942275, 0.9999130678715504, 0.9788778787885236, 0.021106408146842434, 0.02105866952926405, 0.9789832648604381, 0.9997952889312207, 0.9995605994732727, 0.001851154041221451, 0.9980034224735148, 0.2736149315768073, 2.207818377929535e-05, 0.000408446399916964, 0.7259527608470104, 0.2599792622426944, 0.007612005426024836, 0.00014638471973124685, 0.7320699833759655, 0.4025185264429708, 0.597356977086433, 0.30677022621317285, 0.001229539984822336, 0.6919236264587696, 0.40475269985522966, 0.5951614215585385, 0.9935161953515126, 0.29196132751577336, 0.0041185767204419445, 0.7033613799243631, 0.28436148015595475, 0.7156145080430729, 0.9921702933187828, 0.9945698079098582, 0.2549005127828237, 0.7450664444249268, 0.20892327414456213, 0.7914505208770471, 0.98213839898899, 0.10148699134388776, 0.8964684235376753, 0.9785296673074846, 0.313660565561932, 0.686373188487502, 0.9865818938427982, 0.04737523428009433, 0.9475046856018867, 0.9791959660042251, 0.9879894543052533, 0.977380921364402, 0.26666741545615197, 0.733303811806235, 0.134745670815334, 0.8630139392696392, 0.32792319553113924, 0.6717837481352205, 0.9930053756846782, 0.3249852124134346, 0.6743941601156088, 0.04436418995849183, 0.9506612133962536, 0.9931030918439357, 0.9623025293390468, 0.03764024304156848, 0.2489008687352126, 0.7511001480560833, 0.9810449233109552, 0.01624105489606216, 0.9744632937637295, 0.16128975916306806, 0.838074238788491, 0.9962947229757018, 0.9926196661305373, 0.06418435229208194, 0.9356103661038098, 0.9919773101269553, 0.13969206968566258, 0.8597411925199415, 0.992182003029605, 0.9849977476577801, 0.32867871592847975, 0.0018703648860894726, 0.6693884276107243, 0.05114602073753827, 0.9462013836444579, 0.9887586003762162, 0.9787607242175691, 0.3533921083271571, 0.6462797880748555, 0.2766170468586046, 0.7228470154535553, 0.9740814569198157, 0.9696240246143526, 0.030347630458868614, 2.0272298235717177e-05, 0.03632148700159967, 0.9636312877975423, 0.986127940448911, 0.013829194418377393, 0.3035217147377623, 0.00027319686295028113, 0.6961056067973163, 0.9995560915735038, 0.9989784339178798, 0.0004902087060693644, 0.9995355516754341, 0.002658933828806034, 0.9971001858022628, 0.9999521582015596, 0.999890344890216, 0.9909494989568148, 0.00884458644875536, 0.00020332382640816924, 0.9996934716460601, 0.00013896211727078956, 0.280552514790353, 0.7191909687279091, 0.9994550232923403, 0.9984399455531955, 0.0015030088616314818, 0.9996092526404893, 0.4054024681132011, 0.5889095335674828, 0.00562308037927086, 0.2638011882131478, 0.024526969978495145, 0.7091019542671596, 0.0024526969978495143, 0.9999908806107802, 0.9999233320223924, 0.999928898982902, 0.99959960719186, 0.0004920249059853063, 0.9994665923581522, 0.9995119526599026, 0.9997303082554181, 0.0009438181830649612, 0.9990315467742615, 0.9998566395183334, 0.999893660615979, 0.999931836814266, 0.9999576110830647, 0.9995863533093825, 0.9995946510633955, 0.06419659255647271, 0.9357887914962754, 0.9969669806624345, 0.002598672378171452, 0.0004331120630285753, 0.12024568515652846, 0.8796564629619843, 0.9985736747784963, 0.999386748522113, 0.0005518424895207692, 0.9863284098528544, 0.18896038117270042, 0.002907082787272314, 0.8081690148617032, 0.9998249039478851, 0.9852447789208457, 0.4601409970806407, 0.5397657359462108, 0.9998121585754816, 0.9648369674564388, 0.034631410542923124, 4.8914421670795374e-05, 4.8914421670795374e-05, 0.000391315373366363, 0.9997357927754046, 0.9999410960867324, 0.9996479734603263, 0.9018658194725979, 0.09782646222870875, 0.00015867700628282712, 0.00013362274213290706, 1.6702842766613383e-05, 0.6404675894323782, 0.35946606894646965, 3.800656258685448e-05, 3.800656258685448e-05, 0.0017382526152891144, 0.9981046516990094, 0.0006137587104833959, 0.9991991806669686, 0.22083711747757792, 0.18317026387755087, 0.5959868287359118, 0.9995139743237403, 0.9994443255156217, 0.020349252788415446, 0.979361910795654, 0.0002783332448263511, 0.007908440862553217, 0.9917184841641735, 0.9997281835851654, 0.8062821890764651, 0.19369490250588103, 4.1780608823529124e-05, 0.9996956538531643, 0.999701503318214, 0.9776296924557021, 0.0180070043267916, 0.9819741677152884, 0.009290973171361601, 0.9905606781159368, 0.9998921568062343, 0.00745621443157375, 0.9923866350594586, 0.04795445891480164, 0.9519112815794861, 0.0027371890431944945, 0.9970211089835946, 0.9998161504787925, 0.9322889196081142, 0.06770764433421868, 0.02212848251880658, 0.9775718162735282, 0.014612931856386733, 0.9853291194592197, 0.3820247617138919, 0.007167807395240365, 0.6108134247889965, 0.999632786885249, 0.007380139034662013, 0.9921674414723743, 0.9991603759334735, 0.9791888860297698, 0.9884085277323508, 0.999336453071147, 0.9310268179998158, 0.06896258377930395, 0.012904020427724122, 0.9869559374017122, 0.3589280676973574, 0.008737949213606079, 0.6321570181074244, 0.31110791926018516, 0.022126150758052073, 0.0008488993483906118, 0.6659204630375128, 0.5406065262996517, 0.45928785507527564, 0.3329399028467004, 0.00689010885418153, 0.6599739981041023, 0.9975280848816709, 0.10381067213630098, 0.8936744818690259, 0.9751018845651471, 0.024508844495353788, 0.2224832251792639, 0.054942503779025535, 0.0006783025157904387, 0.7217138768010267, 0.25850951936847216, 0.028926702592222808, 0.7121827410363717, 0.9999769907872179, 0.009900124898957844, 0.9900124898957844, 0.999587526515966, 0.9130812404508714, 0.08688831702917778, 0.0005474745517442877, 0.9994147942091971, 4.5622879312023975e-05, 0.999557755277912, 0.9994146928390524, 0.004899976038326789, 0.99502180084956, 0.9998009050748797, 0.9997377962241523, 0.9969396696481357, 0.0027981466269193867, 0.9999804470832944, 0.9999372104982277, 0.9995463305831809, 0.004653063779225357, 0.9952187567797004, 0.9997414766453449, 0.0014794095985413334, 0.9984274308273364, 0.9996626791283988, 0.9998050446029965, 0.9995521687852504, 0.9999081439756283, 0.9993606465046039, 0.9990211540028643, 0.9997203564752711, 0.9776804255001613, 0.022186944179877172, 0.9992876118812113, 0.9993469298160819, 0.39979910173394095, 0.5998881308481787, 0.999890352097089, 0.9999590498975077, 0.999598503014269, 0.0009216663695587919, 0.9990863446017304, 0.9995325017825493, 0.9988531693197995, 0.0011550577429043324, 0.99965531915726], \"Term\": [\"\\u26fd\", \"\\u26fd\", \"\\u26fd\", \"\\u26fd\", \"\\u26fd\", \"\\u26fd\\ud83c\\udf2f\", \"\\u26fd\\ud83c\\udf2f\", \"\\u26fd\\ud83c\\udf2f\", \"\\u26fd\\ud83c\\udf2f\\ud83c\\udf7d\", \"\\u26fd\\ud83c\\udf2f\\ud83d\\uded2\\ud83d\\udcb0\", \"\\u26fd\\ud83c\\udf7d\", \"\\u26fd\\ud83c\\udf7d\", \"\\u26fd\\ud83c\\udf7d\", \"\\u26fd\\ud83c\\udf7d\\ud83c\\udf2f\", \"\\u26fd\\ud83c\\udf7d\\ud83d\\uded2\", \"\\u26fd\\ud83c\\udf7d\\ud83d\\uded2\", \"\\u26fd\\ud83c\\udfdb\", \"\\u26fd\\ud83c\\udfdb\", \"\\u26fd\\ud83c\\udfe0\\ud83d\\udc8a\", \"\\u26fd\\ud83c\\udfec\", \"\\u26fd\\ud83c\\udfec\", \"\\u26fd\\ud83c\\udfec\", \"\\u26fd\\ud83c\\udfec\\ud83c\\udf7d\", \"\\u26fd\\ud83c\\udfec\\ud83c\\udf7d\", \"\\u26fd\\ud83c\\udfec\\ud83c\\udfe0\", \"\\u26fd\\ud83c\\udfec\\ud83c\\udfe0\", \"\\u26fd\\ud83c\\udfec\\ud83d\\udc55\\ud83d\\udc8a\", \"\\u26fd\\ud83c\\udfec\\ud83d\\udc55\\ud83d\\udcb0\", \"\\u26fd\\ud83c\\udfec\\ud83d\\udc55\\ud83d\\udcb0\", \"\\u26fd\\ud83c\\udfec\\ud83d\\udc8a\", \"\\u26fd\\ud83c\\udfec\\ud83d\\udc8a\", \"\\u26fd\\ud83c\\udfec\\ud83d\\udc8a\\ud83d\\udcb0\", \"\\u26fd\\ud83c\\udfec\\ud83d\\udc8a\\ud83d\\udcb0\", \"\\u26fd\\ud83c\\udfec\\ud83d\\udcb0\", \"\\u26fd\\ud83c\\udfec\\ud83d\\udcb0\", \"\\u26fd\\ud83c\\udfec\\ud83d\\udcb0\", \"\\u26fd\\ud83c\\udfec\\ud83d\\udcb0\\ud83c\\udfe0\", \"\\u26fd\\ud83c\\udfec\\ud83d\\udcb0\\ud83c\\udfe0\", \"\\u26fd\\ud83c\\udfec\\ud83d\\udcb0\\ud83d\\udc8a\", \"\\u26fd\\ud83c\\udfec\\ud83d\\udcb0\\ud83d\\udc8a\", \"\\u26fd\\ud83c\\udfec\\ud83d\\udcb0\\ud83d\\udc8a\", \"\\u26fd\\ud83c\\udfec\\ud83d\\udcb0\\ud83d\\udcf1\", \"\\u26fd\\ud83c\\udfec\\ud83d\\udcb0\\ud83d\\ude95\", \"\\u26fd\\ud83c\\udfec\\ud83d\\udcb0\\ud83d\\uded2\", \"\\u26fd\\ud83c\\udfec\\ud83d\\udcb0\\ud83d\\uded2\", \"\\u26fd\\ud83d\\udcb0\", \"\\u26fd\\ud83d\\udcb0\", \"\\u26fd\\ud83d\\udcb0\", \"\\u26fd\\ud83d\\udcb0\\ud83d\\ude97\\ud83d\\uded2\", \"\\u26fd\\ud83d\\ude95\", \"\\u26fd\\ud83d\\uded2\", \"\\u26fd\\ud83d\\uded2\", \"\\u26fd\\ud83d\\uded2\", \"\\u26fd\\ud83d\\uded2\\ud83c\\udf2f\", \"\\u26fd\\ud83d\\uded2\\ud83c\\udf2f\", \"\\u26fd\\ud83d\\uded2\\ud83c\\udf7d\", \"\\u26fd\\ud83d\\uded2\\ud83c\\udf7d\", \"\\u26fd\\ud83d\\uded2\\ud83d\\ude95\", \"\\u26fd\\ud83e\\uddfe\", \"\\u26fd\\ud83e\\uddfe\", \"\\ud83c\\udf2f\", \"\\ud83c\\udf2f\", \"\\ud83c\\udf2f\", \"\\ud83c\\udf2f\", \"\\ud83c\\udf2f\\u26fd\", \"\\ud83c\\udf2f\\u26fd\", \"\\ud83c\\udf2f\\u26fd\\ud83c\\udf7d\", \"\\ud83c\\udf2f\\ud83c\\udf7d\", \"\\ud83c\\udf2f\\ud83c\\udf7d\\ud83c\\udfec\", \"\\ud83c\\udf2f\\ud83c\\udf7d\\ud83d\\uded2\", \"\\ud83c\\udf2f\\ud83c\\udfec\", \"\\ud83c\\udf2f\\ud83c\\udfec\", \"\\ud83c\\udf2f\\ud83c\\udfec\\ud83c\\udf7d\", \"\\ud83c\\udf2f\\ud83d\\udcb0\", \"\\ud83c\\udf2f\\ud83d\\udcb0\", \"\\ud83c\\udf2f\\ud83d\\udcb0\", \"\\ud83c\\udf2f\\ud83d\\ude95\", \"\\ud83c\\udf2f\\ud83d\\uded2\", \"\\ud83c\\udf2f\\ud83d\\uded2\", \"\\ud83c\\udf2f\\ud83d\\uded2\", \"\\ud83c\\udf2f\\ud83d\\uded2\\ud83c\\udf7d\", \"\\ud83c\\udf2f\\ud83e\\uddfe\", \"\\ud83c\\udf7a\", \"\\ud83c\\udf7a\", \"\\ud83c\\udf7a\", \"\\ud83c\\udf7a\", \"\\ud83c\\udf7a\\ud83c\\udf7d\", \"\\ud83c\\udf7a\\ud83c\\udf7d\", \"\\ud83c\\udf7a\\ud83d\\udc8a\", \"\\ud83c\\udf7a\\ud83d\\udcb0\", \"\\ud83c\\udf7a\\ud83d\\udcb0\", \"\\ud83c\\udf7a\\ud83d\\ude95\", \"\\ud83c\\udf7a\\ud83e\\uddfe\", \"\\ud83c\\udf7d\", \"\\ud83c\\udf7d\", \"\\ud83c\\udf7d\", \"\\ud83c\\udf7d\", \"\\ud83c\\udf7d\\u26fd\", \"\\ud83c\\udf7d\\u26fd\", \"\\ud83c\\udf7d\\u26fd\", \"\\ud83c\\udf7d\\u26fd\\ud83c\\udf2f\", \"\\ud83c\\udf7d\\u26fd\\ud83d\\uded2\", \"\\ud83c\\udf7d\\u26fd\\ud83d\\uded2\", \"\\ud83c\\udf7d\\ud83c\\udf2f\", \"\\ud83c\\udf7d\\ud83c\\udf2f\\ud83c\\udfec\", \"\\ud83c\\udf7d\\ud83c\\udf2f\\ud83d\\uded2\", \"\\ud83c\\udf7d\\ud83c\\udf7a\", \"\\ud83c\\udf7d\\ud83c\\udf7a\", \"\\ud83c\\udf7d\\ud83c\\udf7a\", \"\\ud83c\\udf7d\\ud83c\\udfec\", \"\\ud83c\\udf7d\\ud83c\\udfec\", \"\\ud83c\\udf7d\\ud83c\\udfec\\ud83c\\udf2f\", \"\\ud83c\\udf7d\\ud83d\\udc8a\", \"\\ud83c\\udf7d\\ud83d\\udc8a\", \"\\ud83c\\udf7d\\ud83d\\udcb0\", \"\\ud83c\\udf7d\\ud83d\\udcb0\", \"\\ud83c\\udf7d\\ud83d\\udcb0\", \"\\ud83c\\udf7d\\ud83d\\ude95\", \"\\ud83c\\udf7d\\ud83d\\ude95\\ud83d\\uded2\", \"\\ud83c\\udf7d\\ud83d\\ude9a\\ud83d\\udcb0\", \"\\ud83c\\udf7d\\ud83d\\uded2\", \"\\ud83c\\udf7d\\ud83d\\uded2\", \"\\ud83c\\udf7d\\ud83d\\uded2\\ud83c\\udf2f\", \"\\ud83c\\udf7d\\ud83d\\uded2\\ud83d\\ude95\", \"\\ud83c\\udf7d\\ud83d\\uded2\\ud83e\\uddfe\", \"\\ud83c\\udf7d\\ud83e\\uddfe\", \"\\ud83c\\udf7d\\ud83e\\uddfe\", \"\\ud83c\\udfa1\\ud83d\\udcb0\", \"\\ud83c\\udfa1\\ud83d\\udcb0\", \"\\ud83c\\udfab\", \"\\ud83c\\udfab\", \"\\ud83c\\udfab\\ud83d\\udcb0\", \"\\ud83c\\udfab\\ud83d\\udcb0\", \"\\ud83c\\udfab\\ud83d\\udcb0\\ud83c\\udfdb\", \"\\ud83c\\udfd7\", \"\\ud83c\\udfd7\", \"\\ud83c\\udfd7\\ud83c\\udfec\", \"\\ud83c\\udfd7\\ud83d\\udc8a\", \"\\ud83c\\udfd7\\ud83d\\ude97\", \"\\ud83c\\udfdb\", \"\\ud83c\\udfdb\", \"\\ud83c\\udfdb\", \"\\ud83c\\udfdb\\ud83d\\uded2\", \"\\ud83c\\udfe0\", \"\\ud83c\\udfe0\", \"\\ud83c\\udfe0\", \"\\ud83c\\udfe0\\ud83c\\udf7d\", \"\\ud83c\\udfe0\\ud83c\\udf7d\", \"\\ud83c\\udfe0\\ud83c\\udfab\\ud83d\\udcb0\", \"\\ud83c\\udfe0\\ud83c\\udfec\", \"\\ud83c\\udfe0\\ud83c\\udfec\", \"\\ud83c\\udfe0\\ud83d\\udcb0\", \"\\ud83c\\udfe0\\ud83d\\udcb0\", \"\\ud83c\\udfe0\\ud83d\\udcb0\", \"\\ud83c\\udfe0\\ud83d\\ude95\", \"\\ud83c\\udfe0\\ud83e\\uddfe\", \"\\ud83c\\udfe8\", \"\\ud83c\\udfe8\", \"\\ud83c\\udfe8\", \"\\ud83c\\udfe8\", \"\\ud83c\\udfe8\", \"\\ud83c\\udfec\", \"\\ud83c\\udfec\", \"\\ud83c\\udfec\", \"\\ud83c\\udfec\", \"\\ud83c\\udfec\\u26fd\", \"\\ud83c\\udfec\\u26fd\", \"\\ud83c\\udfec\\ud83c\\udf2f\", \"\\ud83c\\udfec\\ud83c\\udf2f\", \"\\ud83c\\udfec\\ud83c\\udf2f\\ud83c\\udf7d\", \"\\ud83c\\udfec\\ud83c\\udf7a\", \"\\ud83c\\udfec\\ud83c\\udf7a\", \"\\ud83c\\udfec\\ud83c\\udf7d\", \"\\ud83c\\udfec\\ud83c\\udf7d\", \"\\ud83c\\udfec\\ud83c\\udf7d\\ud83c\\udf2f\", \"\\ud83c\\udfec\\ud83c\\udfab\", \"\\ud83c\\udfec\\ud83c\\udfd7\", \"\\ud83c\\udfec\\ud83c\\udfe0\", \"\\ud83c\\udfec\\ud83c\\udfe0\", \"\\ud83c\\udfec\\ud83d\\udc88\", \"\\ud83c\\udfec\\ud83d\\udc8a\", \"\\ud83c\\udfec\\ud83d\\udcb0\", \"\\ud83c\\udfec\\ud83d\\udcb0\", \"\\ud83c\\udfec\\ud83d\\udcda\", \"\\ud83c\\udfec\\ud83d\\udcee\", \"\\ud83c\\udfec\\ud83d\\udcf1\", \"\\ud83c\\udfec\\ud83d\\udcf1\", \"\\ud83c\\udfec\\ud83d\\uddbc\", \"\\ud83c\\udfec\\ud83d\\ude95\", \"\\ud83c\\udfec\\ud83d\\ude97\", \"\\ud83c\\udfec\\ud83d\\ude97\", \"\\ud83c\\udfec\\ud83d\\ude9a\", \"\\ud83c\\udfec\\ud83d\\uded2\", \"\\ud83c\\udfec\\ud83d\\uded2\", \"\\ud83c\\udfec\\ud83d\\uded2\\ud83c\\udf7d\", \"\\ud83c\\udfec\\ud83d\\uded2\\ud83c\\udf7d\", \"\\ud83c\\udfec\\ud83d\\uded2\\ud83d\\udcb0\", \"\\ud83c\\udfec\\ud83d\\uded2\\ud83d\\udcb0\", \"\\ud83c\\udfec\\ud83d\\uded2\\ud83d\\ude95\", \"\\ud83c\\udfec\\ud83d\\uded2\\ud83e\\uddfe\", \"\\ud83c\\udfec\\ud83d\\uded2\\ud83e\\uddfe\", \"\\ud83c\\udfec\\ud83e\\uddfe\", \"\\ud83c\\udfec\\ud83e\\uddfe\", \"\\ud83c\\udfec\\ud83e\\uddfe\\ud83d\\uded2\", \"\\ud83c\\udfec\\ud83e\\ude91\", \"\\ud83d\\udc55\", \"\\ud83d\\udc55\", \"\\ud83d\\udc55\", \"\\ud83d\\udc88\", \"\\ud83d\\udc88\", \"\\ud83d\\udc88\", \"\\ud83d\\udc88\\ud83c\\udfec\", \"\\ud83d\\udc8a\", \"\\ud83d\\udc8a\", \"\\ud83d\\udc8a\", \"\\ud83d\\udc8a\\ud83c\\udf2f\", \"\\ud83d\\udc8a\\ud83c\\udf2f\", \"\\ud83d\\udc8a\\ud83c\\udf2f\\ud83c\\udf7d\", \"\\ud83d\\udc8a\\ud83c\\udf7d\", \"\\ud83d\\udc8a\\ud83c\\udf7d\", \"\\ud83d\\udc8a\\ud83c\\udf7d\\ud83c\\udf2f\", \"\\ud83d\\udc8a\\ud83c\\udfd7\", \"\\ud83d\\udc8a\\ud83c\\udfe0\", \"\\ud83d\\udc8a\\ud83c\\udfe0\", \"\\ud83d\\udc8a\\ud83c\\udfec\", \"\\ud83d\\udc8a\\ud83d\\udc88\", \"\\ud83d\\udc8a\\ud83d\\udcb0\", \"\\ud83d\\udc8a\\ud83d\\udcb0\", \"\\ud83d\\udc8a\\ud83d\\udcb0\", \"\\ud83d\\udc8a\\ud83d\\udcf1\", \"\\ud83d\\udc8a\\ud83d\\ude95\", \"\\ud83d\\udc8a\\ud83d\\ude97\", \"\\ud83d\\udc8a\\ud83d\\uded2\", \"\\ud83d\\udc8a\\ud83d\\uded2\", \"\\ud83d\\udc8a\\ud83d\\uded2\\ud83c\\udf7d\", \"\\ud83d\\udc8a\\ud83d\\uded2\\ud83c\\udf7d\", \"\\ud83d\\udc8a\\ud83d\\uded2\\ud83d\\ude95\", \"\\ud83d\\udc8a\\ud83d\\uded2\\ud83e\\uddfe\", \"\\ud83d\\udc8a\\ud83e\\uddfe\", \"\\ud83d\\udc8a\\ud83e\\uddfe\", \"\\ud83d\\udcb0\", \"\\ud83d\\udcb0\", \"\\ud83d\\udcb0\", \"\\ud83d\\udcb0\", \"\\ud83d\\udcb0\\u26fd\", \"\\ud83d\\udcb0\\u26fd\", \"\\ud83d\\udcb0\\u26fd\", \"\\ud83d\\udcb0\\u26fd\", \"\\ud83d\\udcb0\\ud83c\\udf2f\", \"\\ud83d\\udcb0\\ud83c\\udf2f\", \"\\ud83d\\udcb0\\ud83c\\udf7a\", \"\\ud83d\\udcb0\\ud83c\\udf7a\", \"\\ud83d\\udcb0\\ud83c\\udf7a\", \"\\ud83d\\udcb0\\ud83c\\udf7d\", \"\\ud83d\\udcb0\\ud83c\\udf7d\", \"\\ud83d\\udcb0\\ud83c\\udfae\", \"\\ud83d\\udcb0\\ud83c\\udfdb\", \"\\ud83d\\udcb0\\ud83c\\udfdb\", \"\\ud83d\\udcb0\\ud83c\\udfdb\", \"\\ud83d\\udcb0\\ud83c\\udfe0\", \"\\ud83d\\udcb0\\ud83c\\udfe0\", \"\\ud83d\\udcb0\\ud83c\\udfe0\\ud83d\\uded2\\ud83c\\udfec\", \"\\ud83d\\udcb0\\ud83c\\udfe8\\u26fd\", \"\\ud83d\\udcb0\\ud83c\\udfec\", \"\\ud83d\\udcb0\\ud83c\\udfec\", \"\\ud83d\\udcb0\\ud83c\\udfec\\u26fd\", \"\\ud83d\\udcb0\\ud83c\\udfec\\u26fd\", \"\\ud83d\\udcb0\\ud83c\\udfec\\u26fd\\ud83c\\udf7a\", \"\\ud83d\\udcb0\\ud83c\\udfec\\ud83c\\udf7a\", \"\\ud83d\\udcb0\\ud83c\\udfec\\ud83c\\udf7a\", \"\\ud83d\\udcb0\\ud83c\\udfec\\ud83d\\udc8a\\ud83c\\udf7a\", \"\\ud83d\\udcb0\\ud83c\\udfec\\ud83d\\uded2\", \"\\ud83d\\udcb0\\ud83c\\udfec\\ud83d\\uded2\", \"\\ud83d\\udcb0\\ud83d\\udc5f\", \"\\ud83d\\udcb0\\ud83d\\udc84\", \"\\ud83d\\udcb0\\ud83d\\udc84\", \"\\ud83d\\udcb0\\ud83d\\udc86\\ud83c\\udfec\", \"\\ud83d\\udcb0\\ud83d\\udc89\\ud83c\\udfec\", \"\\ud83d\\udcb0\\ud83d\\udc89\\ud83d\\udc8a\", \"\\ud83d\\udcb0\\ud83d\\udc8a\", \"\\ud83d\\udcb0\\ud83d\\udc8a\", \"\\ud83d\\udcb0\\ud83d\\udc8a\\ud83c\\udf7a\", \"\\ud83d\\udcb0\\ud83d\\udc8a\\ud83c\\udf7a\", \"\\ud83d\\udcb0\\ud83d\\udcda\", \"\\ud83d\\udcb0\\ud83d\\udcda\", \"\\ud83d\\udcb0\\ud83d\\udcda\\ud83c\\udfec\\ud83d\\udc8a\", \"\\ud83d\\udcb0\\ud83d\\udcf1\", \"\\ud83d\\udcb0\\ud83d\\udcf1\", \"\\ud83d\\udcb0\\ud83d\\ude83\", \"\\ud83d\\udcb0\\ud83d\\ude83\", \"\\ud83d\\udcb0\\ud83d\\ude83\\u26fd\", \"\\ud83d\\udcb0\\ud83d\\ude95\", \"\\ud83d\\udcb0\\ud83d\\ude95\", \"\\ud83d\\udcb0\\ud83d\\ude97\", \"\\ud83d\\udcb0\\ud83d\\ude97\", \"\\ud83d\\udcb0\\ud83d\\ude97\\u26fd\\ud83d\\uded2\", \"\\ud83d\\udcb0\\ud83d\\ude97\\ud83c\\udfd7\", \"\\ud83d\\udcb0\\ud83d\\ude97\\ud83c\\udfd7\", \"\\ud83d\\udcb0\\ud83d\\ude97\\ud83c\\udfec\", \"\\ud83d\\udcb0\\ud83d\\ude97\\ud83c\\udfec\", \"\\ud83d\\udcb0\\ud83d\\ude97\\ud83c\\udfec\\u26fd\", \"\\ud83d\\udcb0\\ud83d\\ude97\\ud83c\\udfec\\ud83d\\uded2\", \"\\ud83d\\udcb0\\ud83d\\ude97\\ud83d\\udc8a\", \"\\ud83d\\udcb0\\ud83d\\ude97\\ud83d\\udc8a\", \"\\ud83d\\udcb0\\ud83d\\ude97\\ud83d\\udc8a\\ud83d\\uded2\", \"\\ud83d\\udcb0\\ud83d\\ude97\\ud83d\\uded2\", \"\\ud83d\\udcb0\\ud83d\\ude97\\ud83d\\uded2\", \"\\ud83d\\udcb0\\ud83d\\ude97\\ud83d\\uded2\\ud83c\\udfe8\", \"\\ud83d\\udcb0\\ud83d\\ude97\\ud83d\\uded2\\ud83d\\udc8a\", \"\\ud83d\\udcb0\\ud83d\\uded2\", \"\\ud83d\\udcb0\\ud83d\\uded2\", \"\\ud83d\\udcb0\\ud83d\\uded2\", \"\\ud83d\\udcb0\\ud83d\\uded2\\u26fd\\ud83d\\udc8a\", \"\\ud83d\\udcb0\\ud83d\\uded2\\u26fd\\ud83d\\udc8a\", \"\\ud83d\\udcb0\\ud83d\\uded2\\ud83c\\udf2f\\ud83d\\udc8a\", \"\\ud83d\\udcb0\\ud83d\\uded2\\ud83c\\udfdb\\ud83d\\udc8a\", \"\\ud83d\\udcb0\\ud83d\\uded2\\ud83c\\udfec\", \"\\ud83d\\udcb0\\ud83d\\uded2\\ud83c\\udfec\", \"\\ud83d\\udcb0\\ud83d\\uded2\\ud83d\\udc8a\", \"\\ud83d\\udcb0\\ud83d\\uded2\\ud83d\\udc8a\", \"\\ud83d\\udcb0\\ud83d\\uded2\\ud83d\\udc8a\\ud83d\\udc55\", \"\\ud83d\\udcda\", \"\\ud83d\\udcda\", \"\\ud83d\\udcda\", \"\\ud83d\\udcda\\ud83c\\udf7d\", \"\\ud83d\\udcda\\ud83c\\udf7d\", \"\\ud83d\\udcda\\ud83c\\udfec\", \"\\ud83d\\udcda\\ud83c\\udfec\", \"\\ud83d\\udcda\\ud83d\\udcb0\", \"\\ud83d\\udcda\\ud83d\\udcb0\", \"\\ud83d\\udcda\\ud83d\\udcb0\", \"\\ud83d\\udcda\\ud83d\\ude95\", \"\\ud83d\\udcda\\ud83d\\uded2\\ud83c\\udf2f\", \"\\ud83d\\udcda\\ud83d\\uded2\\ud83c\\udf7d\", \"\\ud83d\\udcda\\ud83d\\uded2\\ud83c\\udf7d\", \"\\ud83d\\udcda\\ud83e\\uddfe\", \"\\ud83d\\udcda\\ud83e\\uddfe\", \"\\ud83d\\udcee\", \"\\ud83d\\udcee\\ud83c\\udfec\", \"\\ud83d\\udcf1\", \"\\ud83d\\udcf1\", \"\\ud83d\\udcf1\", \"\\ud83d\\udcf1\\ud83c\\udfec\", \"\\ud83d\\udcf1\\ud83c\\udfec\", \"\\ud83d\\udcf1\\ud83d\\udcb0\", \"\\ud83d\\udcf1\\ud83d\\udcb0\", \"\\ud83d\\udcf1\\ud83e\\uddfe\", \"\\ud83d\\uddbc\", \"\\ud83d\\uddbc\", \"\\ud83d\\uddbc\\ud83c\\udfec\", \"\\ud83d\\ude83\", \"\\ud83d\\ude83\", \"\\ud83d\\ude83\", \"\\ud83d\\ude83\\ud83d\\uded2\", \"\\ud83d\\ude83\\ud83d\\uded2\", \"\\ud83d\\ude83\\ud83d\\uded2\", \"\\ud83d\\ude83\\ud83d\\uded2\", \"\\ud83d\\ude95\", \"\\ud83d\\ude95\\u26fd\", \"\\ud83d\\ude95\\ud83c\\udf2f\", \"\\ud83d\\ude95\\ud83c\\udf7a\", \"\\ud83d\\ude95\\ud83c\\udf7d\", \"\\ud83d\\ude95\\ud83c\\udf7d\", \"\\ud83d\\ude95\\ud83c\\udfdb\", \"\\ud83d\\ude95\\ud83c\\udfe0\", \"\\ud83d\\ude95\\ud83c\\udfec\", \"\\ud83d\\ude95\\ud83c\\udfec\", \"\\ud83d\\ude95\\ud83d\\udc8a\", \"\\ud83d\\ude95\\ud83d\\udcb0\", \"\\ud83d\\ude95\\ud83d\\ude97\", \"\\ud83d\\ude95\\ud83d\\uded2\", \"\\ud83d\\ude95\\ud83d\\uded2\\ud83c\\udf7d\", \"\\ud83d\\ude95\\ud83d\\uded2\\ud83c\\udfec\", \"\\ud83d\\ude95\\ud83e\\uddfe\", \"\\ud83d\\ude95\\ud83e\\uddfe\", \"\\ud83d\\ude97\", \"\\ud83d\\ude97\", \"\\ud83d\\ude97\", \"\\ud83d\\ude97\\ud83c\\udf7d\", \"\\ud83d\\ude97\\ud83c\\udf7d\", \"\\ud83d\\ude97\\ud83c\\udf7d\\ud83c\\udf2f\", \"\\ud83d\\ude97\\ud83c\\udfec\", \"\\ud83d\\ude97\\ud83c\\udfec\", \"\\ud83d\\ude97\\ud83c\\udfec\\ud83c\\udf7a\\ud83d\\udcb0\", \"\\ud83d\\ude97\\ud83c\\udfec\\ud83d\\udcb0\", \"\\ud83d\\ude97\\ud83c\\udfec\\ud83d\\udcb0\", \"\\ud83d\\ude97\\ud83c\\udfec\\ud83d\\udcb0\", \"\\ud83d\\ude97\\ud83d\\udc8a\", \"\\ud83d\\ude97\\ud83d\\udc8a\\ud83c\\udfec\\ud83d\\udcb0\", \"\\ud83d\\ude97\\ud83d\\udcb0\", \"\\ud83d\\ude97\\ud83d\\udcb0\", \"\\ud83d\\ude97\\ud83d\\ude95\", \"\\ud83d\\ude97\\ud83d\\uded2\", \"\\ud83d\\ude97\\ud83d\\uded2\", \"\\ud83d\\ude97\\ud83d\\uded2\", \"\\ud83d\\ude97\\ud83d\\uded2\", \"\\ud83d\\ude97\\ud83d\\uded2\", \"\\ud83d\\ude97\\ud83e\\uddfe\", \"\\ud83d\\ude9a\", \"\\ud83d\\ude9a\\ud83c\\udfec\", \"\\ud83d\\uded2\", \"\\ud83d\\uded2\", \"\\ud83d\\uded2\", \"\\ud83d\\uded2\", \"\\ud83d\\uded2\", \"\\ud83d\\uded2\\u26fd\", \"\\ud83d\\uded2\\u26fd\", \"\\ud83d\\uded2\\u26fd\", \"\\ud83d\\uded2\\u26fd\", \"\\ud83d\\uded2\\u26fd\\ud83c\\udf2f\", \"\\ud83d\\uded2\\u26fd\\ud83c\\udf2f\", \"\\ud83d\\uded2\\u26fd\\ud83c\\udf7d\", \"\\ud83d\\uded2\\u26fd\\ud83c\\udf7d\", \"\\ud83d\\uded2\\u26fd\\ud83d\\udcb0\", \"\\ud83d\\uded2\\u26fd\\ud83d\\udcb0\", \"\\ud83d\\uded2\\u26fd\\ud83d\\udcb0\", \"\\ud83d\\uded2\\u26fd\\ud83d\\ude95\", \"\\ud83d\\uded2\\u26fd\\ud83e\\uddfe\", \"\\ud83d\\uded2\\ud83c\\udf2f\", \"\\ud83d\\uded2\\ud83c\\udf2f\", \"\\ud83d\\uded2\\ud83c\\udf2f\", \"\\ud83d\\uded2\\ud83c\\udf2f\\u26fd\", \"\\ud83d\\uded2\\ud83c\\udf2f\\u26fd\", \"\\ud83d\\uded2\\ud83c\\udf2f\\ud83c\\udf7d\", \"\\ud83d\\uded2\\ud83c\\udf7a\", \"\\ud83d\\uded2\\ud83c\\udf7a\", \"\\ud83d\\uded2\\ud83c\\udf7a\", \"\\ud83d\\uded2\\ud83c\\udf7a\\ud83c\\udf2f\", \"\\ud83d\\uded2\\ud83c\\udf7a\\ud83c\\udf7d\", \"\\ud83d\\uded2\\ud83c\\udf7a\\ud83d\\udc8a\\ud83d\\udcb0\", \"\\ud83d\\uded2\\ud83c\\udf7d\", \"\\ud83d\\uded2\\ud83c\\udf7d\", \"\\ud83d\\uded2\\ud83c\\udf7d\\u26fd\", \"\\ud83d\\uded2\\ud83c\\udf7d\\u26fd\", \"\\ud83d\\uded2\\ud83c\\udf7d\\ud83c\\udf2f\", \"\\ud83d\\uded2\\ud83c\\udf7d\\ud83c\\udf7a\", \"\\ud83d\\uded2\\ud83c\\udf7d\\ud83c\\udf7a\", \"\\ud83d\\uded2\\ud83c\\udf7d\\ud83c\\udfec\", \"\\ud83d\\uded2\\ud83c\\udf7d\\ud83c\\udfec\", \"\\ud83d\\uded2\\ud83c\\udf7d\\ud83d\\ude95\", \"\\ud83d\\uded2\\ud83c\\udf7d\\ud83d\\ude95\", \"\\ud83d\\uded2\\ud83c\\udfe0\\ud83c\\udf7d\", \"\\ud83d\\uded2\\ud83c\\udfec\", \"\\ud83d\\uded2\\ud83c\\udfec\", \"\\ud83d\\uded2\\ud83c\\udfec\\ud83c\\udf2f\", \"\\ud83d\\uded2\\ud83c\\udfec\\ud83c\\udf2f\", \"\\ud83d\\uded2\\ud83c\\udfec\\ud83c\\udf7d\", \"\\ud83d\\uded2\\ud83c\\udfec\\ud83c\\udf7d\", \"\\ud83d\\uded2\\ud83c\\udfec\\ud83d\\udcb0\", \"\\ud83d\\uded2\\ud83c\\udfec\\ud83d\\udcb0\", \"\\ud83d\\uded2\\ud83c\\udfec\\ud83d\\udcb0\", \"\\ud83d\\uded2\\ud83c\\udfec\\ud83d\\ude95\", \"\\ud83d\\uded2\\ud83c\\udfec\\ud83e\\uddfe\", \"\\ud83d\\uded2\\ud83c\\udfec\\ud83e\\uddfe\", \"\\ud83d\\uded2\\ud83d\\udc55\\ud83c\\udf7d\", \"\\ud83d\\uded2\\ud83d\\udc6e\\ud83d\\udcb0\", \"\\ud83d\\uded2\\ud83d\\udc86\\ud83d\\udcb0\", \"\\ud83d\\uded2\\ud83d\\udc88\\ud83c\\udf7d\", \"\\ud83d\\uded2\\ud83d\\udc8a\", \"\\ud83d\\uded2\\ud83d\\udc8a\", \"\\ud83d\\uded2\\ud83d\\udc8a\\ud83c\\udf7d\", \"\\ud83d\\uded2\\ud83d\\udc8a\\ud83c\\udf7d\", \"\\ud83d\\uded2\\ud83d\\udc8a\\ud83d\\udcb0\", \"\\ud83d\\uded2\\ud83d\\udc8a\\ud83d\\udcb0\", \"\\ud83d\\uded2\\ud83d\\udc8a\\ud83d\\udcb0\", \"\\ud83d\\uded2\\ud83d\\udcb0\", \"\\ud83d\\uded2\\ud83d\\udcb0\", \"\\ud83d\\uded2\\ud83d\\udcb0\", \"\\ud83d\\uded2\\ud83d\\udcb0\", \"\\ud83d\\uded2\\ud83d\\udcb0\\ud83c\\udf7d\", \"\\ud83d\\uded2\\ud83d\\udcb0\\ud83c\\udf7d\", \"\\ud83d\\uded2\\ud83d\\udcb0\\ud83c\\udfec\", \"\\ud83d\\uded2\\ud83d\\udcb0\\ud83c\\udfec\", \"\\ud83d\\uded2\\ud83d\\udcb0\\ud83c\\udfec\", \"\\ud83d\\uded2\\ud83d\\udcb0\\ud83d\\udc84\", \"\\ud83d\\uded2\\ud83d\\udcb0\\ud83d\\udcb3\", \"\\ud83d\\uded2\\ud83d\\udcb0\\ud83d\\udcb3\", \"\\ud83d\\uded2\\ud83d\\udcb0\\ud83d\\ude95\", \"\\ud83d\\uded2\\ud83d\\udcb0\\ud83d\\ude95\", \"\\ud83d\\uded2\\ud83d\\udcb0\\ud83d\\ude97\", \"\\ud83d\\uded2\\ud83d\\udcb0\\ud83d\\ude97\", \"\\ud83d\\uded2\\ud83d\\udcb0\\ud83d\\ude97\", \"\\ud83d\\uded2\\ud83d\\udcb0\\ud83d\\ude97\", \"\\ud83d\\uded2\\ud83d\\ude83\", \"\\ud83d\\uded2\\ud83d\\ude83\", \"\\ud83d\\uded2\\ud83d\\ude83\", \"\\ud83d\\uded2\\ud83d\\ude95\", \"\\ud83d\\uded2\\ud83d\\ude95\\ud83c\\udf7d\", \"\\ud83d\\uded2\\ud83d\\ude95\\ud83c\\udf7d\", \"\\ud83d\\uded2\\ud83d\\ude95\\ud83c\\udfec\", \"\\ud83d\\uded2\\ud83d\\ude97\", \"\\ud83d\\uded2\\ud83d\\ude97\", \"\\ud83d\\uded2\\ud83e\\uddfe\", \"\\ud83d\\uded2\\ud83e\\uddfe\", \"\\ud83d\\uded2\\ud83e\\uddfe\", \"\\ud83d\\uded2\\ud83e\\uddfe\\u26fd\", \"\\ud83d\\uded2\\ud83e\\uddfe\\ud83c\\udf7a\", \"\\ud83d\\uded2\\ud83e\\uddfe\\ud83c\\udf7d\", \"\\ud83d\\uded2\\ud83e\\uddfe\\ud83c\\udf7d\", \"\\ud83d\\uded2\\ud83e\\uddfe\\ud83c\\udfec\", \"\\ud83d\\uded2\\ud83e\\uddfe\\ud83d\\udc8a\", \"\\ud83d\\uded2\\ud83e\\uddfe\\ud83d\\udcb0\", \"\\ud83d\\uded2\\ud83e\\uddfe\\ud83d\\udcb0\", \"\\ud83e\\uddfe\", \"\\ud83e\\uddfe\\u26fd\", \"\\ud83e\\uddfe\\u26fd\\ud83d\\uded2\", \"\\ud83e\\uddfe\\ud83c\\udf2f\", \"\\ud83e\\uddfe\\ud83c\\udf2f\", \"\\ud83e\\uddfe\\ud83c\\udf7a\", \"\\ud83e\\uddfe\\ud83c\\udf7d\", \"\\ud83e\\uddfe\\ud83c\\udf7d\", \"\\ud83e\\uddfe\\ud83c\\udf7d\\ud83d\\uded2\", \"\\ud83e\\uddfe\\ud83c\\udfdb\", \"\\ud83e\\uddfe\\ud83c\\udfe0\", \"\\ud83e\\uddfe\\ud83c\\udfec\", \"\\ud83e\\uddfe\\ud83c\\udfec\\ud83c\\udf7d\", \"\\ud83e\\uddfe\\ud83c\\udfec\\ud83d\\uded2\", \"\\ud83e\\uddfe\\ud83d\\udc8a\", \"\\ud83e\\uddfe\\ud83d\\udcb0\", \"\\ud83e\\uddfe\\ud83d\\udcb0\", \"\\ud83e\\uddfe\\ud83d\\udcda\", \"\\ud83e\\uddfe\\ud83d\\udcf1\", \"\\ud83e\\uddfe\\ud83d\\ude95\", \"\\ud83e\\uddfe\\ud83d\\ude95\", \"\\ud83e\\uddfe\\ud83d\\ude97\", \"\\ud83e\\uddfe\\ud83d\\uded2\", \"\\ud83e\\uddfe\\ud83d\\uded2\\u26fd\", \"\\ud83e\\uddfe\\ud83d\\uded2\\ud83c\\udf7d\", \"\\ud83e\\uddfe\\ud83d\\uded2\\ud83c\\udf7d\", \"\\ud83e\\uddfe\\ud83d\\uded2\\ud83c\\udfec\", \"\\ud83e\\ude91\", \"\\ud83e\\ude91\", \"\\ud83e\\ude91\\ud83c\\udfec\"]}, \"R\": 30, \"lambda.step\": 0.01, \"plot.opts\": {\"xlab\": \"PC1\", \"ylab\": \"PC2\"}, \"topic.order\": [3, 6, 1, 4, 2, 5]};\n",
       "\n",
       "function LDAvis_load_lib(url, callback){\n",
       "  var s = document.createElement('script');\n",
       "  s.src = url;\n",
       "  s.async = true;\n",
       "  s.onreadystatechange = s.onload = callback;\n",
       "  s.onerror = function(){console.warn(\"failed to load library \" + url);};\n",
       "  document.getElementsByTagName(\"head\")[0].appendChild(s);\n",
       "}\n",
       "\n",
       "if(typeof(LDAvis) !== \"undefined\"){\n",
       "   // already loaded: just create the visualization\n",
       "   !function(LDAvis){\n",
       "       new LDAvis(\"#\" + \"ldavis_el7547761398888565356644833071718\", ldavis_el7547761398888565356644833071718_data);\n",
       "   }(LDAvis);\n",
       "}else if(typeof define === \"function\" && define.amd){\n",
       "   // require.js is available: use it to load d3/LDAvis\n",
       "   require.config({paths: {d3: \"https://d3js.org/d3.v5\"}});\n",
       "   require([\"d3\"], function(d3){\n",
       "      window.d3 = d3;\n",
       "      LDAvis_load_lib(\"https://cdn.jsdelivr.net/gh/bmabey/pyLDAvis@3.2.2/pyLDAvis/js/ldavis.v3.0.0.js\", function(){\n",
       "        new LDAvis(\"#\" + \"ldavis_el7547761398888565356644833071718\", ldavis_el7547761398888565356644833071718_data);\n",
       "      });\n",
       "    });\n",
       "}else{\n",
       "    // require.js not available: dynamically load d3 & LDAvis\n",
       "    LDAvis_load_lib(\"https://d3js.org/d3.v5.js\", function(){\n",
       "         LDAvis_load_lib(\"https://cdn.jsdelivr.net/gh/bmabey/pyLDAvis@3.2.2/pyLDAvis/js/ldavis.v3.0.0.js\", function(){\n",
       "                 new LDAvis(\"#\" + \"ldavis_el7547761398888565356644833071718\", ldavis_el7547761398888565356644833071718_data);\n",
       "            })\n",
       "         });\n",
       "}\n",
       "</script>"
      ],
      "text/plain": [
       "<IPython.core.display.HTML object>"
      ]
     },
     "execution_count": 23,
     "metadata": {},
     "output_type": "execute_result"
    },
    {
     "data": {
      "application/javascript": [
       "\n",
       "            setTimeout(function() {\n",
       "                var nbb_cell_id = 23;\n",
       "                var nbb_unformatted_code = \"# let's visualize the model:\\npyLDAvis.enable_notebook()\\nexplorer = pyLDAvis.gensim.prepare(lda_model, corpus, id_to_seq_map)\\npyLDAvis.display(explorer)\";\n",
       "                var nbb_formatted_code = \"# let's visualize the model:\\npyLDAvis.enable_notebook()\\nexplorer = pyLDAvis.gensim.prepare(lda_model, corpus, id_to_seq_map)\\npyLDAvis.display(explorer)\";\n",
       "                var nbb_cells = Jupyter.notebook.get_cells();\n",
       "                for (var i = 0; i < nbb_cells.length; ++i) {\n",
       "                    if (nbb_cells[i].input_prompt_number == nbb_cell_id) {\n",
       "                        if (nbb_cells[i].get_text() == nbb_unformatted_code) {\n",
       "                             nbb_cells[i].set_text(nbb_formatted_code);\n",
       "                        }\n",
       "                        break;\n",
       "                    }\n",
       "                }\n",
       "            }, 500);\n",
       "            "
      ],
      "text/plain": [
       "<IPython.core.display.Javascript object>"
      ]
     },
     "metadata": {},
     "output_type": "display_data"
    }
   ],
   "source": [
    "# let's visualize the model:\n",
    "pyLDAvis.enable_notebook()\n",
    "explorer = pyLDAvis.gensim.prepare(lda_model, corpus, id_to_seq_map)\n",
    "pyLDAvis.display(explorer)"
   ]
  },
  {
   "cell_type": "markdown",
   "metadata": {},
   "source": [
    "![LDA Example Plot](../reports/img/LDA_PREM_MODEL_SCREEN.png)"
   ]
  },
  {
   "cell_type": "markdown",
   "metadata": {},
   "source": [
    "Investigating the results obtained, we can see that our `coherence`, is quite good considering the coherence model we chose (`c_v`). The higher this number is, the better. \n",
    "\n",
    "The visualization of the inter-topic distance map also shows us a significant separation of topics in both their locations in the different quadrants of the project, as well as their size and variety upon inspection. \n",
    "\n",
    "However, we still see a few problems:\n",
    "\n",
    "1. Topics `1` and ``2 have significant overlap. This means that it is likely that, when we retrieve the most significant topics for each user, topic `2` will be overuled. This might point out that we have too many topics or \"clusters\";\n",
    "2. Topic `1` captures the vast majority of the tokeens observed in the dataset. This topic is likely denoting the most \"usual\" patterns or behaviors, which is a deficiency of using Bag of Words representations. Some combinations might effectively become \"stop words\", or purchasing patterns that most if not all users make. This is hard to get, though, as the \"stop words\" vary by population make-up and culture. In some places is more common that people cook at home, in others, this might not be the case.\n",
    "3. Topic `6` has no representation whatsover (a junk topic). We need to **remove it**;"
   ]
  },
  {
   "cell_type": "code",
   "execution_count": null,
   "metadata": {},
   "outputs": [],
   "source": [
    "# let's try to tune the parameters of our model as to improve coherence (and hopefully, reduce the effects observed above):\n",
    "n_topics_range = list(range(2, 9))\n",
    "\n",
    "model_list, coherence_values = tune_topic_model(\n",
    "    dictionary=id_to_seq_map,\n",
    "    corpus=corpus,\n",
    "    sequences=sequences,\n",
    "    param_name=\"num_topics\",\n",
    "    param_range=n_topics_range,\n",
    ")"
   ]
  },
  {
   "cell_type": "code",
   "execution_count": 56,
   "metadata": {},
   "outputs": [
    {
     "data": {
      "image/png": "[encoded data removed]",
      "text/plain": [
       "<Figure size 1200x720 with 1 Axes>"
      ]
     },
     "metadata": {},
     "output_type": "display_data"
    },
    {
     "data": {
      "application/javascript": [
       "\n",
       "            setTimeout(function() {\n",
       "                var nbb_cell_id = 56;\n",
       "                var nbb_unformatted_code = \"plt.plot(n_topics_range, coherence_values)\\nplt.xlabel(\\\"Number of Topics\\\")\\nplt.ylabel(\\\"Coherence score\\\")\\nplt.legend([\\\"Coherence Values\\\"], loc=\\\"best\\\")\\nplt.show()\";\n",
       "                var nbb_formatted_code = \"plt.plot(n_topics_range, coherence_values)\\nplt.xlabel(\\\"Number of Topics\\\")\\nplt.ylabel(\\\"Coherence score\\\")\\nplt.legend([\\\"Coherence Values\\\"], loc=\\\"best\\\")\\nplt.show()\";\n",
       "                var nbb_cells = Jupyter.notebook.get_cells();\n",
       "                for (var i = 0; i < nbb_cells.length; ++i) {\n",
       "                    if (nbb_cells[i].input_prompt_number == nbb_cell_id) {\n",
       "                        if (nbb_cells[i].get_text() == nbb_unformatted_code) {\n",
       "                             nbb_cells[i].set_text(nbb_formatted_code);\n",
       "                        }\n",
       "                        break;\n",
       "                    }\n",
       "                }\n",
       "            }, 500);\n",
       "            "
      ],
      "text/plain": [
       "<IPython.core.display.Javascript object>"
      ]
     },
     "metadata": {},
     "output_type": "display_data"
    }
   ],
   "source": [
    "plt.plot(n_topics_range, coherence_values)\n",
    "plt.xlabel(\"Number of Topics\")\n",
    "plt.ylabel(\"Coherence score\")\n",
    "plt.legend([\"Coherence Values\"], loc=\"best\")\n",
    "plt.show()"
   ]
  },
  {
   "cell_type": "markdown",
   "metadata": {},
   "source": [
    "From the results of our experiment it seems that the best model by number of topic is that of `5`. We will consider this for further improvements."
   ]
  },
  {
   "cell_type": "code",
   "execution_count": 11,
   "metadata": {},
   "outputs": [],
   "source": [
    "# defining the tuned model:\n",
    "lda_model_tuned = model_list[3]"
   ]
  },
  {
   "cell_type": "code",
   "execution_count": 12,
   "metadata": {},
   "outputs": [
    {
     "name": "stdout",
     "output_type": "stream",
     "text": [
      "[(0,\n",
      "  '0.083*\"🧾\" + 0.032*\"🛒🧾\" + 0.025*\"🧾🛒\" + 0.017*\"🧾🍽\" + 0.014*\"🧾🏬\" + 0.012*\"🏬🧾\" '\n",
      "  '+ 0.009*\"🧾⛽\" + 0.008*\"🧾🌯\" + 0.008*\"🧾💰\" + 0.007*\"🍽🧾\"'),\n",
      " (1,\n",
      "  '0.118*\"💰\" + 0.041*\"🛒💰\" + 0.023*\"💰🛒\" + 0.019*\"💰🏬\" + 0.018*\"🏬💰\" + 0.011*\"⛽💰\" '\n",
      "  '+ 0.011*\"💰💊\" + 0.011*\"💊💰\" + 0.010*\"💰🍽\" + 0.009*\"💰⛽\"'),\n",
      " (2,\n",
      "  '0.105*\"🛒\" + 0.055*\"🏬\" + 0.031*\"⛽\" + 0.029*\"💊\" + 0.020*\"🛒🏬\" + 0.019*\"🚗\" + '\n",
      "  '0.014*\"🏬🛒\" + 0.013*\"🍽\" + 0.012*\"🍺\" + 0.011*\"🛒⛽\"'),\n",
      " (3,\n",
      "  '0.101*\"🚕\" + 0.033*\"🛒🚕\" + 0.020*\"🚕🛒\" + 0.015*\"🚕🏬\" + 0.011*\"🏬🚕\" + 0.010*\"🚕🍽\" '\n",
      "  '+ 0.010*\"⛽🚕\" + 0.010*\"🍽🚕\" + 0.008*\"🚕⛽\" + 0.007*\"💰🚕\"'),\n",
      " (4,\n",
      "  '0.090*\"🍽\" + 0.047*\"🛒🍽\" + 0.039*\"🌯\" + 0.022*\"🛒🌯\" + 0.018*\"🏬🍽\" + 0.014*\"🍽🛒\" + '\n",
      "  '0.013*\"⛽🍽\" + 0.010*\"🍽🌯\" + 0.010*\"💊🍽\" + 0.009*\"🌯🍽\"')]\n"
     ]
    }
   ],
   "source": [
    "# printing the topics for the model:\n",
    "pprint(lda_model_tuned.print_topics())"
   ]
  },
  {
   "cell_type": "code",
   "execution_count": 13,
   "metadata": {},
   "outputs": [],
   "source": [
    "# registering the lda projection for each user\n",
    "user_lda = lda_model_tuned[corpus]"
   ]
  },
  {
   "cell_type": "code",
   "execution_count": 14,
   "metadata": {},
   "outputs": [],
   "source": [
    "# extracting the metrics for the tuned model:\n",
    "perplexity_tuned = lda_model_tuned.log_perplexity(corpus)\n",
    "\n",
    "# calculating coherence\n",
    "lda_coherence = CoherenceModel(\n",
    "    model=lda_model_tuned, texts=sequences, dictionary=id_to_seq_map, coherence=\"c_v\"\n",
    ")\n",
    "\n",
    "coherence_tuned = lda_coherence.get_coherence()"
   ]
  },
  {
   "cell_type": "code",
   "execution_count": 15,
   "metadata": {},
   "outputs": [
    {
     "name": "stdout",
     "output_type": "stream",
     "text": [
      "\n",
      "Preliminar Model metrics:\n",
      "    perplexity = -8.465310377348153\n",
      "    coherence = 0.7140612180527642\n",
      "\n"
     ]
    }
   ],
   "source": [
    "# verifying the metrics:\n",
    "print(\n",
    "    f\"\"\"\n",
    "Preliminar Model metrics:\n",
    "    perplexity = {perplexity_tuned}\n",
    "    coherence = {coherence_tuned}\n",
    "\"\"\"\n",
    ")"
   ]
  },
  {
   "cell_type": "code",
   "execution_count": 18,
   "metadata": {},
   "outputs": [
    {
     "data": {
      "text/html": [
       "\n",
       "<link rel=\"stylesheet\" type=\"text/css\" href=\"https://cdn.jsdelivr.net/gh/bmabey/pyLDAvis@3.2.2/pyLDAvis/js/ldavis.v1.0.0.css\">\n",
       "\n",
       "\n",
       "<div id=\"ldavis_el8667731396942523259041947794614\"></div>\n",
       "<script type=\"text/javascript\">\n",
       "\n",
       "var ldavis_el8667731396942523259041947794614_data = {\"mdsDat\": {\"x\": [0.32874135567546053, 0.16063916883562282, -0.21740798150031854, -0.21618292042112422, -0.05578962258964007], \"y\": [-0.013359251611996343, 0.007577547821075462, -0.2602835959733792, 0.2404686578534118, 0.025596641910888316], \"topics\": [1, 2, 3, 4, 5], \"cluster\": [1, 1, 1, 1, 1], \"Freq\": [61.83883725401397, 15.312985772261884, 8.646505670651944, 7.531421967175107, 6.670249335897103]}, \"tinfo\": {\"Term\": [\"\\ud83d\\uded2\", \"\\ud83c\\udf7d\", \"\\ud83d\\udcb0\", \"\\ud83d\\ude95\", \"\\ud83e\\uddfe\", \"\\ud83c\\udfec\", \"\\ud83d\\uded2\\ud83c\\udf7d\", \"\\ud83c\\udf2f\", \"\\ud83d\\uded2\\ud83d\\udcb0\", \"\\u26fd\", \"\\ud83d\\udc8a\", \"\\ud83d\\uded2\\ud83e\\uddfe\", \"\\ud83d\\uded2\\ud83c\\udf2f\", \"\\ud83d\\uded2\\ud83d\\ude95\", \"\\ud83d\\udcb0\\ud83d\\uded2\", \"\\ud83d\\uded2\\ud83c\\udfec\", \"\\ud83d\\ude97\", \"\\ud83c\\udfec\\ud83c\\udf7d\", \"\\ud83e\\uddfe\\ud83d\\uded2\", \"\\ud83c\\udf7d\\ud83d\\uded2\", \"\\ud83c\\udfec\\ud83d\\udcb0\", \"\\ud83d\\udcb0\\ud83c\\udfec\", \"\\ud83c\\udfec\\ud83d\\uded2\", \"\\u26fd\\ud83c\\udf7d\", \"\\ud83d\\ude95\\ud83d\\uded2\", \"\\ud83c\\udf7a\", \"\\ud83e\\uddfe\\ud83c\\udf7d\", \"\\ud83d\\udcda\", \"\\ud83d\\uded2\\ud83d\\udc8a\", \"\\ud83d\\udc8a\\ud83c\\udf7d\", \"\\ud83d\\udc8a\", \"\\ud83c\\udfec\", \"\\ud83d\\uded2\\ud83c\\udfec\", \"\\ud83c\\udfec\\ud83d\\uded2\", \"\\ud83c\\udf7a\", \"\\ud83d\\udcda\", \"\\ud83d\\uded2\\ud83d\\udc8a\", \"\\ud83d\\udcf1\", \"\\ud83d\\udc8a\\ud83d\\uded2\", \"\\ud83d\\uded2\\ud83d\\ude97\", \"\\ud83c\\udfd7\", \"\\u26fd\\ud83c\\udfec\", \"\\ud83d\\udc8a\\ud83c\\udfec\", \"\\ud83c\\udfec\\ud83d\\udc8a\", \"\\ud83c\\udfec\\u26fd\", \"\\ud83d\\udcee\", \"\\ud83d\\ude9a\", \"\\ud83c\\udfab\", \"\\ud83d\\uded2\\ud83d\\udcda\", \"\\ud83e\\ude91\", \"\\ud83c\\udfec\\ud83d\\ude97\", \"\\u26fd\\ud83d\\udc8a\", \"\\ud83c\\udfe0\\ud83d\\uded2\", \"\\ud83d\\uddbc\", \"\\ud83c\\udfec\\ud83c\\udf7a\", \"\\ud83d\\uded2\\ud83c\\udfd7\", \"\\ud83d\\udc8a\\u26fd\", \"\\ud83d\\udcda\\ud83c\\udfec\", \"\\ud83d\\udcf1\\ud83d\\uded2\", \"\\ud83d\\udcb3\", \"\\ud83d\\uded2\", \"\\u26fd\", \"\\ud83d\\ude97\", \"\\ud83c\\udfe0\", \"\\ud83c\\udfdb\", \"\\ud83d\\uded2\\ud83c\\udf7a\", \"\\ud83d\\ude97\\ud83d\\uded2\", \"\\ud83d\\udc88\", \"\\ud83d\\udcda\\ud83d\\uded2\", \"\\ud83d\\udc55\", \"\\ud83d\\uded2\\u26fd\", \"\\u26fd\\ud83d\\uded2\", \"\\ud83c\\udf7d\", \"\\ud83c\\udf2f\", \"\\ud83d\\udcb0\", \"\\ud83c\\udf7d\\ud83d\\uded2\", \"\\ud83d\\uded2\\ud83c\\udf7d\\ud83c\\udf2f\", \"\\ud83d\\ude83\\ud83c\\udf7d\", \"\\u26fd\\ud83c\\udf7d\\ud83c\\udf2f\", \"\\u26fd\\ud83c\\udf2f\\ud83c\\udf7d\", \"\\ud83d\\udc8a\\ud83c\\udf7d\\ud83c\\udf2f\", \"\\ud83d\\udc8a\\ud83c\\udf2f\\ud83c\\udf7d\", \"\\ud83d\\ude83\\ud83c\\udf2f\", \"\\ud83d\\ude97\\ud83c\\udf7d\\ud83c\\udf2f\", \"\\ud83d\\ude97\\ud83c\\udf2f\\ud83c\\udf7d\", \"\\ud83d\\uded2\\ud83d\\ude83\\ud83c\\udf7d\", \"\\ud83c\\udf7a\\ud83c\\udf7d\\ud83c\\udf2f\", \"\\ud83d\\ude83\\ud83d\\uded2\\ud83c\\udf7d\", \"\\ud83c\\udf7a\\ud83c\\udf2f\\ud83c\\udf7d\", \"\\ud83c\\udfec\\ud83d\\uded2\\ud83c\\udf7d\\ud83c\\udf2f\", \"\\ud83d\\udcda\\ud83c\\udf7d\\ud83c\\udf2f\", \"\\ud83d\\udcda\\ud83c\\udf2f\\ud83c\\udf7d\", \"\\ud83d\\uded2\\ud83c\\udfec\\ud83c\\udf7d\\ud83c\\udf2f\", \"\\ud83d\\uded2\\ud83d\\ude83\\u26fd\", \"\\ud83d\\uded2\\ud83c\\udfec\\ud83c\\udf2f\\ud83c\\udf7d\", \"\\ud83d\\uded2\\u26fd\\ud83c\\udf2f\\ud83c\\udf7d\", \"\\ud83d\\uded2\\u26fd\\ud83c\\udf7d\\ud83c\\udf2f\", \"\\u26fd\\ud83d\\uded2\\ud83c\\udf7d\\ud83c\\udf2f\", \"\\ud83c\\udfec\\ud83d\\uded2\\ud83c\\udf2f\\ud83c\\udf7d\", \"\\ud83d\\udcf1\\ud83c\\udf2f\\ud83c\\udf7d\", \"\\ud83d\\ude83\\ud83d\\uded2\\ud83c\\udf2f\", \"\\ud83c\\udfe0\\ud83c\\udf2f\\ud83c\\udf7d\", \"\\u26fd\\ud83d\\uded2\\ud83c\\udf2f\\ud83c\\udf7d\", \"\\ud83d\\ude83\\ud83c\\udf7d\\ud83d\\uded2\", \"\\ud83d\\uded2\\ud83d\\ude83\\ud83c\\udf2f\", \"\\ud83d\\uded2\\ud83d\\udc8a\\ud83c\\udf2f\\ud83c\\udf7d\", \"\\ud83d\\uded2\\ud83c\\udf2f\\ud83c\\udf7d\", \"\\ud83c\\udf7d\\ud83c\\udf2f\", \"\\ud83c\\udf2f\\ud83c\\udf7d\", \"\\ud83c\\udf7d\\ud83d\\uded2\\ud83c\\udf2f\", \"\\ud83c\\udfec\\ud83c\\udf7d\\ud83c\\udf2f\", \"\\ud83c\\udf2f\\ud83d\\uded2\\ud83c\\udf7d\", \"\\ud83c\\udf7d\\u26fd\\ud83c\\udf2f\", \"\\ud83c\\udf2f\\u26fd\\ud83c\\udf7d\", \"\\ud83c\\udfec\\ud83c\\udf2f\\ud83c\\udf7d\", \"\\ud83d\\ude83\\ud83d\\uded2\\u26fd\", \"\\ud83c\\udf7d\\ud83c\\udfec\\ud83c\\udf2f\", \"\\ud83c\\udf7d\\ud83d\\udc8a\\ud83c\\udf2f\", \"\\ud83d\\uded2\\u26fd\\ud83c\\udf7d\", \"\\ud83c\\udf2f\\ud83c\\udfec\\ud83c\\udf7d\", \"\\ud83c\\udf7d\\ud83d\\ude83\", \"\\ud83d\\uded2\\ud83c\\udf7d\", \"\\u26fd\\ud83d\\uded2\\ud83c\\udf7d\", \"\\ud83d\\uded2\\ud83d\\ude83\", \"\\u26fd\\ud83c\\udf7d\", \"\\ud83d\\uded2\\ud83c\\udfec\\ud83c\\udf7d\", \"\\ud83d\\uded2\\ud83c\\udf2f\", \"\\ud83c\\udfec\\ud83d\\uded2\\ud83c\\udf7d\", \"\\ud83d\\uded2\\u26fd\\ud83c\\udf2f\", \"\\ud83d\\uded2\\ud83d\\udc8a\\ud83c\\udf7d\", \"\\ud83d\\udc8a\\ud83d\\uded2\\ud83c\\udf7d\", \"\\u26fd\\ud83c\\udf2f\", \"\\ud83c\\udf7d\", \"\\ud83c\\udfec\\ud83c\\udf7d\", \"\\ud83d\\udc8a\\ud83c\\udf7d\", \"\\ud83d\\ude83\\ud83d\\uded2\", \"\\u26fd\\ud83d\\uded2\\ud83c\\udf2f\", \"\\ud83d\\uded2\\ud83c\\udf7a\\ud83c\\udf7d\", \"\\ud83d\\uded2\\ud83c\\udfec\\ud83c\\udf2f\", \"\\ud83c\\udf2f\", \"\\ud83d\\ude83\", \"\\ud83c\\udfec\\ud83c\\udf2f\", \"\\ud83c\\udf7a\\ud83c\\udf7d\", \"\\ud83d\\ude97\\ud83c\\udf7d\", \"\\ud83d\\udcda\\ud83c\\udf7d\", \"\\ud83d\\udc8a\\ud83c\\udf2f\", \"\\ud83c\\udf7d\\ud83d\\uded2\", \"\\ud83c\\udfe0\\ud83c\\udf7d\", \"\\ud83d\\ude97\\ud83c\\udf2f\", \"\\ud83d\\udcf1\\ud83c\\udf7d\", \"\\ud83c\\udf7d\\u26fd\", \"\\ud83c\\udf2f\\ud83d\\uded2\", \"\\ud83c\\udf7d\\ud83c\\udfec\", \"\\ud83d\\udcb0\\ud83c\\udf7d\", \"\\ud83e\\uddfe\", \"\\ud83e\\uddfe\\ud83d\\uded2\", \"\\ud83e\\uddfe\\u26fd\", \"\\ud83e\\uddfe\\ud83d\\udc8a\", \"\\ud83e\\uddfe\\ud83d\\ude97\", \"\\ud83e\\uddfe\\ud83c\\udf7a\", \"\\ud83d\\ude97\\ud83e\\uddfe\", \"\\ud83e\\uddfe\\ud83d\\uded2\\ud83c\\udfec\", \"\\ud83c\\udf2f\\ud83e\\uddfe\", \"\\ud83e\\uddfe\\ud83c\\udfdb\", \"\\ud83e\\uddfe\\ud83d\\uded2\\u26fd\", \"\\ud83e\\uddfe\\u26fd\\ud83d\\uded2\", \"\\ud83e\\uddfe\\ud83c\\udfe0\", \"\\ud83d\\uded2\\ud83e\\uddfe\\u26fd\", \"\\ud83d\\udc8a\\ud83d\\uded2\\ud83e\\uddfe\", \"\\ud83e\\uddfe\\ud83d\\udcda\", \"\\ud83d\\uded2\\u26fd\\ud83e\\uddfe\", \"\\ud83e\\uddfe\\ud83c\\udf7d\\ud83d\\uded2\", \"\\ud83d\\uded2\\ud83e\\uddfe\\ud83d\\udc8a\", \"\\ud83c\\udf7d\\ud83e\\uddfe\", \"\\ud83c\\udf7d\\ud83d\\uded2\\ud83e\\uddfe\", \"\\ud83e\\uddfe\\ud83d\\udcf1\", \"\\ud83c\\udfec\\ud83e\\uddfe\\ud83d\\uded2\", \"\\ud83d\\uded2\\ud83e\\uddfe\\ud83c\\udf7a\", \"\\ud83c\\udf7a\\ud83e\\uddfe\", \"\\ud83d\\udcf1\\ud83e\\uddfe\", \"\\ud83e\\uddfe\\ud83c\\udfec\\ud83c\\udf7d\", \"\\ud83c\\udfe0\\ud83e\\uddfe\", \"\\ud83e\\uddfe\\ud83c\\udfec\\ud83d\\uded2\", \"\\ud83d\\uded2\\ud83d\\ude97\\ud83e\\uddfe\", \"\\ud83d\\uded2\\ud83e\\uddfe\", \"\\ud83e\\uddfe\\ud83c\\udf7d\", \"\\ud83e\\uddfe\\ud83c\\udfec\", \"\\ud83c\\udfec\\ud83e\\uddfe\", \"\\u26fd\\ud83e\\uddfe\", \"\\ud83d\\udc8a\\ud83e\\uddfe\", \"\\ud83e\\uddfe\\ud83c\\udf2f\", \"\\ud83d\\uded2\\ud83e\\uddfe\\ud83c\\udfec\", \"\\ud83e\\uddfe\\ud83d\\uded2\\ud83c\\udf7d\", \"\\ud83d\\uded2\\ud83e\\uddfe\\ud83d\\udcb0\", \"\\ud83d\\udcda\\ud83e\\uddfe\", \"\\ud83d\\uded2\\ud83e\\uddfe\\ud83c\\udf7d\", \"\\ud83e\\uddfe\\ud83d\\udcb0\", \"\\ud83d\\uded2\\ud83c\\udfec\\ud83e\\uddfe\", \"\\ud83c\\udfec\\ud83d\\uded2\\ud83e\\uddfe\", \"\\ud83d\\ude95\", \"\\ud83d\\uded2\\ud83d\\ude95\", \"\\ud83d\\ude95\\ud83d\\uded2\", \"\\ud83c\\udfec\\ud83d\\ude95\", \"\\u26fd\\ud83d\\ude95\", \"\\ud83c\\udf7d\\ud83d\\ude95\", \"\\ud83d\\ude95\\u26fd\", \"\\ud83d\\ude95\\ud83d\\udc8a\", \"\\ud83d\\udc8a\\ud83d\\ude95\", \"\\ud83d\\ude97\\ud83d\\ude95\", \"\\ud83d\\ude95\\ud83d\\ude97\", \"\\ud83d\\ude95\\ud83d\\udcb0\", \"\\ud83d\\ude95\\ud83c\\udf2f\", \"\\ud83c\\udf2f\\ud83d\\ude95\", \"\\ud83d\\uded2\\ud83d\\ude95\\ud83c\\udfec\", \"\\ud83d\\udcda\\ud83d\\ude95\", \"\\ud83d\\ude95\\ud83c\\udfdb\", \"\\ud83c\\udf7d\\ud83d\\uded2\\ud83d\\ude95\", \"\\ud83c\\udfe0\\ud83d\\ude95\", \"\\ud83d\\ude95\\ud83c\\udf7a\", \"\\ud83d\\uded2\\ud83c\\udfec\\ud83d\\ude95\", \"\\ud83d\\ude95\\ud83d\\uded2\\ud83c\\udfec\", \"\\ud83d\\uded2\\u26fd\\ud83d\\ude95\", \"\\ud83d\\ude95\\ud83d\\uded2\\ud83c\\udf7d\", \"\\u26fd\\ud83d\\uded2\\ud83d\\ude95\", \"\\ud83d\\ude95\\ud83c\\udfe0\", \"\\ud83c\\udfec\\ud83d\\uded2\\ud83d\\ude95\", \"\\ud83c\\udf7d\\ud83d\\ude95\\ud83d\\uded2\", \"\\ud83d\\udc8a\\ud83d\\uded2\\ud83d\\ude95\", \"\\ud83c\\udf7a\\ud83d\\ude95\", \"\\ud83d\\ude95\\ud83c\\udfec\", \"\\ud83d\\ude95\\ud83c\\udf7d\", \"\\ud83d\\uded2\\ud83c\\udf7d\\ud83d\\ude95\", \"\\ud83d\\udcb0\\ud83d\\ude95\", \"\\ud83d\\uded2\\ud83d\\ude95\\ud83c\\udf7d\", \"\\ud83d\\uded2\\ud83d\\udcb0\\ud83d\\ude95\", \"\\ud83d\\ude95\\ud83e\\uddfe\", \"\\ud83e\\uddfe\\ud83d\\ude95\", \"\\ud83d\\udcb0\\ud83d\\ude97\\ud83c\\udfec\\ud83d\\uded2\", \"\\ud83c\\udfe0\\ud83c\\udfab\\ud83d\\udcb0\", \"\\ud83d\\ude97\\ud83c\\udfec\\ud83c\\udf7a\\ud83d\\udcb0\", \"\\ud83d\\ude97\\ud83d\\udc8a\\ud83c\\udfec\\ud83d\\udcb0\", \"\\u26fd\\ud83d\\udcb0\\ud83d\\ude97\\ud83d\\uded2\", \"\\ud83d\\udcb0\\ud83d\\ude97\\ud83d\\udc8a\\ud83d\\uded2\", \"\\ud83d\\udcb0\\ud83d\\udc5f\", \"\\ud83d\\udcb0\\ud83d\\ude83\\u26fd\", \"\\ud83d\\uded2\\ud83c\\udf7a\\ud83d\\udc8a\\ud83d\\udcb0\", \"\\ud83d\\udcb0\\ud83d\\ude97\\ud83c\\udfec\\u26fd\", \"\\ud83d\\udcb0\\ud83d\\udc86\\ud83c\\udfec\", \"\\ud83d\\udcb0\\ud83c\\udfe8\\u26fd\", \"\\ud83d\\udcb0\\ud83c\\udfe0\\ud83d\\uded2\\ud83c\\udfec\", \"\\ud83c\\udf7d\\ud83d\\ude9a\\ud83d\\udcb0\", \"\\ud83d\\udcb0\\ud83d\\uded2\\ud83c\\udfdb\\ud83d\\udc8a\", \"\\ud83d\\uded2\\ud83d\\udc6e\\ud83d\\udcb0\", \"\\ud83d\\udcb0\\ud83d\\uded2\\ud83d\\udc8a\\ud83d\\udc55\", \"\\ud83d\\udcb0\\ud83d\\udcda\\ud83c\\udfec\\ud83d\\udc8a\", \"\\ud83d\\udcf1\\ud83d\\udcb0\\ud83c\\udfd7\", \"\\ud83d\\udcb0\\ud83d\\udc89\\ud83d\\udc8a\", \"\\ud83d\\udcb0\\ud83d\\ude97\\ud83d\\uded2\\ud83c\\udfe8\", \"\\ud83d\\udcb0\\ud83c\\udfec\\ud83c\\udf7a\\ud83d\\udc8a\", \"\\ud83d\\ude83\\ud83d\\udcb0\\ud83d\\ude97\", \"\\ud83c\\udf2f\\ud83d\\uded2\\ud83d\\udcda\\ud83d\\udcb0\", \"\\ud83c\\udfe0\\ud83d\\ude83\\ud83d\\udcb0\", \"\\u26fd\\ud83d\\udcb0\\ud83d\\udc89\", \"\\ud83d\\udcb0\\ud83d\\udc8a\\ud83c\\udfec\\ud83c\\udf7a\", \"\\ud83d\\udcb0\\ud83c\\udfec\\ud83c\\udf7a\\u26fd\", \"\\ud83d\\uded2\\u26fd\\ud83d\\udcb0\\ud83d\\udcb3\", \"\\ud83d\\udc6e\\ud83d\\udcb0\\ud83c\\udf7d\", \"\\ud83d\\uded2\\ud83d\\udcb0\\ud83d\\udc84\", \"\\ud83d\\udcb0\\ud83d\\udc84\", \"\\ud83d\\udcb0\\ud83d\\ude97\\ud83d\\udc8a\", \"\\ud83d\\udcb0\\ud83d\\ude83\", \"\\ud83d\\udcb0\", \"\\ud83d\\udcb0\\ud83c\\udfec\", \"\\ud83d\\udcb0\\ud83c\\udfec\\ud83c\\udf7a\", \"\\ud83d\\udcb0\\ud83d\\uded2\\u26fd\\ud83d\\udc8a\", \"\\ud83d\\udcb0\\ud83d\\ude97\\ud83d\\uded2\", \"\\ud83d\\udcb0\\ud83d\\udc8a\", \"\\ud83c\\udfab\\ud83d\\udcb0\", \"\\ud83d\\udcb0\\u26fd\", \"\\ud83d\\udcb0\\ud83d\\ude97\", \"\\ud83d\\udcb0\\ud83d\\ude97\\ud83c\\udfec\", \"\\ud83d\\udcb0\\ud83d\\uded2\", \"\\ud83d\\uded2\\ud83d\\udcb0\", \"\\ud83c\\udfa1\\ud83d\\udcb0\", \"\\ud83d\\udcb0\\ud83d\\udc8a\\ud83c\\udf7a\", \"\\ud83d\\udcb0\\ud83c\\udfec\\u26fd\", \"\\ud83c\\udfec\\ud83d\\udcb0\", \"\\ud83d\\udc8a\\ud83d\\udcb0\", \"\\u26fd\\ud83d\\udcb0\", \"\\ud83d\\udcb0\\ud83c\\udf7d\", \"\\ud83d\\ude97\\ud83c\\udfec\\ud83d\\udcb0\", \"\\ud83d\\udcf1\\ud83d\\udcb0\", \"\\ud83d\\udcb0\\ud83c\\udf7a\", \"\\ud83c\\udfe0\\ud83d\\udcb0\", \"\\ud83d\\udcb0\\ud83c\\udfe0\", \"\\ud83d\\udcb0\\ud83d\\uded2\\ud83d\\udc8a\", \"\\ud83d\\udcda\\ud83d\\udcb0\", \"\\ud83d\\udcb0\\ud83c\\udfec\\ud83d\\uded2\", \"\\ud83c\\udf7d\\ud83d\\udcb0\", \"\\ud83d\\udcb0\\ud83c\\udf2f\", \"\\ud83d\\uded2\\ud83d\\udcb0\\ud83c\\udfec\", \"\\ud83d\\udcb0\\ud83c\\udfdb\", \"\\ud83d\\udcb0\\ud83c\\udfd7\", \"\\ud83d\\udcb0\\ud83d\\udcda\", \"\\ud83c\\udf2f\\ud83d\\udcb0\", \"\\ud83d\\uded2\\ud83c\\udfec\\ud83d\\udcb0\", \"\\ud83d\\udcb0\\ud83d\\udcf1\", \"\\ud83d\\udcb0\\ud83d\\uded2\\ud83c\\udfec\", \"\\ud83d\\ude97\\ud83d\\udcb0\", \"\\ud83d\\uded2\\ud83d\\udc8a\\ud83d\\udcb0\", \"\\ud83c\\udfec\\ud83d\\uded2\\ud83d\\udcb0\", \"\\ud83d\\uded2\\u26fd\\ud83d\\udcb0\", \"\\ud83c\\udf7a\\ud83d\\udcb0\", \"\\ud83d\\uded2\\ud83d\\udcb0\\ud83c\\udf7d\"], \"Freq\": [477085.0, 160671.0, 86656.0, 55841.0, 52902.0, 247974.0, 64987.0, 74922.0, 35177.0, 139917.0, 129496.0, 20217.0, 30780.0, 18346.0, 19000.0, 90924.0, 87316.0, 27618.0, 15695.0, 36115.0, 14957.0, 13410.0, 61854.0, 18571.0, 11237.0, 56093.0, 10599.0, 49105.0, 46772.0, 14455.0, 129495.6089691633, 247973.23092474445, 90923.80073787962, 61854.17057044356, 56092.745698827355, 49104.84063138723, 46772.01746274796, 39159.4841621956, 34662.40207908421, 31706.764922165235, 29407.71543119429, 23232.00067672468, 23017.254492978653, 21652.433376577334, 19024.01924689303, 16648.62785403981, 16596.05805077525, 16439.516600693325, 15059.397957723826, 14646.583336820973, 13640.204409461241, 11661.909814409897, 11566.60704758688, 11255.748128573972, 10938.175025250664, 10739.120264069632, 10653.235096441354, 10291.440039330322, 10483.461697726318, 8446.313443836487, 476667.70066286175, 139687.39015323392, 87303.35373208704, 44633.789476752, 28810.026304995914, 23858.18337339541, 20347.95543725448, 20553.94297918383, 17589.67073495656, 16610.548776963882, 51092.171601893766, 38544.08555646193, 59545.0656433286, 30796.220996433876, 28910.310324947615, 20938.16793166336, 4052.1671138392576, 1417.4568492458966, 1104.1311022090385, 1080.385420123395, 731.4365410247524, 706.4686090477935, 646.4488566158215, 623.6981157526814, 575.3030737761069, 554.7605676599097, 452.9801529834157, 589.3859473767409, 434.0121042515516, 368.25377221246015, 356.3052596757788, 344.3760981215445, 338.2920119528289, 651.2473772631545, 339.763928742675, 326.41619635020527, 318.45042326334, 307.29369932093897, 294.7957430951498, 289.78413282860726, 274.27186883705207, 275.7646075455109, 268.0162551676765, 273.6347736962016, 260.1625347291699, 248.93824578555612, 3621.3624676157683, 11465.125518154537, 10505.13792294506, 2328.9642189310684, 1344.1320542577314, 2306.9961468579813, 757.0456050451498, 697.4402643622711, 1334.4553862852936, 441.55303828628206, 988.297494154988, 508.9742800044728, 5674.328330900856, 891.5192430661054, 542.7704439734732, 52636.77680595975, 4377.196936509522, 2376.2187950671428, 15161.61503712367, 7364.280484970299, 24296.775576754913, 5379.711715143222, 2470.503057543285, 4070.8954653510477, 3363.681647354222, 7229.244622459329, 101071.45743957868, 20326.686177964177, 11209.006374476417, 3019.69649137806, 2145.158389158613, 1698.9888013724346, 3445.4413786911814, 44081.68863815346, 6682.750912175675, 9244.958014035581, 5034.092708649101, 7976.357812764025, 4919.067330986917, 5088.29690248128, 15176.67428546365, 3750.1129218281394, 3821.464439606235, 3360.722777538169, 5347.841693052047, 5602.9786436211, 5978.31343716047, 3610.2638946831194, 52901.3295306056, 15694.944638019846, 5992.94610445424, 3739.4681552020734, 3463.973349199711, 3014.2928079799776, 2493.957534684839, 2144.7882771338877, 2102.1711184018877, 1950.4400709340116, 1952.7015751857, 1784.8922306450668, 1710.1305855860844, 1648.2853250870849, 1627.0521981024253, 1504.7419684170916, 1480.475537577481, 1453.4505913010694, 1315.8775704180157, 4726.018524829511, 1312.9857213210375, 1337.6015070221981, 1296.2091574941517, 1276.4338413920282, 1262.6721243796485, 1163.0608060029822, 1163.181145906686, 1153.9817139797506, 1097.0898801673134, 1062.5894633697244, 20194.246623335977, 10570.025172269156, 8651.555500856646, 7869.092157905993, 4663.727342233352, 3978.6926618844604, 5126.168638248033, 2803.127137151589, 1998.7161582665572, 2300.7632626536065, 2419.994267367361, 2805.7459697062995, 4968.325800235244, 1981.685330250496, 1675.6041074473865, 55840.60527358478, 18345.890290186595, 11236.807540370077, 6094.264422695154, 5621.602144283293, 5512.918130772391, 4326.207645503167, 3621.938993482668, 3604.0611266194787, 3522.264651128712, 3194.7878241933813, 3036.0675449621485, 2693.7424836334085, 2548.172990615242, 2032.677476134519, 1926.2562981505873, 1889.2680560204942, 1807.3506833263996, 1701.985812503034, 1657.9917060541325, 1651.078058006373, 1572.411276713247, 1604.8221449428702, 1301.354345062055, 1294.4544587172277, 1277.4048663108808, 1238.704128157052, 1196.1039407397127, 1149.9078332076433, 1143.0563057441473, 8050.093077078081, 5786.476605620102, 1385.8735799086223, 3681.1948284831697, 1603.096658900479, 1582.722650630706, 1788.0610200792412, 1433.3985277649303, 121.94131109644711, 66.36388405522153, 61.94997079472532, 58.99658342821154, 56.19048597464329, 54.93647137409059, 48.673770342174144, 48.35162126750925, 48.0850663216177, 46.92265495514447, 41.12475472734559, 40.688939900344266, 41.76057030471566, 40.50171818200884, 38.537395858303015, 39.35965359745829, 37.76000355640342, 37.063578347158355, 36.40214063258055, 37.80948225981932, 38.50709282217499, 33.77897555651204, 33.284807896050516, 36.205574914499316, 32.86980972067337, 31.605813948582675, 30.264666995352684, 29.981310648013437, 29.411969174739784, 28.624181005694425, 143.1540913559503, 148.75402693542028, 346.671887632826, 137.35172736598713, 57733.12008968502, 9407.04976700449, 382.77573575694976, 133.64636337688233, 604.5511024019121, 5190.605598925322, 1201.1094079347824, 4370.0657033987445, 2994.545104670324, 482.31327504686465, 11472.345010745941, 20210.826121243943, 111.32657721987489, 245.54157548566914, 585.1066981217309, 8566.571449041265, 5139.455981896976, 5375.1822640877535, 5032.992278437384, 494.86859214835994, 1567.6310123000014, 1980.333005638272, 1731.6121208905206, 1458.8435895893376, 1129.7514069685626, 2154.388234536832, 1442.128530258908, 3923.498349671265, 2441.048620186199, 2268.041115291137, 1312.0108456248893, 976.445624088396, 1231.9532498507604, 1890.8769906638156, 2556.7707501520217, 1198.7823853573243, 1457.7907397345507, 2353.1420931025427, 1573.2997481945522, 1669.3010196340003, 1621.8261823487346, 1246.9856630646786, 1247.8106973066156], \"Total\": [477085.0, 160671.0, 86656.0, 55841.0, 52902.0, 247974.0, 64987.0, 74922.0, 35177.0, 139917.0, 129496.0, 20217.0, 30780.0, 18346.0, 19000.0, 90924.0, 87316.0, 27618.0, 15695.0, 36115.0, 14957.0, 13410.0, 61854.0, 18571.0, 11237.0, 56093.0, 10599.0, 49105.0, 46772.0, 14455.0, 129496.39063564621, 247974.76261711607, 90924.57991888108, 61854.942722129235, 56093.522968509205, 49105.61689927923, 46772.792272350256, 39160.34152885484, 34663.17508329915, 31707.54196862081, 29408.489288322904, 23232.776738670804, 23018.025869370977, 21653.204752846574, 19024.79870602939, 16649.397730734672, 16596.827021930574, 16440.293691451116, 15060.177067009929, 14647.358147510393, 13640.982131726756, 11662.68307951647, 11567.402318873957, 11256.52246694115, 10938.948377419434, 10739.894225443295, 10654.018953532539, 10292.215955770822, 10484.263240004439, 8447.093646365412, 477085.2650394367, 139917.57840008519, 87316.61771291621, 44648.77582962316, 28830.04745225598, 23863.7808099025, 20352.50133009988, 20560.836436435762, 17597.70563302032, 16629.69320333611, 52456.02318528119, 39602.60373061383, 160671.16437940183, 74922.34380662708, 86656.84033424572, 36115.41581650881, 4052.951380088829, 1418.2382363459387, 1104.9096732691219, 1081.166107434857, 732.2150551170549, 707.2493553715683, 647.2343137933891, 624.479319482735, 576.08099085069, 555.5364938969966, 453.7575483699512, 590.4301720512321, 434.79799247437103, 369.0313995496736, 357.08381553631165, 345.1598565211981, 339.06852227701415, 652.7425419671296, 340.5463637562125, 327.19334731478597, 319.25053952589235, 308.0722447802829, 295.5744183134227, 290.57029275547177, 275.0465013908892, 276.5519099991545, 268.7930288891514, 274.43383623345215, 260.9357676952951, 249.7175677962093, 3645.3057329263993, 11726.527853195359, 10747.352617139437, 2348.2676077149786, 1348.7495555659598, 2327.946328918762, 761.9489284308098, 702.1637301723549, 1354.9741767561043, 443.73748757830583, 1011.4039176430932, 514.3030808187877, 6150.511418569991, 924.487888043228, 553.4056539897862, 64987.19858038674, 4908.598575354375, 2584.293673536915, 18571.589779963604, 8627.571515447702, 30780.41181932786, 6209.158822196857, 2717.0213382366273, 4697.480843160724, 3866.827483542884, 8912.205361946977, 160671.16437940183, 27618.88131794365, 14455.911735610278, 3483.712347544209, 2403.378053698024, 1866.9078276094692, 4116.656113192541, 74922.34380662708, 8821.562068291405, 12850.5968667537, 6436.160021723524, 11292.905265756122, 6430.461895317096, 7079.484161600844, 36115.41581650881, 5155.968567687168, 5496.848388555038, 4737.495781806835, 12246.773961210925, 16193.22611153524, 20701.77215264835, 8742.984988476812, 52902.12139476788, 15695.73033290392, 5993.731943777963, 3740.2555339154815, 3464.7596165907316, 3015.0827473953386, 2494.7480595919974, 2145.578008216318, 2102.9539154389986, 1951.2290023305886, 1953.5016338094383, 1785.6740939792164, 1710.914035035883, 1649.0720118943336, 1627.8387034772472, 1505.5321341923188, 1481.2686978121887, 1454.2319464772263, 1316.6617777450358, 4728.839507607845, 1313.769511252547, 1338.4032531062571, 1296.9987004585817, 1277.2249408530593, 1263.4560609887387, 1163.8435788729946, 1163.9642119886666, 1154.7729234896115, 1097.8716430974273, 1063.3729863026815, 20217.940853459284, 10599.099381437263, 8659.216969883124, 7904.033290119365, 4673.8974447664505, 3986.568576180527, 5154.3039670928665, 2805.5234051999764, 2001.6410721773166, 2307.588902531762, 2428.9784033418205, 2823.99411426051, 5073.441518067468, 2001.1834536688248, 1696.9208347131491, 55841.40076725156, 18346.68636112639, 11237.599656664052, 6095.1025871062475, 5622.405811262986, 5513.723400574892, 4326.99993207419, 3622.7318893894044, 3604.8593303526445, 3523.056655688125, 3195.579898098141, 3036.8746867191353, 2694.5395849512142, 2548.972237318377, 2033.478725053641, 1927.0528814494182, 1890.0589017519778, 1808.1488407883842, 1702.7775346869294, 1658.7848144269396, 1651.889680501879, 1573.202266827329, 1605.6314228395695, 1302.150086837513, 1295.247968803077, 1278.196541793399, 1239.50277557692, 1196.896076581596, 1150.6992086013693, 1143.8529753308876, 8058.589949212403, 5797.284672073465, 1389.046871813182, 3837.7072785854284, 1633.6195162055274, 1628.9955555497331, 1922.4886336825637, 2483.633932382612, 122.73177280081948, 67.17434794224137, 62.730689497374605, 59.78649805101346, 56.97918489242367, 55.72879718035097, 49.458667424679575, 49.13609016725461, 48.883015935558426, 47.71995011129603, 41.919578134449736, 41.47639702043517, 42.5842263921835, 41.30630602722874, 39.32158210222632, 40.1619205286163, 38.547551976580124, 37.84901290463219, 37.18730871029498, 38.6358693794364, 39.365945533179286, 34.564647668177415, 34.07053278112029, 37.06398043274637, 33.6631519738959, 32.41853791022449, 31.048701071441005, 30.776915630061783, 30.196326691250718, 29.41387901217314, 147.29889821125272, 158.77994280019226, 381.6112150530299, 148.54859362448545, 86656.84033424572, 13410.107713545342, 447.1892907787312, 147.78620938629828, 746.7939047988125, 7559.886235135795, 1604.853363829521, 6535.592549206796, 4345.182775065893, 599.5399304699157, 19000.139835889044, 35177.30094739665, 123.53311552066758, 295.05230521775275, 773.5872285604717, 14957.06219910231, 8744.293759513315, 9287.360769975901, 8742.984988476812, 654.4464671794165, 2392.3337449195355, 3117.6619903691635, 2707.403649184315, 2236.0417416185655, 1679.6306905202855, 3516.2309675177416, 2236.9845722655737, 7285.359037538104, 4241.5971696726465, 3911.356085911323, 2097.204506795583, 1482.291620728023, 1985.7568891945566, 3388.3952719263484, 4992.38984549889, 1923.7379698171962, 2494.970745041268, 4947.678103261852, 2869.916734894973, 3259.556967251115, 3186.3553482000875, 2826.3291173467733, 2886.501287591213], \"Category\": [\"Default\", \"Default\", \"Default\", \"Default\", \"Default\", \"Default\", \"Default\", \"Default\", \"Default\", \"Default\", \"Default\", \"Default\", \"Default\", \"Default\", \"Default\", \"Default\", \"Default\", \"Default\", \"Default\", \"Default\", \"Default\", \"Default\", \"Default\", \"Default\", \"Default\", \"Default\", \"Default\", \"Default\", \"Default\", \"Default\", \"Topic1\", \"Topic1\", \"Topic1\", \"Topic1\", \"Topic1\", \"Topic1\", \"Topic1\", \"Topic1\", \"Topic1\", \"Topic1\", \"Topic1\", \"Topic1\", \"Topic1\", \"Topic1\", \"Topic1\", \"Topic1\", \"Topic1\", \"Topic1\", \"Topic1\", \"Topic1\", \"Topic1\", \"Topic1\", \"Topic1\", \"Topic1\", \"Topic1\", \"Topic1\", \"Topic1\", \"Topic1\", \"Topic1\", \"Topic1\", \"Topic1\", \"Topic1\", \"Topic1\", \"Topic1\", \"Topic1\", \"Topic1\", \"Topic1\", \"Topic1\", \"Topic1\", \"Topic1\", \"Topic1\", \"Topic1\", \"Topic1\", \"Topic1\", \"Topic1\", \"Topic1\", \"Topic2\", \"Topic2\", \"Topic2\", \"Topic2\", \"Topic2\", \"Topic2\", \"Topic2\", \"Topic2\", \"Topic2\", \"Topic2\", \"Topic2\", \"Topic2\", \"Topic2\", \"Topic2\", \"Topic2\", \"Topic2\", \"Topic2\", \"Topic2\", \"Topic2\", \"Topic2\", \"Topic2\", \"Topic2\", \"Topic2\", \"Topic2\", \"Topic2\", \"Topic2\", \"Topic2\", \"Topic2\", \"Topic2\", \"Topic2\", \"Topic2\", \"Topic2\", \"Topic2\", \"Topic2\", \"Topic2\", \"Topic2\", \"Topic2\", \"Topic2\", \"Topic2\", \"Topic2\", \"Topic2\", \"Topic2\", \"Topic2\", \"Topic2\", \"Topic2\", \"Topic2\", \"Topic2\", \"Topic2\", \"Topic2\", \"Topic2\", \"Topic2\", \"Topic2\", \"Topic2\", \"Topic2\", \"Topic2\", \"Topic2\", \"Topic2\", \"Topic2\", \"Topic2\", \"Topic2\", \"Topic2\", \"Topic2\", \"Topic2\", \"Topic2\", \"Topic2\", \"Topic2\", \"Topic2\", \"Topic2\", \"Topic2\", \"Topic2\", \"Topic2\", \"Topic2\", \"Topic2\", \"Topic2\", \"Topic2\", \"Topic2\", \"Topic2\", \"Topic2\", \"Topic3\", \"Topic3\", \"Topic3\", \"Topic3\", \"Topic3\", \"Topic3\", \"Topic3\", \"Topic3\", \"Topic3\", \"Topic3\", \"Topic3\", \"Topic3\", \"Topic3\", \"Topic3\", \"Topic3\", \"Topic3\", \"Topic3\", \"Topic3\", \"Topic3\", \"Topic3\", \"Topic3\", \"Topic3\", \"Topic3\", \"Topic3\", \"Topic3\", \"Topic3\", \"Topic3\", \"Topic3\", \"Topic3\", \"Topic3\", \"Topic3\", \"Topic3\", \"Topic3\", \"Topic3\", \"Topic3\", \"Topic3\", \"Topic3\", \"Topic3\", \"Topic3\", \"Topic3\", \"Topic3\", \"Topic3\", \"Topic3\", \"Topic3\", \"Topic3\", \"Topic4\", \"Topic4\", \"Topic4\", \"Topic4\", \"Topic4\", \"Topic4\", \"Topic4\", \"Topic4\", \"Topic4\", \"Topic4\", \"Topic4\", \"Topic4\", \"Topic4\", \"Topic4\", \"Topic4\", \"Topic4\", \"Topic4\", \"Topic4\", \"Topic4\", \"Topic4\", \"Topic4\", \"Topic4\", \"Topic4\", \"Topic4\", \"Topic4\", \"Topic4\", \"Topic4\", \"Topic4\", \"Topic4\", \"Topic4\", \"Topic4\", \"Topic4\", \"Topic4\", \"Topic4\", \"Topic4\", \"Topic4\", \"Topic4\", \"Topic4\", \"Topic5\", \"Topic5\", \"Topic5\", \"Topic5\", \"Topic5\", \"Topic5\", \"Topic5\", \"Topic5\", \"Topic5\", \"Topic5\", \"Topic5\", \"Topic5\", \"Topic5\", \"Topic5\", \"Topic5\", \"Topic5\", \"Topic5\", \"Topic5\", \"Topic5\", \"Topic5\", \"Topic5\", \"Topic5\", \"Topic5\", \"Topic5\", \"Topic5\", \"Topic5\", \"Topic5\", \"Topic5\", \"Topic5\", \"Topic5\", \"Topic5\", \"Topic5\", \"Topic5\", \"Topic5\", \"Topic5\", \"Topic5\", \"Topic5\", \"Topic5\", \"Topic5\", \"Topic5\", \"Topic5\", \"Topic5\", \"Topic5\", \"Topic5\", \"Topic5\", \"Topic5\", \"Topic5\", \"Topic5\", \"Topic5\", \"Topic5\", \"Topic5\", \"Topic5\", \"Topic5\", \"Topic5\", \"Topic5\", \"Topic5\", \"Topic5\", \"Topic5\", \"Topic5\", \"Topic5\", \"Topic5\", \"Topic5\", \"Topic5\", \"Topic5\", \"Topic5\", \"Topic5\", \"Topic5\", \"Topic5\", \"Topic5\", \"Topic5\", \"Topic5\", \"Topic5\", \"Topic5\", \"Topic5\", \"Topic5\", \"Topic5\", \"Topic5\"], \"logprob\": [30.0, 29.0, 28.0, 27.0, 26.0, 25.0, 24.0, 23.0, 22.0, 21.0, 20.0, 19.0, 18.0, 17.0, 16.0, 15.0, 14.0, 13.0, 12.0, 11.0, 10.0, 9.0, 8.0, 7.0, 6.0, 5.0, 4.0, 3.0, 2.0, 1.0, -3.5561, -2.9064, -3.9097, -4.2949, -4.3927, -4.5258, -4.5744, -4.7521, -4.8741, -4.9632, -5.0385, -5.2742, -5.2835, -5.3446, -5.474, -5.6074, -5.6105, -5.62, -5.7077, -5.7355, -5.8067, -5.9634, -5.9716, -5.9988, -6.0274, -6.0458, -6.0538, -6.0884, -6.0699, -6.286, -2.2529, -3.4803, -3.9503, -4.6212, -5.059, -5.2476, -5.4067, -5.3967, -5.5524, -5.6097, -4.4861, -4.7679, -4.333, -4.9923, -5.0555, -5.3781, -5.6246, -6.675, -6.9248, -6.9466, -7.3366, -7.3714, -7.4601, -7.496, -7.5767, -7.6131, -7.8158, -7.5526, -7.8586, -8.0229, -8.0558, -8.0899, -8.1077, -7.4527, -8.1034, -8.1435, -8.1682, -8.2038, -8.2453, -8.2625, -8.3175, -8.3121, -8.3406, -8.3198, -8.3703, -8.4144, -5.737, -4.5846, -4.672, -6.1785, -6.7281, -6.1879, -7.3022, -7.3842, -6.7354, -7.8413, -7.0356, -7.6992, -5.2879, -7.1387, -7.6349, -3.0605, -5.5475, -6.1584, -4.3051, -5.0272, -3.8335, -5.3412, -6.1195, -5.62, -5.8108, -5.0457, -2.408, -4.0119, -4.6072, -5.9187, -6.2607, -6.4938, -5.7868, -3.2378, -5.1243, -4.7998, -5.4076, -4.9474, -5.4308, -5.3969, -4.3041, -5.7021, -5.6832, -5.8117, -5.3472, -5.3006, -5.2357, -5.7401, -2.4839, -3.699, -4.6617, -5.1334, -5.2099, -5.349, -5.5385, -5.6893, -5.7094, -5.7843, -5.7831, -5.873, -5.9158, -5.9526, -5.9656, -6.0437, -6.06, -6.0784, -6.1778, -4.8992, -6.18, -6.1615, -6.1929, -6.2083, -6.2191, -6.3013, -6.3012, -6.3091, -6.3597, -6.3916, -3.4469, -4.0943, -4.2946, -4.3894, -4.9125, -5.0714, -4.818, -5.4216, -5.7598, -5.6191, -5.5686, -5.4207, -4.8492, -5.7684, -5.9362, -2.2918, -3.4049, -3.8951, -4.5069, -4.5876, -4.6072, -4.8496, -5.0273, -5.0322, -5.0552, -5.1527, -5.2037, -5.3233, -5.3789, -5.6049, -5.6587, -5.6781, -5.7224, -5.7825, -5.8087, -5.8128, -5.8616, -5.8412, -6.0509, -6.0562, -6.0694, -6.1002, -6.1352, -6.1746, -6.1806, -4.2286, -4.5587, -5.9879, -5.011, -5.8423, -5.8551, -5.7331, -5.9542, -8.297, -8.9054, -8.9743, -9.0231, -9.0718, -9.0944, -9.2154, -9.2221, -9.2276, -9.2521, -9.384, -9.3946, -9.3686, -9.3992, -9.449, -9.4278, -9.4693, -9.488, -9.506, -9.468, -9.4497, -9.5808, -9.5955, -9.5114, -9.608, -9.6472, -9.6906, -9.7, -9.7192, -9.7463, -8.1367, -8.0983, -7.2522, -8.178, -2.137, -3.9514, -7.1531, -8.2054, -6.6961, -4.546, -6.0096, -4.7181, -5.096, -6.922, -3.7529, -3.1866, -8.3881, -7.5971, -6.7288, -4.045, -4.5559, -4.511, -4.5768, -6.8963, -5.7433, -5.5096, -5.6438, -5.8152, -6.0708, -5.4253, -5.8267, -4.8258, -5.3004, -5.3739, -5.9213, -6.2167, -5.9842, -5.5558, -5.2541, -6.0115, -5.8159, -5.3371, -5.7397, -5.6804, -5.7093, -5.9721, -5.9714], \"loglift\": [30.0, 29.0, 28.0, 27.0, 26.0, 25.0, 24.0, 23.0, 22.0, 21.0, 20.0, 19.0, 18.0, 17.0, 16.0, 15.0, 14.0, 13.0, 12.0, 11.0, 10.0, 9.0, 8.0, 7.0, 6.0, 5.0, 4.0, 3.0, 2.0, 1.0, 0.4806, 0.4806, 0.4806, 0.4806, 0.4806, 0.4806, 0.4806, 0.4806, 0.4806, 0.4806, 0.4806, 0.4806, 0.4806, 0.4806, 0.4806, 0.4806, 0.4806, 0.4806, 0.4806, 0.4806, 0.4806, 0.4806, 0.4806, 0.4806, 0.4806, 0.4806, 0.4806, 0.4806, 0.4806, 0.4805, 0.4798, 0.479, 0.4805, 0.4803, 0.4799, 0.4804, 0.4804, 0.4803, 0.4802, 0.4795, 0.4543, 0.4535, -0.512, -0.4084, -0.6171, -0.0645, 1.8763, 1.8759, 1.8758, 1.8757, 1.8754, 1.8754, 1.8753, 1.8752, 1.8751, 1.8751, 1.8748, 1.8747, 1.8747, 1.8744, 1.8743, 1.8742, 1.8742, 1.8742, 1.8742, 1.8741, 1.874, 1.8739, 1.8738, 1.8738, 1.8736, 1.8736, 1.8736, 1.8736, 1.8735, 1.8733, 1.8699, 1.8539, 1.8537, 1.8682, 1.873, 1.8674, 1.87, 1.8697, 1.8612, 1.8715, 1.8534, 1.8661, 1.7959, 1.8402, 1.8571, 1.6657, 1.7619, 1.7925, 1.6736, 1.7181, 1.6399, 1.7331, 1.7814, 1.7333, 1.7371, 1.6672, 1.4129, 1.5699, 1.6221, 1.7335, 1.7628, 1.7822, 1.6985, 1.3461, 1.5988, 1.5472, 1.6308, 1.5288, 1.6085, 1.5462, 1.0095, 1.5581, 1.5129, 1.5331, 1.0479, 0.8152, 0.6344, 0.992, 2.448, 2.448, 2.4479, 2.4478, 2.4478, 2.4478, 2.4477, 2.4476, 2.4476, 2.4476, 2.4476, 2.4476, 2.4476, 2.4475, 2.4475, 2.4475, 2.4475, 2.4475, 2.4474, 2.4474, 2.4474, 2.4474, 2.4474, 2.4474, 2.4474, 2.4473, 2.4473, 2.4473, 2.4473, 2.4473, 2.4468, 2.4453, 2.4471, 2.4436, 2.4458, 2.446, 2.4425, 2.4472, 2.4466, 2.4451, 2.4443, 2.4415, 2.4271, 2.4382, 2.4354, 2.5861, 2.586, 2.586, 2.5859, 2.5859, 2.5859, 2.5859, 2.5859, 2.5859, 2.5859, 2.5858, 2.5858, 2.5858, 2.5858, 2.5857, 2.5857, 2.5857, 2.5856, 2.5856, 2.5856, 2.5856, 2.5856, 2.5856, 2.5855, 2.5855, 2.5855, 2.5854, 2.5854, 2.5854, 2.5854, 2.585, 2.5842, 2.5838, 2.5444, 2.5672, 2.5573, 2.5136, 2.0364, 2.7011, 2.6954, 2.695, 2.6942, 2.6936, 2.6932, 2.6915, 2.6914, 2.6911, 2.6907, 2.6884, 2.6883, 2.688, 2.6878, 2.6874, 2.6873, 2.6869, 2.6865, 2.6862, 2.6859, 2.6855, 2.6845, 2.6842, 2.6841, 2.6837, 2.6821, 2.6819, 2.6813, 2.6812, 2.6803, 2.679, 2.6423, 2.6115, 2.6291, 2.3014, 2.353, 2.552, 2.6069, 2.4962, 2.3315, 2.4177, 2.305, 2.3352, 2.4899, 2.203, 2.1533, 2.6035, 2.5238, 2.4283, 2.1502, 2.1761, 2.1607, 2.1553, 2.428, 2.2848, 2.2537, 2.2606, 2.2805, 2.3109, 2.2176, 2.2685, 2.0886, 2.155, 2.1625, 2.2385, 2.2901, 2.2301, 2.1242, 2.0383, 2.2345, 2.1702, 1.9643, 2.1064, 2.0383, 2.0322, 1.8893, 1.8689]}, \"token.table\": {\"Topic\": [1, 2, 3, 1, 2, 2, 1, 2, 2, 1, 1, 1, 2, 5, 5, 5, 4, 1, 2, 1, 2, 2, 1, 2, 2, 4, 1, 3, 1, 2, 3, 1, 2, 1, 2, 1, 2, 1, 2, 3, 5, 4, 1, 2, 1, 2, 5, 3, 1, 2, 1, 2, 2, 1, 5, 4, 3, 1, 2, 3, 1, 2, 3, 1, 2, 1, 2, 1, 2, 1, 2, 1, 2, 1, 2, 5, 1, 2, 4, 4, 5, 1, 2, 1, 2, 4, 3, 2, 3, 1, 5, 1, 1, 5, 1, 1, 3, 1, 3, 2, 1, 2, 5, 1, 3, 5, 5, 4, 1, 3, 1, 5, 1, 1, 2, 1, 2, 1, 1, 2, 1, 2, 1, 1, 5, 4, 1, 1, 2, 1, 2, 2, 1, 5, 4, 1, 3, 1, 3, 3, 1, 2, 5, 1, 3, 1, 1, 1, 2, 2, 1, 2, 2, 1, 1, 5, 4, 1, 1, 2, 4, 3, 1, 3, 1, 3, 5, 1, 5, 1, 2, 5, 1, 4, 5, 1, 2, 5, 1, 5, 1, 5, 1, 5, 5, 5, 1, 5, 1, 5, 1, 5, 5, 5, 1, 5, 5, 1, 5, 5, 5, 1, 5, 1, 5, 5, 1, 5, 5, 1, 5, 1, 5, 5, 4, 5, 1, 5, 1, 5, 5, 5, 1, 5, 5, 1, 5, 5, 1, 5, 1, 5, 5, 1, 5, 1, 5, 5, 1, 1, 2, 1, 2, 2, 1, 1, 5, 4, 1, 2, 1, 3, 1, 1, 2, 1, 2, 3, 1, 5, 5, 1, 3, 1, 1, 2, 5, 2, 2, 2, 5, 1, 2, 5, 1, 2, 2, 2, 4, 4, 4, 4, 2, 4, 4, 4, 1, 4, 4, 4, 4, 4, 4, 4, 3, 4, 1, 3, 1, 2, 2, 1, 2, 2, 5, 1, 4, 5, 5, 1, 5, 4, 1, 5, 3, 1, 1, 2, 3, 4, 5, 1, 2, 1, 2, 2, 1, 2, 2, 1, 2, 5, 5, 4, 3, 1, 2, 1, 2, 1, 2, 1, 2, 5, 1, 2, 2, 2, 4, 1, 1, 1, 2, 2, 1, 2, 2, 1, 5, 4, 1, 3, 5, 1, 2, 1, 2, 1, 5, 1, 3, 5, 1, 2, 5, 1, 5, 1, 5, 4, 5, 1, 1, 2, 1, 2, 2, 2, 4, 2, 4, 4, 1, 3, 1, 3, 4, 3, 3, 2, 3, 1, 3, 3, 3, 5, 3, 3, 3, 2, 3, 3, 2, 3, 3, 3, 3, 1, 3, 3, 3, 3, 3, 5, 3, 3, 3, 4, 3, 3, 3, 2, 3, 3, 1], \"Freq\": [0.9983520412322613, 0.0015008836087737217, 0.0001357942312700034, 0.18872994188192127, 0.8111348096696842, 0.9989214354511874, 0.18355994507685497, 0.8164082978161558, 0.9991766989726586, 0.9999665671185352, 0.9999414303285262, 0.4176644039219406, 0.0035532161199855732, 0.5787435346946199, 0.9870895500783061, 0.9828150421198134, 0.9999278224879866, 0.9732693401218087, 0.02671541515797202, 0.10734890401575449, 0.892493795014703, 0.9970496672014569, 0.1081775158119677, 0.8917005399415869, 0.9965195021672671, 0.9990365020188141, 0.002139542024225927, 0.9978824000989724, 0.4110389295813249, 0.5883692068386792, 0.0005872747402772534, 0.005696677040009101, 0.9926459742215858, 0.022517173170076166, 0.977450017155579, 0.034613757966836356, 0.9648585033255633, 0.28538583087156993, 0.15582597590505576, 0.0005902499087312718, 0.5580812887054175, 0.9996185767329502, 0.6539771585389162, 0.3460088781202595, 0.008591263360134768, 0.9910022285915454, 0.9712934115460968, 0.999546392608989, 0.9999906768467814, 0.9981646822474276, 0.21767637772698348, 0.7821433872074481, 0.9983304996849692, 0.5586752053427847, 0.44120834772796236, 0.999254296356889, 0.9996390369219632, 0.3706016585489668, 0.6290550043026724, 0.00033609017653277705, 0.5628421020778308, 0.43668642998871887, 0.000489924940151891, 0.00524969568267229, 0.9935049079457309, 0.022257227652333608, 0.9776977587509763, 0.7111951523491434, 0.28876754878375194, 0.02274066730292842, 0.9768599693605774, 0.009721893930792388, 0.9896888021546651, 0.25434573511783615, 0.20712774651528046, 0.5384772363018193, 0.018069927417446594, 0.9811970587673501, 0.999868799988259, 0.9992513330111708, 0.9925845214281125, 0.5797524277826251, 0.4202360586711673, 0.008091071025115519, 0.9917949693417918, 0.9993646315156869, 0.9994142722555546, 0.00042293674733142516, 0.9993995339441576, 0.09713994461665101, 0.8985444877040218, 0.9999821358756341, 0.2511132849161723, 0.7483549756434812, 0.9999833623441821, 0.9993046333937126, 0.000659034641946565, 0.9996690652912961, 0.00031355842886763777, 0.9980043168056364, 0.27249972174098147, 0.7273124245755733, 0.9825179108065014, 0.3597542613542115, 0.0007387151157170668, 0.6397272902109798, 0.9803003600372853, 0.9995433727124711, 0.9999652196004888, 0.9993306705812985, 0.999992891949578, 4.032668443538523e-06, 0.9999580176357327, 0.2805317167272317, 0.7194218366555498, 0.014760428901959808, 0.9845206077607193, 0.999913302688091, 0.26402227939849526, 0.7359820177363156, 0.002965709967052799, 0.9964785489297405, 0.999944361453174, 0.4272229342192288, 0.5727729072701304, 0.99981910278121, 0.9999280013918886, 0.9999847591463552, 0.9980566034208901, 0.1335124489063548, 0.8664619723958852, 0.9972051170959105, 0.48779635268681804, 0.5120327752416977, 0.9995943731738027, 0.012375356333903392, 0.987671295982004, 0.004301601315685569, 0.9955676692096984, 0.999229991164811, 0.998875914118947, 0.0011425346076852684, 0.9859291250908507, 0.9996675020271234, 0.000291816921872275, 0.9999969834244469, 0.999904359703415, 0.2812351796475785, 0.7186964309627721, 0.9982335008691355, 0.22454481317867325, 0.7753921167343649, 0.9983405761619301, 0.9999554319133709, 0.41215449744915583, 0.5876975478332996, 0.999761618894416, 0.9999660999520001, 0.1300807967618816, 0.8699638177076934, 0.9993923619690162, 0.999484774827226, 0.0017558960459941712, 0.9981014810015438, 0.33361474857023055, 0.00015001700904230362, 0.6662255371568704, 0.33126300082197735, 0.6686463342226517, 0.0221614632978583, 0.40244274307919276, 0.5754907650007671, 0.36373410700167746, 0.0009622595423324801, 0.6350912979394369, 0.011323363831744107, 0.4129024589151134, 0.5756615168198798, 0.3406886964334122, 0.6584399360772482, 0.3743077975735606, 0.625594688428677, 0.3474890408072464, 0.6524922915544047, 0.9862806855570648, 0.9885140211142146, 0.29843160737311913, 0.7014857897448605, 0.24302366049894522, 0.756217241446186, 0.1431161284934865, 0.8564605814532084, 0.9747565467768018, 0.9836640120391776, 0.3549420992187946, 0.6446177670950904, 0.990726247823436, 0.056682222208163574, 0.938405678779597, 0.9780632779390015, 0.9835419937573648, 0.3133645039510898, 0.6866505445378248, 0.166072249338426, 0.8337504762704652, 0.9662239953604496, 0.37920049735062206, 0.6204183436068611, 0.9775684267705623, 0.37635063161372145, 0.6232657559459281, 0.07404984275924412, 0.9222571325469494, 0.9768787023267935, 0.9591664326615368, 0.040649270169845084, 0.3106888869547099, 0.6892690492069306, 0.19514963733657592, 0.8039497880019624, 0.984913016262236, 0.9940376254321114, 0.08909591400576435, 0.909302416470595, 0.9869224311805542, 0.19014616895976813, 0.8101298043708431, 0.9907040075318183, 0.3961549791219103, 0.6037850299570287, 0.09473143710862364, 0.9067151837539691, 0.9918217405039734, 0.4156361360392815, 0.5843755895325674, 0.3268575664272607, 0.6727669400051086, 0.9857954150522245, 0.999870529863738, 0.9999874372970307, 0.9966396540638066, 0.23497534463276534, 0.7649528261075929, 0.9969648147321272, 0.9998818567569854, 0.3870621732680969, 0.6125877452016757, 0.9994536312627672, 0.9995621228595926, 0.0003977791279145621, 0.003293565718407992, 0.9963036298184176, 0.9999761114040817, 0.9999657426671354, 0.9980373328943448, 0.2893933975128763, 0.7094465419699323, 0.0010554099106961207, 0.34443354809916565, 0.6554269458974414, 0.9680722065814276, 0.9998795108463494, 0.9992751784790431, 0.9999535854041349, 0.23635269851973406, 0.7575755799555792, 0.006008006245345757, 0.9980929413551101, 0.9991269193607916, 0.9984191590971199, 0.9685789245504985, 0.13089484851453087, 0.8668913213023756, 0.0022964008511321206, 0.004507169342204973, 0.996084424627299, 0.9961951837758447, 0.9975777456523546, 0.9999928231160743, 0.9997689086919604, 0.9997997487384384, 0.9995268738777243, 0.0017249454814892479, 0.9980534555896788, 0.9994397519828635, 0.999063882779936, 0.0009927295036003005, 0.9989340629978025, 0.9997979730734289, 0.9997119780006201, 0.9998185311847512, 0.9999466383674118, 0.9991167785886294, 0.9992357836924851, 0.06970132236533458, 0.9300445103673003, 0.999844042139138, 0.0001488834581607596, 0.30472006531733886, 0.6951255937776429, 0.99812354361998, 0.2936356873598528, 0.706284150296196, 0.999232449389786, 0.9883519613250037, 0.24142539982064615, 0.0030560177192486856, 0.7563643855140496, 0.9868448884505265, 0.5242863310549358, 0.475576614098791, 0.9997000741709847, 0.999778831602717, 0.00019653603923780558, 0.9997001462375644, 0.9999501698770806, 0.9991253868647522, 0.0008384245528248191, 1.8864552438558428e-05, 1.4672429674434334e-05, 2.0960613820620477e-06, 0.9739968243405854, 0.025983670077041766, 0.09054032684176722, 0.9094518196179138, 0.9963527763489706, 0.07739193826432586, 0.922524911159212, 0.9960828898590133, 0.48142778578243883, 0.009415145745419273, 0.5090455466356687, 0.9603817145216756, 0.9996067448415696, 0.9991435059594099, 0.21062096368474018, 0.7893656570489175, 0.006309484494606692, 0.9933323197813405, 0.9997577580037066, 0.00020952254128671862, 0.08945272901546485, 0.9100609975884716, 0.9819361404230359, 0.1900374269052929, 0.8099595174100326, 0.9997652623977917, 0.0021597543329002085, 0.9978065017998963, 0.9999167379655214, 0.9999936219789897, 0.16299636927399977, 0.8368442505945294, 0.9983956259283284, 0.14639113657169847, 0.8535426205178048, 0.9968486538654827, 0.48774235894165635, 0.5121795531062896, 0.9994614165144439, 0.009494381919442107, 0.9904139454912766, 0.9710690994523431, 0.99998306125609, 0.9971264825196644, 0.133262917061476, 0.8666347210180013, 0.4515810456248056, 0.5480995252838111, 0.42510367757781864, 0.00034112907121397777, 0.574546638192142, 0.009007444449019115, 0.5584615558391851, 0.43235733355291756, 0.42005891662947137, 0.5798500443795747, 0.02715566815892466, 0.9708151366815566, 0.9717644683602521, 0.028238259977619456, 0.9999218424189377, 0.08009925579266529, 0.9194001534462451, 0.0015319975881859366, 0.9973304299090447, 0.9964138005933022, 0.9990342778505276, 0.999962589368299, 0.01836412928616462, 0.9812566415240628, 0.9997645782826529, 0.9999829072647338, 0.9996492422626059, 0.0010881424651232872, 0.9988158609408936, 4.94610211419676e-05, 0.9993499302112937, 0.9990409356927832, 0.0063739509615491794, 0.9936281332281666, 0.0007128794563941415, 0.9991005581363893, 0.9994973821248391, 0.9971446809591895, 0.0026001165083681605, 0.9999788024612566, 0.9998778817963785, 0.9996224988750807, 0.005432353268018955, 0.9945086732808988, 0.9996408896584102, 0.0026417338862807353, 0.9972545420709776, 0.9991528542058159, 0.999370139369023, 0.9994657621498418, 0.0008083871814675734, 0.9991665562939207, 0.9991716137156663, 0.9992060610155044, 0.9996643186798077, 0.9792169639303082, 0.020696010711087433, 0.9996465474364622, 0.9996987058232851, 0.4227676173648944, 0.5769771387465654, 0.9997807592229214, 0.9999534693264709, 0.9997432130074752, 0.0009991801366388174, 0.9986805465704979, 0.9997306048933647, 0.9999755486616231], \"Term\": [\"\\u26fd\", \"\\u26fd\", \"\\u26fd\", \"\\u26fd\\ud83c\\udf2f\", \"\\u26fd\\ud83c\\udf2f\", \"\\u26fd\\ud83c\\udf2f\\ud83c\\udf7d\", \"\\u26fd\\ud83c\\udf7d\", \"\\u26fd\\ud83c\\udf7d\", \"\\u26fd\\ud83c\\udf7d\\ud83c\\udf2f\", \"\\u26fd\\ud83c\\udfec\", \"\\u26fd\\ud83d\\udc8a\", \"\\u26fd\\ud83d\\udcb0\", \"\\u26fd\\ud83d\\udcb0\", \"\\u26fd\\ud83d\\udcb0\", \"\\u26fd\\ud83d\\udcb0\\ud83d\\udc89\", \"\\u26fd\\ud83d\\udcb0\\ud83d\\ude97\\ud83d\\uded2\", \"\\u26fd\\ud83d\\ude95\", \"\\u26fd\\ud83d\\uded2\", \"\\u26fd\\ud83d\\uded2\", \"\\u26fd\\ud83d\\uded2\\ud83c\\udf2f\", \"\\u26fd\\ud83d\\uded2\\ud83c\\udf2f\", \"\\u26fd\\ud83d\\uded2\\ud83c\\udf2f\\ud83c\\udf7d\", \"\\u26fd\\ud83d\\uded2\\ud83c\\udf7d\", \"\\u26fd\\ud83d\\uded2\\ud83c\\udf7d\", \"\\u26fd\\ud83d\\uded2\\ud83c\\udf7d\\ud83c\\udf2f\", \"\\u26fd\\ud83d\\uded2\\ud83d\\ude95\", \"\\u26fd\\ud83e\\uddfe\", \"\\u26fd\\ud83e\\uddfe\", \"\\ud83c\\udf2f\", \"\\ud83c\\udf2f\", \"\\ud83c\\udf2f\", \"\\ud83c\\udf2f\\u26fd\\ud83c\\udf7d\", \"\\ud83c\\udf2f\\u26fd\\ud83c\\udf7d\", \"\\ud83c\\udf2f\\ud83c\\udf7d\", \"\\ud83c\\udf2f\\ud83c\\udf7d\", \"\\ud83c\\udf2f\\ud83c\\udfec\\ud83c\\udf7d\", \"\\ud83c\\udf2f\\ud83c\\udfec\\ud83c\\udf7d\", \"\\ud83c\\udf2f\\ud83d\\udcb0\", \"\\ud83c\\udf2f\\ud83d\\udcb0\", \"\\ud83c\\udf2f\\ud83d\\udcb0\", \"\\ud83c\\udf2f\\ud83d\\udcb0\", \"\\ud83c\\udf2f\\ud83d\\ude95\", \"\\ud83c\\udf2f\\ud83d\\uded2\", \"\\ud83c\\udf2f\\ud83d\\uded2\", \"\\ud83c\\udf2f\\ud83d\\uded2\\ud83c\\udf7d\", \"\\ud83c\\udf2f\\ud83d\\uded2\\ud83c\\udf7d\", \"\\ud83c\\udf2f\\ud83d\\uded2\\ud83d\\udcda\\ud83d\\udcb0\", \"\\ud83c\\udf2f\\ud83e\\uddfe\", \"\\ud83c\\udf7a\", \"\\ud83c\\udf7a\\ud83c\\udf2f\\ud83c\\udf7d\", \"\\ud83c\\udf7a\\ud83c\\udf7d\", \"\\ud83c\\udf7a\\ud83c\\udf7d\", \"\\ud83c\\udf7a\\ud83c\\udf7d\\ud83c\\udf2f\", \"\\ud83c\\udf7a\\ud83d\\udcb0\", \"\\ud83c\\udf7a\\ud83d\\udcb0\", \"\\ud83c\\udf7a\\ud83d\\ude95\", \"\\ud83c\\udf7a\\ud83e\\uddfe\", \"\\ud83c\\udf7d\", \"\\ud83c\\udf7d\", \"\\ud83c\\udf7d\", \"\\ud83c\\udf7d\\u26fd\", \"\\ud83c\\udf7d\\u26fd\", \"\\ud83c\\udf7d\\u26fd\", \"\\ud83c\\udf7d\\u26fd\\ud83c\\udf2f\", \"\\ud83c\\udf7d\\u26fd\\ud83c\\udf2f\", \"\\ud83c\\udf7d\\ud83c\\udf2f\", \"\\ud83c\\udf7d\\ud83c\\udf2f\", \"\\ud83c\\udf7d\\ud83c\\udfec\", \"\\ud83c\\udf7d\\ud83c\\udfec\", \"\\ud83c\\udf7d\\ud83c\\udfec\\ud83c\\udf2f\", \"\\ud83c\\udf7d\\ud83c\\udfec\\ud83c\\udf2f\", \"\\ud83c\\udf7d\\ud83d\\udc8a\\ud83c\\udf2f\", \"\\ud83c\\udf7d\\ud83d\\udc8a\\ud83c\\udf2f\", \"\\ud83c\\udf7d\\ud83d\\udcb0\", \"\\ud83c\\udf7d\\ud83d\\udcb0\", \"\\ud83c\\udf7d\\ud83d\\udcb0\", \"\\ud83c\\udf7d\\ud83d\\ude83\", \"\\ud83c\\udf7d\\ud83d\\ude83\", \"\\ud83c\\udf7d\\ud83d\\ude95\", \"\\ud83c\\udf7d\\ud83d\\ude95\\ud83d\\uded2\", \"\\ud83c\\udf7d\\ud83d\\ude9a\\ud83d\\udcb0\", \"\\ud83c\\udf7d\\ud83d\\uded2\", \"\\ud83c\\udf7d\\ud83d\\uded2\", \"\\ud83c\\udf7d\\ud83d\\uded2\\ud83c\\udf2f\", \"\\ud83c\\udf7d\\ud83d\\uded2\\ud83c\\udf2f\", \"\\ud83c\\udf7d\\ud83d\\uded2\\ud83d\\ude95\", \"\\ud83c\\udf7d\\ud83d\\uded2\\ud83e\\uddfe\", \"\\ud83c\\udf7d\\ud83e\\uddfe\", \"\\ud83c\\udf7d\\ud83e\\uddfe\", \"\\ud83c\\udfa1\\ud83d\\udcb0\", \"\\ud83c\\udfa1\\ud83d\\udcb0\", \"\\ud83c\\udfab\", \"\\ud83c\\udfab\\ud83d\\udcb0\", \"\\ud83c\\udfab\\ud83d\\udcb0\", \"\\ud83c\\udfd7\", \"\\ud83c\\udfdb\", \"\\ud83c\\udfdb\", \"\\ud83c\\udfe0\", \"\\ud83c\\udfe0\", \"\\ud83c\\udfe0\\ud83c\\udf2f\\ud83c\\udf7d\", \"\\ud83c\\udfe0\\ud83c\\udf7d\", \"\\ud83c\\udfe0\\ud83c\\udf7d\", \"\\ud83c\\udfe0\\ud83c\\udfab\\ud83d\\udcb0\", \"\\ud83c\\udfe0\\ud83d\\udcb0\", \"\\ud83c\\udfe0\\ud83d\\udcb0\", \"\\ud83c\\udfe0\\ud83d\\udcb0\", \"\\ud83c\\udfe0\\ud83d\\ude83\\ud83d\\udcb0\", \"\\ud83c\\udfe0\\ud83d\\ude95\", \"\\ud83c\\udfe0\\ud83d\\uded2\", \"\\ud83c\\udfe0\\ud83e\\uddfe\", \"\\ud83c\\udfec\", \"\\ud83c\\udfec\", \"\\ud83c\\udfec\\u26fd\", \"\\ud83c\\udfec\\ud83c\\udf2f\", \"\\ud83c\\udfec\\ud83c\\udf2f\", \"\\ud83c\\udfec\\ud83c\\udf2f\\ud83c\\udf7d\", \"\\ud83c\\udfec\\ud83c\\udf2f\\ud83c\\udf7d\", \"\\ud83c\\udfec\\ud83c\\udf7a\", \"\\ud83c\\udfec\\ud83c\\udf7d\", \"\\ud83c\\udfec\\ud83c\\udf7d\", \"\\ud83c\\udfec\\ud83c\\udf7d\\ud83c\\udf2f\", \"\\ud83c\\udfec\\ud83c\\udf7d\\ud83c\\udf2f\", \"\\ud83c\\udfec\\ud83d\\udc8a\", \"\\ud83c\\udfec\\ud83d\\udcb0\", \"\\ud83c\\udfec\\ud83d\\udcb0\", \"\\ud83c\\udfec\\ud83d\\ude95\", \"\\ud83c\\udfec\\ud83d\\ude97\", \"\\ud83c\\udfec\\ud83d\\uded2\", \"\\ud83c\\udfec\\ud83d\\uded2\\ud83c\\udf2f\\ud83c\\udf7d\", \"\\ud83c\\udfec\\ud83d\\uded2\\ud83c\\udf7d\", \"\\ud83c\\udfec\\ud83d\\uded2\\ud83c\\udf7d\", \"\\ud83c\\udfec\\ud83d\\uded2\\ud83c\\udf7d\\ud83c\\udf2f\", \"\\ud83c\\udfec\\ud83d\\uded2\\ud83d\\udcb0\", \"\\ud83c\\udfec\\ud83d\\uded2\\ud83d\\udcb0\", \"\\ud83c\\udfec\\ud83d\\uded2\\ud83d\\ude95\", \"\\ud83c\\udfec\\ud83d\\uded2\\ud83e\\uddfe\", \"\\ud83c\\udfec\\ud83d\\uded2\\ud83e\\uddfe\", \"\\ud83c\\udfec\\ud83e\\uddfe\", \"\\ud83c\\udfec\\ud83e\\uddfe\", \"\\ud83c\\udfec\\ud83e\\uddfe\\ud83d\\uded2\", \"\\ud83d\\udc55\", \"\\ud83d\\udc55\", \"\\ud83d\\udc6e\\ud83d\\udcb0\\ud83c\\udf7d\", \"\\ud83d\\udc88\", \"\\ud83d\\udc88\", \"\\ud83d\\udc8a\", \"\\ud83d\\udc8a\\u26fd\", \"\\ud83d\\udc8a\\ud83c\\udf2f\", \"\\ud83d\\udc8a\\ud83c\\udf2f\", \"\\ud83d\\udc8a\\ud83c\\udf2f\\ud83c\\udf7d\", \"\\ud83d\\udc8a\\ud83c\\udf7d\", \"\\ud83d\\udc8a\\ud83c\\udf7d\", \"\\ud83d\\udc8a\\ud83c\\udf7d\\ud83c\\udf2f\", \"\\ud83d\\udc8a\\ud83c\\udfec\", \"\\ud83d\\udc8a\\ud83d\\udcb0\", \"\\ud83d\\udc8a\\ud83d\\udcb0\", \"\\ud83d\\udc8a\\ud83d\\ude95\", \"\\ud83d\\udc8a\\ud83d\\uded2\", \"\\ud83d\\udc8a\\ud83d\\uded2\\ud83c\\udf7d\", \"\\ud83d\\udc8a\\ud83d\\uded2\\ud83c\\udf7d\", \"\\ud83d\\udc8a\\ud83d\\uded2\\ud83d\\ude95\", \"\\ud83d\\udc8a\\ud83d\\uded2\\ud83e\\uddfe\", \"\\ud83d\\udc8a\\ud83e\\uddfe\", \"\\ud83d\\udc8a\\ud83e\\uddfe\", \"\\ud83d\\udcb0\", \"\\ud83d\\udcb0\", \"\\ud83d\\udcb0\", \"\\ud83d\\udcb0\\u26fd\", \"\\ud83d\\udcb0\\u26fd\", \"\\ud83d\\udcb0\\ud83c\\udf2f\", \"\\ud83d\\udcb0\\ud83c\\udf2f\", \"\\ud83d\\udcb0\\ud83c\\udf2f\", \"\\ud83d\\udcb0\\ud83c\\udf7a\", \"\\ud83d\\udcb0\\ud83c\\udf7a\", \"\\ud83d\\udcb0\\ud83c\\udf7a\", \"\\ud83d\\udcb0\\ud83c\\udf7d\", \"\\ud83d\\udcb0\\ud83c\\udf7d\", \"\\ud83d\\udcb0\\ud83c\\udf7d\", \"\\ud83d\\udcb0\\ud83c\\udfd7\", \"\\ud83d\\udcb0\\ud83c\\udfd7\", \"\\ud83d\\udcb0\\ud83c\\udfdb\", \"\\ud83d\\udcb0\\ud83c\\udfdb\", \"\\ud83d\\udcb0\\ud83c\\udfe0\", \"\\ud83d\\udcb0\\ud83c\\udfe0\", \"\\ud83d\\udcb0\\ud83c\\udfe0\\ud83d\\uded2\\ud83c\\udfec\", \"\\ud83d\\udcb0\\ud83c\\udfe8\\u26fd\", \"\\ud83d\\udcb0\\ud83c\\udfec\", \"\\ud83d\\udcb0\\ud83c\\udfec\", \"\\ud83d\\udcb0\\ud83c\\udfec\\u26fd\", \"\\ud83d\\udcb0\\ud83c\\udfec\\u26fd\", \"\\ud83d\\udcb0\\ud83c\\udfec\\ud83c\\udf7a\", \"\\ud83d\\udcb0\\ud83c\\udfec\\ud83c\\udf7a\", \"\\ud83d\\udcb0\\ud83c\\udfec\\ud83c\\udf7a\\u26fd\", \"\\ud83d\\udcb0\\ud83c\\udfec\\ud83c\\udf7a\\ud83d\\udc8a\", \"\\ud83d\\udcb0\\ud83c\\udfec\\ud83d\\uded2\", \"\\ud83d\\udcb0\\ud83c\\udfec\\ud83d\\uded2\", \"\\ud83d\\udcb0\\ud83d\\udc5f\", \"\\ud83d\\udcb0\\ud83d\\udc84\", \"\\ud83d\\udcb0\\ud83d\\udc84\", \"\\ud83d\\udcb0\\ud83d\\udc86\\ud83c\\udfec\", \"\\ud83d\\udcb0\\ud83d\\udc89\\ud83d\\udc8a\", \"\\ud83d\\udcb0\\ud83d\\udc8a\", \"\\ud83d\\udcb0\\ud83d\\udc8a\", \"\\ud83d\\udcb0\\ud83d\\udc8a\\ud83c\\udf7a\", \"\\ud83d\\udcb0\\ud83d\\udc8a\\ud83c\\udf7a\", \"\\ud83d\\udcb0\\ud83d\\udc8a\\ud83c\\udfec\\ud83c\\udf7a\", \"\\ud83d\\udcb0\\ud83d\\udcda\", \"\\ud83d\\udcb0\\ud83d\\udcda\", \"\\ud83d\\udcb0\\ud83d\\udcda\\ud83c\\udfec\\ud83d\\udc8a\", \"\\ud83d\\udcb0\\ud83d\\udcf1\", \"\\ud83d\\udcb0\\ud83d\\udcf1\", \"\\ud83d\\udcb0\\ud83d\\ude83\", \"\\ud83d\\udcb0\\ud83d\\ude83\", \"\\ud83d\\udcb0\\ud83d\\ude83\\u26fd\", \"\\ud83d\\udcb0\\ud83d\\ude95\", \"\\ud83d\\udcb0\\ud83d\\ude95\", \"\\ud83d\\udcb0\\ud83d\\ude97\", \"\\ud83d\\udcb0\\ud83d\\ude97\", \"\\ud83d\\udcb0\\ud83d\\ude97\\ud83c\\udfec\", \"\\ud83d\\udcb0\\ud83d\\ude97\\ud83c\\udfec\", \"\\ud83d\\udcb0\\ud83d\\ude97\\ud83c\\udfec\\u26fd\", \"\\ud83d\\udcb0\\ud83d\\ude97\\ud83c\\udfec\\ud83d\\uded2\", \"\\ud83d\\udcb0\\ud83d\\ude97\\ud83d\\udc8a\", \"\\ud83d\\udcb0\\ud83d\\ude97\\ud83d\\udc8a\", \"\\ud83d\\udcb0\\ud83d\\ude97\\ud83d\\udc8a\\ud83d\\uded2\", \"\\ud83d\\udcb0\\ud83d\\ude97\\ud83d\\uded2\", \"\\ud83d\\udcb0\\ud83d\\ude97\\ud83d\\uded2\", \"\\ud83d\\udcb0\\ud83d\\ude97\\ud83d\\uded2\\ud83c\\udfe8\", \"\\ud83d\\udcb0\\ud83d\\uded2\", \"\\ud83d\\udcb0\\ud83d\\uded2\", \"\\ud83d\\udcb0\\ud83d\\uded2\\u26fd\\ud83d\\udc8a\", \"\\ud83d\\udcb0\\ud83d\\uded2\\u26fd\\ud83d\\udc8a\", \"\\ud83d\\udcb0\\ud83d\\uded2\\ud83c\\udfdb\\ud83d\\udc8a\", \"\\ud83d\\udcb0\\ud83d\\uded2\\ud83c\\udfec\", \"\\ud83d\\udcb0\\ud83d\\uded2\\ud83c\\udfec\", \"\\ud83d\\udcb0\\ud83d\\uded2\\ud83d\\udc8a\", \"\\ud83d\\udcb0\\ud83d\\uded2\\ud83d\\udc8a\", \"\\ud83d\\udcb0\\ud83d\\uded2\\ud83d\\udc8a\\ud83d\\udc55\", \"\\ud83d\\udcb3\", \"\\ud83d\\udcda\", \"\\ud83d\\udcda\\ud83c\\udf2f\\ud83c\\udf7d\", \"\\ud83d\\udcda\\ud83c\\udf7d\", \"\\ud83d\\udcda\\ud83c\\udf7d\", \"\\ud83d\\udcda\\ud83c\\udf7d\\ud83c\\udf2f\", \"\\ud83d\\udcda\\ud83c\\udfec\", \"\\ud83d\\udcda\\ud83d\\udcb0\", \"\\ud83d\\udcda\\ud83d\\udcb0\", \"\\ud83d\\udcda\\ud83d\\ude95\", \"\\ud83d\\udcda\\ud83d\\uded2\", \"\\ud83d\\udcda\\ud83d\\uded2\", \"\\ud83d\\udcda\\ud83e\\uddfe\", \"\\ud83d\\udcda\\ud83e\\uddfe\", \"\\ud83d\\udcee\", \"\\ud83d\\udcf1\", \"\\ud83d\\udcf1\\ud83c\\udf2f\\ud83c\\udf7d\", \"\\ud83d\\udcf1\\ud83c\\udf7d\", \"\\ud83d\\udcf1\\ud83c\\udf7d\", \"\\ud83d\\udcf1\\ud83c\\udf7d\", \"\\ud83d\\udcf1\\ud83d\\udcb0\", \"\\ud83d\\udcf1\\ud83d\\udcb0\", \"\\ud83d\\udcf1\\ud83d\\udcb0\\ud83c\\udfd7\", \"\\ud83d\\udcf1\\ud83d\\uded2\", \"\\ud83d\\udcf1\\ud83e\\uddfe\", \"\\ud83d\\uddbc\", \"\\ud83d\\ude83\", \"\\ud83d\\ude83\", \"\\ud83d\\ude83\", \"\\ud83d\\ude83\\ud83c\\udf2f\", \"\\ud83d\\ude83\\ud83c\\udf7d\", \"\\ud83d\\ude83\\ud83c\\udf7d\\ud83d\\uded2\", \"\\ud83d\\ude83\\ud83d\\udcb0\\ud83d\\ude97\", \"\\ud83d\\ude83\\ud83d\\uded2\", \"\\ud83d\\ude83\\ud83d\\uded2\", \"\\ud83d\\ude83\\ud83d\\uded2\", \"\\ud83d\\ude83\\ud83d\\uded2\\u26fd\", \"\\ud83d\\ude83\\ud83d\\uded2\\u26fd\", \"\\ud83d\\ude83\\ud83d\\uded2\\ud83c\\udf2f\", \"\\ud83d\\ude83\\ud83d\\uded2\\ud83c\\udf7d\", \"\\ud83d\\ude95\", \"\\ud83d\\ude95\\u26fd\", \"\\ud83d\\ude95\\ud83c\\udf2f\", \"\\ud83d\\ude95\\ud83c\\udf7a\", \"\\ud83d\\ude95\\ud83c\\udf7d\", \"\\ud83d\\ude95\\ud83c\\udf7d\", \"\\ud83d\\ude95\\ud83c\\udfdb\", \"\\ud83d\\ude95\\ud83c\\udfe0\", \"\\ud83d\\ude95\\ud83c\\udfec\", \"\\ud83d\\ude95\\ud83c\\udfec\", \"\\ud83d\\ude95\\ud83d\\udc8a\", \"\\ud83d\\ude95\\ud83d\\udcb0\", \"\\ud83d\\ude95\\ud83d\\ude97\", \"\\ud83d\\ude95\\ud83d\\uded2\", \"\\ud83d\\ude95\\ud83d\\uded2\\ud83c\\udf7d\", \"\\ud83d\\ude95\\ud83d\\uded2\\ud83c\\udfec\", \"\\ud83d\\ude95\\ud83e\\uddfe\", \"\\ud83d\\ude95\\ud83e\\uddfe\", \"\\ud83d\\ude97\", \"\\ud83d\\ude97\", \"\\ud83d\\ude97\\ud83c\\udf2f\", \"\\ud83d\\ude97\\ud83c\\udf2f\", \"\\ud83d\\ude97\\ud83c\\udf2f\\ud83c\\udf7d\", \"\\ud83d\\ude97\\ud83c\\udf7d\", \"\\ud83d\\ude97\\ud83c\\udf7d\", \"\\ud83d\\ude97\\ud83c\\udf7d\\ud83c\\udf2f\", \"\\ud83d\\ude97\\ud83c\\udfec\\ud83c\\udf7a\\ud83d\\udcb0\", \"\\ud83d\\ude97\\ud83c\\udfec\\ud83d\\udcb0\", \"\\ud83d\\ude97\\ud83c\\udfec\\ud83d\\udcb0\", \"\\ud83d\\ude97\\ud83c\\udfec\\ud83d\\udcb0\", \"\\ud83d\\ude97\\ud83d\\udc8a\\ud83c\\udfec\\ud83d\\udcb0\", \"\\ud83d\\ude97\\ud83d\\udcb0\", \"\\ud83d\\ude97\\ud83d\\udcb0\", \"\\ud83d\\ude97\\ud83d\\ude95\", \"\\ud83d\\ude97\\ud83d\\uded2\", \"\\ud83d\\ude97\\ud83d\\uded2\", \"\\ud83d\\ude97\\ud83e\\uddfe\", \"\\ud83d\\ude9a\", \"\\ud83d\\uded2\", \"\\ud83d\\uded2\", \"\\ud83d\\uded2\", \"\\ud83d\\uded2\", \"\\ud83d\\uded2\", \"\\ud83d\\uded2\\u26fd\", \"\\ud83d\\uded2\\u26fd\", \"\\ud83d\\uded2\\u26fd\\ud83c\\udf2f\", \"\\ud83d\\uded2\\u26fd\\ud83c\\udf2f\", \"\\ud83d\\uded2\\u26fd\\ud83c\\udf2f\\ud83c\\udf7d\", \"\\ud83d\\uded2\\u26fd\\ud83c\\udf7d\", \"\\ud83d\\uded2\\u26fd\\ud83c\\udf7d\", \"\\ud83d\\uded2\\u26fd\\ud83c\\udf7d\\ud83c\\udf2f\", \"\\ud83d\\uded2\\u26fd\\ud83d\\udcb0\", \"\\ud83d\\uded2\\u26fd\\ud83d\\udcb0\", \"\\ud83d\\uded2\\u26fd\\ud83d\\udcb0\", \"\\ud83d\\uded2\\u26fd\\ud83d\\udcb0\\ud83d\\udcb3\", \"\\ud83d\\uded2\\u26fd\\ud83d\\ude95\", \"\\ud83d\\uded2\\u26fd\\ud83e\\uddfe\", \"\\ud83d\\uded2\\ud83c\\udf2f\", \"\\ud83d\\uded2\\ud83c\\udf2f\", \"\\ud83d\\uded2\\ud83c\\udf2f\\ud83c\\udf7d\", \"\\ud83d\\uded2\\ud83c\\udf2f\\ud83c\\udf7d\", \"\\ud83d\\uded2\\ud83c\\udf7a\", \"\\ud83d\\uded2\\ud83c\\udf7a\", \"\\ud83d\\uded2\\ud83c\\udf7a\\ud83c\\udf7d\", \"\\ud83d\\uded2\\ud83c\\udf7a\\ud83c\\udf7d\", \"\\ud83d\\uded2\\ud83c\\udf7a\\ud83d\\udc8a\\ud83d\\udcb0\", \"\\ud83d\\uded2\\ud83c\\udf7d\", \"\\ud83d\\uded2\\ud83c\\udf7d\", \"\\ud83d\\uded2\\ud83c\\udf7d\\ud83c\\udf2f\", \"\\ud83d\\uded2\\ud83c\\udf7d\\ud83d\\ude95\", \"\\ud83d\\uded2\\ud83c\\udf7d\\ud83d\\ude95\", \"\\ud83d\\uded2\\ud83c\\udfd7\", \"\\ud83d\\uded2\\ud83c\\udfec\", \"\\ud83d\\uded2\\ud83c\\udfec\\ud83c\\udf2f\", \"\\ud83d\\uded2\\ud83c\\udfec\\ud83c\\udf2f\", \"\\ud83d\\uded2\\ud83c\\udfec\\ud83c\\udf2f\\ud83c\\udf7d\", \"\\ud83d\\uded2\\ud83c\\udfec\\ud83c\\udf7d\", \"\\ud83d\\uded2\\ud83c\\udfec\\ud83c\\udf7d\", \"\\ud83d\\uded2\\ud83c\\udfec\\ud83c\\udf7d\\ud83c\\udf2f\", \"\\ud83d\\uded2\\ud83c\\udfec\\ud83d\\udcb0\", \"\\ud83d\\uded2\\ud83c\\udfec\\ud83d\\udcb0\", \"\\ud83d\\uded2\\ud83c\\udfec\\ud83d\\ude95\", \"\\ud83d\\uded2\\ud83c\\udfec\\ud83e\\uddfe\", \"\\ud83d\\uded2\\ud83c\\udfec\\ud83e\\uddfe\", \"\\ud83d\\uded2\\ud83d\\udc6e\\ud83d\\udcb0\", \"\\ud83d\\uded2\\ud83d\\udc8a\", \"\\ud83d\\uded2\\ud83d\\udc8a\\ud83c\\udf2f\\ud83c\\udf7d\", \"\\ud83d\\uded2\\ud83d\\udc8a\\ud83c\\udf7d\", \"\\ud83d\\uded2\\ud83d\\udc8a\\ud83c\\udf7d\", \"\\ud83d\\uded2\\ud83d\\udc8a\\ud83d\\udcb0\", \"\\ud83d\\uded2\\ud83d\\udc8a\\ud83d\\udcb0\", \"\\ud83d\\uded2\\ud83d\\udcb0\", \"\\ud83d\\uded2\\ud83d\\udcb0\", \"\\ud83d\\uded2\\ud83d\\udcb0\", \"\\ud83d\\uded2\\ud83d\\udcb0\\ud83c\\udf7d\", \"\\ud83d\\uded2\\ud83d\\udcb0\\ud83c\\udf7d\", \"\\ud83d\\uded2\\ud83d\\udcb0\\ud83c\\udf7d\", \"\\ud83d\\uded2\\ud83d\\udcb0\\ud83c\\udfec\", \"\\ud83d\\uded2\\ud83d\\udcb0\\ud83c\\udfec\", \"\\ud83d\\uded2\\ud83d\\udcb0\\ud83d\\udc84\", \"\\ud83d\\uded2\\ud83d\\udcb0\\ud83d\\udc84\", \"\\ud83d\\uded2\\ud83d\\udcb0\\ud83d\\ude95\", \"\\ud83d\\uded2\\ud83d\\udcb0\\ud83d\\ude95\", \"\\ud83d\\uded2\\ud83d\\udcda\", \"\\ud83d\\uded2\\ud83d\\ude83\", \"\\ud83d\\uded2\\ud83d\\ude83\", \"\\ud83d\\uded2\\ud83d\\ude83\\u26fd\", \"\\ud83d\\uded2\\ud83d\\ude83\\u26fd\", \"\\ud83d\\uded2\\ud83d\\ude83\\ud83c\\udf2f\", \"\\ud83d\\uded2\\ud83d\\ude83\\ud83c\\udf7d\", \"\\ud83d\\uded2\\ud83d\\ude95\", \"\\ud83d\\uded2\\ud83d\\ude95\\ud83c\\udf7d\", \"\\ud83d\\uded2\\ud83d\\ude95\\ud83c\\udf7d\", \"\\ud83d\\uded2\\ud83d\\ude95\\ud83c\\udfec\", \"\\ud83d\\uded2\\ud83d\\ude97\", \"\\ud83d\\uded2\\ud83d\\ude97\\ud83e\\uddfe\", \"\\ud83d\\uded2\\ud83e\\uddfe\", \"\\ud83d\\uded2\\ud83e\\uddfe\", \"\\ud83d\\uded2\\ud83e\\uddfe\", \"\\ud83d\\uded2\\ud83e\\uddfe\\u26fd\", \"\\ud83d\\uded2\\ud83e\\uddfe\\ud83c\\udf7a\", \"\\ud83d\\uded2\\ud83e\\uddfe\\ud83c\\udf7d\", \"\\ud83d\\uded2\\ud83e\\uddfe\\ud83c\\udf7d\", \"\\ud83d\\uded2\\ud83e\\uddfe\\ud83c\\udfec\", \"\\ud83d\\uded2\\ud83e\\uddfe\\ud83c\\udfec\", \"\\ud83d\\uded2\\ud83e\\uddfe\\ud83d\\udc8a\", \"\\ud83d\\uded2\\ud83e\\uddfe\\ud83d\\udcb0\", \"\\ud83d\\uded2\\ud83e\\uddfe\\ud83d\\udcb0\", \"\\ud83e\\uddfe\", \"\\ud83e\\uddfe\\u26fd\", \"\\ud83e\\uddfe\\u26fd\\ud83d\\uded2\", \"\\ud83e\\uddfe\\ud83c\\udf2f\", \"\\ud83e\\uddfe\\ud83c\\udf2f\", \"\\ud83e\\uddfe\\ud83c\\udf7a\", \"\\ud83e\\uddfe\\ud83c\\udf7d\", \"\\ud83e\\uddfe\\ud83c\\udf7d\", \"\\ud83e\\uddfe\\ud83c\\udf7d\\ud83d\\uded2\", \"\\ud83e\\uddfe\\ud83c\\udfdb\", \"\\ud83e\\uddfe\\ud83c\\udfe0\", \"\\ud83e\\uddfe\\ud83c\\udfec\", \"\\ud83e\\uddfe\\ud83c\\udfec\", \"\\ud83e\\uddfe\\ud83c\\udfec\\ud83c\\udf7d\", \"\\ud83e\\uddfe\\ud83c\\udfec\\ud83d\\uded2\", \"\\ud83e\\uddfe\\ud83d\\udc8a\", \"\\ud83e\\uddfe\\ud83d\\udcb0\", \"\\ud83e\\uddfe\\ud83d\\udcb0\", \"\\ud83e\\uddfe\\ud83d\\udcda\", \"\\ud83e\\uddfe\\ud83d\\udcf1\", \"\\ud83e\\uddfe\\ud83d\\ude95\", \"\\ud83e\\uddfe\\ud83d\\ude95\", \"\\ud83e\\uddfe\\ud83d\\ude97\", \"\\ud83e\\uddfe\\ud83d\\uded2\", \"\\ud83e\\uddfe\\ud83d\\uded2\\u26fd\", \"\\ud83e\\uddfe\\ud83d\\uded2\\ud83c\\udf7d\", \"\\ud83e\\uddfe\\ud83d\\uded2\\ud83c\\udf7d\", \"\\ud83e\\uddfe\\ud83d\\uded2\\ud83c\\udfec\", \"\\ud83e\\ude91\"]}, \"R\": 30, \"lambda.step\": 0.01, \"plot.opts\": {\"xlab\": \"PC1\", \"ylab\": \"PC2\"}, \"topic.order\": [3, 5, 1, 4, 2]};\n",
       "\n",
       "function LDAvis_load_lib(url, callback){\n",
       "  var s = document.createElement('script');\n",
       "  s.src = url;\n",
       "  s.async = true;\n",
       "  s.onreadystatechange = s.onload = callback;\n",
       "  s.onerror = function(){console.warn(\"failed to load library \" + url);};\n",
       "  document.getElementsByTagName(\"head\")[0].appendChild(s);\n",
       "}\n",
       "\n",
       "if(typeof(LDAvis) !== \"undefined\"){\n",
       "   // already loaded: just create the visualization\n",
       "   !function(LDAvis){\n",
       "       new LDAvis(\"#\" + \"ldavis_el8667731396942523259041947794614\", ldavis_el8667731396942523259041947794614_data);\n",
       "   }(LDAvis);\n",
       "}else if(typeof define === \"function\" && define.amd){\n",
       "   // require.js is available: use it to load d3/LDAvis\n",
       "   require.config({paths: {d3: \"https://d3js.org/d3.v5\"}});\n",
       "   require([\"d3\"], function(d3){\n",
       "      window.d3 = d3;\n",
       "      LDAvis_load_lib(\"https://cdn.jsdelivr.net/gh/bmabey/pyLDAvis@3.2.2/pyLDAvis/js/ldavis.v3.0.0.js\", function(){\n",
       "        new LDAvis(\"#\" + \"ldavis_el8667731396942523259041947794614\", ldavis_el8667731396942523259041947794614_data);\n",
       "      });\n",
       "    });\n",
       "}else{\n",
       "    // require.js not available: dynamically load d3 & LDAvis\n",
       "    LDAvis_load_lib(\"https://d3js.org/d3.v5.js\", function(){\n",
       "         LDAvis_load_lib(\"https://cdn.jsdelivr.net/gh/bmabey/pyLDAvis@3.2.2/pyLDAvis/js/ldavis.v3.0.0.js\", function(){\n",
       "                 new LDAvis(\"#\" + \"ldavis_el8667731396942523259041947794614\", ldavis_el8667731396942523259041947794614_data);\n",
       "            })\n",
       "         });\n",
       "}\n",
       "</script>"
      ],
      "text/plain": [
       "<IPython.core.display.HTML object>"
      ]
     },
     "execution_count": 18,
     "metadata": {},
     "output_type": "execute_result"
    }
   ],
   "source": [
    "# let's visualize the tuned model:\n",
    "pyLDAvis.enable_notebook()\n",
    "explorer = pyLDAvis.gensim.prepare(lda_model_tuned, corpus, id_to_seq_map)\n",
    "pyLDAvis.display(explorer)"
   ]
  },
  {
   "cell_type": "markdown",
   "metadata": {},
   "source": [
    "By looking at the model results, we observe that we obtain not only a better coherence, but better topic descriptions, eliminating the \"junk\" topic and further separating the topics in inter-topic distance projection map above. We will consider this as a our final model."
   ]
  },
  {
   "cell_type": "markdown",
   "metadata": {},
   "source": [
    "# 4. Exporting Model Results"
   ]
  },
  {
   "cell_type": "code",
   "execution_count": 16,
   "metadata": {},
   "outputs": [],
   "source": [
    "# adding the main topic as a cluster to each user:\n",
    "df_clusters = get_lda_cluster(df_sequence, lda_model_tuned, corpus)[['user_id', 'cluster']]"
   ]
  },
  {
   "cell_type": "code",
   "execution_count": 17,
   "metadata": {},
   "outputs": [
    {
     "data": {
      "text/html": [
       "<div>\n",
       "<style scoped>\n",
       "    .dataframe tbody tr th:only-of-type {\n",
       "        vertical-align: middle;\n",
       "    }\n",
       "\n",
       "    .dataframe tbody tr th {\n",
       "        vertical-align: top;\n",
       "    }\n",
       "\n",
       "    .dataframe thead th {\n",
       "        text-align: right;\n",
       "    }\n",
       "</style>\n",
       "<table border=\"1\" class=\"dataframe\">\n",
       "  <thead>\n",
       "    <tr style=\"text-align: right;\">\n",
       "      <th></th>\n",
       "      <th>user_id</th>\n",
       "    </tr>\n",
       "    <tr>\n",
       "      <th>cluster</th>\n",
       "      <th></th>\n",
       "    </tr>\n",
       "  </thead>\n",
       "  <tbody>\n",
       "    <tr>\n",
       "      <th>0</th>\n",
       "      <td>188</td>\n",
       "    </tr>\n",
       "    <tr>\n",
       "      <th>1</th>\n",
       "      <td>106</td>\n",
       "    </tr>\n",
       "    <tr>\n",
       "      <th>2</th>\n",
       "      <td>1386</td>\n",
       "    </tr>\n",
       "    <tr>\n",
       "      <th>3</th>\n",
       "      <td>149</td>\n",
       "    </tr>\n",
       "    <tr>\n",
       "      <th>4</th>\n",
       "      <td>171</td>\n",
       "    </tr>\n",
       "  </tbody>\n",
       "</table>\n",
       "</div>"
      ],
      "text/plain": [
       "         user_id\n",
       "cluster         \n",
       "0            188\n",
       "1            106\n",
       "2           1386\n",
       "3            149\n",
       "4            171"
      ]
     },
     "execution_count": 17,
     "metadata": {},
     "output_type": "execute_result"
    }
   ],
   "source": [
    "# verifying the proportion of users in each cluster:\n",
    "df_clusters.groupby('cluster')[['user_id']].count() # we see topic 2 is the most representative"
   ]
  },
  {
   "cell_type": "code",
   "execution_count": 19,
   "metadata": {},
   "outputs": [],
   "source": [
    "# exporting the results for further studies:\n",
    "df_clusters.to_parquet(\"../data/predict/user_cluster_lda_token_sequence.parquet\")"
   ]
  },
  {
   "cell_type": "code",
   "execution_count": 20,
   "metadata": {},
   "outputs": [],
   "source": [
    "# exporting model:\n",
    "lda_model_tuned.save(\"../models/lda_user_sequences.model\")"
   ]
  }
 ],
 "metadata": {
  "kernelspec": {
   "display_name": "Python 3",
   "language": "python",
   "name": "python3"
  },
  "language_info": {
   "codemirror_mode": {
    "name": "ipython",
    "version": 3
   },
   "file_extension": ".py",
   "mimetype": "text/x-python",
   "name": "python",
   "nbconvert_exporter": "python",
   "pygments_lexer": "ipython3",
   "version": "3.8.8"
  }
 },
 "nbformat": 4,
 "nbformat_minor": 4
}
